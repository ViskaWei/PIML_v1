{
 "cells": [
  {
   "cell_type": "code",
   "execution_count": null,
   "id": "9e0874ba-6585-4877-a550-82a1865e8d56",
   "metadata": {},
   "outputs": [],
   "source": []
  },
  {
   "cell_type": "code",
   "execution_count": 1,
   "id": "5817aa73-9728-4a8c-a68a-879b388c349d",
   "metadata": {},
   "outputs": [],
   "source": [
    "%load_ext autoreload\n",
    "%autoreload 2"
   ]
  },
  {
   "cell_type": "code",
   "execution_count": 2,
   "id": "4da032b0-9e9d-410e-88b5-9f3d620a6217",
   "metadata": {},
   "outputs": [],
   "source": [
    "import os\n",
    "import sys\n",
    "import h5py\n",
    "import numpy as np\n",
    "import pandas as pd\n",
    "import seaborn as sns\n",
    "import matplotlib.pyplot as plt\n",
    "from tqdm import tqdm"
   ]
  },
  {
   "cell_type": "code",
   "execution_count": 3,
   "id": "912a8826-fd7a-43b9-8534-e340bb3ac849",
   "metadata": {},
   "outputs": [],
   "source": [
    "os.environ[\"CUDA_VISIBLE_DEVICES\"]=\"1\""
   ]
  },
  {
   "cell_type": "code",
   "execution_count": 4,
   "id": "ea03d790-155d-4b27-a23a-869861e59fc3",
   "metadata": {},
   "outputs": [],
   "source": [
    "PROJECT_PATH = '../'\n",
    "import sys\n",
    "sys.path.insert(0, PROJECT_PATH)"
   ]
  },
  {
   "cell_type": "code",
   "execution_count": 7,
   "id": "bf7288a3-1fca-4bc8-95d7-1c6392f53961",
   "metadata": {},
   "outputs": [
    {
     "name": "stdout",
     "output_type": "stream",
     "text": [
      "x_train shape: (60000, 28, 28, 1)\n",
      "60000 train samples\n",
      "10000 test samples\n"
     ]
    }
   ],
   "source": [
    "# Model / data parameters\n",
    "num_classes = 10\n",
    "input_shape = (28, 28, 1)\n",
    "\n",
    "# the data, split between train and test sets\n",
    "(x_train, y_train), (x_test, y_test) = keras.datasets.mnist.load_data()\n",
    "\n",
    "# Scale images to the [0, 1] range\n",
    "x_train = x_train.astype(\"float32\") / 255\n",
    "x_test = x_test.astype(\"float32\") / 255\n",
    "# Make sure images have shape (28, 28, 1)\n",
    "x_train = np.expand_dims(x_train, -1)\n",
    "x_test = np.expand_dims(x_test, -1)\n",
    "print(\"x_train shape:\", x_train.shape)\n",
    "print(x_train.shape[0], \"train samples\")\n",
    "print(x_test.shape[0], \"test samples\")\n",
    "\n",
    "\n",
    "# convert class vectors to binary class matrices\n",
    "y_train = keras.utils.to_categorical(y_train, num_classes)\n",
    "y_test = keras.utils.to_categorical(y_test, num_classes)"
   ]
  },
  {
   "cell_type": "code",
   "execution_count": 5,
   "id": "84f98730-553c-43af-a40d-0bc86ff28375",
   "metadata": {},
   "outputs": [],
   "source": [
    "from tensorflow import keras"
   ]
  },
  {
   "cell_type": "code",
   "execution_count": 10,
   "id": "b5757f38-7782-4fff-83a6-0bb98dfcbd3e",
   "metadata": {},
   "outputs": [],
   "source": [
    "from tensorflow.keras import layers as kl\n",
    "from tensorflow.keras import activations"
   ]
  },
  {
   "cell_type": "code",
   "execution_count": null,
   "id": "3dfc289d-94df-4bc0-bc55-beebc0a05d1c",
   "metadata": {},
   "outputs": [],
   "source": []
  },
  {
   "cell_type": "code",
   "execution_count": 11,
   "id": "a12062c8-e26a-451d-bc64-896506bcd18e",
   "metadata": {},
   "outputs": [],
   "source": [
    "lll = [kl.Conv2D(32, kernel_size=(3, 3)), \n",
    "        kl.Activation(activations.relu)]"
   ]
  },
  {
   "cell_type": "code",
   "execution_count": 14,
   "id": "a1624989-069d-4f2c-b0a9-d86176c1be0e",
   "metadata": {},
   "outputs": [],
   "source": [
    "stem = keras.Sequential()\n",
    "for ll in lll:\n",
    "    stem.add(ll)"
   ]
  },
  {
   "cell_type": "code",
   "execution_count": 29,
   "id": "25fdc28e-1328-4141-b96a-8589b5978ada",
   "metadata": {},
   "outputs": [],
   "source": [
    "bodyl = [kl.MaxPooling2D(pool_size=(2, 2)),\n",
    "kl.Conv2D(64, kernel_size=(3, 3), activation=\"relu\"),\n",
    "kl.MaxPooling2D(pool_size=(2, 2)),\n",
    "kl.Flatten(),\n",
    "kl.Dropout(0.5),\n",
    "kl.Dense(num_classes, activation=\"softmax\")]"
   ]
  },
  {
   "cell_type": "code",
   "execution_count": 31,
   "id": "82cd2285-65c4-4971-81b2-ea1b6bf97889",
   "metadata": {},
   "outputs": [],
   "source": [
    "body = keras.Sequential(bodyl)"
   ]
  },
  {
   "cell_type": "code",
   "execution_count": 26,
   "id": "3d60ac3a-84e0-47a0-8a46-f2a6ff5bdfad",
   "metadata": {},
   "outputs": [],
   "source": [
    "x = inputs\n",
    "x = stem(x)\n",
    "x = body(x)"
   ]
  },
  {
   "cell_type": "code",
   "execution_count": 23,
   "id": "f54cf236-8733-4c10-9760-53caa9ab26e8",
   "metadata": {},
   "outputs": [],
   "source": [
    "inputs = keras.Input(shape = (input_shape), name='input')\n"
   ]
  },
  {
   "cell_type": "code",
   "execution_count": 41,
   "id": "fc3fc436-fa6e-41f4-a6ec-1010e36a1d6f",
   "metadata": {},
   "outputs": [],
   "source": [
    "model = keras.Sequential([inputs, *lll,*bodyl])"
   ]
  },
  {
   "cell_type": "code",
   "execution_count": 42,
   "id": "d29158e0-6f7c-4828-b7c2-97fde8ce74b4",
   "metadata": {},
   "outputs": [
    {
     "name": "stdout",
     "output_type": "stream",
     "text": [
      "Model: \"sequential_14\"\n",
      "_________________________________________________________________\n",
      " Layer (type)                Output Shape              Param #   \n",
      "=================================================================\n",
      " conv2d (Conv2D)             (None, 26, 26, 32)        320       \n",
      "                                                                 \n",
      " activation (Activation)     (None, 26, 26, 32)        0         \n",
      "                                                                 \n",
      " max_pooling2d_14 (MaxPoolin  (None, 13, 13, 32)       0         \n",
      " g2D)                                                            \n",
      "                                                                 \n",
      " conv2d_8 (Conv2D)           (None, 11, 11, 64)        18496     \n",
      "                                                                 \n",
      " max_pooling2d_15 (MaxPoolin  (None, 5, 5, 64)         0         \n",
      " g2D)                                                            \n",
      "                                                                 \n",
      " flatten_3 (Flatten)         (None, 1600)              0         \n",
      "                                                                 \n",
      " dropout_3 (Dropout)         (None, 1600)              0         \n",
      "                                                                 \n",
      " dense_3 (Dense)             (None, 10)                16010     \n",
      "                                                                 \n",
      "=================================================================\n",
      "Total params: 34,826\n",
      "Trainable params: 34,826\n",
      "Non-trainable params: 0\n",
      "_________________________________________________________________\n"
     ]
    }
   ],
   "source": [
    "model.summary()"
   ]
  },
  {
   "cell_type": "code",
   "execution_count": 43,
   "id": "a8d4846e-5878-44a4-a121-a3e665e7a17c",
   "metadata": {},
   "outputs": [],
   "source": [
    "batch_size = 128\n",
    "epochs = 15\n",
    "\n",
    "model.compile(loss=\"categorical_crossentropy\", optimizer=\"adam\", metrics=[\"accuracy\"])"
   ]
  },
  {
   "cell_type": "code",
   "execution_count": 44,
   "id": "3d8e2076-73a3-4893-9c73-988b84eb94b4",
   "metadata": {},
   "outputs": [
    {
     "name": "stdout",
     "output_type": "stream",
     "text": [
      "Epoch 1/15\n"
     ]
    },
    {
     "name": "stderr",
     "output_type": "stream",
     "text": [
      "2022-03-13 14:07:28.658553: I tensorflow/stream_executor/cuda/cuda_dnn.cc:368] Loaded cuDNN version 8201\n"
     ]
    },
    {
     "name": "stdout",
     "output_type": "stream",
     "text": [
      "422/422 [==============================] - 10s 4ms/step - loss: 0.3719 - accuracy: 0.8863 - val_loss: 0.0879 - val_accuracy: 0.9767\n",
      "Epoch 2/15\n",
      "422/422 [==============================] - 1s 3ms/step - loss: 0.1143 - accuracy: 0.9644 - val_loss: 0.0578 - val_accuracy: 0.9842\n",
      "Epoch 3/15\n",
      "422/422 [==============================] - 1s 3ms/step - loss: 0.0841 - accuracy: 0.9746 - val_loss: 0.0493 - val_accuracy: 0.9858\n",
      "Epoch 4/15\n",
      "422/422 [==============================] - 1s 3ms/step - loss: 0.0708 - accuracy: 0.9779 - val_loss: 0.0421 - val_accuracy: 0.9880\n",
      "Epoch 5/15\n",
      "422/422 [==============================] - 1s 3ms/step - loss: 0.0633 - accuracy: 0.9800 - val_loss: 0.0408 - val_accuracy: 0.9882\n",
      "Epoch 6/15\n",
      "422/422 [==============================] - 1s 3ms/step - loss: 0.0549 - accuracy: 0.9832 - val_loss: 0.0362 - val_accuracy: 0.9905\n",
      "Epoch 7/15\n",
      "422/422 [==============================] - 1s 3ms/step - loss: 0.0521 - accuracy: 0.9837 - val_loss: 0.0361 - val_accuracy: 0.9898\n",
      "Epoch 8/15\n",
      "422/422 [==============================] - 1s 3ms/step - loss: 0.0485 - accuracy: 0.9844 - val_loss: 0.0327 - val_accuracy: 0.9905\n",
      "Epoch 9/15\n",
      "422/422 [==============================] - 1s 3ms/step - loss: 0.0441 - accuracy: 0.9860 - val_loss: 0.0320 - val_accuracy: 0.9912\n",
      "Epoch 10/15\n",
      "422/422 [==============================] - 1s 3ms/step - loss: 0.0427 - accuracy: 0.9861 - val_loss: 0.0324 - val_accuracy: 0.9905\n",
      "Epoch 11/15\n",
      "422/422 [==============================] - 1s 3ms/step - loss: 0.0395 - accuracy: 0.9871 - val_loss: 0.0298 - val_accuracy: 0.9915\n",
      "Epoch 12/15\n",
      "422/422 [==============================] - 1s 3ms/step - loss: 0.0387 - accuracy: 0.9875 - val_loss: 0.0301 - val_accuracy: 0.9913\n",
      "Epoch 13/15\n",
      "422/422 [==============================] - 1s 3ms/step - loss: 0.0360 - accuracy: 0.9883 - val_loss: 0.0304 - val_accuracy: 0.9907\n",
      "Epoch 14/15\n",
      "422/422 [==============================] - 1s 3ms/step - loss: 0.0344 - accuracy: 0.9887 - val_loss: 0.0300 - val_accuracy: 0.9910\n",
      "Epoch 15/15\n",
      "422/422 [==============================] - 1s 3ms/step - loss: 0.0335 - accuracy: 0.9888 - val_loss: 0.0278 - val_accuracy: 0.9917\n"
     ]
    },
    {
     "data": {
      "text/plain": [
       "<keras.callbacks.History at 0x7f90a10305e0>"
      ]
     },
     "execution_count": 44,
     "metadata": {},
     "output_type": "execute_result"
    }
   ],
   "source": [
    "model.fit(x_train, y_train, batch_size=batch_size, epochs=epochs, validation_split=0.1)"
   ]
  },
  {
   "cell_type": "code",
   "execution_count": 89,
   "id": "74c777fe-b817-41fb-ae61-148c6eb2f4a5",
   "metadata": {},
   "outputs": [],
   "source": [
    "from keras import layers\n",
    "from keras import activations\n",
    "\n",
    "# import relu, tanh, sigmoid, softmax, linear\n",
    "\n",
    "\n",
    "\n",
    "    \n",
    "def get_act_layer(name, *args, **kwargs):\n",
    "    print(name)\n",
    "    if name == \"relu\":\n",
    "        return layers.Activation(activations.relu)\n",
    "    elif name == \"tanh\":\n",
    "        return layers.Activation(activations.tanh)\n",
    "    elif name == \"sigmoid\":\n",
    "        return layers.Activation(activations.sigmoid)\n",
    "    elif name == \"softmax\":\n",
    "        return layers.Activation(activations.softmax, **kwargs)\n",
    "    elif name == \"linear\":\n",
    "        return layers.Activation(activations.linear)\n",
    "    elif name == \"leaky\":\n",
    "        return layers.LeakyReLU(**kwargs)\n",
    "    else:\n",
    "        return \"error\"\n"
   ]
  },
  {
   "cell_type": "code",
   "execution_count": 90,
   "id": "49d52142-3d29-4354-8dfe-b3194c191602",
   "metadata": {},
   "outputs": [],
   "source": [
    "kw = {\"alpha\":0.5}"
   ]
  },
  {
   "cell_type": "code",
   "execution_count": 94,
   "id": "924842db-86a9-437b-8044-e59a2dec03fb",
   "metadata": {},
   "outputs": [
    {
     "name": "stdout",
     "output_type": "stream",
     "text": [
      "leaky\n"
     ]
    }
   ],
   "source": [
    "name= \"leaky\"\n",
    "act=get_act_layer(name)"
   ]
  },
  {
   "cell_type": "code",
   "execution_count": 95,
   "id": "e80e9cf9-aac2-4bc4-b079-9934f37467b0",
   "metadata": {},
   "outputs": [
    {
     "data": {
      "text/plain": [
       "{'_self_setattr_tracking': True,\n",
       " '_instrumented_keras_api': True,\n",
       " '_instrumented_keras_layer_class': True,\n",
       " '_instrumented_keras_model_class': False,\n",
       " '_trainable': True,\n",
       " '_stateful': False,\n",
       " 'built': False,\n",
       " '_input_spec': None,\n",
       " '_build_input_shape': None,\n",
       " '_saved_model_inputs_spec': None,\n",
       " '_saved_model_arg_spec': None,\n",
       " '_name': 'leaky_re_lu_7',\n",
       " '_activity_regularizer': None,\n",
       " '_trainable_weights': [],\n",
       " '_non_trainable_weights': [],\n",
       " '_updates': [],\n",
       " '_thread_local': <_thread._local at 0x7f90942c8d10>,\n",
       " '_callable_losses': [],\n",
       " '_losses': [],\n",
       " '_metrics': [],\n",
       " '_metrics_lock': <unlocked _thread.lock object at 0x7f9094342810>,\n",
       " '_dtype_policy': <Policy \"float32\">,\n",
       " '_compute_dtype_object': tf.float32,\n",
       " '_autocast': True,\n",
       " '_self_tracked_trackables': [],\n",
       " '_inbound_nodes_value': [],\n",
       " '_outbound_nodes_value': [],\n",
       " '_expects_training_arg': False,\n",
       " '_default_training_arg': None,\n",
       " '_expects_mask_arg': False,\n",
       " '_dynamic': False,\n",
       " '_initial_weights': None,\n",
       " '_auto_track_sub_layers': True,\n",
       " '_preserve_input_structure_in_config': False,\n",
       " '_outer_name_scope': '',\n",
       " '_obj_reference_counts_dict': ObjectIdentityDictionary({<_ObjectIdentityWrapper wrapping True>: 1, <_ObjectIdentityWrapper wrapping array(0.3, dtype=float32)>: 1}),\n",
       " '_supports_masking': True,\n",
       " 'alpha': array(0.3, dtype=float32)}"
      ]
     },
     "execution_count": 95,
     "metadata": {},
     "output_type": "execute_result"
    }
   ],
   "source": [
    "act.__dict__"
   ]
  },
  {
   "cell_type": "code",
   "execution_count": 86,
   "id": "bb6b626b-d583-4992-8b00-4d4360f3efc3",
   "metadata": {},
   "outputs": [
    {
     "name": "stdout",
     "output_type": "stream",
     "text": [
      "softmax\n"
     ]
    }
   ],
   "source": [
    "name= \"softmax\"\n",
    "act=get_act_layer(name, -1)"
   ]
  },
  {
   "cell_type": "code",
   "execution_count": 111,
   "id": "11f7c404-cfa1-4e92-bf5d-3b0c81ed427d",
   "metadata": {},
   "outputs": [
    {
     "name": "stdout",
     "output_type": "stream",
     "text": [
      "9\n",
      "8\n",
      "7\n",
      "6\n",
      "5\n",
      "4\n"
     ]
    }
   ],
   "source": [
    "for a in range(9,3,-1):\n",
    "    print(a)"
   ]
  },
  {
   "cell_type": "code",
   "execution_count": 113,
   "id": "36dd152d-9069-4458-a79a-b9ba8bba4c2e",
   "metadata": {},
   "outputs": [
    {
     "data": {
      "text/plain": [
       "2.0"
      ]
     },
     "execution_count": 113,
     "metadata": {},
     "output_type": "execute_result"
    }
   ],
   "source": [
    "np.ceil(np.log2(3))"
   ]
  },
  {
   "cell_type": "code",
   "execution_count": 87,
   "id": "2d170814-4b4b-4b93-9783-d02c2cd11d0b",
   "metadata": {},
   "outputs": [
    {
     "data": {
      "text/plain": [
       "{'_self_setattr_tracking': True,\n",
       " '_instrumented_keras_api': True,\n",
       " '_instrumented_keras_layer_class': True,\n",
       " '_instrumented_keras_model_class': False,\n",
       " '_trainable': True,\n",
       " '_stateful': False,\n",
       " 'built': False,\n",
       " '_input_spec': None,\n",
       " '_build_input_shape': None,\n",
       " '_saved_model_inputs_spec': None,\n",
       " '_saved_model_arg_spec': None,\n",
       " '_name': 'activation_4',\n",
       " '_activity_regularizer': None,\n",
       " '_trainable_weights': [],\n",
       " '_non_trainable_weights': [],\n",
       " '_updates': [],\n",
       " '_thread_local': <_thread._local at 0x7f909447dbd0>,\n",
       " '_callable_losses': [],\n",
       " '_losses': [],\n",
       " '_metrics': [],\n",
       " '_metrics_lock': <unlocked _thread.lock object at 0x7f9094348e10>,\n",
       " '_dtype_policy': <Policy \"float32\">,\n",
       " '_compute_dtype_object': tf.float32,\n",
       " '_autocast': True,\n",
       " '_self_tracked_trackables': [],\n",
       " '_inbound_nodes_value': [],\n",
       " '_outbound_nodes_value': [],\n",
       " '_expects_training_arg': False,\n",
       " '_default_training_arg': None,\n",
       " '_expects_mask_arg': False,\n",
       " '_dynamic': False,\n",
       " '_initial_weights': None,\n",
       " '_auto_track_sub_layers': True,\n",
       " '_preserve_input_structure_in_config': False,\n",
       " '_outer_name_scope': '',\n",
       " '_obj_reference_counts_dict': ObjectIdentityDictionary({<_ObjectIdentityWrapper wrapping True>: 1, <_ObjectIdentityWrapper wrapping <function softmax at 0x7f90a4843430>>: 1}),\n",
       " '_supports_masking': True,\n",
       " 'activation': <function keras.activations.softmax(x, axis=-1)>}"
      ]
     },
     "execution_count": 87,
     "metadata": {},
     "output_type": "execute_result"
    }
   ],
   "source": [
    "act.__dict__"
   ]
  },
  {
   "cell_type": "code",
   "execution_count": 115,
   "id": "078ba745-f6c8-4480-b404-d562ea7ddf84",
   "metadata": {},
   "outputs": [],
   "source": [
    "DATADIR = '/home/swei20/LV/data/fisher/'\n",
    "path = DATADIR +'skybg_50_10.csv'\n",
    "        # def load_skyOG(self):\n",
    "        # skyOG = np.genfromtxt(self.DATADIR +'skybg_50_10.csv', delimiter=',')\n",
    "        # skyOG[:, 0] = 10 * skyOG[:, 0]\n",
    "        # return skyOG"
   ]
  },
  {
   "cell_type": "code",
   "execution_count": 116,
   "id": "e94459b7-7520-4b8e-b8d4-16a9c1bf97fa",
   "metadata": {},
   "outputs": [
    {
     "data": {
      "text/plain": [
       "'/home/swei20/LV/data/fisher/skybg_50_10.csv'"
      ]
     },
     "execution_count": 116,
     "metadata": {},
     "output_type": "execute_result"
    }
   ],
   "source": [
    "path"
   ]
  },
  {
   "cell_type": "code",
   "execution_count": 122,
   "id": "d39030a7-1569-44ee-b0d3-671a87c36d85",
   "metadata": {},
   "outputs": [],
   "source": [
    "skyOG = np.genfromtxt(path, delimiter=',')"
   ]
  },
  {
   "cell_type": "code",
   "execution_count": 123,
   "id": "6f1623b6-d0ca-470b-9227-07761cbf4db4",
   "metadata": {},
   "outputs": [],
   "source": [
    "skyOG[:, 0] = 10 * skyOG[:, 0]\n"
   ]
  },
  {
   "cell_type": "code",
   "execution_count": 126,
   "id": "4121e0aa-b652-4d35-b5c0-0dd735ece06e",
   "metadata": {},
   "outputs": [
    {
     "data": {
      "text/plain": [
       "3200.0"
      ]
     },
     "execution_count": 126,
     "metadata": {},
     "output_type": "execute_result"
    }
   ],
   "source": [
    "skyOG[0][0]"
   ]
  },
  {
   "cell_type": "code",
   "execution_count": 133,
   "id": "35700e33-52e0-4021-bc0e-dc21670e5211",
   "metadata": {},
   "outputs": [
    {
     "data": {
      "text/plain": [
       "[<matplotlib.lines.Line2D at 0x7f8fe03516d0>]"
      ]
     },
     "execution_count": 133,
     "metadata": {},
     "output_type": "execute_result"
    },
    {
     "data": {
      "image/png": "[encoded data removed]",
      "text/plain": [
       "<Figure size 432x288 with 1 Axes>"
      ]
     },
     "metadata": {
      "needs_background": "light"
     },
     "output_type": "display_data"
    }
   ],
   "source": [
    "plt.plot(*skyOG.T)"
   ]
  },
  {
   "cell_type": "code",
   "execution_count": 134,
   "id": "4038112e-a18a-47ad-9bf3-fe7b5a3d278d",
   "metadata": {},
   "outputs": [
    {
     "data": {
      "text/plain": [
       "array([[3.2000e+03, 3.4999e+03, 3.5017e+03, ..., 1.0990e+04, 1.0995e+04,\n",
       "        1.1000e+04],\n",
       "       [0.0000e+00, 0.0000e+00, 6.5060e-01, ..., 2.5256e+00, 2.5006e+00,\n",
       "        2.8139e+00]])"
      ]
     },
     "execution_count": 134,
     "metadata": {},
     "output_type": "execute_result"
    }
   ],
   "source": [
    "skyyy"
   ]
  },
  {
   "cell_type": "code",
   "execution_count": 128,
   "id": "af343d3f-55dc-45a1-af52-771d977de58a",
   "metadata": {},
   "outputs": [],
   "source": [
    "skyyy = skyOG.T"
   ]
  },
  {
   "cell_type": "code",
   "execution_count": 130,
   "id": "bc5d9d0c-0ed6-48a2-83b9-5744ae4f85e2",
   "metadata": {},
   "outputs": [],
   "source": [
    "np.save(\"/home/swei20/PIML_v1/test/testdata/sky.npy\", skyyy)"
   ]
  },
  {
   "cell_type": "code",
   "execution_count": 131,
   "id": "cf97f06d-5443-488c-91b0-50e036133daf",
   "metadata": {},
   "outputs": [
    {
     "data": {
      "text/plain": [
       "array([[3.2000e+03, 3.4999e+03, 3.5017e+03, ..., 1.0990e+04, 1.0995e+04,\n",
       "        1.1000e+04],\n",
       "       [0.0000e+00, 0.0000e+00, 6.5060e-01, ..., 2.5256e+00, 2.5006e+00,\n",
       "        2.8139e+00]])"
      ]
     },
     "execution_count": 131,
     "metadata": {},
     "output_type": "execute_result"
    }
   ],
   "source": [
    "np.load(\"/home/swei20/PIML_v1/test/testdata/sky.npy\")"
   ]
  },
  {
   "cell_type": "code",
   "execution_count": 187,
   "id": "c1132d7c-a549-482d-ad34-2cbbb316733b",
   "metadata": {},
   "outputs": [
    {
     "data": {
      "text/plain": [
       "array([[3.2000e+03, 3.4999e+03, 3.5017e+03, ..., 1.0990e+04, 1.0995e+04,\n",
       "        1.1000e+04],\n",
       "       [0.0000e+00, 0.0000e+00, 6.5060e-01, ..., 2.5256e+00, 2.5006e+00,\n",
       "        2.8139e+00]])"
      ]
     },
     "execution_count": 187,
     "metadata": {},
     "output_type": "execute_result"
    }
   ],
   "source": [
    "skyyy"
   ]
  },
  {
   "cell_type": "code",
   "execution_count": 146,
   "id": "d9eb3ed8-ad23-4d38-9346-21846dca15a9",
   "metadata": {},
   "outputs": [],
   "source": [
    "a = []\n",
    "b = [1,2,3]\n",
    "for i in range(4):\n",
    "    a.append(b)"
   ]
  },
  {
   "cell_type": "code",
   "execution_count": 149,
   "id": "5f829972-90ab-40d5-bc8f-2cac3dd34ab2",
   "metadata": {},
   "outputs": [
    {
     "data": {
      "text/plain": [
       "array([1., 2., 3.])"
      ]
     },
     "execution_count": 149,
     "metadata": {},
     "output_type": "execute_result"
    }
   ],
   "source": [
    "np.mean(a, axis=0)"
   ]
  },
  {
   "cell_type": "code",
   "execution_count": 151,
   "id": "0fa3578d-1ec0-4c36-a801-ecc6933e9e8b",
   "metadata": {},
   "outputs": [],
   "source": [
    "import numpy as np\n",
    "from abc import ABC, abstractmethod\n",
    "\n",
    "class BaseObs(ABC):\n",
    "    @abstractmethod\n",
    "    def simulate_sigma():\n",
    "        pass\n",
    "    @abstractmethod\n",
    "    def simulate():\n",
    "        pass\n",
    "\n",
    "class Obs(BaseObs):\n",
    "    @staticmethod\n",
    "    def get_var(flux, sky):\n",
    "        #--------------------------------------------\n",
    "        # Get the total variance\n",
    "        # BETA is the scaling for the sky\n",
    "        # VREAD is the variance of the white noise\n",
    "        # This variance is still scaled with an additional\n",
    "        # factor when we simuate an observation.\n",
    "        #--------------------------------------------\n",
    "        assert flux.shape[-1] == sky.shape[0]\n",
    "        BETA  = 10.0\n",
    "        VREAD = 16000\n",
    "        return  flux + BETA*sky + VREAD\n",
    "\n",
    "    @staticmethod\n",
    "    def get_noise(sigma):\n",
    "        return np.random.normal(0, sigma, np.shape(sigma))\n",
    "\n",
    "    @staticmethod\n",
    "    def get_snr(obsfluxs, sigma, noise_level=1):\n",
    "        return np.mean(np.divide(obsfluxs, noise_level*sigma))\n",
    "\n",
    "    @staticmethod\n",
    "    def simulate(flux, sky):\n",
    "        sigma = Obs.simulate_sigma(flux, sky)\n",
    "        noise = Obs.get_noise(sigma)\n",
    "        return noise + flux\n",
    "\n",
    "    @staticmethod\n",
    "    def simulate_sigma(flux, sky):\n",
    "        var = Obs.get_var(flux, sky)\n",
    "        sigma = np.sqrt(var)\n",
    "        return sigma\n",
    "\n",
    "\n"
   ]
  },
  {
   "cell_type": "code",
   "execution_count": 154,
   "id": "1a14c4c8-bfaa-40e3-98d8-bef41143b581",
   "metadata": {},
   "outputs": [],
   "source": [
    "class PfsObs(Obs):\n",
    "    def set_sky(self, sky):\n",
    "        self.sky = sky \n",
    "\n",
    "    def simulate_sigma(self, flux):\n",
    "        var = Obs.get_var(flux, self.sky)\n",
    "        return np.sqrt(var)\n",
    "\n",
    "    def simulate(self, flux):\n",
    "        sigma = self.simulate_sigma(flux)\n",
    "        noise = self.get_noise(sigma)\n",
    "        return noise + flux\n",
    "\n",
    "\n",
    "class LowResObs(PfsObs):\n",
    "    def __init__(self, step):\n",
    "        self.step = step\n",
    "\n",
    "    def simulate_sigma(self, fluxL):\n",
    "        print(\"pig\")\n",
    "        var = super().get_var(fluxL, self.sky)\n",
    "        var /= self.step\n",
    "        print(\"merp\")\n",
    "        return np.sqrt(var)"
   ]
  },
  {
   "cell_type": "code",
   "execution_count": 155,
   "id": "0296e51b-1077-48fd-b024-f11a1d439f1a",
   "metadata": {},
   "outputs": [],
   "source": [
    "aa = LowResObs(10)"
   ]
  },
  {
   "cell_type": "code",
   "execution_count": 156,
   "id": "db629a84-90d2-4ecf-93e5-229f6f7b3379",
   "metadata": {},
   "outputs": [],
   "source": [
    "aa.set_sky(np.arange(10))"
   ]
  },
  {
   "cell_type": "code",
   "execution_count": 157,
   "id": "e7fbdeeb-24aa-4613-ac39-52b52fd227bd",
   "metadata": {},
   "outputs": [
    {
     "name": "stdout",
     "output_type": "stream",
     "text": [
      "pig\n",
      "merp\n"
     ]
    },
    {
     "data": {
      "text/plain": [
       "array([  3.43073355,  79.54451267, -18.69816438, -10.57673517,\n",
       "       -68.85332174, -48.6664804 , 151.07252497, -29.02140664,\n",
       "        33.94896389, -10.91834083])"
      ]
     },
     "execution_count": 157,
     "metadata": {},
     "output_type": "execute_result"
    }
   ],
   "source": [
    "aa.simulate(np.arange(10))"
   ]
  },
  {
   "cell_type": "code",
   "execution_count": 158,
   "id": "cbe3171e-18fb-41c6-b082-5c918d1d14f1",
   "metadata": {},
   "outputs": [],
   "source": [
    "bb = PfsObs()"
   ]
  },
  {
   "cell_type": "code",
   "execution_count": 159,
   "id": "93114d3c-077d-4724-81f5-5c2407a64536",
   "metadata": {},
   "outputs": [
    {
     "data": {
      "text/plain": [
       "array([  55.4480385 ,   72.47978075,  -59.88544649,    7.77070687,\n",
       "        -22.23974588,  -58.96042974,   59.68675656,  233.18116134,\n",
       "        -21.8209925 , -163.8222722 ])"
      ]
     },
     "execution_count": 159,
     "metadata": {},
     "output_type": "execute_result"
    }
   ],
   "source": [
    "bb.set_sky(np.arange(10))\n",
    "bb.simulate(np.arange(10))"
   ]
  },
  {
   "cell_type": "code",
   "execution_count": 185,
   "id": "96f0b16e-c905-46e5-a773-6999b8f41367",
   "metadata": {},
   "outputs": [],
   "source": [
    "flux = np.tile(np.arange(10) + 10, (2,1))\n",
    "sky = np.arange(10) +1\n",
    "BETA  = 10.0\n",
    "VREAD = 16000\n",
    "var=flux + BETA*sky + VREAD"
   ]
  },
  {
   "cell_type": "code",
   "execution_count": 186,
   "id": "8efcc51d-a383-4c6d-997e-a74df95d53c9",
   "metadata": {},
   "outputs": [
    {
     "data": {
      "text/plain": [
       "array([[16020., 16031., 16042., 16053., 16064., 16075., 16086., 16097.,\n",
       "        16108., 16119.],\n",
       "       [16020., 16031., 16042., 16053., 16064., 16075., 16086., 16097.,\n",
       "        16108., 16119.]])"
      ]
     },
     "execution_count": 186,
     "metadata": {},
     "output_type": "execute_result"
    }
   ],
   "source": [
    "var"
   ]
  },
  {
   "cell_type": "code",
   "execution_count": 184,
   "id": "8bf3bdd5-2b73-4881-a350-95dd044636e3",
   "metadata": {},
   "outputs": [
    {
     "data": {
      "text/plain": [
       "array([12, 13, 14, 15, 16, 17, 18, 19])"
      ]
     },
     "execution_count": 184,
     "metadata": {},
     "output_type": "execute_result"
    }
   ],
   "source": [
    "flux"
   ]
  },
  {
   "cell_type": "code",
   "execution_count": 180,
   "id": "b5ec2dce-6c04-49d4-a3f2-76b4b1955702",
   "metadata": {},
   "outputs": [
    {
     "data": {
      "text/plain": [
       "array([16020., 16031., 16042., 16053., 16064., 16075., 16086., 16097.,\n",
       "       16108., 16119.])"
      ]
     },
     "execution_count": 180,
     "metadata": {},
     "output_type": "execute_result"
    }
   ],
   "source": [
    "var"
   ]
  },
  {
   "cell_type": "code",
   "execution_count": 182,
   "id": "223fa24c-ffbe-4ea8-a169-dc657cffa941",
   "metadata": {},
   "outputs": [
    {
     "data": {
      "text/plain": [
       "array([127., 127., 127., 127., 127., 127., 127., 127., 127., 127.])"
      ]
     },
     "execution_count": 182,
     "metadata": {},
     "output_type": "execute_result"
    }
   ],
   "source": [
    "np.sqrt(var).round()"
   ]
  },
  {
   "cell_type": "code",
   "execution_count": 166,
   "id": "b27edab1-16b4-4090-b1cc-996be796daa9",
   "metadata": {},
   "outputs": [],
   "source": [
    "np.random.seed(922)\n",
    "sigma = np.arange(1,10)\n",
    "noise = np.random.normal(0, sigma, np.shape(sigma)).round(2)"
   ]
  },
  {
   "cell_type": "code",
   "execution_count": 167,
   "id": "44e9dabf-7782-4544-93ed-4e8535f62d81",
   "metadata": {},
   "outputs": [
    {
     "data": {
      "text/plain": [
       "array([ -1.38,  -1.89,   0.15,   3.78,  -2.98, -10.87,  -4.89,  -4.96,\n",
       "        -1.74])"
      ]
     },
     "execution_count": 167,
     "metadata": {},
     "output_type": "execute_result"
    }
   ],
   "source": [
    "noise"
   ]
  },
  {
   "cell_type": "code",
   "execution_count": 168,
   "id": "0bb894e0-bba2-452e-8362-c003fb85c303",
   "metadata": {},
   "outputs": [
    {
     "data": {
      "text/plain": [
       "array([1, 2, 3, 4, 5, 6, 7, 8, 9])"
      ]
     },
     "execution_count": 168,
     "metadata": {},
     "output_type": "execute_result"
    }
   ],
   "source": [
    "sigma"
   ]
  },
  {
   "cell_type": "code",
   "execution_count": 165,
   "id": "ded098bb-3bce-4855-9ddc-782119122495",
   "metadata": {},
   "outputs": [
    {
     "data": {
      "text/plain": [
       "array([0, 1, 2, 3, 4, 5, 6, 7, 8, 9])"
      ]
     },
     "execution_count": 165,
     "metadata": {},
     "output_type": "execute_result"
    }
   ],
   "source": [
    "sigma"
   ]
  },
  {
   "cell_type": "code",
   "execution_count": 171,
   "id": "edfcec5b-f1a0-4601-8631-3d8fb94adacf",
   "metadata": {},
   "outputs": [],
   "source": [
    "obsfluxs = noise+sigma"
   ]
  },
  {
   "cell_type": "code",
   "execution_count": 176,
   "id": "ab90106f-77c2-49b5-b5f9-708161fd6ce8",
   "metadata": {},
   "outputs": [],
   "source": [
    "noise_level=10"
   ]
  },
  {
   "cell_type": "code",
   "execution_count": 177,
   "id": "9b540ad6-810b-46f0-ad8e-9973d8ce7432",
   "metadata": {},
   "outputs": [
    {
     "data": {
      "text/plain": [
       "0.04"
      ]
     },
     "execution_count": 177,
     "metadata": {},
     "output_type": "execute_result"
    }
   ],
   "source": [
    "np.mean(np.divide(obsfluxs, noise_level*sigma)).round(2)"
   ]
  },
  {
   "cell_type": "code",
   "execution_count": 178,
   "id": "9ff2566b-3b77-4869-898a-d9f21f7e4218",
   "metadata": {},
   "outputs": [
    {
     "ename": "NameError",
     "evalue": "name 'var' is not defined",
     "output_type": "error",
     "traceback": [
      "\u001b[0;31m---------------------------------------------------------------------------\u001b[0m",
      "\u001b[0;31mNameError\u001b[0m                                 Traceback (most recent call last)",
      "\u001b[0;32m/tmp/ipykernel_2531211/4138207136.py\u001b[0m in \u001b[0;36m<module>\u001b[0;34m\u001b[0m\n\u001b[0;32m----> 1\u001b[0;31m \u001b[0mvar\u001b[0m\u001b[0;34m\u001b[0m\u001b[0;34m\u001b[0m\u001b[0m\n\u001b[0m",
      "\u001b[0;31mNameError\u001b[0m: name 'var' is not defined"
     ]
    }
   ],
   "source": [
    "var"
   ]
  },
  {
   "cell_type": "code",
   "execution_count": null,
   "id": "a7e046c4-28e2-40bd-9a5b-2c7bbd6b081c",
   "metadata": {},
   "outputs": [],
   "source": [
    "noise+sigma / sigma"
   ]
  },
  {
   "cell_type": "code",
   "execution_count": 160,
   "id": "81730bda-d899-48cc-b022-137febbca44e",
   "metadata": {},
   "outputs": [
    {
     "data": {
      "text/plain": [
       "array([16020., 16031., 16042., 16053., 16064., 16075., 16086., 16097.,\n",
       "       16108., 16119.])"
      ]
     },
     "execution_count": 160,
     "metadata": {},
     "output_type": "execute_result"
    }
   ],
   "source": [
    "        flux = np.arange(10) + 10\n",
    "        sky = np.arange(10) +1\n",
    "        obs = Obs()\n",
    "        obs.get_var(flux, sky)"
   ]
  },
  {
   "cell_type": "code",
   "execution_count": 47,
   "id": "8f86c2cf-0183-499e-9db7-b74e4b54ebb1",
   "metadata": {},
   "outputs": [],
   "source": [
    "class NNEval():\n",
    "    def __init__(self, *args, **kwargs):\n",
    "        self.model = None\n",
    "        self.score = None\n",
    "    "
   ]
  },
  {
   "cell_type": "code",
   "execution_count": 45,
   "id": "783d81ee-e448-45cb-84e7-877373d57c85",
   "metadata": {},
   "outputs": [
    {
     "name": "stdout",
     "output_type": "stream",
     "text": [
      "Test loss: 0.02462637796998024\n",
      "Test accuracy: 0.9914000034332275\n"
     ]
    }
   ],
   "source": [
    "score = model.evaluate(x_test, y_test, verbose=0)\n",
    "print(\"Test loss:\", score[0])\n",
    "print(\"Test accuracy:\", score[1])"
   ]
  },
  {
   "cell_type": "code",
   "execution_count": 137,
   "id": "f1357a20-c5d3-4aff-a865-ecd1610e00d2",
   "metadata": {},
   "outputs": [],
   "source": [
    "import scipy as sp\n"
   ]
  },
  {
   "cell_type": "code",
   "execution_count": 196,
   "id": "b288e011-312c-4d66-9ec0-622fb509306b",
   "metadata": {},
   "outputs": [],
   "source": [
    "def integrate_sky(sky):   \n",
    "    intergrated = np.cumsum(sky[1])\n",
    "    f = sp.interpolate.interp1d(sky[0], intergrated, fill_value=0)\n",
    "    return f"
   ]
  },
  {
   "cell_type": "code",
   "execution_count": 197,
   "id": "44ed41c9-5886-4968-b1e9-f3420c39718d",
   "metadata": {},
   "outputs": [],
   "source": [
    "fn = integrate_sky(skyyy)"
   ]
  },
  {
   "cell_type": "code",
   "execution_count": 198,
   "id": "6645df3c-c789-4677-8a6f-3aaa85b24098",
   "metadata": {},
   "outputs": [
    {
     "data": {
      "text/plain": [
       "array([ 3200. ,  3499.9,  3501.7, ..., 10990. , 10995. , 11000. ])"
      ]
     },
     "execution_count": 198,
     "metadata": {},
     "output_type": "execute_result"
    }
   ],
   "source": [
    "skyyy[0]"
   ]
  },
  {
   "cell_type": "code",
   "execution_count": 190,
   "id": "7143ee3b-a254-45de-ba2e-1919e6ee331e",
   "metadata": {},
   "outputs": [
    {
     "ename": "NameError",
     "evalue": "name 'waveH' is not defined",
     "output_type": "error",
     "traceback": [
      "\u001b[0;31m---------------------------------------------------------------------------\u001b[0m",
      "\u001b[0;31mNameError\u001b[0m                                 Traceback (most recent call last)",
      "\u001b[0;32m/tmp/ipykernel_2531211/3510666608.py\u001b[0m in \u001b[0;36m<module>\u001b[0;34m\u001b[0m\n\u001b[0;32m----> 1\u001b[0;31m \u001b[0mwaveH\u001b[0m\u001b[0;34m\u001b[0m\u001b[0;34m\u001b[0m\u001b[0m\n\u001b[0m",
      "\u001b[0;31mNameError\u001b[0m: name 'waveH' is not defined"
     ]
    }
   ],
   "source": [
    "waveH"
   ]
  },
  {
   "cell_type": "code",
   "execution_count": 195,
   "id": "52f09a86-4d8a-49a7-a126-51fabde08eec",
   "metadata": {},
   "outputs": [
    {
     "ename": "ValueError",
     "evalue": "A value in x_new is below the interpolation range.",
     "output_type": "error",
     "traceback": [
      "\u001b[0;31m---------------------------------------------------------------------------\u001b[0m",
      "\u001b[0;31mValueError\u001b[0m                                Traceback (most recent call last)",
      "\u001b[0;32m/tmp/ipykernel_2531211/3619433104.py\u001b[0m in \u001b[0;36m<module>\u001b[0;34m\u001b[0m\n\u001b[0;32m----> 1\u001b[0;31m \u001b[0mintegraded_sky\u001b[0m \u001b[0;34m=\u001b[0m \u001b[0mfn\u001b[0m\u001b[0;34m(\u001b[0m\u001b[0mwave\u001b[0m\u001b[0;34m)\u001b[0m\u001b[0;34m\u001b[0m\u001b[0;34m\u001b[0m\u001b[0m\n\u001b[0m\u001b[1;32m      2\u001b[0m \u001b[0msky_grid\u001b[0m \u001b[0;34m=\u001b[0m \u001b[0mnp\u001b[0m\u001b[0;34m.\u001b[0m\u001b[0mdiff\u001b[0m\u001b[0;34m(\u001b[0m\u001b[0mintegraded_sky\u001b[0m\u001b[0;34m)\u001b[0m\u001b[0;34m\u001b[0m\u001b[0;34m\u001b[0m\u001b[0m\n\u001b[1;32m      3\u001b[0m \u001b[0msky_grid\u001b[0m \u001b[0;34m=\u001b[0m \u001b[0mnp\u001b[0m\u001b[0;34m.\u001b[0m\u001b[0minsert\u001b[0m\u001b[0;34m(\u001b[0m\u001b[0msky_grid\u001b[0m\u001b[0;34m,\u001b[0m \u001b[0;36m0\u001b[0m\u001b[0;34m,\u001b[0m \u001b[0mintegraded_sky\u001b[0m\u001b[0;34m[\u001b[0m\u001b[0;36m0\u001b[0m\u001b[0;34m]\u001b[0m\u001b[0;34m)\u001b[0m\u001b[0;34m\u001b[0m\u001b[0;34m\u001b[0m\u001b[0m\n",
      "\u001b[0;32m/datascope/slurm/miniconda3/envs/viska-tf28/lib/python3.9/site-packages/scipy/interpolate/polyint.py\u001b[0m in \u001b[0;36m__call__\u001b[0;34m(self, x)\u001b[0m\n\u001b[1;32m     76\u001b[0m         \"\"\"\n\u001b[1;32m     77\u001b[0m         \u001b[0mx\u001b[0m\u001b[0;34m,\u001b[0m \u001b[0mx_shape\u001b[0m \u001b[0;34m=\u001b[0m \u001b[0mself\u001b[0m\u001b[0;34m.\u001b[0m\u001b[0m_prepare_x\u001b[0m\u001b[0;34m(\u001b[0m\u001b[0mx\u001b[0m\u001b[0;34m)\u001b[0m\u001b[0;34m\u001b[0m\u001b[0;34m\u001b[0m\u001b[0m\n\u001b[0;32m---> 78\u001b[0;31m         \u001b[0my\u001b[0m \u001b[0;34m=\u001b[0m \u001b[0mself\u001b[0m\u001b[0;34m.\u001b[0m\u001b[0m_evaluate\u001b[0m\u001b[0;34m(\u001b[0m\u001b[0mx\u001b[0m\u001b[0;34m)\u001b[0m\u001b[0;34m\u001b[0m\u001b[0;34m\u001b[0m\u001b[0m\n\u001b[0m\u001b[1;32m     79\u001b[0m         \u001b[0;32mreturn\u001b[0m \u001b[0mself\u001b[0m\u001b[0;34m.\u001b[0m\u001b[0m_finish_y\u001b[0m\u001b[0;34m(\u001b[0m\u001b[0my\u001b[0m\u001b[0;34m,\u001b[0m \u001b[0mx_shape\u001b[0m\u001b[0;34m)\u001b[0m\u001b[0;34m\u001b[0m\u001b[0;34m\u001b[0m\u001b[0m\n\u001b[1;32m     80\u001b[0m \u001b[0;34m\u001b[0m\u001b[0m\n",
      "\u001b[0;32m/datascope/slurm/miniconda3/envs/viska-tf28/lib/python3.9/site-packages/scipy/interpolate/interpolate.py\u001b[0m in \u001b[0;36m_evaluate\u001b[0;34m(self, x_new)\u001b[0m\n\u001b[1;32m    682\u001b[0m         \u001b[0my_new\u001b[0m \u001b[0;34m=\u001b[0m \u001b[0mself\u001b[0m\u001b[0;34m.\u001b[0m\u001b[0m_call\u001b[0m\u001b[0;34m(\u001b[0m\u001b[0mself\u001b[0m\u001b[0;34m,\u001b[0m \u001b[0mx_new\u001b[0m\u001b[0;34m)\u001b[0m\u001b[0;34m\u001b[0m\u001b[0;34m\u001b[0m\u001b[0m\n\u001b[1;32m    683\u001b[0m         \u001b[0;32mif\u001b[0m \u001b[0;32mnot\u001b[0m \u001b[0mself\u001b[0m\u001b[0;34m.\u001b[0m\u001b[0m_extrapolate\u001b[0m\u001b[0;34m:\u001b[0m\u001b[0;34m\u001b[0m\u001b[0;34m\u001b[0m\u001b[0m\n\u001b[0;32m--> 684\u001b[0;31m             \u001b[0mbelow_bounds\u001b[0m\u001b[0;34m,\u001b[0m \u001b[0mabove_bounds\u001b[0m \u001b[0;34m=\u001b[0m \u001b[0mself\u001b[0m\u001b[0;34m.\u001b[0m\u001b[0m_check_bounds\u001b[0m\u001b[0;34m(\u001b[0m\u001b[0mx_new\u001b[0m\u001b[0;34m)\u001b[0m\u001b[0;34m\u001b[0m\u001b[0;34m\u001b[0m\u001b[0m\n\u001b[0m\u001b[1;32m    685\u001b[0m             \u001b[0;32mif\u001b[0m \u001b[0mlen\u001b[0m\u001b[0;34m(\u001b[0m\u001b[0my_new\u001b[0m\u001b[0;34m)\u001b[0m \u001b[0;34m>\u001b[0m \u001b[0;36m0\u001b[0m\u001b[0;34m:\u001b[0m\u001b[0;34m\u001b[0m\u001b[0;34m\u001b[0m\u001b[0m\n\u001b[1;32m    686\u001b[0m                 \u001b[0;31m# Note fill_value must be broadcast up to the proper size\u001b[0m\u001b[0;34m\u001b[0m\u001b[0;34m\u001b[0m\u001b[0m\n",
      "\u001b[0;32m/datascope/slurm/miniconda3/envs/viska-tf28/lib/python3.9/site-packages/scipy/interpolate/interpolate.py\u001b[0m in \u001b[0;36m_check_bounds\u001b[0;34m(self, x_new)\u001b[0m\n\u001b[1;32m    711\u001b[0m         \u001b[0;31m# !! Could provide more information about which values are out of bounds\u001b[0m\u001b[0;34m\u001b[0m\u001b[0;34m\u001b[0m\u001b[0m\n\u001b[1;32m    712\u001b[0m         \u001b[0;32mif\u001b[0m \u001b[0mself\u001b[0m\u001b[0;34m.\u001b[0m\u001b[0mbounds_error\u001b[0m \u001b[0;32mand\u001b[0m \u001b[0mbelow_bounds\u001b[0m\u001b[0;34m.\u001b[0m\u001b[0many\u001b[0m\u001b[0;34m(\u001b[0m\u001b[0;34m)\u001b[0m\u001b[0;34m:\u001b[0m\u001b[0;34m\u001b[0m\u001b[0;34m\u001b[0m\u001b[0m\n\u001b[0;32m--> 713\u001b[0;31m             raise ValueError(\"A value in x_new is below the interpolation \"\n\u001b[0m\u001b[1;32m    714\u001b[0m                              \"range.\")\n\u001b[1;32m    715\u001b[0m         \u001b[0;32mif\u001b[0m \u001b[0mself\u001b[0m\u001b[0;34m.\u001b[0m\u001b[0mbounds_error\u001b[0m \u001b[0;32mand\u001b[0m \u001b[0mabove_bounds\u001b[0m\u001b[0;34m.\u001b[0m\u001b[0many\u001b[0m\u001b[0;34m(\u001b[0m\u001b[0;34m)\u001b[0m\u001b[0;34m:\u001b[0m\u001b[0;34m\u001b[0m\u001b[0;34m\u001b[0m\u001b[0m\n",
      "\u001b[0;31mValueError\u001b[0m: A value in x_new is below the interpolation range."
     ]
    }
   ],
   "source": [
    "integraded_sky = fn(wave)\n",
    "sky_grid = np.diff(integraded_sky)\n",
    "sky_grid = np.insert(sky_grid, 0, integraded_sky[0])"
   ]
  },
  {
   "cell_type": "code",
   "execution_count": null,
   "id": "27bd5ba0-fd86-4dc3-ac3f-3c62413a5693",
   "metadata": {},
   "outputs": [],
   "source": []
  },
  {
   "cell_type": "code",
   "execution_count": null,
   "id": "c43dcda5-1906-4047-81f4-2fedda55d360",
   "metadata": {},
   "outputs": [],
   "source": [
    "b.Obs.sk"
   ]
  },
  {
   "cell_type": "code",
   "execution_count": null,
   "id": "4208ceff-73ca-40c3-820d-1264348553bd",
   "metadata": {},
   "outputs": [],
   "source": [
    "import scipy as sp"
   ]
  },
  {
   "cell_type": "code",
   "execution_count": 191,
   "id": "266267bd-1423-4794-8c1f-ac00fd443ac0",
   "metadata": {},
   "outputs": [
    {
     "ename": "ModuleNotFoundError",
     "evalue": "No module named 'PIML'",
     "output_type": "error",
     "traceback": [
      "\u001b[0;31m---------------------------------------------------------------------------\u001b[0m",
      "\u001b[0;31mModuleNotFoundError\u001b[0m                       Traceback (most recent call last)",
      "\u001b[0;32m/tmp/ipykernel_2531211/2643689286.py\u001b[0m in \u001b[0;36m<module>\u001b[0;34m\u001b[0m\n\u001b[0;32m----> 1\u001b[0;31m \u001b[0;32mfrom\u001b[0m \u001b[0mPIML\u001b[0m\u001b[0;34m.\u001b[0m\u001b[0mbox\u001b[0m\u001b[0;34m.\u001b[0m\u001b[0mboxWR\u001b[0m \u001b[0;32mimport\u001b[0m \u001b[0mBoxWR\u001b[0m\u001b[0;34m\u001b[0m\u001b[0;34m\u001b[0m\u001b[0m\n\u001b[0m",
      "\u001b[0;31mModuleNotFoundError\u001b[0m: No module named 'PIML'"
     ]
    }
   ],
   "source": [
    "from PIML.box.boxWR import BoxWR"
   ]
  },
  {
   "cell_type": "code",
   "execution_count": 144,
   "id": "7bcc03e3-d6f4-4705-8da9-e10b6940f92a",
   "metadata": {},
   "outputs": [
    {
     "ename": "NameError",
     "evalue": "name 'BoxWR' is not defined",
     "output_type": "error",
     "traceback": [
      "\u001b[0;31m---------------------------------------------------------------------------\u001b[0m",
      "\u001b[0;31mNameError\u001b[0m                                 Traceback (most recent call last)",
      "\u001b[0;32m/tmp/ipykernel_2531211/3560676567.py\u001b[0m in \u001b[0;36m<module>\u001b[0;34m\u001b[0m\n\u001b[0;32m----> 1\u001b[0;31m \u001b[0mb\u001b[0m \u001b[0;34m=\u001b[0m \u001b[0mBoxWR\u001b[0m\u001b[0;34m(\u001b[0m\u001b[0;34m)\u001b[0m\u001b[0;34m\u001b[0m\u001b[0;34m\u001b[0m\u001b[0m\n\u001b[0m",
      "\u001b[0;31mNameError\u001b[0m: name 'BoxWR' is not defined"
     ]
    }
   ],
   "source": [
    "b = BoxWR()"
   ]
  },
  {
   "cell_type": "code",
   "execution_count": 145,
   "id": "36b9c023-7bd5-4aed-a8bf-063ad4159a41",
   "metadata": {},
   "outputs": [
    {
     "ename": "AttributeError",
     "evalue": "'list' object has no attribute 'init'",
     "output_type": "error",
     "traceback": [
      "\u001b[0;31m---------------------------------------------------------------------------\u001b[0m",
      "\u001b[0;31mAttributeError\u001b[0m                            Traceback (most recent call last)",
      "\u001b[0;32m/tmp/ipykernel_2531211/315240756.py\u001b[0m in \u001b[0;36m<module>\u001b[0;34m\u001b[0m\n\u001b[1;32m      1\u001b[0m \u001b[0mW\u001b[0m\u001b[0;34m=\u001b[0m\u001b[0;34m\"RedM\"\u001b[0m\u001b[0;34m;\u001b[0m \u001b[0mR\u001b[0m\u001b[0;34m=\u001b[0m\u001b[0;34m\"R\"\u001b[0m\u001b[0;34m;\u001b[0m \u001b[0mRes\u001b[0m\u001b[0;34m=\u001b[0m\u001b[0;36m5000\u001b[0m\u001b[0;34m;\u001b[0m\u001b[0mstep\u001b[0m\u001b[0;34m=\u001b[0m\u001b[0;36m10\u001b[0m\u001b[0;34m;\u001b[0m\u001b[0;34m\u001b[0m\u001b[0;34m\u001b[0m\u001b[0m\n\u001b[0;32m----> 2\u001b[0;31m \u001b[0mb\u001b[0m\u001b[0;34m.\u001b[0m\u001b[0minit\u001b[0m\u001b[0;34m(\u001b[0m\u001b[0mW\u001b[0m\u001b[0;34m,\u001b[0m\u001b[0mR\u001b[0m\u001b[0;34m,\u001b[0m \u001b[0mRes\u001b[0m\u001b[0;34m,\u001b[0m\u001b[0mstep\u001b[0m\u001b[0;34m,\u001b[0m \u001b[0monPCA\u001b[0m\u001b[0;34m=\u001b[0m\u001b[0;36m1\u001b[0m\u001b[0;34m,\u001b[0m \u001b[0mtopk\u001b[0m\u001b[0;34m=\u001b[0m\u001b[0;36m10\u001b[0m\u001b[0;34m)\u001b[0m\u001b[0;34m\u001b[0m\u001b[0;34m\u001b[0m\u001b[0m\n\u001b[0m",
      "\u001b[0;31mAttributeError\u001b[0m: 'list' object has no attribute 'init'"
     ]
    }
   ],
   "source": [
    "W=\"RedM\"; R=\"R\"; Res=5000;step=10;\n",
    "b.init(W,R, Res,step, onPCA=1, topk=10)"
   ]
  },
  {
   "cell_type": "code",
   "execution_count": 192,
   "id": "5a2bb09c-28a6-40e9-b68a-8ed8f652e0ae",
   "metadata": {},
   "outputs": [],
   "source": [
    "wave = np.load(\"/home/swei20/PIML_v1/test/testdata/wave.npy\")"
   ]
  },
  {
   "cell_type": "code",
   "execution_count": 194,
   "id": "3428c779-a4a7-430b-8214-6eda2e310e8d",
   "metadata": {},
   "outputs": [
    {
     "data": {
      "text/plain": [
       "(15404,)"
      ]
     },
     "execution_count": 194,
     "metadata": {},
     "output_type": "execute_result"
    }
   ],
   "source": [
    "\n",
    "wave.shape"
   ]
  },
  {
   "cell_type": "code",
   "execution_count": null,
   "id": "8cc4607f-c3d9-4496-a145-8dfda20e6630",
   "metadata": {},
   "outputs": [],
   "source": []
  }
 ],
 "metadata": {
  "kernelspec": {
   "display_name": "Python 3 [viska-tf28]",
   "language": "python",
   "name": "python3-viska-tf28"
  },
  "language_info": {
   "codemirror_mode": {
    "name": "ipython",
    "version": 3
   },
   "file_extension": ".py",
   "mimetype": "text/x-python",
   "name": "python",
   "nbconvert_exporter": "python",
   "pygments_lexer": "ipython3",
   "version": "3.9.7"
  }
 },
 "nbformat": 4,
 "nbformat_minor": 5
}
