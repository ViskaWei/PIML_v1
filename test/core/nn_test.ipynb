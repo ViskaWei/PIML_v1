{
 "cells": [
  {
   "cell_type": "code",
   "execution_count": null,
   "id": "9e0874ba-6585-4877-a550-82a1865e8d56",
   "metadata": {},
   "outputs": [],
   "source": []
  },
  {
   "cell_type": "code",
   "execution_count": 1,
   "id": "5817aa73-9728-4a8c-a68a-879b388c349d",
   "metadata": {},
   "outputs": [],
   "source": [
    "%load_ext autoreload\n",
    "%autoreload 2"
   ]
  },
  {
   "cell_type": "code",
   "execution_count": 2,
   "id": "4da032b0-9e9d-410e-88b5-9f3d620a6217",
   "metadata": {},
   "outputs": [],
   "source": [
    "import os\n",
    "import sys\n",
    "import h5py\n",
    "import numpy as np\n",
    "import pandas as pd\n",
    "import seaborn as sns\n",
    "import matplotlib.pyplot as plt\n",
    "from tqdm import tqdm"
   ]
  },
  {
   "cell_type": "code",
   "execution_count": 3,
   "id": "912a8826-fd7a-43b9-8534-e340bb3ac849",
   "metadata": {},
   "outputs": [],
   "source": [
    "os.environ[\"CUDA_VISIBLE_DEVICES\"]=\"1\""
   ]
  },
  {
   "cell_type": "code",
   "execution_count": 4,
   "id": "ea03d790-155d-4b27-a23a-869861e59fc3",
   "metadata": {},
   "outputs": [],
   "source": [
    "PROJECT_PATH = '../'\n",
    "import sys\n",
    "sys.path.insert(0, PROJECT_PATH)"
   ]
  },
  {
   "cell_type": "code",
   "execution_count": 7,
   "id": "bf7288a3-1fca-4bc8-95d7-1c6392f53961",
   "metadata": {},
   "outputs": [
    {
     "name": "stdout",
     "output_type": "stream",
     "text": [
      "x_train shape: (60000, 28, 28, 1)\n",
      "60000 train samples\n",
      "10000 test samples\n"
     ]
    }
   ],
   "source": [
    "# Model / data parameters\n",
    "num_classes = 10\n",
    "input_shape = (28, 28, 1)\n",
    "\n",
    "# the data, split between train and test sets\n",
    "(x_train, y_train), (x_test, y_test) = keras.datasets.mnist.load_data()\n",
    "\n",
    "# Scale images to the [0, 1] range\n",
    "x_train = x_train.astype(\"float32\") / 255\n",
    "x_test = x_test.astype(\"float32\") / 255\n",
    "# Make sure images have shape (28, 28, 1)\n",
    "x_train = np.expand_dims(x_train, -1)\n",
    "x_test = np.expand_dims(x_test, -1)\n",
    "print(\"x_train shape:\", x_train.shape)\n",
    "print(x_train.shape[0], \"train samples\")\n",
    "print(x_test.shape[0], \"test samples\")\n",
    "\n",
    "\n",
    "# convert class vectors to binary class matrices\n",
    "y_train = keras.utils.to_categorical(y_train, num_classes)\n",
    "y_test = keras.utils.to_categorical(y_test, num_classes)"
   ]
  },
  {
   "cell_type": "code",
   "execution_count": 5,
   "id": "84f98730-553c-43af-a40d-0bc86ff28375",
   "metadata": {},
   "outputs": [],
   "source": [
    "from tensorflow import keras"
   ]
  },
  {
   "cell_type": "code",
   "execution_count": 10,
   "id": "b5757f38-7782-4fff-83a6-0bb98dfcbd3e",
   "metadata": {},
   "outputs": [],
   "source": [
    "from tensorflow.keras import layers as kl\n",
    "from tensorflow.keras import activations"
   ]
  },
  {
   "cell_type": "code",
   "execution_count": null,
   "id": "3dfc289d-94df-4bc0-bc55-beebc0a05d1c",
   "metadata": {},
   "outputs": [],
   "source": []
  },
  {
   "cell_type": "code",
   "execution_count": 11,
   "id": "a12062c8-e26a-451d-bc64-896506bcd18e",
   "metadata": {},
   "outputs": [],
   "source": [
    "lll = [kl.Conv2D(32, kernel_size=(3, 3)), \n",
    "        kl.Activation(activations.relu)]"
   ]
  },
  {
   "cell_type": "code",
   "execution_count": 14,
   "id": "a1624989-069d-4f2c-b0a9-d86176c1be0e",
   "metadata": {},
   "outputs": [],
   "source": [
    "stem = keras.Sequential()\n",
    "for ll in lll:\n",
    "    stem.add(ll)"
   ]
  },
  {
   "cell_type": "code",
   "execution_count": 29,
   "id": "25fdc28e-1328-4141-b96a-8589b5978ada",
   "metadata": {},
   "outputs": [],
   "source": [
    "bodyl = [kl.MaxPooling2D(pool_size=(2, 2)),\n",
    "kl.Conv2D(64, kernel_size=(3, 3), activation=\"relu\"),\n",
    "kl.MaxPooling2D(pool_size=(2, 2)),\n",
    "kl.Flatten(),\n",
    "kl.Dropout(0.5),\n",
    "kl.Dense(num_classes, activation=\"softmax\")]"
   ]
  },
  {
   "cell_type": "code",
   "execution_count": 31,
   "id": "82cd2285-65c4-4971-81b2-ea1b6bf97889",
   "metadata": {},
   "outputs": [],
   "source": [
    "body = keras.Sequential(bodyl)"
   ]
  },
  {
   "cell_type": "code",
   "execution_count": 26,
   "id": "3d60ac3a-84e0-47a0-8a46-f2a6ff5bdfad",
   "metadata": {},
   "outputs": [],
   "source": [
    "x = inputs\n",
    "x = stem(x)\n",
    "x = body(x)"
   ]
  },
  {
   "cell_type": "code",
   "execution_count": 23,
   "id": "f54cf236-8733-4c10-9760-53caa9ab26e8",
   "metadata": {},
   "outputs": [],
   "source": [
    "inputs = keras.Input(shape = (input_shape), name='input')\n"
   ]
  },
  {
   "cell_type": "code",
   "execution_count": 41,
   "id": "fc3fc436-fa6e-41f4-a6ec-1010e36a1d6f",
   "metadata": {},
   "outputs": [],
   "source": [
    "model = keras.Sequential([inputs, *lll,*bodyl])"
   ]
  },
  {
   "cell_type": "code",
   "execution_count": 42,
   "id": "d29158e0-6f7c-4828-b7c2-97fde8ce74b4",
   "metadata": {},
   "outputs": [
    {
     "name": "stdout",
     "output_type": "stream",
     "text": [
      "Model: \"sequential_14\"\n",
      "_________________________________________________________________\n",
      " Layer (type)                Output Shape              Param #   \n",
      "=================================================================\n",
      " conv2d (Conv2D)             (None, 26, 26, 32)        320       \n",
      "                                                                 \n",
      " activation (Activation)     (None, 26, 26, 32)        0         \n",
      "                                                                 \n",
      " max_pooling2d_14 (MaxPoolin  (None, 13, 13, 32)       0         \n",
      " g2D)                                                            \n",
      "                                                                 \n",
      " conv2d_8 (Conv2D)           (None, 11, 11, 64)        18496     \n",
      "                                                                 \n",
      " max_pooling2d_15 (MaxPoolin  (None, 5, 5, 64)         0         \n",
      " g2D)                                                            \n",
      "                                                                 \n",
      " flatten_3 (Flatten)         (None, 1600)              0         \n",
      "                                                                 \n",
      " dropout_3 (Dropout)         (None, 1600)              0         \n",
      "                                                                 \n",
      " dense_3 (Dense)             (None, 10)                16010     \n",
      "                                                                 \n",
      "=================================================================\n",
      "Total params: 34,826\n",
      "Trainable params: 34,826\n",
      "Non-trainable params: 0\n",
      "_________________________________________________________________\n"
     ]
    }
   ],
   "source": [
    "model.summary()"
   ]
  },
  {
   "cell_type": "code",
   "execution_count": 43,
   "id": "a8d4846e-5878-44a4-a121-a3e665e7a17c",
   "metadata": {},
   "outputs": [],
   "source": [
    "batch_size = 128\n",
    "epochs = 15\n",
    "\n",
    "model.compile(loss=\"categorical_crossentropy\", optimizer=\"adam\", metrics=[\"accuracy\"])"
   ]
  },
  {
   "cell_type": "code",
   "execution_count": 44,
   "id": "3d8e2076-73a3-4893-9c73-988b84eb94b4",
   "metadata": {},
   "outputs": [
    {
     "name": "stdout",
     "output_type": "stream",
     "text": [
      "Epoch 1/15\n"
     ]
    },
    {
     "name": "stderr",
     "output_type": "stream",
     "text": [
      "2022-03-13 14:07:28.658553: I tensorflow/stream_executor/cuda/cuda_dnn.cc:368] Loaded cuDNN version 8201\n"
     ]
    },
    {
     "name": "stdout",
     "output_type": "stream",
     "text": [
      "422/422 [==============================] - 10s 4ms/step - loss: 0.3719 - accuracy: 0.8863 - val_loss: 0.0879 - val_accuracy: 0.9767\n",
      "Epoch 2/15\n",
      "422/422 [==============================] - 1s 3ms/step - loss: 0.1143 - accuracy: 0.9644 - val_loss: 0.0578 - val_accuracy: 0.9842\n",
      "Epoch 3/15\n",
      "422/422 [==============================] - 1s 3ms/step - loss: 0.0841 - accuracy: 0.9746 - val_loss: 0.0493 - val_accuracy: 0.9858\n",
      "Epoch 4/15\n",
      "422/422 [==============================] - 1s 3ms/step - loss: 0.0708 - accuracy: 0.9779 - val_loss: 0.0421 - val_accuracy: 0.9880\n",
      "Epoch 5/15\n",
      "422/422 [==============================] - 1s 3ms/step - loss: 0.0633 - accuracy: 0.9800 - val_loss: 0.0408 - val_accuracy: 0.9882\n",
      "Epoch 6/15\n",
      "422/422 [==============================] - 1s 3ms/step - loss: 0.0549 - accuracy: 0.9832 - val_loss: 0.0362 - val_accuracy: 0.9905\n",
      "Epoch 7/15\n",
      "422/422 [==============================] - 1s 3ms/step - loss: 0.0521 - accuracy: 0.9837 - val_loss: 0.0361 - val_accuracy: 0.9898\n",
      "Epoch 8/15\n",
      "422/422 [==============================] - 1s 3ms/step - loss: 0.0485 - accuracy: 0.9844 - val_loss: 0.0327 - val_accuracy: 0.9905\n",
      "Epoch 9/15\n",
      "422/422 [==============================] - 1s 3ms/step - loss: 0.0441 - accuracy: 0.9860 - val_loss: 0.0320 - val_accuracy: 0.9912\n",
      "Epoch 10/15\n",
      "422/422 [==============================] - 1s 3ms/step - loss: 0.0427 - accuracy: 0.9861 - val_loss: 0.0324 - val_accuracy: 0.9905\n",
      "Epoch 11/15\n",
      "422/422 [==============================] - 1s 3ms/step - loss: 0.0395 - accuracy: 0.9871 - val_loss: 0.0298 - val_accuracy: 0.9915\n",
      "Epoch 12/15\n",
      "422/422 [==============================] - 1s 3ms/step - loss: 0.0387 - accuracy: 0.9875 - val_loss: 0.0301 - val_accuracy: 0.9913\n",
      "Epoch 13/15\n",
      "422/422 [==============================] - 1s 3ms/step - loss: 0.0360 - accuracy: 0.9883 - val_loss: 0.0304 - val_accuracy: 0.9907\n",
      "Epoch 14/15\n",
      "422/422 [==============================] - 1s 3ms/step - loss: 0.0344 - accuracy: 0.9887 - val_loss: 0.0300 - val_accuracy: 0.9910\n",
      "Epoch 15/15\n",
      "422/422 [==============================] - 1s 3ms/step - loss: 0.0335 - accuracy: 0.9888 - val_loss: 0.0278 - val_accuracy: 0.9917\n"
     ]
    },
    {
     "data": {
      "text/plain": [
       "<keras.callbacks.History at 0x7f90a10305e0>"
      ]
     },
     "execution_count": 44,
     "metadata": {},
     "output_type": "execute_result"
    }
   ],
   "source": [
    "model.fit(x_train, y_train, batch_size=batch_size, epochs=epochs, validation_split=0.1)"
   ]
  },
  {
   "cell_type": "code",
   "execution_count": null,
   "id": "8f86c2cf-0183-499e-9db7-b74e4b54ebb1",
   "metadata": {},
   "outputs": [],
   "source": []
  },
  {
   "cell_type": "code",
   "execution_count": 45,
   "id": "783d81ee-e448-45cb-84e7-877373d57c85",
   "metadata": {},
   "outputs": [
    {
     "name": "stdout",
     "output_type": "stream",
     "text": [
      "Test loss: 0.02462637796998024\n",
      "Test accuracy: 0.9914000034332275\n"
     ]
    }
   ],
   "source": [
    "score = model.evaluate(x_test, y_test, verbose=0)\n",
    "print(\"Test loss:\", score[0])\n",
    "print(\"Test accuracy:\", score[1])"
   ]
  },
  {
   "cell_type": "code",
   "execution_count": 12,
   "id": "8689c0b3-508f-49b1-b3dc-0eaf3c1ac01c",
   "metadata": {},
   "outputs": [],
   "source": [
    "from PIML.box.boxWR import BoxWR"
   ]
  },
  {
   "cell_type": "code",
   "execution_count": 13,
   "id": "1f6357a0-f13a-48c6-82df-e81bbfb48c9b",
   "metadata": {},
   "outputs": [],
   "source": [
    "b = BoxWR()"
   ]
  },
  {
   "cell_type": "code",
   "execution_count": 15,
   "id": "36b9c023-7bd5-4aed-a8bf-063ad4159a41",
   "metadata": {},
   "outputs": [
    {
     "name": "stderr",
     "output_type": "stream",
     "text": [
      "INFO:root:#220 R=1000.00\n",
      "INFO:root:instrument Res = 5000,  dotSqrt of 2.00\n",
      "INFO:root:snr2nl-SN: [1.9124585839206668e+02, 63.78201170088925, 47.84903086449207, 38.28924236265376, 19.169665358977138, 9.60987685713883, 6.423280689859393, 4.8299826062196765, 3.874003756035845]\n",
      "INFO:root:nlList: [195.919  97.829  71.677]\n",
      "INFO:root:Top #220 eigs [105.32   7.07   5.2    1.44   1.21   0.76   0.57   0.49   0.35   0.28]\n"
     ]
    },
    {
     "name": "stdout",
     "output_type": "stream",
     "text": [
      "sky_H (2204,)\n",
      "(2204,) 0\n",
      "Building RBF with gaussan kernel on data shape (2880,)\n",
      "Building RBF with gaussan kernel on data shape (2880, 220)\n"
     ]
    },
    {
     "data": {
      "image/png": "[encoded data removed]",
      "text/plain": [
       "<Figure size 432x288 with 1 Axes>"
      ]
     },
     "metadata": {
      "needs_background": "light"
     },
     "output_type": "display_data"
    }
   ],
   "source": [
    "W=\"RedM\"; R=\"R\"; Res=5000;step=10;\n",
    "b.init(W,R, Res,step, onPCA=1, topk=10)"
   ]
  }
 ],
 "metadata": {
  "kernelspec": {
   "display_name": "Python 3 [viska-tf28]",
   "language": "python",
   "name": "python3-viska-tf28"
  },
  "language_info": {
   "codemirror_mode": {
    "name": "ipython",
    "version": 3
   },
   "file_extension": ".py",
   "mimetype": "text/x-python",
   "name": "python",
   "nbconvert_exporter": "python",
   "pygments_lexer": "ipython3",
   "version": "3.9.7"
  }
 },
 "nbformat": 4,
 "nbformat_minor": 5
}
