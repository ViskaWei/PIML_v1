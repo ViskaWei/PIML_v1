{
 "cells": [
  {
   "cell_type": "code",
   "execution_count": 1,
   "id": "2cb252f1-fb2d-43a3-ae95-0791c4c11bf0",
   "metadata": {},
   "outputs": [],
   "source": [
    "%load_ext autoreload\n",
    "%autoreload 2"
   ]
  },
  {
   "cell_type": "code",
   "execution_count": 2,
   "id": "3c89df28-5897-4b3c-b28d-774c990ea14d",
   "metadata": {},
   "outputs": [],
   "source": [
    "PROJECT_PATH = '/home/swei20/PIML_v1/'\n",
    "import sys\n",
    "sys.path.insert(0, PROJECT_PATH)"
   ]
  },
  {
   "cell_type": "code",
   "execution_count": 3,
   "id": "2932e7fc-8244-4add-9b41-55a5f797cbdf",
   "metadata": {},
   "outputs": [],
   "source": [
    "import os\n",
    "import numpy as np\n",
    "import matplotlib.pyplot as plt"
   ]
  },
  {
   "cell_type": "code",
   "execution_count": 15,
   "id": "a31cde34-e9df-430c-ac7d-6953f26065ff",
   "metadata": {},
   "outputs": [],
   "source": [
    "from PIML.gateway.dataIF.baseprocessIF import BaseModelProcessIF, BaseParamProcessIF, TrimmableProcessIF,BoxableProcessIF, ResTunableProcessIF"
   ]
  },
  {
   "cell_type": "code",
   "execution_count": 6,
   "id": "069626c8-34ab-444d-9420-fbfc7f0c5a42",
   "metadata": {},
   "outputs": [],
   "source": [
    "from PIML.surface.database.baseloader import H5pyLoader"
   ]
  },
  {
   "cell_type": "code",
   "execution_count": 7,
   "id": "184cf613-0f76-40b2-b948-5803ebc6a342",
   "metadata": {},
   "outputs": [],
   "source": [
    "loader = H5pyLoader()"
   ]
  },
  {
   "cell_type": "code",
   "execution_count": 8,
   "id": "a12b898c-00d4-4973-81f8-559d5eb6cffe",
   "metadata": {},
   "outputs": [],
   "source": [
    "GRID_PATH=\"/datascope/subaru/user/swei20/data/pfsspec/import/stellar/grid\"\n",
    "FILE_PATH=os.path.join(GRID_PATH, \"bosz_5000_RHB.h5\")\n",
    "# FILE_PATH = \"/home/swei20/PIML_v1/test/testdata/bosz_5000_test.h5\""
   ]
  },
  {
   "cell_type": "code",
   "execution_count": 9,
   "id": "bb57ee5f-05fb-47c0-9dab-9f8ed83c76d3",
   "metadata": {},
   "outputs": [],
   "source": [
    "arg = \"flux\"\n",
    "flux0 = loader.load_arg(FILE_PATH, arg)"
   ]
  },
  {
   "cell_type": "code",
   "execution_count": 12,
   "id": "78c997ca-4b76-4162-bd48-9ac798f5e870",
   "metadata": {},
   "outputs": [],
   "source": [
    "arg = \"wave\"\n",
    "wave = loader.load_arg(FILE_PATH, arg)"
   ]
  },
  {
   "cell_type": "code",
   "execution_count": 14,
   "id": "3a2f2cb8-6d46-4e11-bc33-911fc6c66e13",
   "metadata": {},
   "outputs": [
    {
     "data": {
      "text/plain": [
       "(15404,)"
      ]
     },
     "execution_count": 14,
     "metadata": {},
     "output_type": "execute_result"
    }
   ],
   "source": [
    "wave.shape"
   ]
  },
  {
   "cell_type": "code",
   "execution_count": 11,
   "id": "0ac83e9f-5cd9-4f68-9268-b925e309c42f",
   "metadata": {},
   "outputs": [
    {
     "data": {
      "text/plain": [
       "(2880, 15404)"
      ]
     },
     "execution_count": 11,
     "metadata": {},
     "output_type": "execute_result"
    }
   ],
   "source": [
    "flux0.shape"
   ]
  },
  {
   "cell_type": "code",
   "execution_count": 16,
   "id": "8f1e8beb-9d62-4742-934b-db47a1b3c3f7",
   "metadata": {},
   "outputs": [],
   "source": [
    "class ppp(TrimmableProcessIF,ResTunableProcessIF):\n",
    "    \n",
    "    def set_ \n",
    "    \n",
    "    def process():\n",
    "        pass"
   ]
  },
  {
   "cell_type": "code",
   "execution_count": null,
   "id": "779731e4-599c-40ff-9a53-a40db5268cb4",
   "metadata": {},
   "outputs": [],
   "source": [
    "for ppp."
   ]
  },
  {
   "cell_type": "code",
   "execution_count": null,
   "id": "11e9417b-28dd-44fc-b72f-ddbd51149e3b",
   "metadata": {},
   "outputs": [],
   "source": []
  },
  {
   "cell_type": "code",
   "execution_count": null,
   "id": "a8bcbf15-f3e4-4192-898e-46591d0e9915",
   "metadata": {},
   "outputs": [],
   "source": []
  },
  {
   "cell_type": "code",
   "execution_count": null,
   "id": "0ceef5b8-ce8d-42c0-afaf-10c7f50f1d60",
   "metadata": {},
   "outputs": [],
   "source": []
  },
  {
   "cell_type": "code",
   "execution_count": 105,
   "id": "d4921a9d-5110-4c1f-9736-316fb983b59e",
   "metadata": {},
   "outputs": [],
   "source": [
    "flux=np.log(flux0[0])"
   ]
  },
  {
   "cell_type": "code",
   "execution_count": 106,
   "id": "1e297edc-3d2a-48d6-a0db-ce418644eebb",
   "metadata": {},
   "outputs": [],
   "source": [
    "c = np.cumsum(flux)\n",
    "b = list(range(1, len(flux), step))\n",
    "db = np.diff(c[b])\n",
    "dd2 = (db/step)"
   ]
  },
  {
   "cell_type": "code",
   "execution_count": 107,
   "id": "09f5eac8-9063-423a-a9f4-d0758eb462c1",
   "metadata": {},
   "outputs": [],
   "source": [
    "dd2 = np.exp(dd2)"
   ]
  },
  {
   "cell_type": "code",
   "execution_count": 111,
   "id": "6864d8bb-0d7a-4465-96c9-3cd91cba746a",
   "metadata": {},
   "outputs": [
    {
     "data": {
      "text/plain": [
       "[<matplotlib.lines.Line2D at 0x7effaaf4a670>]"
      ]
     },
     "execution_count": 111,
     "metadata": {},
     "output_type": "execute_result"
    },
    {
     "data": {
      "image/png": "[encoded data removed]",
      "text/plain": [
       "<Figure size 432x288 with 1 Axes>"
      ]
     },
     "metadata": {
      "needs_background": "light"
     },
     "output_type": "display_data"
    }
   ],
   "source": [
    "plt.plot(wave,flux0[0])\n",
    "plt.plot(out,dd)\n",
    "plt.plot(out2,dd)\n",
    "plt.plot(out2,dd2)"
   ]
  }
 ],
 "metadata": {
  "kernelspec": {
   "display_name": "Python 3 [viska-tf28]",
   "language": "python",
   "name": "python3-viska-tf28"
  },
  "language_info": {
   "codemirror_mode": {
    "name": "ipython",
    "version": 3
   },
   "file_extension": ".py",
   "mimetype": "text/x-python",
   "name": "python",
   "nbconvert_exporter": "python",
   "pygments_lexer": "ipython3",
   "version": "3.9.7"
  }
 },
 "nbformat": 4,
 "nbformat_minor": 5
}
