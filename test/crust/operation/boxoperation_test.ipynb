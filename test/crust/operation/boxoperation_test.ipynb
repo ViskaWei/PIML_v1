{
 "cells": [
  {
   "cell_type": "code",
   "execution_count": 1,
   "id": "f76a0993-795d-49b1-83db-fb4acb415cfc",
   "metadata": {},
   "outputs": [],
   "source": [
    "%load_ext autoreload\n",
    "%autoreload 2"
   ]
  },
  {
   "cell_type": "code",
   "execution_count": 2,
   "id": "dc898c8a-a1f9-4aa7-b9c6-163777e246fa",
   "metadata": {},
   "outputs": [],
   "source": [
    "PROJECT_PATH = '/home/swei20/PIML_v1/'\n",
    "import sys\n",
    "sys.path.insert(0, PROJECT_PATH)"
   ]
  },
  {
   "cell_type": "code",
   "execution_count": 3,
   "id": "7477121a-00ab-42ed-9ee2-c89818efaeb0",
   "metadata": {},
   "outputs": [],
   "source": [
    "import os\n",
    "import numpy as np"
   ]
  },
  {
   "cell_type": "code",
   "execution_count": 4,
   "id": "7f5c1aec-5240-41e9-97bf-7377b2f15e7b",
   "metadata": {},
   "outputs": [],
   "source": [
    "from PIML.gateway.loaderIF.baseloaderIF import SpecGridLoaderIF\n"
   ]
  },
  {
   "cell_type": "code",
   "execution_count": 5,
   "id": "23ba41d7-aa7d-4d32-93fe-190218df3fa4",
   "metadata": {},
   "outputs": [],
   "source": [
    "GRID_PATH=\"/datascope/subaru/user/swei20/data/pfsspec/import/stellar/grid\"\n",
    "FILE_PATH=os.path.join(GRID_PATH, \"bosz_5000_RHB.h5\")"
   ]
  },
  {
   "cell_type": "code",
   "execution_count": 6,
   "id": "a9c78247-de1f-4275-9cea-a0f25deda051",
   "metadata": {},
   "outputs": [],
   "source": [
    "PARAMS = {\n",
    "    \"data\": {\"DATA_PATH\": FILE_PATH},\n",
    "    \"op\"  : { \n",
    "        \"arm\" : \"RedM\",\n",
    "        \"step\": 10\n",
    "    }\n",
    "}"
   ]
  },
  {
   "cell_type": "code",
   "execution_count": 7,
   "id": "98bd62af-478c-4e4e-9148-9a4661df3c6a",
   "metadata": {},
   "outputs": [],
   "source": [
    "MODEL_TYPES = {\"Resolution\": \"Alex\"}"
   ]
  },
  {
   "cell_type": "code",
   "execution_count": 8,
   "id": "df20f3ac-0de7-4611-8f56-7e8ab4e6cf35",
   "metadata": {},
   "outputs": [],
   "source": [
    "SGL = SpecGridLoaderIF()\n",
    "SGL.set_data_path(FILE_PATH)\n",
    "SpecGrid = SGL.load()"
   ]
  },
  {
   "cell_type": "code",
   "execution_count": 9,
   "id": "894ca212-b2b5-4dd6-b34d-aca83c43f794",
   "metadata": {},
   "outputs": [],
   "source": [
    "from PIML.crust.operation.boxoperation import StellarBoxOperation"
   ]
  },
  {
   "cell_type": "code",
   "execution_count": 10,
   "id": "c699ec72-b4d6-40aa-aed7-666af06cec91",
   "metadata": {},
   "outputs": [],
   "source": [
    "OP = StellarBoxOperation(\"R\")"
   ]
  },
  {
   "cell_type": "code",
   "execution_count": 13,
   "id": "6f30d615-5906-4459-895a-a1ce97cad46e",
   "metadata": {},
   "outputs": [],
   "source": [
    "OP.perform_on_Box(SpecGrid)"
   ]
  },
  {
   "cell_type": "code",
   "execution_count": 14,
   "id": "26b82f67-0c6c-4b8a-af43-9c96198e5edc",
   "metadata": {},
   "outputs": [
    {
     "data": {
      "text/plain": [
       "{'name': 'R',\n",
       " 'min': array([-1.0e+00,  5.5e+03,  2.0e+00, -7.5e-01, -2.5e-01]),\n",
       " 'max': array([0.00e+00, 6.75e+03, 3.50e+00, 5.00e-01, 5.00e-01]),\n",
       " 'rng': array([1.00e+00, 1.25e+03, 1.50e+00, 1.25e+00, 7.50e-01]),\n",
       " 'num': array([4., 5., 3., 5., 3.]),\n",
       " 'mid': array([-5.0e-01,  6.0e+03,  2.5e+00, -2.5e-01,  0.0e+00])}"
      ]
     },
     "execution_count": 14,
     "metadata": {},
     "output_type": "execute_result"
    }
   ],
   "source": [
    "OP.box"
   ]
  },
  {
   "cell_type": "code",
   "execution_count": 18,
   "id": "c6cb5d6b-567c-4d3c-a4c9-547555b967e6",
   "metadata": {},
   "outputs": [
    {
     "data": {
      "text/plain": [
       "array([-1.0e+00,  5.5e+03,  2.0e+00, -7.5e-01, -2.5e-01])"
      ]
     },
     "execution_count": 18,
     "metadata": {},
     "output_type": "execute_result"
    }
   ],
   "source": [
    "SpecGrid.coord.min(axis=0)"
   ]
  },
  {
   "cell_type": "code",
   "execution_count": 23,
   "id": "5b9e7251-b2b3-4269-863e-c55dda4e5ae8",
   "metadata": {},
   "outputs": [
    {
     "ename": "ValueError",
     "evalue": "The truth value of an array with more than one element is ambiguous. Use a.any() or a.all()",
     "output_type": "error",
     "traceback": [
      "\u001b[0;31m---------------------------------------------------------------------------\u001b[0m",
      "\u001b[0;31mValueError\u001b[0m                                Traceback (most recent call last)",
      "\u001b[0;32m/tmp/ipykernel_1247620/293048523.py\u001b[0m in \u001b[0;36m<module>\u001b[0;34m\u001b[0m\n\u001b[0;32m----> 1\u001b[0;31m \u001b[0;32massert\u001b[0m\u001b[0;34m(\u001b[0m\u001b[0mSpecGrid\u001b[0m\u001b[0;34m.\u001b[0m\u001b[0mdfcoord\u001b[0m\u001b[0;34m.\u001b[0m\u001b[0mmin\u001b[0m\u001b[0;34m(\u001b[0m\u001b[0;34m)\u001b[0m\u001b[0;34m.\u001b[0m\u001b[0mvalues\u001b[0m \u001b[0;34m<=\u001b[0m\u001b[0mOP\u001b[0m\u001b[0;34m.\u001b[0m\u001b[0mPhyMin\u001b[0m\u001b[0;34m)\u001b[0m\u001b[0;34m\u001b[0m\u001b[0;34m\u001b[0m\u001b[0m\n\u001b[0m",
      "\u001b[0;31mValueError\u001b[0m: The truth value of an array with more than one element is ambiguous. Use a.any() or a.all()"
     ]
    }
   ],
   "source": [
    "assert(SpecGrid.dfcoord.min().values <=OP.PhyMin)"
   ]
  },
  {
   "cell_type": "code",
   "execution_count": null,
   "id": "86d11415-f2a0-4318-9789-696bcf111399",
   "metadata": {},
   "outputs": [],
   "source": [
    "SpecG"
   ]
  },
  {
   "cell_type": "code",
   "execution_count": 20,
   "id": "f700679d-1946-430e-8923-d42b0f6e60ab",
   "metadata": {},
   "outputs": [],
   "source": [
    "idx = SpecGrid.coord_idx"
   ]
  },
  {
   "cell_type": "code",
   "execution_count": null,
   "id": "3037b3ed-ab08-4fcb-b164-39e0f0b69e8b",
   "metadata": {},
   "outputs": [],
   "source": [
    "idx"
   ]
  },
  {
   "cell_type": "code",
   "execution_count": 21,
   "id": "525f0fe8-6e3c-4c2f-b2af-c967faea0138",
   "metadata": {},
   "outputs": [
    {
     "data": {
      "text/plain": [
       "False"
      ]
     },
     "execution_count": 21,
     "metadata": {},
     "output_type": "execute_result"
    }
   ],
   "source": [
    "\n",
    "(idx[0] == 0).all()"
   ]
  },
  {
   "cell_type": "code",
   "execution_count": 22,
   "id": "db4b6a71-29a2-45b4-aac0-2c4283f590ab",
   "metadata": {},
   "outputs": [
    {
     "data": {
      "text/plain": [
       "<PIML.crust.data.specgrid.basespecgrid.StellarSpecGrid at 0x7f354ad198e0>"
      ]
     },
     "execution_count": 22,
     "metadata": {},
     "output_type": "execute_result"
    }
   ],
   "source": [
    "SpecGrid"
   ]
  },
  {
   "cell_type": "code",
   "execution_count": 23,
   "id": "6ad48daf-96d5-40d0-8d15-8e430680805a",
   "metadata": {},
   "outputs": [
    {
     "ename": "TypeError",
     "evalue": "isinstance() arg 2 must be a type or tuple of types",
     "output_type": "error",
     "traceback": [
      "\u001b[0;31m---------------------------------------------------------------------------\u001b[0m",
      "\u001b[0;31mTypeError\u001b[0m                                 Traceback (most recent call last)",
      "\u001b[0;32m/tmp/ipykernel_1252380/509445477.py\u001b[0m in \u001b[0;36m<module>\u001b[0;34m\u001b[0m\n\u001b[0;32m----> 1\u001b[0;31m \u001b[0misinstance\u001b[0m\u001b[0;34m(\u001b[0m\u001b[0;34m\"box\"\u001b[0m\u001b[0;34m,\u001b[0m \u001b[0mSpecGrid\u001b[0m\u001b[0;34m)\u001b[0m\u001b[0;34m\u001b[0m\u001b[0;34m\u001b[0m\u001b[0m\n\u001b[0m",
      "\u001b[0;31mTypeError\u001b[0m: isinstance() arg 2 must be a type or tuple of types"
     ]
    }
   ],
   "source": [
    "isinstance(\"box\", SpecGrid)"
   ]
  },
  {
   "cell_type": "code",
   "execution_count": 76,
   "id": "fb5a118d-7a22-4d95-8f36-cd8a57a26d3b",
   "metadata": {},
   "outputs": [],
   "source": [
    "xgrid = np.mgrid[0:5,0:5]"
   ]
  },
  {
   "cell_type": "code",
   "execution_count": 77,
   "id": "6071f5bf-1d74-4ea3-9ab5-699525d735fa",
   "metadata": {},
   "outputs": [
    {
     "data": {
      "text/plain": [
       "(2, 5, 5)"
      ]
     },
     "execution_count": 77,
     "metadata": {},
     "output_type": "execute_result"
    }
   ],
   "source": [
    "xgrid.shape"
   ]
  },
  {
   "cell_type": "code",
   "execution_count": 36,
   "id": "c0a98ea7-96b8-478c-9e2c-3a1e9ac0d575",
   "metadata": {},
   "outputs": [
    {
     "data": {
      "text/plain": [
       "array([0, 1, 2, 3, 4])"
      ]
     },
     "execution_count": 36,
     "metadata": {},
     "output_type": "execute_result"
    }
   ],
   "source": [
    "xgrid"
   ]
  },
  {
   "cell_type": "code",
   "execution_count": 30,
   "id": "88934a5b-64c2-4bf7-a23b-1e2a37b2e076",
   "metadata": {},
   "outputs": [],
   "source": [
    "\n",
    "x = xgrid[0]\n",
    "y = xgrid[1]"
   ]
  },
  {
   "cell_type": "code",
   "execution_count": 33,
   "id": "06e12c26-26b8-44fd-ab86-a7408b93d0d7",
   "metadata": {},
   "outputs": [
    {
     "data": {
      "text/plain": [
       "[array([10])]"
      ]
     },
     "execution_count": 33,
     "metadata": {},
     "output_type": "execute_result"
    }
   ],
   "source": [
    "np.meshgrid(10)"
   ]
  },
  {
   "cell_type": "code",
   "execution_count": 37,
   "id": "7a43a871-53e1-4435-8c1f-ba61a379756d",
   "metadata": {},
   "outputs": [
    {
     "data": {
      "text/plain": [
       "array([0, 0, 0, 0, 0, 1, 1, 1, 1, 1, 2, 2, 2, 2, 2, 3, 3, 3, 3, 3, 4, 4,\n",
       "       4, 4, 4])"
      ]
     },
     "execution_count": 37,
     "metadata": {},
     "output_type": "execute_result"
    }
   ],
   "source": [
    "x.flatten()"
   ]
  },
  {
   "cell_type": "code",
   "execution_count": 38,
   "id": "27542bc1-4579-48ad-b0bb-24b6635cbcc7",
   "metadata": {},
   "outputs": [
    {
     "data": {
      "text/plain": [
       "array([0, 1, 2, 3, 4, 0, 1, 2, 3, 4, 0, 1, 2, 3, 4, 0, 1, 2, 3, 4, 0, 1,\n",
       "       2, 3, 4])"
      ]
     },
     "execution_count": 38,
     "metadata": {},
     "output_type": "execute_result"
    }
   ],
   "source": [
    "y.flatten()"
   ]
  },
  {
   "cell_type": "code",
   "execution_count": 64,
   "id": "6ecd427a-9fed-454a-8f03-015ba270ca8c",
   "metadata": {},
   "outputs": [],
   "source": [
    "xflat = xgrid.reshape(2, -1).T"
   ]
  },
  {
   "cell_type": "code",
   "execution_count": 104,
   "id": "bcd6ad0b-3e9a-4e1d-bf9d-337d463832e2",
   "metadata": {},
   "outputs": [],
   "source": [
    "yflats=np.tile(yflat, (2,1)).T"
   ]
  },
  {
   "cell_type": "code",
   "execution_count": 99,
   "id": "32413065-f71c-4786-8ad9-140a63755333",
   "metadata": {},
   "outputs": [
    {
     "data": {
      "text/plain": [
       "array([[[0, 0, 0, 0, 0],\n",
       "        [1, 1, 1, 1, 1],\n",
       "        [2, 2, 2, 2, 2],\n",
       "        [3, 3, 3, 3, 3],\n",
       "        [4, 4, 4, 4, 4]],\n",
       "\n",
       "       [[0, 1, 2, 3, 4],\n",
       "        [0, 1, 2, 3, 4],\n",
       "        [0, 1, 2, 3, 4],\n",
       "        [0, 1, 2, 3, 4],\n",
       "        [0, 1, 2, 3, 4]]])"
      ]
     },
     "execution_count": 99,
     "metadata": {},
     "output_type": "execute_result"
    }
   ],
   "source": [
    "xgrid"
   ]
  },
  {
   "cell_type": "code",
   "execution_count": 65,
   "id": "f671b54d-b182-47e8-a4ec-1160be35bd12",
   "metadata": {},
   "outputs": [],
   "source": [
    "yflat = xgrid[0].flatten()"
   ]
  },
  {
   "cell_type": "code",
   "execution_count": 98,
   "id": "35b54807-b80a-47f8-9961-04cb6f0f990c",
   "metadata": {},
   "outputs": [
    {
     "data": {
      "text/plain": [
       "array([0, 0, 0, 0, 0, 1, 1, 1, 1, 1, 2, 2, 2, 2, 2, 3, 3, 3, 3, 3, 4, 4,\n",
       "       4, 4, 4])"
      ]
     },
     "execution_count": 98,
     "metadata": {},
     "output_type": "execute_result"
    }
   ],
   "source": [
    "yflat"
   ]
  },
  {
   "cell_type": "code",
   "execution_count": 66,
   "id": "e1873559-672f-4f0d-a6d3-44770373c0e6",
   "metadata": {},
   "outputs": [
    {
     "data": {
      "text/plain": [
       "array([[0, 0],\n",
       "       [0, 1],\n",
       "       [0, 2],\n",
       "       [0, 3],\n",
       "       [0, 4],\n",
       "       [1, 0],\n",
       "       [1, 1],\n",
       "       [1, 2],\n",
       "       [1, 3],\n",
       "       [1, 4],\n",
       "       [2, 0],\n",
       "       [2, 1],\n",
       "       [2, 2],\n",
       "       [2, 3],\n",
       "       [2, 4],\n",
       "       [3, 0],\n",
       "       [3, 1],\n",
       "       [3, 2],\n",
       "       [3, 3],\n",
       "       [3, 4],\n",
       "       [4, 0],\n",
       "       [4, 1],\n",
       "       [4, 2],\n",
       "       [4, 3],\n",
       "       [4, 4]])"
      ]
     },
     "execution_count": 66,
     "metadata": {},
     "output_type": "execute_result"
    }
   ],
   "source": [
    "xflat"
   ]
  },
  {
   "cell_type": "code",
   "execution_count": 67,
   "id": "81e06c5d-f024-406c-93a1-dd84de8fad54",
   "metadata": {},
   "outputs": [],
   "source": [
    "from scipy.interpolate import RBFInterpolator"
   ]
  },
  {
   "cell_type": "code",
   "execution_count": 68,
   "id": "e77b14cb-7d17-4565-933f-4b178442d8de",
   "metadata": {},
   "outputs": [],
   "source": [
    "interpolator = RBFInterpolator(xflat, yflat, kernel=\"gaussian\", epsilon=0.5)\n"
   ]
  },
  {
   "cell_type": "code",
   "execution_count": 78,
   "id": "3bdf600f-182a-403d-990d-a3437d63a0ab",
   "metadata": {},
   "outputs": [],
   "source": [
    "test = np.array([[2,2]])"
   ]
  },
  {
   "cell_type": "code",
   "execution_count": 88,
   "id": "900a1138-8eb5-4c3f-a3f5-e888ce47266f",
   "metadata": {},
   "outputs": [],
   "source": [
    "test = np.array([[1.5,1.5],[2,2]])"
   ]
  },
  {
   "cell_type": "code",
   "execution_count": 109,
   "id": "b11784f6-fd99-406a-9878-14c30b49269f",
   "metadata": {},
   "outputs": [],
   "source": [
    "a = interpolator(test)"
   ]
  },
  {
   "cell_type": "code",
   "execution_count": 110,
   "id": "e2d5fa75-a321-46ac-ae2e-846e76dc759f",
   "metadata": {},
   "outputs": [
    {
     "data": {
      "text/plain": [
       "array([1.53468762, 2.        ])"
      ]
     },
     "execution_count": 110,
     "metadata": {},
     "output_type": "execute_result"
    }
   ],
   "source": [
    "a"
   ]
  },
  {
   "cell_type": "code",
   "execution_count": 112,
   "id": "3680d313-c1ef-45fd-b26a-e75761c33d69",
   "metadata": {},
   "outputs": [],
   "source": [
    "interpolator2d = RBFInterpolator(xflat, yflats, kernel=\"gaussian\", epsilon=0.5)\n",
    "aa = interpolator2d(test)"
   ]
  },
  {
   "cell_type": "code",
   "execution_count": 113,
   "id": "877244a2-fba4-4c41-bd7e-4d4d9deed51a",
   "metadata": {},
   "outputs": [
    {
     "data": {
      "text/plain": [
       "array([[1.5, 1.5],\n",
       "       [2. , 2. ]])"
      ]
     },
     "execution_count": 113,
     "metadata": {},
     "output_type": "execute_result"
    }
   ],
   "source": [
    "aa.round(1)"
   ]
  },
  {
   "cell_type": "code",
   "execution_count": 95,
   "id": "e93b1657-794b-407b-83df-fc6893e47cf5",
   "metadata": {},
   "outputs": [],
   "source": [
    "SpecGrid.a = 1"
   ]
  },
  {
   "cell_type": "code",
   "execution_count": 97,
   "id": "f86a011b-9931-4d39-a25d-328175d25945",
   "metadata": {},
   "outputs": [
    {
     "data": {
      "text/plain": [
       "False"
      ]
     },
     "execution_count": 97,
     "metadata": {},
     "output_type": "execute_result"
    }
   ],
   "source": [
    "hasattr(SpecGrid, 'b')"
   ]
  },
  {
   "cell_type": "code",
   "execution_count": null,
   "id": "faca3001-be84-4278-95f9-537379cd4902",
   "metadata": {},
   "outputs": [],
   "source": []
  }
 ],
 "metadata": {
  "kernelspec": {
   "display_name": "Python 3 [viska-tf28]",
   "language": "python",
   "name": "python3-viska-tf28"
  },
  "language_info": {
   "codemirror_mode": {
    "name": "ipython",
    "version": 3
   },
   "file_extension": ".py",
   "mimetype": "text/x-python",
   "name": "python",
   "nbconvert_exporter": "python",
   "pygments_lexer": "ipython3",
   "version": "3.9.7"
  }
 },
 "nbformat": 4,
 "nbformat_minor": 5
}
