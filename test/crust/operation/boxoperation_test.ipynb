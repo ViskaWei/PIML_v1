{
 "cells": [
  {
   "cell_type": "code",
   "execution_count": 1,
   "id": "f76a0993-795d-49b1-83db-fb4acb415cfc",
   "metadata": {},
   "outputs": [],
   "source": [
    "%load_ext autoreload\n",
    "%autoreload 2"
   ]
  },
  {
   "cell_type": "code",
   "execution_count": 2,
   "id": "dc898c8a-a1f9-4aa7-b9c6-163777e246fa",
   "metadata": {},
   "outputs": [],
   "source": [
    "PROJECT_PATH = '/home/swei20/PIML_v1/'\n",
    "import sys\n",
    "sys.path.insert(0, PROJECT_PATH)"
   ]
  },
  {
   "cell_type": "code",
   "execution_count": 3,
   "id": "7477121a-00ab-42ed-9ee2-c89818efaeb0",
   "metadata": {},
   "outputs": [],
   "source": [
    "import os\n",
    "import numpy as np"
   ]
  },
  {
   "cell_type": "code",
   "execution_count": 4,
   "id": "7f5c1aec-5240-41e9-97bf-7377b2f15e7b",
   "metadata": {},
   "outputs": [],
   "source": [
    "from PIML.gateway.loaderIF.baseloaderIF import SpecGridLoaderIF\n"
   ]
  },
  {
   "cell_type": "code",
   "execution_count": 5,
   "id": "23ba41d7-aa7d-4d32-93fe-190218df3fa4",
   "metadata": {},
   "outputs": [],
   "source": [
    "GRID_PATH=\"/datascope/subaru/user/swei20/data/pfsspec/import/stellar/grid\"\n",
    "FILE_PATH=os.path.join(GRID_PATH, \"bosz_5000_RHB.h5\")"
   ]
  },
  {
   "cell_type": "code",
   "execution_count": 6,
   "id": "a9c78247-de1f-4275-9cea-a0f25deda051",
   "metadata": {},
   "outputs": [],
   "source": [
    "PARAMS = {\n",
    "    \"data\": {\"DATA_PATH\": FILE_PATH},\n",
    "    \"op\"  : { \n",
    "        \"arm\" : \"RedM\",\n",
    "        \"step\": 10\n",
    "    }\n",
    "}"
   ]
  },
  {
   "cell_type": "code",
   "execution_count": 7,
   "id": "98bd62af-478c-4e4e-9148-9a4661df3c6a",
   "metadata": {},
   "outputs": [],
   "source": [
    "MODEL_TYPES = {\"Resolution\": \"Alex\"}"
   ]
  },
  {
   "cell_type": "code",
   "execution_count": 8,
   "id": "df20f3ac-0de7-4611-8f56-7e8ab4e6cf35",
   "metadata": {},
   "outputs": [],
   "source": [
    "SGL = SpecGridLoaderIF()\n",
    "SGL.set_data_path(FILE_PATH)\n",
    "SpecGrid = SGL.load()"
   ]
  },
  {
   "cell_type": "code",
   "execution_count": 9,
   "id": "894ca212-b2b5-4dd6-b34d-aca83c43f794",
   "metadata": {},
   "outputs": [],
   "source": [
    "from PIML.crust.operation.boxoperation import StellarBoxOperation"
   ]
  },
  {
   "cell_type": "code",
   "execution_count": 10,
   "id": "c699ec72-b4d6-40aa-aed7-666af06cec91",
   "metadata": {},
   "outputs": [],
   "source": [
    "OP = StellarBoxOperation(\"R\")"
   ]
  },
  {
   "cell_type": "code",
   "execution_count": 13,
   "id": "6f30d615-5906-4459-895a-a1ce97cad46e",
   "metadata": {},
   "outputs": [],
   "source": [
    "OP.perform_on_Box(SpecGrid)"
   ]
  },
  {
   "cell_type": "code",
   "execution_count": 14,
   "id": "26b82f67-0c6c-4b8a-af43-9c96198e5edc",
   "metadata": {},
   "outputs": [
    {
     "data": {
      "text/plain": [
       "{'name': 'R',\n",
       " 'min': array([-1.0e+00,  5.5e+03,  2.0e+00, -7.5e-01, -2.5e-01]),\n",
       " 'max': array([0.00e+00, 6.75e+03, 3.50e+00, 5.00e-01, 5.00e-01]),\n",
       " 'rng': array([1.00e+00, 1.25e+03, 1.50e+00, 1.25e+00, 7.50e-01]),\n",
       " 'num': array([4., 5., 3., 5., 3.]),\n",
       " 'mid': array([-5.0e-01,  6.0e+03,  2.5e+00, -2.5e-01,  0.0e+00])}"
      ]
     },
     "execution_count": 14,
     "metadata": {},
     "output_type": "execute_result"
    }
   ],
   "source": [
    "OP.box"
   ]
  },
  {
   "cell_type": "code",
   "execution_count": 18,
   "id": "c6cb5d6b-567c-4d3c-a4c9-547555b967e6",
   "metadata": {},
   "outputs": [
    {
     "data": {
      "text/plain": [
       "array([-1.0e+00,  5.5e+03,  2.0e+00, -7.5e-01, -2.5e-01])"
      ]
     },
     "execution_count": 18,
     "metadata": {},
     "output_type": "execute_result"
    }
   ],
   "source": [
    "SpecGrid.coord.min(axis=0)"
   ]
  },
  {
   "cell_type": "code",
   "execution_count": 23,
   "id": "5b9e7251-b2b3-4269-863e-c55dda4e5ae8",
   "metadata": {},
   "outputs": [
    {
     "ename": "ValueError",
     "evalue": "The truth value of an array with more than one element is ambiguous. Use a.any() or a.all()",
     "output_type": "error",
     "traceback": [
      "\u001b[0;31m---------------------------------------------------------------------------\u001b[0m",
      "\u001b[0;31mValueError\u001b[0m                                Traceback (most recent call last)",
      "\u001b[0;32m/tmp/ipykernel_1247620/293048523.py\u001b[0m in \u001b[0;36m<module>\u001b[0;34m\u001b[0m\n\u001b[0;32m----> 1\u001b[0;31m \u001b[0;32massert\u001b[0m\u001b[0;34m(\u001b[0m\u001b[0mSpecGrid\u001b[0m\u001b[0;34m.\u001b[0m\u001b[0mdfcoord\u001b[0m\u001b[0;34m.\u001b[0m\u001b[0mmin\u001b[0m\u001b[0;34m(\u001b[0m\u001b[0;34m)\u001b[0m\u001b[0;34m.\u001b[0m\u001b[0mvalues\u001b[0m \u001b[0;34m<=\u001b[0m\u001b[0mOP\u001b[0m\u001b[0;34m.\u001b[0m\u001b[0mPhyMin\u001b[0m\u001b[0;34m)\u001b[0m\u001b[0;34m\u001b[0m\u001b[0;34m\u001b[0m\u001b[0m\n\u001b[0m",
      "\u001b[0;31mValueError\u001b[0m: The truth value of an array with more than one element is ambiguous. Use a.any() or a.all()"
     ]
    }
   ],
   "source": [
    "assert(SpecGrid.dfcoord.min().values <=OP.PhyMin)"
   ]
  },
  {
   "cell_type": "code",
   "execution_count": null,
   "id": "86d11415-f2a0-4318-9789-696bcf111399",
   "metadata": {},
   "outputs": [],
   "source": [
    "SpecG"
   ]
  },
  {
   "cell_type": "code",
   "execution_count": 20,
   "id": "f700679d-1946-430e-8923-d42b0f6e60ab",
   "metadata": {},
   "outputs": [],
   "source": [
    "idx = SpecGrid.coord_idx"
   ]
  },
  {
   "cell_type": "code",
   "execution_count": null,
   "id": "3037b3ed-ab08-4fcb-b164-39e0f0b69e8b",
   "metadata": {},
   "outputs": [],
   "source": [
    "idx"
   ]
  },
  {
   "cell_type": "code",
   "execution_count": 21,
   "id": "525f0fe8-6e3c-4c2f-b2af-c967faea0138",
   "metadata": {},
   "outputs": [
    {
     "data": {
      "text/plain": [
       "False"
      ]
     },
     "execution_count": 21,
     "metadata": {},
     "output_type": "execute_result"
    }
   ],
   "source": [
    "\n",
    "(idx[0] == 0).all()"
   ]
  },
  {
   "cell_type": "code",
   "execution_count": null,
   "id": "db4b6a71-29a2-45b4-aac0-2c4283f590ab",
   "metadata": {},
   "outputs": [],
   "source": []
  }
 ],
 "metadata": {
  "kernelspec": {
   "display_name": "Python 3 [viska-tf28]",
   "language": "python",
   "name": "python3-viska-tf28"
  },
  "language_info": {
   "codemirror_mode": {
    "name": "ipython",
    "version": 3
   },
   "file_extension": ".py",
   "mimetype": "text/x-python",
   "name": "python",
   "nbconvert_exporter": "python",
   "pygments_lexer": "ipython3",
   "version": "3.9.7"
  }
 },
 "nbformat": 4,
 "nbformat_minor": 5
}
