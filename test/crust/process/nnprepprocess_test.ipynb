{
 "cells": [
  {
   "cell_type": "code",
   "execution_count": 2,
   "id": "1aef8800-6b2d-4455-a717-ab7a656ef322",
   "metadata": {},
   "outputs": [
    {
     "name": "stdout",
     "output_type": "stream",
     "text": [
      "The autoreload extension is already loaded. To reload it, use:\n",
      "  %reload_ext autoreload\n"
     ]
    }
   ],
   "source": [
    "%load_ext autoreload\n",
    "%autoreload 2"
   ]
  },
  {
   "cell_type": "code",
   "execution_count": 3,
   "id": "ff682210-c07d-4c46-93ef-d083ad636a24",
   "metadata": {},
   "outputs": [],
   "source": [
    "PROJECT_PATH = '/home/swei20/PIML_v1/'\n",
    "import sys\n",
    "sys.path.insert(0, PROJECT_PATH)"
   ]
  },
  {
   "cell_type": "code",
   "execution_count": 4,
   "id": "045c13ac-0411-4731-8166-fea211ab9b00",
   "metadata": {},
   "outputs": [],
   "source": [
    "import os\n",
    "import numpy as np\n",
    "import matplotlib.pyplot as plt\n"
   ]
  },
  {
   "cell_type": "code",
   "execution_count": 4,
   "id": "43b490fe-c46f-4b40-aa79-2ab9ba306d5b",
   "metadata": {},
   "outputs": [
    {
     "ename": "ModuleNotFoundError",
     "evalue": "No module named 'PIML.gateway.loaderIF.nnpreploaderIF'",
     "output_type": "error",
     "traceback": [
      "\u001b[0;31m---------------------------------------------------------------------------\u001b[0m",
      "\u001b[0;31mModuleNotFoundError\u001b[0m                       Traceback (most recent call last)",
      "\u001b[0;32m/tmp/ipykernel_946365/122526691.py\u001b[0m in \u001b[0;36m<module>\u001b[0;34m\u001b[0m\n\u001b[0;32m----> 1\u001b[0;31m \u001b[0;32mfrom\u001b[0m \u001b[0mPIML\u001b[0m\u001b[0;34m.\u001b[0m\u001b[0mgateway\u001b[0m\u001b[0;34m.\u001b[0m\u001b[0mloaderIF\u001b[0m\u001b[0;34m.\u001b[0m\u001b[0mnnpreploaderIF\u001b[0m \u001b[0;32mimport\u001b[0m \u001b[0mStellarNNPrepLoaderIF\u001b[0m\u001b[0;34m\u001b[0m\u001b[0;34m\u001b[0m\u001b[0m\n\u001b[0m",
      "\u001b[0;31mModuleNotFoundError\u001b[0m: No module named 'PIML.gateway.loaderIF.nnpreploaderIF'"
     ]
    }
   ],
   "source": [
    "from PIML.gateway.loaderIF.nnpreploaderIF import StellarNNPrepLoaderIF"
   ]
  },
  {
   "cell_type": "code",
   "execution_count": null,
   "id": "33a6b112-dadd-4a16-881b-524ccbea61b2",
   "metadata": {},
   "outputs": [],
   "source": [
    "loader = StellarNNPrepLoaderIF()"
   ]
  },
  {
   "cell_type": "code",
   "execution_count": null,
   "id": "0d1e2f16-e310-4701-9506-25b0d7aaf49e",
   "metadata": {},
   "outputs": [],
   "source": [
    "DATA_DIR = \"/home/swei20/PIML_v1/test/testdata/testnnprepdata\""
   ]
  },
  {
   "cell_type": "code",
   "execution_count": 7,
   "id": "dc08c433-2b8d-4a15-9fab-30943c82f4c4",
   "metadata": {},
   "outputs": [],
   "source": [
    "loader.set_path(DATA_DIR)"
   ]
  },
  {
   "cell_type": "code",
   "execution_count": 8,
   "id": "b66e7bff-32d4-4cc4-83ce-21fe87f34506",
   "metadata": {},
   "outputs": [],
   "source": [
    "NNP = loader.load()"
   ]
  },
  {
   "cell_type": "code",
   "execution_count": 44,
   "id": "e76e1597-75ee-43a0-81be-4107167e3475",
   "metadata": {},
   "outputs": [],
   "source": [
    "PARAMS = {\n",
    "    \"object\": {\"path\":\"/home/swei20/PIML_v1/test/testdata/testprepnndata\", \"arm\": \"RedM\", \"res\": 1000},\n",
    "    \"data\": {\"rng\" : np.array([4., 5., 3., 5., 3.])},\n",
    "    \"op\": {\"step\": 10, \"ntrain\": 5, \"ntest\": 5, \"seed\":922},\n",
    "    \"model\": {},\n",
    "    \"out\": {\"path\": \"/datascope/subaru/user/swei20/data/pfsspec/prepnn/\"},\n",
    "}"
   ]
  },
  {
   "cell_type": "code",
   "execution_count": 5,
   "id": "d6f6d9c5-1aa2-49bb-9c8d-40b62ba71eb6",
   "metadata": {},
   "outputs": [],
   "source": [
    "from PIML.gateway.processIF.nnprocessIF.prepnnprocessIF import StellarPrepNNProcessIF"
   ]
  },
  {
   "cell_type": "code",
   "execution_count": 6,
   "id": "46c98097-d538-4768-ac28-bfa631f92159",
   "metadata": {},
   "outputs": [],
   "source": [
    "PP = StellarPrepNNProcessIF()"
   ]
  },
  {
   "cell_type": "code",
   "execution_count": 7,
   "id": "ac548a9b-0563-4757-9580-0b7cdd34a041",
   "metadata": {},
   "outputs": [
    {
     "ename": "NameError",
     "evalue": "name 'PARAMS' is not defined",
     "output_type": "error",
     "traceback": [
      "\u001b[0;31m---------------------------------------------------------------------------\u001b[0m",
      "\u001b[0;31mNameError\u001b[0m                                 Traceback (most recent call last)",
      "\u001b[0;32m/tmp/ipykernel_991753/1403281784.py\u001b[0m in \u001b[0;36m<module>\u001b[0;34m\u001b[0m\n\u001b[0;32m----> 1\u001b[0;31m \u001b[0mPP\u001b[0m\u001b[0;34m.\u001b[0m\u001b[0minteract\u001b[0m\u001b[0;34m(\u001b[0m\u001b[0mPARAMS\u001b[0m\u001b[0;34m)\u001b[0m\u001b[0;34m\u001b[0m\u001b[0;34m\u001b[0m\u001b[0m\n\u001b[0m",
      "\u001b[0;31mNameError\u001b[0m: name 'PARAMS' is not defined"
     ]
    }
   ],
   "source": [
    "PP.interact(PARAMS)"
   ]
  },
  {
   "cell_type": "code",
   "execution_count": 48,
   "id": "f6eb1148-a008-4023-abe4-98892f9360e9",
   "metadata": {},
   "outputs": [
    {
     "ename": "AttributeError",
     "evalue": "'PrepNN' object has no attribute 'train_name'",
     "output_type": "error",
     "traceback": [
      "\u001b[0;31m---------------------------------------------------------------------------\u001b[0m",
      "\u001b[0;31mAttributeError\u001b[0m                            Traceback (most recent call last)",
      "\u001b[0;32m/tmp/ipykernel_985326/2491216842.py\u001b[0m in \u001b[0;36m<module>\u001b[0;34m\u001b[0m\n\u001b[0;32m----> 1\u001b[0;31m \u001b[0mPP\u001b[0m\u001b[0;34m.\u001b[0m\u001b[0mfinish\u001b[0m\u001b[0;34m(\u001b[0m\u001b[0;34m)\u001b[0m\u001b[0;34m\u001b[0m\u001b[0;34m\u001b[0m\u001b[0m\n\u001b[0m",
      "\u001b[0;32m~/PIML_v1/PIML/gateway/processIF/nnprocessIF/prepnnprocessIF.py\u001b[0m in \u001b[0;36mfinish\u001b[0;34m(self, ext)\u001b[0m\n\u001b[1;32m     39\u001b[0m \u001b[0;34m\u001b[0m\u001b[0m\n\u001b[1;32m     40\u001b[0m     \u001b[0;32mdef\u001b[0m \u001b[0mfinish\u001b[0m\u001b[0;34m(\u001b[0m\u001b[0mself\u001b[0m\u001b[0;34m,\u001b[0m \u001b[0mext\u001b[0m\u001b[0;34m=\u001b[0m\u001b[0;34m\".h5\"\u001b[0m\u001b[0;34m)\u001b[0m\u001b[0;34m:\u001b[0m\u001b[0;34m\u001b[0m\u001b[0;34m\u001b[0m\u001b[0m\n\u001b[0;32m---> 41\u001b[0;31m         \u001b[0mself\u001b[0m\u001b[0;34m.\u001b[0m\u001b[0mstorer\u001b[0m\u001b[0;34m.\u001b[0m\u001b[0mset_dir\u001b[0m\u001b[0;34m(\u001b[0m\u001b[0mself\u001b[0m\u001b[0;34m.\u001b[0m\u001b[0mOP_OUT\u001b[0m\u001b[0;34m[\u001b[0m\u001b[0;34m\"path\"\u001b[0m\u001b[0;34m]\u001b[0m\u001b[0;34m,\u001b[0m \u001b[0mself\u001b[0m\u001b[0;34m.\u001b[0m\u001b[0mObject\u001b[0m\u001b[0;34m.\u001b[0m\u001b[0mtrain_name\u001b[0m\u001b[0;34m,\u001b[0m \u001b[0mext\u001b[0m\u001b[0;34m)\u001b[0m\u001b[0;34m\u001b[0m\u001b[0;34m\u001b[0m\u001b[0m\n\u001b[0m\u001b[1;32m     42\u001b[0m         \u001b[0mself\u001b[0m\u001b[0;34m.\u001b[0m\u001b[0mstorer\u001b[0m\u001b[0;34m.\u001b[0m\u001b[0mstore_DArgs\u001b[0m\u001b[0;34m(\u001b[0m\u001b[0mself\u001b[0m\u001b[0;34m.\u001b[0m\u001b[0mObject\u001b[0m\u001b[0;34m.\u001b[0m\u001b[0mtrain\u001b[0m\u001b[0;34m)\u001b[0m\u001b[0;34m\u001b[0m\u001b[0;34m\u001b[0m\u001b[0m\n\u001b[1;32m     43\u001b[0m         \u001b[0mself\u001b[0m\u001b[0;34m.\u001b[0m\u001b[0mstorer\u001b[0m\u001b[0;34m.\u001b[0m\u001b[0mset_dir\u001b[0m\u001b[0;34m(\u001b[0m\u001b[0mself\u001b[0m\u001b[0;34m.\u001b[0m\u001b[0mOP_OUT\u001b[0m\u001b[0;34m[\u001b[0m\u001b[0;34m\"path\"\u001b[0m\u001b[0;34m]\u001b[0m\u001b[0;34m,\u001b[0m \u001b[0mself\u001b[0m\u001b[0;34m.\u001b[0m\u001b[0mObject\u001b[0m\u001b[0;34m.\u001b[0m\u001b[0mtest_name\u001b[0m\u001b[0;34m,\u001b[0m  \u001b[0mext\u001b[0m\u001b[0;34m)\u001b[0m\u001b[0;34m\u001b[0m\u001b[0;34m\u001b[0m\u001b[0m\n",
      "\u001b[0;31mAttributeError\u001b[0m: 'PrepNN' object has no attribute 'train_name'"
     ]
    }
   ],
   "source": [
    "PP.finish()"
   ]
  },
  {
   "cell_type": "code",
   "execution_count": 30,
   "id": "dbb5529d-6ae5-4ba2-9e04-e2cf10e1deb1",
   "metadata": {},
   "outputs": [
    {
     "data": {
      "text/plain": [
       "{'path': '/datascope/subaru/user/swei20/data/pfsspec/prepnn/'}"
      ]
     },
     "execution_count": 30,
     "metadata": {},
     "output_type": "execute_result"
    }
   ],
   "source": [
    "PP.OP_OUT"
   ]
  },
  {
   "cell_type": "code",
   "execution_count": 43,
   "id": "df1ba235-be3c-491f-a9bb-ca9ff9d2a070",
   "metadata": {},
   "outputs": [
    {
     "data": {
      "text/plain": [
       "{'interpolator': <scipy.interpolate._rbfinterp.RBFInterpolator at 0x7fcf72882280>,\n",
       " 'sky': array([0.15077469, 0.1495934 , 0.14423648, 0.14433482, 0.14747137,\n",
       "        0.14836056, 0.14531086, 0.14922931, 0.14873182, 0.14719386,\n",
       "        0.14742225, 0.14853853, 0.14872931, 0.14798906, 0.14843427,\n",
       "        0.14942387, 0.15094892, 0.15054792, 0.15677576, 0.19068839,\n",
       "        0.17415853, 0.15311395, 0.15320229, 0.16651898, 0.17029691,\n",
       "        0.15508382, 0.18025812, 0.1883331 , 0.16233235, 0.16886398,\n",
       "        0.16669567, 0.15809255, 0.31407816, 0.52847163, 0.16061403,\n",
       "        0.16233161, 0.16050382, 0.16841212, 0.16914596, 0.16412062,\n",
       "        0.1623135 , 0.16355638, 0.17055147, 0.17649125, 0.16981551,\n",
       "        0.16835615, 0.16894306, 0.16776282, 0.1689735 , 0.17108565,\n",
       "        0.21743374, 0.21017425, 0.18578376, 0.17103679, 0.17821553,\n",
       "        0.18634029, 0.19609469, 0.25088166, 0.22023136, 0.19109764,\n",
       "        0.18437969, 0.18709035, 0.17928734, 0.24631951, 0.32752443,\n",
       "        0.17920501, 0.17541241, 0.22140323, 0.18607524, 0.1782438 ,\n",
       "        0.18310485, 0.18102709, 0.17813475, 0.18273535, 0.18308226,\n",
       "        0.20850683, 0.2118021 , 0.18088978, 0.18353911, 0.18650233,\n",
       "        0.19413879, 0.19525158, 0.76060658, 0.41070454, 0.27989433,\n",
       "        0.19448632, 0.19024132, 0.19733519, 0.1963367 , 0.19449762,\n",
       "        0.20845266, 0.19697185, 0.20923709, 0.19921612, 0.2654738 ,\n",
       "        0.24560004, 1.25410509, 0.31016396, 0.19801654, 0.19930584,\n",
       "        0.91599799, 0.33785729, 0.20015064, 0.2026415 , 0.20763698,\n",
       "        0.22937657, 0.2049907 , 0.20525852, 0.21241704, 0.21408006,\n",
       "        0.21688857, 0.21091482, 0.22633555, 0.21669072, 0.80920067,\n",
       "        0.41729497, 0.21616765, 0.21757693, 0.22760183, 0.22037829,\n",
       "        0.23069926, 0.31258083, 0.66164141, 0.23407819, 0.2284911 ,\n",
       "        0.29451444, 0.2552255 , 0.24677304, 0.25061808, 0.27271351,\n",
       "        0.23868046, 0.2942626 , 0.29286793, 0.24830773, 0.25761645,\n",
       "        0.25612404, 0.25562369, 0.31110623, 0.27861942, 0.2818129 ,\n",
       "        0.27547543, 0.26052986, 0.30132864, 0.28439904, 0.2585277 ,\n",
       "        0.26765433, 0.26786594, 0.27126658, 0.2669448 , 0.27765435,\n",
       "        0.28202935, 0.30781825, 0.29414398, 0.32187064, 1.09440948,\n",
       "        0.82300544, 0.46244163, 0.29063734, 0.2874183 , 0.27793168,\n",
       "        0.34223132, 0.52313925, 0.29900544, 0.3011935 , 0.29610237,\n",
       "        0.3016806 , 0.30705132, 0.30734797, 0.33346364, 0.34129663,\n",
       "        0.34182358, 0.36290769, 0.32780384, 0.30921269, 0.31294904,\n",
       "        0.31262137, 0.32121396, 0.31462864, 0.31871594, 0.33745691,\n",
       "        0.3378131 , 0.33997603, 0.34806574, 0.32992386, 0.33393286,\n",
       "        0.46343167, 0.33909138, 0.34069703, 0.34190535, 0.36394823,\n",
       "        0.39202571, 0.35838278, 0.35326057, 0.3993782 , 0.64865861,\n",
       "        0.49148915, 0.42861642, 0.4912762 , 0.50733858, 0.80176853,\n",
       "        0.6440612 , 0.42033427, 0.4062287 , 0.39021821, 0.39096852,\n",
       "        0.39701091, 0.39594507, 0.40866664, 0.42912755, 0.51500606,\n",
       "        0.97947304, 0.48022699, 0.4239523 , 0.42921031, 0.42897342,\n",
       "        0.42817814, 0.43675347, 1.09560973, 0.68419042, 0.44828174]),\n",
       " 'arm': 'RedM',\n",
       " 'res': 1000,\n",
       " 'name': 'RedM_R1000',\n",
       " 'train': {'data': array([[14.38005107, 14.37269718, 14.37375872, ..., 13.99957177,\n",
       "          14.0115725 , 14.00134639],\n",
       "         [14.47585443, 14.45264938, 14.44999663, ..., 14.07310427,\n",
       "          14.08341312, 14.06812405],\n",
       "         [14.69176754, 14.68544595, 14.68264182, ..., 14.27713988,\n",
       "          14.28390268, 14.27248497],\n",
       "         ...,\n",
       "         [14.73249436, 14.72023658, 14.72022136, ..., 14.29881189,\n",
       "          14.30807295, 14.29352195],\n",
       "         [14.73095973, 14.70997722, 14.69761446, ..., 14.29367944,\n",
       "          14.29573973, 14.27985244],\n",
       "         [14.78390537, 14.77823416, 14.77590817, ..., 14.34747294,\n",
       "          14.35346457, 14.34201968]]),\n",
       "  'sigma': array([[0.00023954, 0.00024043, 0.0002403 , ..., 0.00029034, 0.00028858,\n",
       "          0.00029008],\n",
       "         [0.00022824, 0.00023093, 0.00023124, ..., 0.00027973, 0.00027827,\n",
       "          0.00028043],\n",
       "         [0.00020472, 0.00020537, 0.00020566, ..., 0.00025231, 0.00025145,\n",
       "          0.00025291],\n",
       "         ...,\n",
       "         [0.00020057, 0.00020181, 0.00020181, ..., 0.00024957, 0.0002484 ,\n",
       "          0.00025023],\n",
       "         [0.00020072, 0.00020285, 0.00020412, ..., 0.00025021, 0.00024995,\n",
       "          0.00025197],\n",
       "         [0.00019545, 0.00019601, 0.00019624, ..., 0.00024351, 0.00024278,\n",
       "          0.00024418]]),\n",
       "  'label': array([[0.14669679, 0.11051561, 0.70242903, 0.40583785, 0.53997505],\n",
       "         [0.78457321, 0.16147878, 0.92048663, 0.93929039, 0.74440476],\n",
       "         [0.23139514, 0.48731901, 0.08026428, 0.28607635, 0.4512268 ],\n",
       "         [0.0318191 , 0.9164472 , 0.51221257, 0.07214779, 0.95070248],\n",
       "         [0.81637872, 0.79349673, 0.91938706, 0.84132794, 0.78603814],\n",
       "         [0.91703173, 0.29142391, 0.00527845, 0.19916305, 0.11770055],\n",
       "         [0.26702643, 0.69275262, 0.58307913, 0.52572623, 0.87429289],\n",
       "         [0.7363376 , 0.50816649, 0.68038528, 0.08332425, 0.53462031],\n",
       "         [0.87597324, 0.48660249, 0.91623783, 0.88929501, 0.24243745],\n",
       "         [0.25488449, 0.64306224, 0.7716622 , 0.29773188, 0.4365093 ]])},\n",
       " 'test': {'data': array([[14.29471548, 14.28819808, 14.28951243, ..., 13.93229754,\n",
       "          13.94421155, 13.93452839],\n",
       "         [14.58827979, 14.57858828, 14.57833561, ..., 14.18041872,\n",
       "          14.19064549, 14.17801676],\n",
       "         [14.80746089, 14.80181226, 14.7985106 , ..., 14.37420822,\n",
       "          14.37924059, 14.36702607],\n",
       "         [14.42679906, 14.40773771, 14.41045369, ..., 14.03358829,\n",
       "          14.04732063, 14.03274011],\n",
       "         [14.63376486, 14.62853532, 14.6262682 , ..., 14.21750105,\n",
       "          14.22496577, 14.21531844]]),\n",
       "  'sigma': array([[0.00025008, 0.00025091, 0.00025074, ..., 0.00030041, 0.0002986 ,\n",
       "          0.00030007],\n",
       "         [0.00021567, 0.00021673, 0.00021675, ..., 0.00026495, 0.00026358,\n",
       "          0.00026527],\n",
       "         [0.00019315, 0.0001937 , 0.00019402, ..., 0.00024025, 0.00023964,\n",
       "          0.00024112],\n",
       "         [0.00023396, 0.00023622, 0.00023589, ..., 0.00028538, 0.0002834 ,\n",
       "          0.0002855 ],\n",
       "         [0.00021079, 0.00021134, 0.00021159, ..., 0.00026003, 0.00025905,\n",
       "          0.00026032]]),\n",
       "  'label': array([[0.        , 0.        , 0.        , 0.        , 0.        ],\n",
       "         [0.5       , 0.33333333, 0.2       , 0.14285714, 0.09090909],\n",
       "         [0.25      , 0.66666667, 0.4       , 0.28571429, 0.18181818],\n",
       "         [0.75      , 0.11111111, 0.6       , 0.42857143, 0.27272727],\n",
       "         [0.125     , 0.44444444, 0.8       , 0.57142857, 0.36363636]])},\n",
       " 'ntrain': 10,\n",
       " 'ntest': 5,\n",
       " 'coordx': array([4., 5., 3., 5., 3.]),\n",
       " 'coordx_dim': 5,\n",
       " 'label_scaler': <function PIML.crust.operation.baseoperation.CoordxifyOperation.get_scalers.<locals>.<lambda>(x)>,\n",
       " 'label_rescaler': <function PIML.crust.operation.baseoperation.CoordxifyOperation.get_scalers.<locals>.<lambda>(x)>,\n",
       " 'noiser': <function PIML.crust.operation.nnoperation.baseprepnnoperation.AddPfsObsNNPredOperation.perform_on_PrepNN.<locals>.<lambda>(x)>,\n",
       " 'Obs': <PIML.core.method.obs.baseobs.Obs at 0x7fcf72882910>,\n",
       " 'uniform_label_sampler': <function PIML.core.method.sampler.samplerbuilder.SamplerBuilder.get_uniform_sampler.<locals>.sampler(N, seed=None)>,\n",
       " 'halton_label_sampler': <function PIML.core.method.sampler.samplerbuilder.SamplerBuilder.get_halton_sampler.<locals>.sampler(N, seed=None)>,\n",
       " 'generator': <function PIML.crust.operation.nnoperation.baseprepnnoperation.DataGeneratorPrepNNOperation.perform.<locals>.generator(label)>,\n",
       " 'train_name': 'RedM_R1000_N10_train',\n",
       " 'test_name': 'RedM_R1000_N5_test'}"
      ]
     },
     "execution_count": 43,
     "metadata": {},
     "output_type": "execute_result"
    }
   ],
   "source": [
    "PP.Object.__dict__"
   ]
  },
  {
   "cell_type": "code",
   "execution_count": 15,
   "id": "2dec0843-cd24-4694-ab30-60b411a7cac3",
   "metadata": {},
   "outputs": [],
   "source": [
    "NNP = PP.Object"
   ]
  },
  {
   "cell_type": "code",
   "execution_count": 41,
   "id": "3c8a4431-3cfd-44f1-a3c5-383456fd5897",
   "metadata": {},
   "outputs": [
    {
     "data": {
      "text/plain": [
       "array([[14.29471548, 14.28819808, 14.28951243, ..., 13.93229754,\n",
       "        13.94421155, 13.93452839],\n",
       "       [14.58827979, 14.57858828, 14.57833561, ..., 14.18041872,\n",
       "        14.19064549, 14.17801676],\n",
       "       [14.80746089, 14.80181226, 14.7985106 , ..., 14.37420822,\n",
       "        14.37924059, 14.36702607],\n",
       "       ...,\n",
       "       [14.78596441, 14.77069913, 14.77003987, ..., 14.3483457 ,\n",
       "        14.35615064, 14.34016488],\n",
       "       [14.94662332, 14.94297933, 14.94048079, ..., 14.49607531,\n",
       "        14.49803132, 14.48542404],\n",
       "       [14.33784199, 14.32170369, 14.32717317, ..., 13.95713021,\n",
       "        13.97312491, 13.95968367]])"
      ]
     },
     "execution_count": 41,
     "metadata": {},
     "output_type": "execute_result"
    }
   ],
   "source": [
    "NNP.test_data"
   ]
  },
  {
   "cell_type": "code",
   "execution_count": null,
   "id": "84a7a716-0459-4a60-94b4-3c2874d9b159",
   "metadata": {},
   "outputs": [],
   "source": [
    "from PIML.surfa"
   ]
  },
  {
   "cell_type": "code",
   "execution_count": 21,
   "id": "cd723fd7-20fe-497f-815d-579b0cfb04d6",
   "metadata": {},
   "outputs": [
    {
     "ename": "AttributeError",
     "evalue": "Can't pickle local object 'CoordxifyOperation.get_scalers.<locals>.<lambda>'",
     "output_type": "error",
     "traceback": [
      "\u001b[0;31m---------------------------------------------------------------------------\u001b[0m",
      "\u001b[0;31mAttributeError\u001b[0m                            Traceback (most recent call last)",
      "\u001b[0;32m/tmp/ipykernel_855331/2759045184.py\u001b[0m in \u001b[0;36m<module>\u001b[0;34m\u001b[0m\n\u001b[0;32m----> 1\u001b[0;31m \u001b[0mPP\u001b[0m\u001b[0;34m.\u001b[0m\u001b[0mfinish\u001b[0m\u001b[0;34m(\u001b[0m\u001b[0;34m\"/home/swei20/PIML_v1/test/testdata/testnndata\"\u001b[0m\u001b[0;34m)\u001b[0m\u001b[0;34m\u001b[0m\u001b[0;34m\u001b[0m\u001b[0m\n\u001b[0m",
      "\u001b[0;32m~/PIML_v1/PIML/gateway/processIF/nnprepprocessIF/nnprepprocessIF.py\u001b[0m in \u001b[0;36mfinish\u001b[0;34m(self, store_path, name)\u001b[0m\n\u001b[1;32m     39\u001b[0m     \u001b[0;32mdef\u001b[0m \u001b[0mfinish\u001b[0m\u001b[0;34m(\u001b[0m\u001b[0mself\u001b[0m\u001b[0;34m,\u001b[0m \u001b[0mstore_path\u001b[0m\u001b[0;34m,\u001b[0m \u001b[0mname\u001b[0m\u001b[0;34m=\u001b[0m\u001b[0;34m\"NNPrep\"\u001b[0m\u001b[0;34m)\u001b[0m\u001b[0;34m:\u001b[0m\u001b[0;34m\u001b[0m\u001b[0;34m\u001b[0m\u001b[0m\n\u001b[1;32m     40\u001b[0m         \u001b[0mself\u001b[0m\u001b[0;34m.\u001b[0m\u001b[0mstorer\u001b[0m\u001b[0;34m.\u001b[0m\u001b[0mset_path\u001b[0m\u001b[0;34m(\u001b[0m\u001b[0mstore_path\u001b[0m\u001b[0;34m,\u001b[0m \u001b[0mname\u001b[0m\u001b[0;34m)\u001b[0m\u001b[0;34m\u001b[0m\u001b[0;34m\u001b[0m\u001b[0m\n\u001b[0;32m---> 41\u001b[0;31m         \u001b[0mself\u001b[0m\u001b[0;34m.\u001b[0m\u001b[0mstorer\u001b[0m\u001b[0;34m.\u001b[0m\u001b[0mstore\u001b[0m\u001b[0;34m(\u001b[0m\u001b[0mself\u001b[0m\u001b[0;34m.\u001b[0m\u001b[0mObject\u001b[0m\u001b[0;34m)\u001b[0m\u001b[0;34m\u001b[0m\u001b[0;34m\u001b[0m\u001b[0m\n\u001b[0m\u001b[1;32m     42\u001b[0m \u001b[0;34m\u001b[0m\u001b[0m\n",
      "\u001b[0;32m~/PIML_v1/PIML/gateway/storerIF/basestorerIF.py\u001b[0m in \u001b[0;36mstore\u001b[0;34m(self, data)\u001b[0m\n\u001b[1;32m     49\u001b[0m     \u001b[0;32mdef\u001b[0m \u001b[0mstore\u001b[0m\u001b[0;34m(\u001b[0m\u001b[0mself\u001b[0m\u001b[0;34m,\u001b[0m \u001b[0mdata\u001b[0m\u001b[0;34m)\u001b[0m\u001b[0;34m:\u001b[0m\u001b[0;34m\u001b[0m\u001b[0;34m\u001b[0m\u001b[0m\n\u001b[1;32m     50\u001b[0m         \u001b[0mstorer\u001b[0m \u001b[0;34m=\u001b[0m \u001b[0mPickleStorer\u001b[0m\u001b[0;34m(\u001b[0m\u001b[0;34m)\u001b[0m\u001b[0;34m\u001b[0m\u001b[0;34m\u001b[0m\u001b[0m\n\u001b[0;32m---> 51\u001b[0;31m         \u001b[0mstorer\u001b[0m\u001b[0;34m.\u001b[0m\u001b[0mstore\u001b[0m\u001b[0;34m(\u001b[0m\u001b[0mself\u001b[0m\u001b[0;34m.\u001b[0m\u001b[0mDATA_PATH\u001b[0m\u001b[0;34m,\u001b[0m \u001b[0mdata\u001b[0m\u001b[0;34m)\u001b[0m\u001b[0;34m\u001b[0m\u001b[0;34m\u001b[0m\u001b[0m\n\u001b[0m",
      "\u001b[0;32m~/PIML_v1/PIML/surface/database/basestorer.py\u001b[0m in \u001b[0;36mstore\u001b[0;34m(self, PATH, val)\u001b[0m\n\u001b[1;32m     16\u001b[0m     \u001b[0;32mdef\u001b[0m \u001b[0mstore\u001b[0m\u001b[0;34m(\u001b[0m\u001b[0mself\u001b[0m\u001b[0;34m,\u001b[0m \u001b[0mPATH\u001b[0m\u001b[0;34m,\u001b[0m \u001b[0mval\u001b[0m\u001b[0;34m)\u001b[0m\u001b[0;34m:\u001b[0m\u001b[0;34m\u001b[0m\u001b[0;34m\u001b[0m\u001b[0m\n\u001b[1;32m     17\u001b[0m         \u001b[0;32mwith\u001b[0m \u001b[0mopen\u001b[0m\u001b[0;34m(\u001b[0m\u001b[0mPATH\u001b[0m\u001b[0;34m,\u001b[0m \u001b[0;34m'wb'\u001b[0m\u001b[0;34m)\u001b[0m \u001b[0;32mas\u001b[0m \u001b[0mf\u001b[0m\u001b[0;34m:\u001b[0m\u001b[0;34m\u001b[0m\u001b[0;34m\u001b[0m\u001b[0m\n\u001b[0;32m---> 18\u001b[0;31m             \u001b[0mpickle\u001b[0m\u001b[0;34m.\u001b[0m\u001b[0mdump\u001b[0m\u001b[0;34m(\u001b[0m\u001b[0mval\u001b[0m\u001b[0;34m,\u001b[0m \u001b[0mf\u001b[0m\u001b[0;34m,\u001b[0m \u001b[0mpickle\u001b[0m\u001b[0;34m.\u001b[0m\u001b[0mHIGHEST_PROTOCOL\u001b[0m\u001b[0;34m)\u001b[0m\u001b[0;34m\u001b[0m\u001b[0;34m\u001b[0m\u001b[0m\n\u001b[0m\u001b[1;32m     19\u001b[0m \u001b[0;34m\u001b[0m\u001b[0m\n\u001b[1;32m     20\u001b[0m \u001b[0;32mclass\u001b[0m \u001b[0mNpStorer\u001b[0m\u001b[0;34m(\u001b[0m\u001b[0mBaseStorer\u001b[0m\u001b[0;34m)\u001b[0m\u001b[0;34m:\u001b[0m\u001b[0;34m\u001b[0m\u001b[0;34m\u001b[0m\u001b[0m\n",
      "\u001b[0;31mAttributeError\u001b[0m: Can't pickle local object 'CoordxifyOperation.get_scalers.<locals>.<lambda>'"
     ]
    }
   ],
   "source": [
    "PP.finish(\"/home/swei20/PIML_v1/test/testdata/testnndata\")"
   ]
  },
  {
   "cell_type": "code",
   "execution_count": 24,
   "id": "f61600c9-05e3-4ca4-a3df-f7d81c96ddee",
   "metadata": {},
   "outputs": [
    {
     "data": {
      "text/plain": [
       "{'interpolator': <scipy.interpolate._rbfinterp.RBFInterpolator at 0x7fb33651cc10>,\n",
       " 'sky': array([0.15077469, 0.1495934 , 0.14423648, 0.14433482, 0.14747137,\n",
       "        0.14836056, 0.14531086, 0.14922931, 0.14873182, 0.14719386,\n",
       "        0.14742225, 0.14853853, 0.14872931, 0.14798906, 0.14843427,\n",
       "        0.14942387, 0.15094892, 0.15054792, 0.15677576, 0.19068839,\n",
       "        0.17415853, 0.15311395, 0.15320229, 0.16651898, 0.17029691,\n",
       "        0.15508382, 0.18025812, 0.1883331 , 0.16233235, 0.16886398,\n",
       "        0.16669567, 0.15809255, 0.31407816, 0.52847163, 0.16061403,\n",
       "        0.16233161, 0.16050382, 0.16841212, 0.16914596, 0.16412062,\n",
       "        0.1623135 , 0.16355638, 0.17055147, 0.17649125, 0.16981551,\n",
       "        0.16835615, 0.16894306, 0.16776282, 0.1689735 , 0.17108565,\n",
       "        0.21743374, 0.21017425, 0.18578376, 0.17103679, 0.17821553,\n",
       "        0.18634029, 0.19609469, 0.25088166, 0.22023136, 0.19109764,\n",
       "        0.18437969, 0.18709035, 0.17928734, 0.24631951, 0.32752443,\n",
       "        0.17920501, 0.17541241, 0.22140323, 0.18607524, 0.1782438 ,\n",
       "        0.18310485, 0.18102709, 0.17813475, 0.18273535, 0.18308226,\n",
       "        0.20850683, 0.2118021 , 0.18088978, 0.18353911, 0.18650233,\n",
       "        0.19413879, 0.19525158, 0.76060658, 0.41070454, 0.27989433,\n",
       "        0.19448632, 0.19024132, 0.19733519, 0.1963367 , 0.19449762,\n",
       "        0.20845266, 0.19697185, 0.20923709, 0.19921612, 0.2654738 ,\n",
       "        0.24560004, 1.25410509, 0.31016396, 0.19801654, 0.19930584,\n",
       "        0.91599799, 0.33785729, 0.20015064, 0.2026415 , 0.20763698,\n",
       "        0.22937657, 0.2049907 , 0.20525852, 0.21241704, 0.21408006,\n",
       "        0.21688857, 0.21091482, 0.22633555, 0.21669072, 0.80920067,\n",
       "        0.41729497, 0.21616765, 0.21757693, 0.22760183, 0.22037829,\n",
       "        0.23069926, 0.31258083, 0.66164141, 0.23407819, 0.2284911 ,\n",
       "        0.29451444, 0.2552255 , 0.24677304, 0.25061808, 0.27271351,\n",
       "        0.23868046, 0.2942626 , 0.29286793, 0.24830773, 0.25761645,\n",
       "        0.25612404, 0.25562369, 0.31110623, 0.27861942, 0.2818129 ,\n",
       "        0.27547543, 0.26052986, 0.30132864, 0.28439904, 0.2585277 ,\n",
       "        0.26765433, 0.26786594, 0.27126658, 0.2669448 , 0.27765435,\n",
       "        0.28202935, 0.30781825, 0.29414398, 0.32187064, 1.09440948,\n",
       "        0.82300544, 0.46244163, 0.29063734, 0.2874183 , 0.27793168,\n",
       "        0.34223132, 0.52313925, 0.29900544, 0.3011935 , 0.29610237,\n",
       "        0.3016806 , 0.30705132, 0.30734797, 0.33346364, 0.34129663,\n",
       "        0.34182358, 0.36290769, 0.32780384, 0.30921269, 0.31294904,\n",
       "        0.31262137, 0.32121396, 0.31462864, 0.31871594, 0.33745691,\n",
       "        0.3378131 , 0.33997603, 0.34806574, 0.32992386, 0.33393286,\n",
       "        0.46343167, 0.33909138, 0.34069703, 0.34190535, 0.36394823,\n",
       "        0.39202571, 0.35838278, 0.35326057, 0.3993782 , 0.64865861,\n",
       "        0.49148915, 0.42861642, 0.4912762 , 0.50733858, 0.80176853,\n",
       "        0.6440612 , 0.42033427, 0.4062287 , 0.39021821, 0.39096852,\n",
       "        0.39701091, 0.39594507, 0.40866664, 0.42912755, 0.51500606,\n",
       "        0.97947304, 0.48022699, 0.4239523 , 0.42921031, 0.42897342,\n",
       "        0.42817814, 0.43675347, 1.09560973, 0.68419042, 0.44828174]),\n",
       " 'coordx': array([4., 5., 3., 5., 3.]),\n",
       " 'coordx_dim': 5,\n",
       " 'label_scaler': <function PIML.crust.operation.baseoperation.CoordxifyOperation.get_scalers.<locals>.<lambda>(x)>,\n",
       " 'label_rescaler': <function PIML.crust.operation.baseoperation.CoordxifyOperation.get_scalers.<locals>.<lambda>(x)>,\n",
       " 'Obs': <PIML.core.method.obs.baseobs.Obs at 0x7fb37d8cd0d0>,\n",
       " 'gen_sigma': <function PIML.core.method.obs.baseobs.Obs.get_log_sigma(self, flux, log=False)>,\n",
       " 'uniform_label_sampler': <function PIML.core.method.sampler.samplerbuilder.SamplerBuilder.get_uniform_sampler.<locals>.sampler(N, seed=None)>,\n",
       " 'halton_label_sampler': <function PIML.core.method.sampler.samplerbuilder.SamplerBuilder.get_halton_sampler.<locals>.sampler(N, seed=None)>,\n",
       " 'gen_data_from_label': <function PIML.crust.operation.nnoperation.basennprepoperation.DataGeneratorNNPrepOperation.perform.<locals>.gen_data_from_label(label)>}"
      ]
     },
     "execution_count": 24,
     "metadata": {},
     "output_type": "execute_result"
    }
   ],
   "source": [
    "NNP.__dict__"
   ]
  },
  {
   "cell_type": "code",
   "execution_count": 20,
   "id": "ba8c3327-2ef6-4508-a313-e7a2e884c5a2",
   "metadata": {},
   "outputs": [
    {
     "data": {
      "text/plain": [
       "<PIML.crust.data.nndata.basennprep.NNPrep at 0x7fb3b417da60>"
      ]
     },
     "execution_count": 20,
     "metadata": {},
     "output_type": "execute_result"
    }
   ],
   "source": [
    "PP.Object"
   ]
  },
  {
   "cell_type": "markdown",
   "id": "b4147edd-904e-48cd-b4e2-2600f90795c6",
   "metadata": {},
   "source": [
    "# Testing"
   ]
  },
  {
   "cell_type": "code",
   "execution_count": 24,
   "id": "1fc2c7ff-ad47-4ae4-9d5e-6f415995c270",
   "metadata": {},
   "outputs": [],
   "source": [
    "label = NNP.uniform_label_sampler(10)"
   ]
  },
  {
   "cell_type": "code",
   "execution_count": 25,
   "id": "22a8497f-7991-4d98-914f-cf534a455217",
   "metadata": {},
   "outputs": [],
   "source": [
    "data = NNP.generator(label)"
   ]
  },
  {
   "cell_type": "code",
   "execution_count": 26,
   "id": "02789254-1fe3-4a8a-b15e-e3f958192e9c",
   "metadata": {},
   "outputs": [
    {
     "data": {
      "text/plain": [
       "array([[0.25868424, 0.96934641, 0.47115352, 0.92569345, 0.03883448],\n",
       "       [0.58378153, 0.99175536, 0.61261031, 0.78233509, 0.69351177],\n",
       "       [0.94400779, 0.14803447, 0.47572934, 0.00977451, 0.40640795],\n",
       "       [0.36578621, 0.76332699, 0.51128634, 0.1799264 , 0.24498079],\n",
       "       [0.60862879, 0.33633556, 0.48682995, 0.89279738, 0.58531972],\n",
       "       [0.86367532, 0.69093168, 0.01866656, 0.32638412, 0.74510994],\n",
       "       [0.67871864, 0.41119964, 0.67271401, 0.07525835, 0.49033854],\n",
       "       [0.25852292, 0.99073078, 0.18548338, 0.37007307, 0.74814763],\n",
       "       [0.79836086, 0.20472684, 0.06772367, 0.52988991, 0.53370376],\n",
       "       [0.40653076, 0.58187066, 0.2242174 , 0.29812822, 0.53413694]])"
      ]
     },
     "execution_count": 26,
     "metadata": {},
     "output_type": "execute_result"
    }
   ],
   "source": [
    "label"
   ]
  },
  {
   "cell_type": "code",
   "execution_count": 27,
   "id": "d303bb79-5623-4175-b140-e3a32aba3dbe",
   "metadata": {},
   "outputs": [
    {
     "data": {
      "text/plain": [
       "array([[15.00444348, 14.9950023 , 14.9793557 , ..., 14.55326113,\n",
       "        14.54621234, 14.5300963 ],\n",
       "       [15.03448687, 15.02190534, 15.00576652, ..., 14.57367935,\n",
       "        14.56677703, 14.54867415],\n",
       "       [14.48046382, 14.45743942, 14.46292307, ..., 14.07881937,\n",
       "        14.0927347 , 14.07763774],\n",
       "       ...,\n",
       "       [15.03183658, 15.0261476 , 15.01962717, ..., 14.59000232,\n",
       "        14.58882531, 14.57243559],\n",
       "       [14.52535314, 14.50413067, 14.50037549, ..., 14.12417621,\n",
       "        14.13221501, 14.1172916 ],\n",
       "       [14.76771675, 14.75972009, 14.75586212, ..., 14.34109144,\n",
       "        14.34683634, 14.3336213 ]])"
      ]
     },
     "execution_count": 27,
     "metadata": {},
     "output_type": "execute_result"
    }
   ],
   "source": [
    "data"
   ]
  },
  {
   "cell_type": "code",
   "execution_count": 28,
   "id": "e9fe3eee-bbf7-479b-8807-07fffbbd2add",
   "metadata": {},
   "outputs": [],
   "source": [
    "sigma = NNP.noiser(data)"
   ]
  },
  {
   "cell_type": "code",
   "execution_count": 29,
   "id": "4d27e808-313c-4a6f-9f46-9e071eacc8a5",
   "metadata": {},
   "outputs": [
    {
     "data": {
      "text/plain": [
       "array([[0.00017494, 0.00017577, 0.00017716, ..., 0.00021951, 0.00022029,\n",
       "        0.00022209],\n",
       "       [0.00017232, 0.00017341, 0.00017482, ..., 0.00021726, 0.00021802,\n",
       "        0.00022002],\n",
       "       [0.00022771, 0.00023037, 0.00022974, ..., 0.00027892, 0.00027696,\n",
       "        0.00027909],\n",
       "       ...,\n",
       "       [0.00017255, 0.00017304, 0.00017361, ..., 0.00021549, 0.00021561,\n",
       "        0.0002174 ],\n",
       "       [0.00022262, 0.00022501, 0.00022544, ..., 0.00027259, 0.00027149,\n",
       "        0.00027354],\n",
       "       [0.00019705, 0.00019784, 0.00019822, ..., 0.0002443 , 0.00024359,\n",
       "        0.00024522]])"
      ]
     },
     "execution_count": 29,
     "metadata": {},
     "output_type": "execute_result"
    }
   ],
   "source": [
    "sigma"
   ]
  },
  {
   "cell_type": "code",
   "execution_count": 30,
   "id": "f6a1c73d-9b43-464e-8118-68d3ac3a20a9",
   "metadata": {},
   "outputs": [],
   "source": [
    "sigma = NNP.Obs.get_log_sigma(data, log=1)"
   ]
  },
  {
   "cell_type": "code",
   "execution_count": 31,
   "id": "f1bd4f33-6997-46b7-a647-183b5ab9e6d8",
   "metadata": {},
   "outputs": [
    {
     "data": {
      "text/plain": [
       "array([[0.00017494, 0.00017577, 0.00017716, ..., 0.00021951, 0.00022029,\n",
       "        0.00022209],\n",
       "       [0.00017232, 0.00017341, 0.00017482, ..., 0.00021726, 0.00021802,\n",
       "        0.00022002],\n",
       "       [0.00022771, 0.00023037, 0.00022974, ..., 0.00027892, 0.00027696,\n",
       "        0.00027909],\n",
       "       ...,\n",
       "       [0.00017255, 0.00017304, 0.00017361, ..., 0.00021549, 0.00021561,\n",
       "        0.0002174 ],\n",
       "       [0.00022262, 0.00022501, 0.00022544, ..., 0.00027259, 0.00027149,\n",
       "        0.00027354],\n",
       "       [0.00019705, 0.00019784, 0.00019822, ..., 0.0002443 , 0.00024359,\n",
       "        0.00024522]])"
      ]
     },
     "execution_count": 31,
     "metadata": {},
     "output_type": "execute_result"
    }
   ],
   "source": [
    "sigma"
   ]
  },
  {
   "cell_type": "code",
   "execution_count": null,
   "id": "8e2b34fb-dab8-4267-a42e-23342ff96520",
   "metadata": {},
   "outputs": [],
   "source": []
  }
 ],
 "metadata": {
  "kernelspec": {
   "display_name": "Python 3 [viska-tf28]",
   "language": "python",
   "name": "python3-viska-tf28"
  },
  "language_info": {
   "codemirror_mode": {
    "name": "ipython",
    "version": 3
   },
   "file_extension": ".py",
   "mimetype": "text/x-python",
   "name": "python",
   "nbconvert_exporter": "python",
   "pygments_lexer": "ipython3",
   "version": "3.9.7"
  }
 },
 "nbformat": 4,
 "nbformat_minor": 5
}
