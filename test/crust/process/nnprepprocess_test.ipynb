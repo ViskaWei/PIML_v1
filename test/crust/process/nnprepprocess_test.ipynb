{
 "cells": [
  {
   "cell_type": "code",
   "execution_count": 1,
   "id": "1aef8800-6b2d-4455-a717-ab7a656ef322",
   "metadata": {},
   "outputs": [],
   "source": [
    "%load_ext autoreload\n",
    "%autoreload 2"
   ]
  },
  {
   "cell_type": "code",
   "execution_count": 2,
   "id": "ff682210-c07d-4c46-93ef-d083ad636a24",
   "metadata": {},
   "outputs": [],
   "source": [
    "PROJECT_PATH = '/home/swei20/PIML_v1/'\n",
    "import sys\n",
    "sys.path.insert(0, PROJECT_PATH)"
   ]
  },
  {
   "cell_type": "code",
   "execution_count": 3,
   "id": "045c13ac-0411-4731-8166-fea211ab9b00",
   "metadata": {},
   "outputs": [],
   "source": [
    "import os\n",
    "import numpy as np\n",
    "import matplotlib.pyplot as plt\n"
   ]
  },
  {
   "cell_type": "code",
   "execution_count": 9,
   "id": "43b490fe-c46f-4b40-aa79-2ab9ba306d5b",
   "metadata": {},
   "outputs": [],
   "source": [
    "from PIML.gateway.loaderIF.nnpreploaderIF import StellarNNPrepLoaderIF"
   ]
  },
  {
   "cell_type": "code",
   "execution_count": 10,
   "id": "33a6b112-dadd-4a16-881b-524ccbea61b2",
   "metadata": {},
   "outputs": [],
   "source": [
    "loader = StellarNNPrepLoaderIF()"
   ]
  },
  {
   "cell_type": "code",
   "execution_count": 11,
   "id": "0d1e2f16-e310-4701-9506-25b0d7aaf49e",
   "metadata": {},
   "outputs": [],
   "source": [
    "DATA_DIR = \"/home/swei20/PIML_v1/test/testdata/testnnprepdata\""
   ]
  },
  {
   "cell_type": "code",
   "execution_count": 12,
   "id": "dc08c433-2b8d-4a15-9fab-30943c82f4c4",
   "metadata": {},
   "outputs": [],
   "source": [
    "loader.set_path(DATA_DIR)"
   ]
  },
  {
   "cell_type": "code",
   "execution_count": 13,
   "id": "b66e7bff-32d4-4cc4-83ce-21fe87f34506",
   "metadata": {},
   "outputs": [],
   "source": [
    "NNP = loader.load()"
   ]
  },
  {
   "cell_type": "code",
   "execution_count": 8,
   "id": "e76e1597-75ee-43a0-81be-4107167e3475",
   "metadata": {},
   "outputs": [],
   "source": [
    "PARAMS = {\n",
    "    \"data\": {\"rng\" : np.array([4., 5., 3., 5., 3.])},\n",
    "    \"op\": {\"step\": 10},\n",
    "    \"model\": {},\n",
    "}"
   ]
  },
  {
   "cell_type": "code",
   "execution_count": 5,
   "id": "d6f6d9c5-1aa2-49bb-9c8d-40b62ba71eb6",
   "metadata": {},
   "outputs": [],
   "source": [
    "from PIML.gateway.processIF.nnprepprocessIF.nnprepprocessIF import StellarNNPrepProcessIF"
   ]
  },
  {
   "cell_type": "code",
   "execution_count": 6,
   "id": "46c98097-d538-4768-ac28-bfa631f92159",
   "metadata": {},
   "outputs": [],
   "source": [
    "PP = StellarNNPrepProcessIF()"
   ]
  },
  {
   "cell_type": "code",
   "execution_count": 15,
   "id": "ac548a9b-0563-4757-9580-0b7cdd34a041",
   "metadata": {},
   "outputs": [],
   "source": [
    "PP.interact_on_NNPrep(PARAMS, NNP)"
   ]
  },
  {
   "cell_type": "markdown",
   "id": "b4147edd-904e-48cd-b4e2-2600f90795c6",
   "metadata": {},
   "source": [
    "# Testing"
   ]
  },
  {
   "cell_type": "code",
   "execution_count": 19,
   "id": "1fc2c7ff-ad47-4ae4-9d5e-6f415995c270",
   "metadata": {},
   "outputs": [],
   "source": [
    "label = NNP.uniform_label_sampler(10)"
   ]
  },
  {
   "cell_type": "code",
   "execution_count": 20,
   "id": "22a8497f-7991-4d98-914f-cf534a455217",
   "metadata": {},
   "outputs": [],
   "source": [
    "data = NNP.gen_data_from_label(label)"
   ]
  },
  {
   "cell_type": "code",
   "execution_count": 21,
   "id": "02789254-1fe3-4a8a-b15e-e3f958192e9c",
   "metadata": {},
   "outputs": [
    {
     "data": {
      "text/plain": [
       "array([[0.02896091, 0.83019123, 0.20082358, 0.61621908, 0.030695  ],\n",
       "       [0.08119587, 0.49066949, 0.60476662, 0.9052464 , 0.47738789],\n",
       "       [0.14785856, 0.24177932, 0.81184985, 0.24650513, 0.70769062],\n",
       "       [0.21688785, 0.08479568, 0.99533725, 0.38757631, 0.04836971],\n",
       "       [0.84848274, 0.80089634, 0.5458746 , 0.79435848, 0.11339214],\n",
       "       [0.50621502, 0.36649768, 0.50200319, 0.06489525, 0.39646959],\n",
       "       [0.76989351, 0.91201292, 0.93862854, 0.22817585, 0.63573508],\n",
       "       [0.08078345, 0.37446156, 0.28385928, 0.83501212, 0.44581244],\n",
       "       [0.12918521, 0.5019101 , 0.73024796, 0.34317398, 0.38853876],\n",
       "       [0.57332789, 0.35406037, 0.38534368, 0.2658752 , 0.35650611]])"
      ]
     },
     "execution_count": 21,
     "metadata": {},
     "output_type": "execute_result"
    }
   ],
   "source": [
    "label"
   ]
  },
  {
   "cell_type": "code",
   "execution_count": 22,
   "id": "d303bb79-5623-4175-b140-e3a32aba3dbe",
   "metadata": {},
   "outputs": [
    {
     "data": {
      "text/plain": [
       "array([[14.91299832, 14.90809977, 14.90114621, ..., 14.47891044,\n",
       "        14.47862382, 14.46562758],\n",
       "       [14.67213596, 14.6656246 , 14.65908726, ..., 14.25322491,\n",
       "        14.25735447, 14.24708688],\n",
       "       [14.4854901 , 14.47930401, 14.47985998, ..., 14.08910565,\n",
       "        14.09992834, 14.09031406],\n",
       "       ...,\n",
       "       [14.59597307, 14.58917144, 14.5832121 , ..., 14.19021487,\n",
       "        14.19558749, 14.18538634],\n",
       "       [14.67729194, 14.67237998, 14.67076672, ..., 14.2558369 ,\n",
       "        14.26308688, 14.25325533],\n",
       "       [14.61298654, 14.60168022, 14.60074231, ..., 14.199294  ,\n",
       "        14.20885356, 14.19558852]])"
      ]
     },
     "execution_count": 22,
     "metadata": {},
     "output_type": "execute_result"
    }
   ],
   "source": [
    "data"
   ]
  },
  {
   "cell_type": "code",
   "execution_count": 31,
   "id": "f6a1c73d-9b43-464e-8118-68d3ac3a20a9",
   "metadata": {},
   "outputs": [],
   "source": [
    "sigma = NNP.Obs.get_log_sigma(data, log=1)"
   ]
  },
  {
   "cell_type": "code",
   "execution_count": 32,
   "id": "f1bd4f33-6997-46b7-a647-183b5ab9e6d8",
   "metadata": {},
   "outputs": [
    {
     "data": {
      "text/plain": [
       "array([[0.00018316, 0.00018362, 0.00018426, ..., 0.00022789, 0.00022792,\n",
       "        0.00022942],\n",
       "       [0.00020676, 0.00020743, 0.00020812, ..., 0.00025538, 0.00025485,\n",
       "        0.00025617],\n",
       "       [0.00022714, 0.00022785, 0.00022778, ..., 0.00027747, 0.00027596,\n",
       "        0.0002773 ],\n",
       "       ...,\n",
       "       [0.00021484, 0.00021558, 0.00021622, ..., 0.00026364, 0.00026292,\n",
       "        0.00026428],\n",
       "       [0.00020622, 0.00020673, 0.0002069 , ..., 0.00025504, 0.00025411,\n",
       "        0.00025537],\n",
       "       [0.00021301, 0.00021422, 0.00021432, ..., 0.00026243, 0.00026117,\n",
       "        0.00026292]])"
      ]
     },
     "execution_count": 32,
     "metadata": {},
     "output_type": "execute_result"
    }
   ],
   "source": [
    "sigma"
   ]
  },
  {
   "cell_type": "code",
   "execution_count": null,
   "id": "8e2b34fb-dab8-4267-a42e-23342ff96520",
   "metadata": {},
   "outputs": [],
   "source": []
  }
 ],
 "metadata": {
  "kernelspec": {
   "display_name": "Python 3 [viska-tf28]",
   "language": "python",
   "name": "python3-viska-tf28"
  },
  "language_info": {
   "codemirror_mode": {
    "name": "ipython",
    "version": 3
   },
   "file_extension": ".py",
   "mimetype": "text/x-python",
   "name": "python",
   "nbconvert_exporter": "python",
   "pygments_lexer": "ipython3",
   "version": "3.9.7"
  }
 },
 "nbformat": 4,
 "nbformat_minor": 5
}
