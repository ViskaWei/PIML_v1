{
 "cells": [
  {
   "cell_type": "code",
   "execution_count": 1,
   "id": "1aef8800-6b2d-4455-a717-ab7a656ef322",
   "metadata": {},
   "outputs": [],
   "source": [
    "%load_ext autoreload\n",
    "%autoreload 2"
   ]
  },
  {
   "cell_type": "code",
   "execution_count": 2,
   "id": "ff682210-c07d-4c46-93ef-d083ad636a24",
   "metadata": {},
   "outputs": [],
   "source": [
    "PROJECT_PATH = '/home/swei20/PIML_v1/'\n",
    "import sys\n",
    "sys.path.insert(0, PROJECT_PATH)"
   ]
  },
  {
   "cell_type": "code",
   "execution_count": 3,
   "id": "045c13ac-0411-4731-8166-fea211ab9b00",
   "metadata": {},
   "outputs": [],
   "source": [
    "import os\n",
    "import numpy as np\n",
    "import matplotlib.pyplot as plt\n"
   ]
  },
  {
   "cell_type": "code",
   "execution_count": 4,
   "id": "43b490fe-c46f-4b40-aa79-2ab9ba306d5b",
   "metadata": {},
   "outputs": [],
   "source": [
    "from PIML.gateway.loaderIF.nnpreploaderIF import StellarNNPrepLoaderIF"
   ]
  },
  {
   "cell_type": "code",
   "execution_count": 5,
   "id": "33a6b112-dadd-4a16-881b-524ccbea61b2",
   "metadata": {},
   "outputs": [],
   "source": [
    "loader = StellarNNPrepLoaderIF()"
   ]
  },
  {
   "cell_type": "code",
   "execution_count": 6,
   "id": "0d1e2f16-e310-4701-9506-25b0d7aaf49e",
   "metadata": {},
   "outputs": [],
   "source": [
    "DATA_DIR = \"/home/swei20/PIML_v1/test/testdata/testnnprepdata\""
   ]
  },
  {
   "cell_type": "code",
   "execution_count": 7,
   "id": "dc08c433-2b8d-4a15-9fab-30943c82f4c4",
   "metadata": {},
   "outputs": [],
   "source": [
    "loader.set_path(DATA_DIR)"
   ]
  },
  {
   "cell_type": "code",
   "execution_count": 8,
   "id": "b66e7bff-32d4-4cc4-83ce-21fe87f34506",
   "metadata": {},
   "outputs": [],
   "source": [
    "NNP = loader.load()"
   ]
  },
  {
   "cell_type": "code",
   "execution_count": 9,
   "id": "e76e1597-75ee-43a0-81be-4107167e3475",
   "metadata": {},
   "outputs": [],
   "source": [
    "PARAMS = {\n",
    "    \"data\": {\"rng\" : np.array([4., 5., 3., 5., 3.])},\n",
    "    \"op\": {\"step\": 10},\n",
    "    \"model\": {},\n",
    "}"
   ]
  },
  {
   "cell_type": "code",
   "execution_count": 30,
   "id": "d6f6d9c5-1aa2-49bb-9c8d-40b62ba71eb6",
   "metadata": {},
   "outputs": [],
   "source": [
    "from PIML.gateway.processIF.nnprepprocessIF.nnprepprocessIF import StellarNNPrepProcessIF"
   ]
  },
  {
   "cell_type": "code",
   "execution_count": 31,
   "id": "46c98097-d538-4768-ac28-bfa631f92159",
   "metadata": {},
   "outputs": [],
   "source": [
    "PP = StellarNNPrepProcessIF()"
   ]
  },
  {
   "cell_type": "code",
   "execution_count": 34,
   "id": "fe6fa578-54d4-42f1-8fc4-539075ef51f2",
   "metadata": {},
   "outputs": [],
   "source": [
    "NNP.out = {\"Obs\": None, \"uniform_label_sampler\": None, \"halton_label_sampler\": None,\"gen_data_from_label\": None, \"label_scaler\": None, \"label_rescaler\": None}\n"
   ]
  },
  {
   "cell_type": "code",
   "execution_count": 35,
   "id": "ac548a9b-0563-4757-9580-0b7cdd34a041",
   "metadata": {},
   "outputs": [
    {
     "ename": "AttributeError",
     "evalue": "'dict' object has no attribute 'label_scaler'",
     "output_type": "error",
     "traceback": [
      "\u001b[0;31m---------------------------------------------------------------------------\u001b[0m",
      "\u001b[0;31mAttributeError\u001b[0m                            Traceback (most recent call last)",
      "\u001b[0;32m/tmp/ipykernel_855331/124674630.py\u001b[0m in \u001b[0;36m<module>\u001b[0;34m\u001b[0m\n\u001b[0;32m----> 1\u001b[0;31m \u001b[0mPP\u001b[0m\u001b[0;34m.\u001b[0m\u001b[0minteract_on_NNPrep\u001b[0m\u001b[0;34m(\u001b[0m\u001b[0mPARAMS\u001b[0m\u001b[0;34m,\u001b[0m \u001b[0mNNP\u001b[0m\u001b[0;34m)\u001b[0m\u001b[0;34m\u001b[0m\u001b[0;34m\u001b[0m\u001b[0m\n\u001b[0m",
      "\u001b[0;32m~/PIML_v1/PIML/gateway/processIF/nnprepprocessIF/nnprepprocessIF.py\u001b[0m in \u001b[0;36minteract_on_NNPrep\u001b[0;34m(self, PARAMS, NNPrep)\u001b[0m\n\u001b[1;32m     33\u001b[0m     \u001b[0;32mdef\u001b[0m \u001b[0minteract_on_NNPrep\u001b[0m\u001b[0;34m(\u001b[0m\u001b[0mself\u001b[0m\u001b[0;34m,\u001b[0m \u001b[0mPARAMS\u001b[0m\u001b[0;34m,\u001b[0m \u001b[0mNNPrep\u001b[0m\u001b[0;34m:\u001b[0m \u001b[0mNNPrep\u001b[0m\u001b[0;34m)\u001b[0m\u001b[0;34m:\u001b[0m\u001b[0;34m\u001b[0m\u001b[0;34m\u001b[0m\u001b[0m\n\u001b[1;32m     34\u001b[0m         \u001b[0msuper\u001b[0m\u001b[0;34m(\u001b[0m\u001b[0;34m)\u001b[0m\u001b[0;34m.\u001b[0m\u001b[0msetup\u001b[0m\u001b[0;34m(\u001b[0m\u001b[0mPARAMS\u001b[0m\u001b[0;34m)\u001b[0m\u001b[0;34m\u001b[0m\u001b[0;34m\u001b[0m\u001b[0m\n\u001b[0;32m---> 35\u001b[0;31m         \u001b[0msuper\u001b[0m\u001b[0;34m(\u001b[0m\u001b[0;34m)\u001b[0m\u001b[0;34m.\u001b[0m\u001b[0minteract_on_Object\u001b[0m\u001b[0;34m(\u001b[0m\u001b[0mNNPrep\u001b[0m\u001b[0;34m)\u001b[0m\u001b[0;34m\u001b[0m\u001b[0;34m\u001b[0m\u001b[0m\n\u001b[0m\u001b[1;32m     36\u001b[0m         \u001b[0mself\u001b[0m\u001b[0;34m.\u001b[0m\u001b[0mObject\u001b[0m \u001b[0;34m=\u001b[0m \u001b[0mNNPrep\u001b[0m\u001b[0;34m\u001b[0m\u001b[0;34m\u001b[0m\u001b[0m\n\u001b[1;32m     37\u001b[0m \u001b[0;34m\u001b[0m\u001b[0m\n",
      "\u001b[0;32m~/PIML_v1/PIML/gateway/processIF/baseprocessIF.py\u001b[0m in \u001b[0;36minteract_on_Object\u001b[0;34m(self, Object)\u001b[0m\n\u001b[1;32m     47\u001b[0m     \u001b[0;32mdef\u001b[0m \u001b[0minteract_on_Object\u001b[0m\u001b[0;34m(\u001b[0m\u001b[0mself\u001b[0m\u001b[0;34m,\u001b[0m \u001b[0mObject\u001b[0m\u001b[0;34m)\u001b[0m\u001b[0;34m:\u001b[0m\u001b[0;34m\u001b[0m\u001b[0;34m\u001b[0m\u001b[0m\n\u001b[1;32m     48\u001b[0m         \u001b[0mself\u001b[0m\u001b[0;34m.\u001b[0m\u001b[0mProcess\u001b[0m\u001b[0;34m.\u001b[0m\u001b[0mset_process\u001b[0m\u001b[0;34m(\u001b[0m\u001b[0mself\u001b[0m\u001b[0;34m.\u001b[0m\u001b[0mOP_PARAM\u001b[0m\u001b[0;34m,\u001b[0m \u001b[0mself\u001b[0m\u001b[0;34m.\u001b[0m\u001b[0mOP_MODEL\u001b[0m\u001b[0;34m,\u001b[0m \u001b[0mself\u001b[0m\u001b[0;34m.\u001b[0m\u001b[0mOP_DATA\u001b[0m\u001b[0;34m)\u001b[0m\u001b[0;34m\u001b[0m\u001b[0;34m\u001b[0m\u001b[0m\n\u001b[0;32m---> 49\u001b[0;31m         \u001b[0mself\u001b[0m\u001b[0;34m.\u001b[0m\u001b[0mProcess\u001b[0m\u001b[0;34m.\u001b[0m\u001b[0mstart\u001b[0m\u001b[0;34m(\u001b[0m\u001b[0mObject\u001b[0m\u001b[0;34m)\u001b[0m\u001b[0;34m\u001b[0m\u001b[0;34m\u001b[0m\u001b[0m\n\u001b[0m\u001b[1;32m     50\u001b[0m \u001b[0;34m\u001b[0m\u001b[0m\n\u001b[1;32m     51\u001b[0m     \u001b[0;32mdef\u001b[0m \u001b[0mfinish\u001b[0m\u001b[0;34m(\u001b[0m\u001b[0mself\u001b[0m\u001b[0;34m,\u001b[0m \u001b[0mstore_path\u001b[0m\u001b[0;34m)\u001b[0m\u001b[0;34m:\u001b[0m\u001b[0;34m\u001b[0m\u001b[0;34m\u001b[0m\u001b[0m\n",
      "\u001b[0;32m~/PIML_v1/PIML/crust/process/nnprepprocess.py\u001b[0m in \u001b[0;36mstart\u001b[0;34m(self, NNP)\u001b[0m\n\u001b[1;32m     31\u001b[0m     \u001b[0;32mdef\u001b[0m \u001b[0mstart\u001b[0m\u001b[0;34m(\u001b[0m\u001b[0mself\u001b[0m\u001b[0;34m,\u001b[0m \u001b[0mNNP\u001b[0m\u001b[0;34m:\u001b[0m \u001b[0mNNPrep\u001b[0m\u001b[0;34m)\u001b[0m\u001b[0;34m:\u001b[0m\u001b[0;34m\u001b[0m\u001b[0;34m\u001b[0m\u001b[0m\n\u001b[1;32m     32\u001b[0m         \u001b[0;32mfor\u001b[0m \u001b[0moperation\u001b[0m \u001b[0;32min\u001b[0m \u001b[0mself\u001b[0m\u001b[0;34m.\u001b[0m\u001b[0moperation_list\u001b[0m\u001b[0;34m:\u001b[0m\u001b[0;34m\u001b[0m\u001b[0;34m\u001b[0m\u001b[0m\n\u001b[0;32m---> 33\u001b[0;31m             \u001b[0moperation\u001b[0m\u001b[0;34m.\u001b[0m\u001b[0mperform_on_NNPrep\u001b[0m\u001b[0;34m(\u001b[0m\u001b[0mNNP\u001b[0m\u001b[0;34m)\u001b[0m\u001b[0;34m\u001b[0m\u001b[0;34m\u001b[0m\u001b[0m\n\u001b[0m\u001b[1;32m     34\u001b[0m \u001b[0;34m\u001b[0m\u001b[0m\n\u001b[1;32m     35\u001b[0m \u001b[0;34m\u001b[0m\u001b[0m\n",
      "\u001b[0;32m~/PIML_v1/PIML/crust/operation/nnoperation/basennprepoperation.py\u001b[0m in \u001b[0;36mperform_on_NNPrep\u001b[0;34m(self, NNP)\u001b[0m\n\u001b[1;32m     21\u001b[0m         \u001b[0mNNP\u001b[0m\u001b[0;34m.\u001b[0m\u001b[0mcoordx\u001b[0m \u001b[0;34m=\u001b[0m \u001b[0mself\u001b[0m\u001b[0;34m.\u001b[0m\u001b[0mtick\u001b[0m\u001b[0;34m\u001b[0m\u001b[0;34m\u001b[0m\u001b[0m\n\u001b[1;32m     22\u001b[0m         \u001b[0mNNP\u001b[0m\u001b[0;34m.\u001b[0m\u001b[0mcoordx_dim\u001b[0m \u001b[0;34m=\u001b[0m \u001b[0mlen\u001b[0m\u001b[0;34m(\u001b[0m\u001b[0mself\u001b[0m\u001b[0;34m.\u001b[0m\u001b[0mtick\u001b[0m\u001b[0;34m)\u001b[0m\u001b[0;34m\u001b[0m\u001b[0;34m\u001b[0m\u001b[0m\n\u001b[0;32m---> 23\u001b[0;31m         \u001b[0mNNP\u001b[0m\u001b[0;34m.\u001b[0m\u001b[0mout\u001b[0m\u001b[0;34m.\u001b[0m\u001b[0mlabel_scaler\u001b[0m \u001b[0;34m=\u001b[0m \u001b[0mself\u001b[0m\u001b[0;34m.\u001b[0m\u001b[0mscaler\u001b[0m\u001b[0;34m\u001b[0m\u001b[0;34m\u001b[0m\u001b[0m\n\u001b[0m\u001b[1;32m     24\u001b[0m         \u001b[0mNNP\u001b[0m\u001b[0;34m.\u001b[0m\u001b[0mout\u001b[0m\u001b[0;34m.\u001b[0m\u001b[0mlabel_rescaler\u001b[0m \u001b[0;34m=\u001b[0m \u001b[0mself\u001b[0m\u001b[0;34m.\u001b[0m\u001b[0mrescaler\u001b[0m\u001b[0;34m\u001b[0m\u001b[0;34m\u001b[0m\u001b[0m\n\u001b[1;32m     25\u001b[0m \u001b[0;34m\u001b[0m\u001b[0m\n",
      "\u001b[0;31mAttributeError\u001b[0m: 'dict' object has no attribute 'label_scaler'"
     ]
    }
   ],
   "source": [
    "PP.interact_on_NNPrep(PARAMS, NNP)"
   ]
  },
  {
   "cell_type": "code",
   "execution_count": 21,
   "id": "cd723fd7-20fe-497f-815d-579b0cfb04d6",
   "metadata": {},
   "outputs": [
    {
     "ename": "AttributeError",
     "evalue": "Can't pickle local object 'CoordxifyOperation.get_scalers.<locals>.<lambda>'",
     "output_type": "error",
     "traceback": [
      "\u001b[0;31m---------------------------------------------------------------------------\u001b[0m",
      "\u001b[0;31mAttributeError\u001b[0m                            Traceback (most recent call last)",
      "\u001b[0;32m/tmp/ipykernel_855331/2759045184.py\u001b[0m in \u001b[0;36m<module>\u001b[0;34m\u001b[0m\n\u001b[0;32m----> 1\u001b[0;31m \u001b[0mPP\u001b[0m\u001b[0;34m.\u001b[0m\u001b[0mfinish\u001b[0m\u001b[0;34m(\u001b[0m\u001b[0;34m\"/home/swei20/PIML_v1/test/testdata/testnndata\"\u001b[0m\u001b[0;34m)\u001b[0m\u001b[0;34m\u001b[0m\u001b[0;34m\u001b[0m\u001b[0m\n\u001b[0m",
      "\u001b[0;32m~/PIML_v1/PIML/gateway/processIF/nnprepprocessIF/nnprepprocessIF.py\u001b[0m in \u001b[0;36mfinish\u001b[0;34m(self, store_path, name)\u001b[0m\n\u001b[1;32m     39\u001b[0m     \u001b[0;32mdef\u001b[0m \u001b[0mfinish\u001b[0m\u001b[0;34m(\u001b[0m\u001b[0mself\u001b[0m\u001b[0;34m,\u001b[0m \u001b[0mstore_path\u001b[0m\u001b[0;34m,\u001b[0m \u001b[0mname\u001b[0m\u001b[0;34m=\u001b[0m\u001b[0;34m\"NNPrep\"\u001b[0m\u001b[0;34m)\u001b[0m\u001b[0;34m:\u001b[0m\u001b[0;34m\u001b[0m\u001b[0;34m\u001b[0m\u001b[0m\n\u001b[1;32m     40\u001b[0m         \u001b[0mself\u001b[0m\u001b[0;34m.\u001b[0m\u001b[0mstorer\u001b[0m\u001b[0;34m.\u001b[0m\u001b[0mset_path\u001b[0m\u001b[0;34m(\u001b[0m\u001b[0mstore_path\u001b[0m\u001b[0;34m,\u001b[0m \u001b[0mname\u001b[0m\u001b[0;34m)\u001b[0m\u001b[0;34m\u001b[0m\u001b[0;34m\u001b[0m\u001b[0m\n\u001b[0;32m---> 41\u001b[0;31m         \u001b[0mself\u001b[0m\u001b[0;34m.\u001b[0m\u001b[0mstorer\u001b[0m\u001b[0;34m.\u001b[0m\u001b[0mstore\u001b[0m\u001b[0;34m(\u001b[0m\u001b[0mself\u001b[0m\u001b[0;34m.\u001b[0m\u001b[0mObject\u001b[0m\u001b[0;34m)\u001b[0m\u001b[0;34m\u001b[0m\u001b[0;34m\u001b[0m\u001b[0m\n\u001b[0m\u001b[1;32m     42\u001b[0m \u001b[0;34m\u001b[0m\u001b[0m\n",
      "\u001b[0;32m~/PIML_v1/PIML/gateway/storerIF/basestorerIF.py\u001b[0m in \u001b[0;36mstore\u001b[0;34m(self, data)\u001b[0m\n\u001b[1;32m     49\u001b[0m     \u001b[0;32mdef\u001b[0m \u001b[0mstore\u001b[0m\u001b[0;34m(\u001b[0m\u001b[0mself\u001b[0m\u001b[0;34m,\u001b[0m \u001b[0mdata\u001b[0m\u001b[0;34m)\u001b[0m\u001b[0;34m:\u001b[0m\u001b[0;34m\u001b[0m\u001b[0;34m\u001b[0m\u001b[0m\n\u001b[1;32m     50\u001b[0m         \u001b[0mstorer\u001b[0m \u001b[0;34m=\u001b[0m \u001b[0mPickleStorer\u001b[0m\u001b[0;34m(\u001b[0m\u001b[0;34m)\u001b[0m\u001b[0;34m\u001b[0m\u001b[0;34m\u001b[0m\u001b[0m\n\u001b[0;32m---> 51\u001b[0;31m         \u001b[0mstorer\u001b[0m\u001b[0;34m.\u001b[0m\u001b[0mstore\u001b[0m\u001b[0;34m(\u001b[0m\u001b[0mself\u001b[0m\u001b[0;34m.\u001b[0m\u001b[0mDATA_PATH\u001b[0m\u001b[0;34m,\u001b[0m \u001b[0mdata\u001b[0m\u001b[0;34m)\u001b[0m\u001b[0;34m\u001b[0m\u001b[0;34m\u001b[0m\u001b[0m\n\u001b[0m",
      "\u001b[0;32m~/PIML_v1/PIML/surface/database/basestorer.py\u001b[0m in \u001b[0;36mstore\u001b[0;34m(self, PATH, val)\u001b[0m\n\u001b[1;32m     16\u001b[0m     \u001b[0;32mdef\u001b[0m \u001b[0mstore\u001b[0m\u001b[0;34m(\u001b[0m\u001b[0mself\u001b[0m\u001b[0;34m,\u001b[0m \u001b[0mPATH\u001b[0m\u001b[0;34m,\u001b[0m \u001b[0mval\u001b[0m\u001b[0;34m)\u001b[0m\u001b[0;34m:\u001b[0m\u001b[0;34m\u001b[0m\u001b[0;34m\u001b[0m\u001b[0m\n\u001b[1;32m     17\u001b[0m         \u001b[0;32mwith\u001b[0m \u001b[0mopen\u001b[0m\u001b[0;34m(\u001b[0m\u001b[0mPATH\u001b[0m\u001b[0;34m,\u001b[0m \u001b[0;34m'wb'\u001b[0m\u001b[0;34m)\u001b[0m \u001b[0;32mas\u001b[0m \u001b[0mf\u001b[0m\u001b[0;34m:\u001b[0m\u001b[0;34m\u001b[0m\u001b[0;34m\u001b[0m\u001b[0m\n\u001b[0;32m---> 18\u001b[0;31m             \u001b[0mpickle\u001b[0m\u001b[0;34m.\u001b[0m\u001b[0mdump\u001b[0m\u001b[0;34m(\u001b[0m\u001b[0mval\u001b[0m\u001b[0;34m,\u001b[0m \u001b[0mf\u001b[0m\u001b[0;34m,\u001b[0m \u001b[0mpickle\u001b[0m\u001b[0;34m.\u001b[0m\u001b[0mHIGHEST_PROTOCOL\u001b[0m\u001b[0;34m)\u001b[0m\u001b[0;34m\u001b[0m\u001b[0;34m\u001b[0m\u001b[0m\n\u001b[0m\u001b[1;32m     19\u001b[0m \u001b[0;34m\u001b[0m\u001b[0m\n\u001b[1;32m     20\u001b[0m \u001b[0;32mclass\u001b[0m \u001b[0mNpStorer\u001b[0m\u001b[0;34m(\u001b[0m\u001b[0mBaseStorer\u001b[0m\u001b[0;34m)\u001b[0m\u001b[0;34m:\u001b[0m\u001b[0;34m\u001b[0m\u001b[0;34m\u001b[0m\u001b[0m\n",
      "\u001b[0;31mAttributeError\u001b[0m: Can't pickle local object 'CoordxifyOperation.get_scalers.<locals>.<lambda>'"
     ]
    }
   ],
   "source": [
    "PP.finish(\"/home/swei20/PIML_v1/test/testdata/testnndata\")"
   ]
  },
  {
   "cell_type": "code",
   "execution_count": 24,
   "id": "f61600c9-05e3-4ca4-a3df-f7d81c96ddee",
   "metadata": {},
   "outputs": [
    {
     "data": {
      "text/plain": [
       "{'interpolator': <scipy.interpolate._rbfinterp.RBFInterpolator at 0x7fb33651cc10>,\n",
       " 'sky': array([0.15077469, 0.1495934 , 0.14423648, 0.14433482, 0.14747137,\n",
       "        0.14836056, 0.14531086, 0.14922931, 0.14873182, 0.14719386,\n",
       "        0.14742225, 0.14853853, 0.14872931, 0.14798906, 0.14843427,\n",
       "        0.14942387, 0.15094892, 0.15054792, 0.15677576, 0.19068839,\n",
       "        0.17415853, 0.15311395, 0.15320229, 0.16651898, 0.17029691,\n",
       "        0.15508382, 0.18025812, 0.1883331 , 0.16233235, 0.16886398,\n",
       "        0.16669567, 0.15809255, 0.31407816, 0.52847163, 0.16061403,\n",
       "        0.16233161, 0.16050382, 0.16841212, 0.16914596, 0.16412062,\n",
       "        0.1623135 , 0.16355638, 0.17055147, 0.17649125, 0.16981551,\n",
       "        0.16835615, 0.16894306, 0.16776282, 0.1689735 , 0.17108565,\n",
       "        0.21743374, 0.21017425, 0.18578376, 0.17103679, 0.17821553,\n",
       "        0.18634029, 0.19609469, 0.25088166, 0.22023136, 0.19109764,\n",
       "        0.18437969, 0.18709035, 0.17928734, 0.24631951, 0.32752443,\n",
       "        0.17920501, 0.17541241, 0.22140323, 0.18607524, 0.1782438 ,\n",
       "        0.18310485, 0.18102709, 0.17813475, 0.18273535, 0.18308226,\n",
       "        0.20850683, 0.2118021 , 0.18088978, 0.18353911, 0.18650233,\n",
       "        0.19413879, 0.19525158, 0.76060658, 0.41070454, 0.27989433,\n",
       "        0.19448632, 0.19024132, 0.19733519, 0.1963367 , 0.19449762,\n",
       "        0.20845266, 0.19697185, 0.20923709, 0.19921612, 0.2654738 ,\n",
       "        0.24560004, 1.25410509, 0.31016396, 0.19801654, 0.19930584,\n",
       "        0.91599799, 0.33785729, 0.20015064, 0.2026415 , 0.20763698,\n",
       "        0.22937657, 0.2049907 , 0.20525852, 0.21241704, 0.21408006,\n",
       "        0.21688857, 0.21091482, 0.22633555, 0.21669072, 0.80920067,\n",
       "        0.41729497, 0.21616765, 0.21757693, 0.22760183, 0.22037829,\n",
       "        0.23069926, 0.31258083, 0.66164141, 0.23407819, 0.2284911 ,\n",
       "        0.29451444, 0.2552255 , 0.24677304, 0.25061808, 0.27271351,\n",
       "        0.23868046, 0.2942626 , 0.29286793, 0.24830773, 0.25761645,\n",
       "        0.25612404, 0.25562369, 0.31110623, 0.27861942, 0.2818129 ,\n",
       "        0.27547543, 0.26052986, 0.30132864, 0.28439904, 0.2585277 ,\n",
       "        0.26765433, 0.26786594, 0.27126658, 0.2669448 , 0.27765435,\n",
       "        0.28202935, 0.30781825, 0.29414398, 0.32187064, 1.09440948,\n",
       "        0.82300544, 0.46244163, 0.29063734, 0.2874183 , 0.27793168,\n",
       "        0.34223132, 0.52313925, 0.29900544, 0.3011935 , 0.29610237,\n",
       "        0.3016806 , 0.30705132, 0.30734797, 0.33346364, 0.34129663,\n",
       "        0.34182358, 0.36290769, 0.32780384, 0.30921269, 0.31294904,\n",
       "        0.31262137, 0.32121396, 0.31462864, 0.31871594, 0.33745691,\n",
       "        0.3378131 , 0.33997603, 0.34806574, 0.32992386, 0.33393286,\n",
       "        0.46343167, 0.33909138, 0.34069703, 0.34190535, 0.36394823,\n",
       "        0.39202571, 0.35838278, 0.35326057, 0.3993782 , 0.64865861,\n",
       "        0.49148915, 0.42861642, 0.4912762 , 0.50733858, 0.80176853,\n",
       "        0.6440612 , 0.42033427, 0.4062287 , 0.39021821, 0.39096852,\n",
       "        0.39701091, 0.39594507, 0.40866664, 0.42912755, 0.51500606,\n",
       "        0.97947304, 0.48022699, 0.4239523 , 0.42921031, 0.42897342,\n",
       "        0.42817814, 0.43675347, 1.09560973, 0.68419042, 0.44828174]),\n",
       " 'coordx': array([4., 5., 3., 5., 3.]),\n",
       " 'coordx_dim': 5,\n",
       " 'label_scaler': <function PIML.crust.operation.baseoperation.CoordxifyOperation.get_scalers.<locals>.<lambda>(x)>,\n",
       " 'label_rescaler': <function PIML.crust.operation.baseoperation.CoordxifyOperation.get_scalers.<locals>.<lambda>(x)>,\n",
       " 'Obs': <PIML.core.method.obs.baseobs.Obs at 0x7fb37d8cd0d0>,\n",
       " 'gen_sigma': <function PIML.core.method.obs.baseobs.Obs.get_log_sigma(self, flux, log=False)>,\n",
       " 'uniform_label_sampler': <function PIML.core.method.sampler.samplerbuilder.SamplerBuilder.get_uniform_sampler.<locals>.sampler(N, seed=None)>,\n",
       " 'halton_label_sampler': <function PIML.core.method.sampler.samplerbuilder.SamplerBuilder.get_halton_sampler.<locals>.sampler(N, seed=None)>,\n",
       " 'gen_data_from_label': <function PIML.crust.operation.nnoperation.basennprepoperation.DataGeneratorNNPrepOperation.perform.<locals>.gen_data_from_label(label)>}"
      ]
     },
     "execution_count": 24,
     "metadata": {},
     "output_type": "execute_result"
    }
   ],
   "source": [
    "NNP.__dict__"
   ]
  },
  {
   "cell_type": "code",
   "execution_count": 20,
   "id": "ba8c3327-2ef6-4508-a313-e7a2e884c5a2",
   "metadata": {},
   "outputs": [
    {
     "data": {
      "text/plain": [
       "<PIML.crust.data.nndata.basennprep.NNPrep at 0x7fb3b417da60>"
      ]
     },
     "execution_count": 20,
     "metadata": {},
     "output_type": "execute_result"
    }
   ],
   "source": [
    "PP.Object"
   ]
  },
  {
   "cell_type": "markdown",
   "id": "b4147edd-904e-48cd-b4e2-2600f90795c6",
   "metadata": {},
   "source": [
    "# Testing"
   ]
  },
  {
   "cell_type": "code",
   "execution_count": 13,
   "id": "1fc2c7ff-ad47-4ae4-9d5e-6f415995c270",
   "metadata": {},
   "outputs": [],
   "source": [
    "label = NNP.uniform_label_sampler(10)"
   ]
  },
  {
   "cell_type": "code",
   "execution_count": 14,
   "id": "22a8497f-7991-4d98-914f-cf534a455217",
   "metadata": {},
   "outputs": [],
   "source": [
    "data = NNP.gen_data_from_label(label)"
   ]
  },
  {
   "cell_type": "code",
   "execution_count": 15,
   "id": "02789254-1fe3-4a8a-b15e-e3f958192e9c",
   "metadata": {},
   "outputs": [
    {
     "data": {
      "text/plain": [
       "array([[0.57925788, 0.39948807, 0.64215741, 0.02337675, 0.73335041],\n",
       "       [0.26888795, 0.54853334, 0.88590765, 0.13200856, 0.66044418],\n",
       "       [0.88733086, 0.30163277, 0.00984617, 0.41457628, 0.38629944],\n",
       "       [0.04600896, 0.49115956, 0.51215172, 0.89300685, 0.56592791],\n",
       "       [0.96803737, 0.92696633, 0.97286327, 0.26634597, 0.46174536],\n",
       "       [0.50839872, 0.01970731, 0.00142196, 0.08923567, 0.99983921],\n",
       "       [0.79577932, 0.70621893, 0.46475822, 0.82658641, 0.11810102],\n",
       "       [0.86640731, 0.71509963, 0.60395408, 0.04339222, 0.79145322],\n",
       "       [0.47641478, 0.13259609, 0.76819618, 0.74681398, 0.33790292],\n",
       "       [0.76201683, 0.61663583, 0.47329428, 0.41569987, 0.70014011]])"
      ]
     },
     "execution_count": 15,
     "metadata": {},
     "output_type": "execute_result"
    }
   ],
   "source": [
    "label"
   ]
  },
  {
   "cell_type": "code",
   "execution_count": 16,
   "id": "d303bb79-5623-4175-b140-e3a32aba3dbe",
   "metadata": {},
   "outputs": [
    {
     "data": {
      "text/plain": [
       "array([[14.64356868, 14.63281605, 14.63414598, ..., 14.22274357,\n",
       "        14.23333884, 14.22040087],\n",
       "       [14.72139445, 14.7157282 , 14.71506144, ..., 14.29114978,\n",
       "        14.2990678 , 14.28839015],\n",
       "       [14.60988994, 14.58849995, 14.58328216, ..., 14.19887966,\n",
       "        14.2052876 , 14.18988353],\n",
       "       ...,\n",
       "       [14.89700907, 14.8831864 , 14.88138988, ..., 14.44433574,\n",
       "        14.44996594, 14.43302246],\n",
       "       [14.42499533, 14.41179017, 14.41130061, ..., 14.03425995,\n",
       "        14.04635907, 14.03335774],\n",
       "       [14.81636442, 14.8020901 , 14.79566017, ..., 14.37646682,\n",
       "        14.38028096, 14.36439799]])"
      ]
     },
     "execution_count": 16,
     "metadata": {},
     "output_type": "execute_result"
    }
   ],
   "source": [
    "data"
   ]
  },
  {
   "cell_type": "code",
   "execution_count": 17,
   "id": "f6a1c73d-9b43-464e-8118-68d3ac3a20a9",
   "metadata": {},
   "outputs": [],
   "source": [
    "sigma = NNP.Obs.get_log_sigma(data, log=1)"
   ]
  },
  {
   "cell_type": "code",
   "execution_count": 18,
   "id": "f1bd4f33-6997-46b7-a647-183b5ab9e6d8",
   "metadata": {},
   "outputs": [
    {
     "data": {
      "text/plain": [
       "array([[0.00020975, 0.00021089, 0.00021075, ..., 0.00025934, 0.00025796,\n",
       "        0.00025965],\n",
       "       [0.00020169, 0.00020227, 0.00020234, ..., 0.00025053, 0.00024953,\n",
       "        0.00025088],\n",
       "       [0.00021334, 0.00021565, 0.00021622, ..., 0.00026249, 0.00026164,\n",
       "        0.00026368],\n",
       "       ...,\n",
       "       [0.00018464, 0.00018593, 0.0001861 , ..., 0.0002319 , 0.00023124,\n",
       "        0.00023323],\n",
       "       [0.00023417, 0.00023574, 0.00023579, ..., 0.00028528, 0.00028354,\n",
       "        0.00028541],\n",
       "       [0.00019228, 0.00019367, 0.0001943 , ..., 0.00023997, 0.00023951,\n",
       "        0.00024144]])"
      ]
     },
     "execution_count": 18,
     "metadata": {},
     "output_type": "execute_result"
    }
   ],
   "source": [
    "sigma"
   ]
  },
  {
   "cell_type": "code",
   "execution_count": null,
   "id": "8e2b34fb-dab8-4267-a42e-23342ff96520",
   "metadata": {},
   "outputs": [],
   "source": []
  }
 ],
 "metadata": {
  "kernelspec": {
   "display_name": "Python 3 [viska-tf28]",
   "language": "python",
   "name": "python3-viska-tf28"
  },
  "language_info": {
   "codemirror_mode": {
    "name": "ipython",
    "version": 3
   },
   "file_extension": ".py",
   "mimetype": "text/x-python",
   "name": "python",
   "nbconvert_exporter": "python",
   "pygments_lexer": "ipython3",
   "version": "3.9.7"
  }
 },
 "nbformat": 4,
 "nbformat_minor": 5
}
