{
 "cells": [
  {
   "cell_type": "code",
   "execution_count": 93,
   "id": "eef421dc-4a25-438d-bd69-8069661b6f2a",
   "metadata": {},
   "outputs": [
    {
     "name": "stdout",
     "output_type": "stream",
     "text": [
      "The autoreload extension is already loaded. To reload it, use:\n",
      "  %reload_ext autoreload\n"
     ]
    }
   ],
   "source": [
    "%load_ext autoreload\n",
    "%autoreload 2"
   ]
  },
  {
   "cell_type": "code",
   "execution_count": 2,
   "id": "6afb10cc-684a-439f-a309-5e24abf3e2ee",
   "metadata": {},
   "outputs": [],
   "source": [
    "PROJECT_PATH = '/home/swei20/PIML_v1/'\n",
    "import sys\n",
    "sys.path.insert(0, PROJECT_PATH)"
   ]
  },
  {
   "cell_type": "code",
   "execution_count": 3,
   "id": "2ba374f7-8a4f-4e0c-88fa-5709a2bd19e3",
   "metadata": {},
   "outputs": [],
   "source": [
    "import os\n",
    "import numpy as np\n",
    "import matplotlib.pyplot as plt\n"
   ]
  },
  {
   "cell_type": "code",
   "execution_count": 4,
   "id": "289598c4-1672-4b2e-895b-695a661dff68",
   "metadata": {},
   "outputs": [],
   "source": [
    "from PIML.gateway.loaderIF.baseloaderIF import SpecGridLoaderIF\n"
   ]
  },
  {
   "cell_type": "code",
   "execution_count": 120,
   "id": "d2b82ac7-a592-43bd-97d4-01c87a431aac",
   "metadata": {},
   "outputs": [],
   "source": [
    "GRID_PATH=\"/datascope/subaru/user/swei20/data/pfsspec/import/stellar/grid\"\n",
    "DATA_PATH=os.path.join(GRID_PATH, \"bosz_5000_RHB.h5\")"
   ]
  },
  {
   "cell_type": "code",
   "execution_count": 121,
   "id": "a2ee0076-50f8-43aa-b290-2fdcf5ad2dfe",
   "metadata": {},
   "outputs": [],
   "source": [
    "loader = SpecGridLoaderIF()"
   ]
  },
  {
   "cell_type": "code",
   "execution_count": 123,
   "id": "8976ff33-1b8e-4b8e-9fbd-50f2e8f7b786",
   "metadata": {},
   "outputs": [],
   "source": [
    "loader.set_path(DATA_PATH)"
   ]
  },
  {
   "cell_type": "code",
   "execution_count": 124,
   "id": "d3101519-c10c-4cc9-aca7-fdf1ff73f2c9",
   "metadata": {},
   "outputs": [],
   "source": [
    "SpecGrid = loader.load()"
   ]
  },
  {
   "cell_type": "code",
   "execution_count": 125,
   "id": "64f51731-f745-4906-96df-cb4fa847dd72",
   "metadata": {},
   "outputs": [
    {
     "data": {
      "text/plain": [
       "(2880, 15404)"
      ]
     },
     "execution_count": 125,
     "metadata": {},
     "output_type": "execute_result"
    }
   ],
   "source": [
    "SpecGrid.flux.shape"
   ]
  },
  {
   "cell_type": "code",
   "execution_count": 126,
   "id": "f6761361-b3ab-4577-b6db-33a1182736c4",
   "metadata": {},
   "outputs": [],
   "source": [
    "from PIML.crust.operation.specoperation import SplitSpecOperation"
   ]
  },
  {
   "cell_type": "code",
   "execution_count": 127,
   "id": "bd42e445-2571-49c9-b1d6-af1ea7d07f20",
   "metadata": {},
   "outputs": [],
   "source": [
    "sop = SplitSpecOperation(\"RedM\")"
   ]
  },
  {
   "cell_type": "code",
   "execution_count": 128,
   "id": "ed48f095-3989-4de5-a8e6-eddfc2759bee",
   "metadata": {},
   "outputs": [],
   "source": [
    "sop.perform_on_Spec(SpecGrid)"
   ]
  },
  {
   "cell_type": "code",
   "execution_count": null,
   "id": "5078e95d-27ed-45af-b8f5-120edd77d22b",
   "metadata": {},
   "outputs": [],
   "source": []
  },
  {
   "cell_type": "code",
   "execution_count": 130,
   "id": "ae994ca9-0568-46de-ae61-d04a303e3ffc",
   "metadata": {},
   "outputs": [
    {
     "data": {
      "text/plain": [
       "(2880, 2204)"
      ]
     },
     "execution_count": 130,
     "metadata": {},
     "output_type": "execute_result"
    }
   ],
   "source": [
    "SpecGrid.flux.shape"
   ]
  },
  {
   "cell_type": "code",
   "execution_count": 131,
   "id": "1eb18743-ce1c-43dc-8a5f-b744a9df1b72",
   "metadata": {},
   "outputs": [],
   "source": [
    "fluxH_mid = SpecGrid.flux[1377]"
   ]
  },
  {
   "cell_type": "code",
   "execution_count": 133,
   "id": "3d7dd61f-0c64-46ee-aa7b-1f6f11188981",
   "metadata": {},
   "outputs": [],
   "source": [
    "waveH = SpecGrid.wave"
   ]
  },
  {
   "cell_type": "code",
   "execution_count": 135,
   "id": "ab5e88d2-b6e3-4936-ad58-743df6a9c8b9",
   "metadata": {},
   "outputs": [
    {
     "data": {
      "text/plain": [
       "[<matplotlib.lines.Line2D at 0x7fdec5142be0>]"
      ]
     },
     "execution_count": 135,
     "metadata": {},
     "output_type": "execute_result"
    },
    {
     "data": {
      "image/png": "[encoded data removed]",
      "text/plain": [
       "<Figure size 432x288 with 1 Axes>"
      ]
     },
     "metadata": {
      "needs_background": "light"
     },
     "output_type": "display_data"
    }
   ],
   "source": [
    "plt.plot(waveH, fluxH_mid)"
   ]
  },
  {
   "cell_type": "code",
   "execution_count": 136,
   "id": "2b31d90a-d744-46ce-8732-9edb07781c3c",
   "metadata": {},
   "outputs": [],
   "source": [
    "def get_var(flux, sky):\n",
    "    #--------------------------------------------\n",
    "    # Get the total variance\n",
    "    # BETA is the scaling for the sky\n",
    "    # VREAD is the variance of the white noise\n",
    "    # This variance is still scaled with an additional\n",
    "    # factor when we simuate an observation.\n",
    "    #--------------------------------------------\n",
    "    assert flux.shape[-1] == sky.shape[0]\n",
    "    BETA  = 10.0\n",
    "    VREAD = 16000\n",
    "    return  flux + BETA*sky + VREAD"
   ]
  },
  {
   "cell_type": "code",
   "execution_count": 228,
   "id": "79454872-39cc-4760-ad93-bbbeab9805d3",
   "metadata": {},
   "outputs": [],
   "source": [
    "def get_noise(sigma):\n",
    "    np.random.rand(922)\n",
    "    return np.random.normal(0, sigma, np.shape(sigma))"
   ]
  },
  {
   "cell_type": "code",
   "execution_count": 142,
   "id": "73666386-f463-4f27-ad3b-c37c3c200b73",
   "metadata": {},
   "outputs": [],
   "source": [
    "BETA  = 10.0\n",
    "VREAD = 16000\n",
    "varH= get_var(fluxH_mid, Ob.skyH)"
   ]
  },
  {
   "cell_type": "code",
   "execution_count": 143,
   "id": "ccbecff5-857a-4d16-aacc-469627a71927",
   "metadata": {},
   "outputs": [
    {
     "data": {
      "text/plain": [
       "(2204,)"
      ]
     },
     "execution_count": 143,
     "metadata": {},
     "output_type": "execute_result"
    }
   ],
   "source": [
    "varH.shape"
   ]
  },
  {
   "cell_type": "code",
   "execution_count": 251,
   "id": "9d51f270-4e70-4977-aae4-c7ca9a44e8f0",
   "metadata": {},
   "outputs": [],
   "source": [
    "sigmaH = np.sqrt(varH)"
   ]
  },
  {
   "cell_type": "code",
   "execution_count": 284,
   "id": "e274c6ae-8550-405c-a2c2-e94117d39fa6",
   "metadata": {},
   "outputs": [],
   "source": [
    "nl=200"
   ]
  },
  {
   "cell_type": "code",
   "execution_count": 257,
   "id": "59757d37-3a9b-40c0-bbe1-ebf01e9e0f30",
   "metadata": {},
   "outputs": [],
   "source": [
    "obsfluxH  = get_noise(nl*sigmaH) + fluxH_mid"
   ]
  },
  {
   "cell_type": "code",
   "execution_count": 144,
   "id": "26f01a3d-bb20-4c11-97f0-b94fb226a11c",
   "metadata": {},
   "outputs": [],
   "source": [
    "var= get_var(flux_mid, Ob.sky)"
   ]
  },
  {
   "cell_type": "code",
   "execution_count": 246,
   "id": "ea85b77c-c1a3-4049-812d-91dfd42f9f31",
   "metadata": {},
   "outputs": [],
   "source": [
    "sigma = var**0.5"
   ]
  },
  {
   "cell_type": "code",
   "execution_count": 249,
   "id": "eecd82d9-2d00-436f-ba5b-48f257ffbdf7",
   "metadata": {},
   "outputs": [],
   "source": [
    "sigma10 = np.sqrt(var/10)"
   ]
  },
  {
   "cell_type": "code",
   "execution_count": 258,
   "id": "2e6fd387-6e10-4aff-abaf-f4d8121eab13",
   "metadata": {},
   "outputs": [],
   "source": [
    "obsflux = get_noise(nl*sigma) + flux_mid"
   ]
  },
  {
   "cell_type": "code",
   "execution_count": 285,
   "id": "3e163a22-6835-431f-b394-75b08dc619c9",
   "metadata": {},
   "outputs": [],
   "source": [
    "obsflux10 = get_noise(nl*sigma10) + flux_mid"
   ]
  },
  {
   "cell_type": "code",
   "execution_count": 265,
   "id": "43c24975-0ac8-4d75-8a3e-7255411dfaf8",
   "metadata": {},
   "outputs": [
    {
     "data": {
      "text/plain": [
       "13.522334681494602"
      ]
     },
     "execution_count": 265,
     "metadata": {},
     "output_type": "execute_result"
    }
   ],
   "source": [
    "np.mean(obsfluxH/nl/sigmaH)"
   ]
  },
  {
   "cell_type": "code",
   "execution_count": 266,
   "id": "f55590d4-aa04-46a8-8db8-ef3b536bb5b1",
   "metadata": {},
   "outputs": [
    {
     "data": {
      "text/plain": [
       "13.545734993567585"
      ]
     },
     "execution_count": 266,
     "metadata": {},
     "output_type": "execute_result"
    }
   ],
   "source": [
    "np.mean(obsflux/nl/sigma)"
   ]
  },
  {
   "cell_type": "code",
   "execution_count": 286,
   "id": "e2b6eaa1-0b94-4ac2-b639-3eaf798957a1",
   "metadata": {},
   "outputs": [
    {
     "data": {
      "text/plain": [
       "21.35756350439086"
      ]
     },
     "execution_count": 286,
     "metadata": {},
     "output_type": "execute_result"
    }
   ],
   "source": [
    "np.mean(obsflux10/nl/sigma10)"
   ]
  },
  {
   "cell_type": "code",
   "execution_count": 269,
   "id": "e64c982d-0581-4ab2-bff0-b41d9d186342",
   "metadata": {},
   "outputs": [
    {
     "data": {
      "text/plain": [
       "41.10960958218893"
      ]
     },
     "execution_count": 269,
     "metadata": {},
     "output_type": "execute_result"
    }
   ],
   "source": [
    "np.sqrt(10)*13"
   ]
  },
  {
   "cell_type": "code",
   "execution_count": 287,
   "id": "8801f9f2-ab51-4e9f-b207-2295c3f0b329",
   "metadata": {},
   "outputs": [],
   "source": [
    "logsigma = nl*sigma10 / flux_mid"
   ]
  },
  {
   "cell_type": "code",
   "execution_count": 288,
   "id": "3d0b911b-3cba-4b6e-9cbf-b543cc0173c2",
   "metadata": {},
   "outputs": [],
   "source": [
    "obslogflux10 = get_noise(logsigma) + np.log(flux_mid)"
   ]
  },
  {
   "cell_type": "code",
   "execution_count": 289,
   "id": "d0bd1287-65da-4d2c-a091-441d148bcaac",
   "metadata": {},
   "outputs": [],
   "source": [
    "obslogexpflux10=np.exp(obslogflux10)"
   ]
  },
  {
   "cell_type": "code",
   "execution_count": 291,
   "id": "a6d1e7d9-e514-4ec0-acf5-0f82f45aa81e",
   "metadata": {},
   "outputs": [],
   "source": [
    "a =np.mean(obslogexpflux10 / nl/sigma10).round(2)"
   ]
  },
  {
   "cell_type": "code",
   "execution_count": 292,
   "id": "f5f6b8db-e71b-49ba-8c07-aa4f826a6a34",
   "metadata": {},
   "outputs": [
    {
     "data": {
      "text/plain": [
       "21.4"
      ]
     },
     "execution_count": 292,
     "metadata": {},
     "output_type": "execute_result"
    }
   ],
   "source": [
    "a"
   ]
  },
  {
   "cell_type": "code",
   "execution_count": null,
   "id": "95ebfcb8-6b47-4c7d-ac9b-cb060ed83819",
   "metadata": {},
   "outputs": [],
   "source": [
    "np.mean(obslogexpflux10"
   ]
  },
  {
   "cell_type": "code",
   "execution_count": 242,
   "id": "359580d5-6e14-40d3-b174-b8183cc3ff03",
   "metadata": {},
   "outputs": [
    {
     "data": {
      "text/plain": [
       "array([1516.10405571, 1508.37047702, 1506.16448051, 1503.13387406,\n",
       "       1500.35378318, 1508.73174673, 1496.33600943, 1500.20714979,\n",
       "       1502.47512037, 1487.22273784])"
      ]
     },
     "execution_count": 242,
     "metadata": {},
     "output_type": "execute_result"
    }
   ],
   "source": [
    "(var**0.5)[:10]"
   ]
  },
  {
   "cell_type": "code",
   "execution_count": 243,
   "id": "a52ef30e-bcad-45da-aac5-1f5f9c9031d2",
   "metadata": {},
   "outputs": [
    {
     "data": {
      "text/plain": [
       "0.31622776601683794"
      ]
     },
     "execution_count": 243,
     "metadata": {},
     "output_type": "execute_result"
    }
   ],
   "source": [
    "0.1**0.5"
   ]
  },
  {
   "cell_type": "code",
   "execution_count": 272,
   "id": "ef2dcace-09f8-4a28-986f-a1ae72c260da",
   "metadata": {},
   "outputs": [
    {
     "data": {
      "text/plain": [
       "array([1516.10405571, 1508.37047702, 1506.16448051, 1503.13387406,\n",
       "       1500.35378318, 1508.73174673, 1496.33600943, 1500.20714979,\n",
       "       1502.47512037, 1487.22273784, 1500.12381963, 1490.09445519,\n",
       "       1484.0389103 , 1486.34164306, 1493.78763027, 1480.50042021,\n",
       "       1487.64629852, 1476.40153938, 1491.89529383, 1483.95145031,\n",
       "       1486.00193189, 1481.17235025, 1482.8524984 , 1483.81321776,\n",
       "       1478.87852881, 1476.09672814, 1460.97631828, 1474.01217204,\n",
       "       1474.8632558 , 1462.86762513, 1471.08180159, 1463.3221043 ,\n",
       "       1469.25938513, 1473.03947154, 1468.58489919, 1458.80828875,\n",
       "       1464.71212361, 1464.22733348, 1462.20439456, 1449.13479056,\n",
       "       1448.06133266, 1453.68209577, 1440.25751361, 1437.33495223,\n",
       "       1436.76779549, 1451.97854101, 1452.67397906, 1438.4963252 ,\n",
       "       1445.35175294, 1444.93657676, 1443.17087496, 1446.52068832,\n",
       "       1442.35635605, 1442.75490308, 1433.54169181, 1438.11399527,\n",
       "       1428.87786775, 1436.28427159, 1429.52516673, 1433.0498634 ,\n",
       "       1436.44416661, 1434.73059175, 1425.37426414, 1431.0843662 ,\n",
       "       1422.49192449, 1428.25480642, 1414.95998322, 1426.28966694,\n",
       "       1423.80541534, 1421.928895  , 1410.09284483, 1418.90162107,\n",
       "       1420.58853344, 1417.6642153 , 1417.80881321, 1404.81033776,\n",
       "       1389.27395355, 1411.69820036, 1407.73642256, 1409.23094808,\n",
       "       1403.93088911, 1400.31851824, 1395.74625418, 1393.05567263,\n",
       "       1397.85650156, 1402.18113839, 1397.02251321, 1385.47536007,\n",
       "       1398.5571005 , 1396.95810423, 1383.23247667, 1381.21394784,\n",
       "       1389.28114231, 1388.88876162, 1387.24642899, 1385.42500916,\n",
       "       1388.50010481, 1384.7140866 , 1374.60248078, 1380.98949781,\n",
       "       1379.64820153, 1372.72115835, 1379.93550629, 1378.23511289,\n",
       "       1373.22688452, 1374.74444671, 1371.90088924, 1372.6696808 ,\n",
       "       1368.11261385, 1367.00846406, 1365.28098532, 1356.16079767,\n",
       "       1351.65167974, 1364.35045604, 1363.51314332, 1362.17993413,\n",
       "       1361.30164243, 1360.40515133, 1359.1329133 , 1349.28210682,\n",
       "       1355.54871067, 1354.65609134, 1351.79015251, 1348.03276695,\n",
       "       1351.00787744, 1339.93020159, 1347.96237049, 1347.26852102,\n",
       "       1342.50233005, 1343.59693626, 1335.6992127 , 1336.01756823,\n",
       "       1340.94851828, 1338.84371122, 1337.40142671, 1336.27563071,\n",
       "       1335.19008244, 1333.9164558 , 1331.7893175 , 1330.79405549,\n",
       "       1328.31199451, 1327.74719179, 1316.44711754, 1314.06348553,\n",
       "       1314.93444144, 1314.70250496, 1310.96631485, 1320.47064059,\n",
       "       1313.9378484 , 1316.84197098, 1307.46427113, 1314.31087578,\n",
       "       1313.67155006, 1312.69692569, 1311.16396537, 1307.46633993,\n",
       "       1307.98877075, 1303.30460997, 1306.06388595, 1294.50097695,\n",
       "       1289.02033433, 1295.29349238, 1300.92389864, 1295.89853458,\n",
       "       1295.48560819, 1294.32338185, 1286.9860413 , 1289.39639889,\n",
       "       1292.64199786, 1287.99200811, 1287.94930732, 1289.22210231,\n",
       "       1274.23831289, 1271.81881262, 1287.0054893 , 1282.81843073,\n",
       "       1259.79093985, 1280.1613751 , 1283.77692266, 1235.95443871,\n",
       "       1225.79907739, 1267.99976331, 1277.31103521, 1272.99776089,\n",
       "       1223.29609634, 1119.4979385 , 1259.02080639, 1273.55149365,\n",
       "       1273.58683216, 1268.96557853, 1264.45795512, 1219.3496561 ,\n",
       "       1257.2921429 , 1259.36253469, 1266.15026225, 1267.25487369,\n",
       "       1266.23626791, 1255.43813578, 1213.05196648, 1122.41214252,\n",
       "       1241.82383638, 1252.0200491 , 1244.89118492, 1256.00314577,\n",
       "       1251.7683131 , 1253.70808808, 1250.43750722, 1248.1402512 ,\n",
       "       1225.60772324, 1182.97723987, 1235.30554711, 1242.96613078,\n",
       "       1248.15633617, 1241.79478663, 1240.94894727, 1226.73725051,\n",
       "       1243.60941116, 1233.79939865, 1238.71176708, 1230.70893505])"
      ]
     },
     "execution_count": 272,
     "metadata": {},
     "output_type": "execute_result"
    }
   ],
   "source": [
    "var10**0.5 * np.sqrt(10)"
   ]
  },
  {
   "cell_type": "code",
   "execution_count": null,
   "id": "5d2d2b09-cab4-4031-af92-7c9953eccd6e",
   "metadata": {},
   "outputs": [],
   "source": []
  },
  {
   "cell_type": "code",
   "execution_count": null,
   "id": "7136ce44-bf53-4818-8bad-a5d14e269c5f",
   "metadata": {},
   "outputs": [],
   "source": []
  },
  {
   "cell_type": "code",
   "execution_count": 234,
   "id": "e4efe3ac-68e6-4cd5-b932-f48bc5695474",
   "metadata": {},
   "outputs": [
    {
     "data": {
      "text/plain": [
       "[<matplotlib.lines.Line2D at 0x7fdedab6a130>]"
      ]
     },
     "execution_count": 234,
     "metadata": {},
     "output_type": "execute_result"
    },
    {
     "data": {
      "image/png": "[encoded data removed]",
      "text/plain": [
       "<Figure size 432x288 with 1 Axes>"
      ]
     },
     "metadata": {
      "needs_background": "light"
     },
     "output_type": "display_data"
    }
   ],
   "source": [
    "plt.plot(waveH, obsfluxH)\n",
    "plt.plot(Ob.wave, obsflux)\n",
    "plt.plot(Ob.wave, obsflux10)"
   ]
  },
  {
   "cell_type": "code",
   "execution_count": 147,
   "id": "a24d095c-5588-46e3-bb19-c08faedbf4ff",
   "metadata": {},
   "outputs": [
    {
     "data": {
      "text/plain": [
       "array([2303101.46860769, 2302401.46860769, 2297501.46840085, ...,\n",
       "       1516804.55016593, 1495704.68691036, 1502604.73654769])"
      ]
     },
     "execution_count": 147,
     "metadata": {},
     "output_type": "execute_result"
    }
   ],
   "source": [
    "varH"
   ]
  },
  {
   "cell_type": "code",
   "execution_count": 149,
   "id": "9f2d8431-24e0-4584-b94e-c646fa16369b",
   "metadata": {},
   "outputs": [],
   "source": [
    "var10 = var / 10"
   ]
  },
  {
   "cell_type": "code",
   "execution_count": 150,
   "id": "026ec81e-924d-44c9-9a61-a369786a07b1",
   "metadata": {},
   "outputs": [],
   "source": [
    "def get_snr(obsfluxs, sigma, noise_level=1):\n",
    "    return np.mean(np.divide(obsfluxs, noise_level*sigma))"
   ]
  },
  {
   "cell_type": "code",
   "execution_count": null,
   "id": "cbaa6dfa-3e13-4c51-8ef8-57951ee3af9d",
   "metadata": {},
   "outputs": [],
   "source": [
    "flux = np.random.rand"
   ]
  },
  {
   "cell_type": "code",
   "execution_count": 152,
   "id": "f22662e4-9a3d-4879-bd4a-7459c6c78e7f",
   "metadata": {},
   "outputs": [
    {
     "data": {
      "text/plain": [
       "1352.1900956649608"
      ]
     },
     "execution_count": 152,
     "metadata": {},
     "output_type": "execute_result"
    }
   ],
   "source": [
    "np.mean(flux_mid / var**0.5)"
   ]
  },
  {
   "cell_type": "code",
   "execution_count": 158,
   "id": "81044aa8-c5c7-417c-82e1-fea6d280658f",
   "metadata": {},
   "outputs": [],
   "source": [
    "from PIML.crust.operation.specgridoperation import TuneSpecGridOperation"
   ]
  },
  {
   "cell_type": "code",
   "execution_count": 159,
   "id": "4b924d3c-879b-4e6e-b7df-190703263384",
   "metadata": {},
   "outputs": [],
   "source": [
    "top = TuneSpecGridOperation(\"Alex\", 20)"
   ]
  },
  {
   "cell_type": "code",
   "execution_count": 173,
   "id": "44b3cb7b-a261-47af-971c-8842fba51b09",
   "metadata": {},
   "outputs": [],
   "source": [
    "skyL=top.perform(Ob.skyH)"
   ]
  },
  {
   "cell_type": "code",
   "execution_count": 160,
   "id": "f44e5404-089a-4a68-8fd4-21fa7477735a",
   "metadata": {},
   "outputs": [],
   "source": [
    "top.perform_on_Spec(SpecGrid)"
   ]
  },
  {
   "cell_type": "code",
   "execution_count": 163,
   "id": "43dff129-734e-4ba9-9ec0-10c216c1eaaf",
   "metadata": {},
   "outputs": [],
   "source": [
    "fluxL_mid = SpecGrid.flux[1377]"
   ]
  },
  {
   "cell_type": "code",
   "execution_count": null,
   "id": "73bbbd58-1eeb-4194-8f56-47e42032db48",
   "metadata": {},
   "outputs": [],
   "source": [
    "waveL = SpecGrid.flux[1377]"
   ]
  },
  {
   "cell_type": "code",
   "execution_count": null,
   "id": "d6e005d3-709c-4716-9813-2ee0d24aa2af",
   "metadata": {},
   "outputs": [],
   "source": []
  },
  {
   "cell_type": "code",
   "execution_count": 175,
   "id": "ca371f01-6d4d-4c63-bf0b-feb08ae4d749",
   "metadata": {},
   "outputs": [],
   "source": [
    "varL= get_var(fluxL_mid, skyL)"
   ]
  },
  {
   "cell_type": "code",
   "execution_count": 155,
   "id": "6d216cfc-00e6-44bb-8d12-71b72a8bad6f",
   "metadata": {},
   "outputs": [
    {
     "data": {
      "text/plain": [
       "[<matplotlib.lines.Line2D at 0x7fdedb76f760>]"
      ]
     },
     "execution_count": 155,
     "metadata": {},
     "output_type": "execute_result"
    },
    {
     "data": {
      "image/png": "[encoded data removed]",
      "text/plain": [
       "<Figure size 432x288 with 1 Axes>"
      ]
     },
     "metadata": {
      "needs_background": "light"
     },
     "output_type": "display_data"
    }
   ],
   "source": [
    "plt.plot(waveH, fluxH_mid)\n",
    "plt.plot(Ob.wave, flux_mid)"
   ]
  },
  {
   "cell_type": "code",
   "execution_count": null,
   "id": "ca162409-d6a6-48b1-a6fc-93f305868d4c",
   "metadata": {},
   "outputs": [],
   "source": [
    "varL = "
   ]
  },
  {
   "cell_type": "code",
   "execution_count": 165,
   "id": "1f52a1d8-973b-458d-9987-054d76c52162",
   "metadata": {},
   "outputs": [
    {
     "data": {
      "text/plain": [
       "array([2303101.46860769, 2302401.46860769, 2297501.46840085, ...,\n",
       "       1516804.55016593, 1495704.68691036, 1502604.73654769])"
      ]
     },
     "execution_count": 165,
     "metadata": {},
     "output_type": "execute_result"
    }
   ],
   "source": [
    "obsfluxH = "
   ]
  },
  {
   "cell_type": "code",
   "execution_count": 200,
   "id": "0a60f0f2-c572-4c03-b72b-0a1dc660f061",
   "metadata": {},
   "outputs": [],
   "source": [
    "waveL =SpecGrid.wave"
   ]
  },
  {
   "cell_type": "code",
   "execution_count": 180,
   "id": "742b1aa2-b0a6-4c27-83d4-60f5f55fd634",
   "metadata": {},
   "outputs": [
    {
     "data": {
      "text/plain": [
       "<matplotlib.legend.Legend at 0x7fdedb53ff70>"
      ]
     },
     "execution_count": 180,
     "metadata": {},
     "output_type": "execute_result"
    },
    {
     "data": {
      "image/png": "[encoded data removed]",
      "text/plain": [
       "<Figure size 432x288 with 1 Axes>"
      ]
     },
     "metadata": {
      "needs_background": "light"
     },
     "output_type": "display_data"
    }
   ],
   "source": [
    "plt.plot(waveH, varH, label=\"varH-Res10000\")\n",
    "plt.plot(Ob.wave, var, label=\"var-Res1000\")\n",
    "plt.plot(Ob.wave, var10, label=\"var/10-Res1000\")\n",
    "plt.plot(SpecGrid.wave, varL, label=\"varL-Res500\")\n",
    "plt.plot(SpecGrid.wave, varL/20, label=\"varL/20-Res500\")\n",
    "\n",
    "\n",
    "plt.legend()"
   ]
  },
  {
   "cell_type": "code",
   "execution_count": 181,
   "id": "959c0efa-cdfb-4c22-b662-cf23e55b89d6",
   "metadata": {},
   "outputs": [],
   "source": [
    "from scipy import interpolate"
   ]
  },
  {
   "cell_type": "code",
   "execution_count": 185,
   "id": "9e87cb9c-6ea9-4145-ae36-45706f3a4558",
   "metadata": {},
   "outputs": [
    {
     "data": {
      "text/plain": [
       "array([7103.93535, 7111.04302, 7118.15752, 7125.27919, 7132.40811,\n",
       "       7139.54389, 7146.687  , 7153.83731, 7160.99483, 7168.15929,\n",
       "       7175.33091, 7182.50982, 7189.69599, 7196.88931, 7204.08979,\n",
       "       7211.29745, 7218.51226, 7225.73457, 7232.96373, 7240.20049,\n",
       "       7247.4442 , 7254.69511, 7261.95346, 7269.21914, 7276.4919 ,\n",
       "       7283.77212, 7291.05935, 7298.35411, 7305.65621, 7312.96543,\n",
       "       7320.28208, 7327.60596, 7334.9372 , 7342.27588, 7349.62183,\n",
       "       7356.97509, 7364.3357 , 7371.70382, 7379.07911, 7386.46192,\n",
       "       7393.852  , 7401.24956, 7408.65444, 7416.06675, 7423.48657,\n",
       "       7430.91382, 7438.34849, 7445.79043, 7453.23998, 7460.69695,\n",
       "       7468.16133, 7475.63325, 7483.1125 , 7490.59941, 7498.09378,\n",
       "       7505.59557, 7513.10493, 7520.62169, 7528.14614, 7535.67812,\n",
       "       7543.21735, 7550.76451, 7558.31905, 7565.88106, 7573.45084,\n",
       "       7581.02797, 7588.61283, 7596.20528, 7603.80515, 7611.41284,\n",
       "       7619.02807, 7626.65071, 7634.28116, 7641.91939, 7649.56494,\n",
       "       7657.21835, 7664.8796 , 7672.5481 , 7680.22452, 7687.9085 ,\n",
       "       7695.60029, 7703.29981, 7711.00684, 7718.72167, 7726.44439,\n",
       "       7734.1747 , 7741.9125 , 7749.65845, 7757.41197, 7765.1732 ,\n",
       "       7772.94229, 7780.719  , 7788.50362, 7796.29595, 7804.09629,\n",
       "       7811.90425, 7819.71993, 7827.54365, 7835.3751 , 7843.2144 ,\n",
       "       7851.06148, 7858.91654, 7866.77924, 7874.65001, 7882.52856,\n",
       "       7890.41504, 7898.30953, 7906.21167, 7914.12184, 7922.04   ,\n",
       "       7929.96587, 7937.89965, 7945.84154, 7953.79146, 7961.74932,\n",
       "       7969.71485, 7977.68863, 7985.6703 , 7993.65996, 8001.65755,\n",
       "       8009.66314, 8017.6769 , 8025.69848, 8033.72827, 8041.7659 ,\n",
       "       8049.81168, 8057.86547, 8065.92734, 8073.99731, 8082.07545,\n",
       "       8090.16148, 8098.25572, 8106.35781, 8114.46836, 8122.58683,\n",
       "       8130.71359, 8138.84824, 8146.99115, 8155.1423 , 8163.30152,\n",
       "       8171.46886, 8179.64454, 8187.82812, 8196.02002, 8204.22002,\n",
       "       8212.42842, 8220.64502, 8228.86972, 8237.10264, 8245.34386,\n",
       "       8253.59347, 8261.85107, 8270.1169 , 8278.3914 , 8286.67363,\n",
       "       8294.96455, 8303.26357, 8311.571  , 8319.88682, 8328.21085,\n",
       "       8336.54307, 8344.88399, 8353.23292, 8361.59034, 8369.95614,\n",
       "       8378.33026, 8386.71289, 8395.10371, 8403.50303, 8411.91065,\n",
       "       8420.32675, 8428.75118, 8437.18417, 8445.62549, 8454.07539,\n",
       "       8462.5338 , 8471.00058, 8479.4757 , 8487.95928, 8496.45147,\n",
       "       8504.95216, 8513.46153, 8521.9791 , 8530.50556, 8539.04004,\n",
       "       8547.5834 , 8556.13515, 8564.69561, 8573.26473, 8581.8421 ,\n",
       "       8590.42841, 8599.02305, 8607.62627, 8616.23818, 8624.85895,\n",
       "       8633.48799, 8642.12558, 8650.77226, 8659.42724, 8668.091  ,\n",
       "       8676.7632 , 8685.44453, 8694.13429, 8702.83281, 8711.53994,\n",
       "       8720.25576, 8728.98038, 8737.71386, 8746.45578, 8755.20636,\n",
       "       8763.96639, 8772.73448, 8781.51171, 8790.29725, 8799.09229,\n",
       "       8807.89571, 8816.70791, 8825.52901, 8834.359  , 8843.19765])"
      ]
     },
     "execution_count": 185,
     "metadata": {},
     "output_type": "execute_result"
    }
   ],
   "source": [
    "Ob.wave"
   ]
  },
  {
   "cell_type": "code",
   "execution_count": 189,
   "id": "f3649876-3a90-4f4f-b0e7-c36fd1b5a3fe",
   "metadata": {},
   "outputs": [
    {
     "data": {
      "text/plain": [
       "7105.7109"
      ]
     },
     "execution_count": 189,
     "metadata": {},
     "output_type": "execute_result"
    }
   ],
   "source": [
    "waveH[8]"
   ]
  },
  {
   "cell_type": "code",
   "execution_count": 220,
   "id": "05975d58-b281-4124-82b2-198cd0648a1c",
   "metadata": {},
   "outputs": [],
   "source": [
    "f1 = interpolate.interp1d(Ob.wave, var)\n",
    "v1 = f1(waveH[20:-20])"
   ]
  },
  {
   "cell_type": "code",
   "execution_count": 221,
   "id": "99a0e600-24a7-404d-8582-04aa9ca9d5a3",
   "metadata": {},
   "outputs": [],
   "source": [
    "f2 = interpolate.interp1d(waveL, varL)\n",
    "v2 = f2(waveH[20:-20])"
   ]
  },
  {
   "cell_type": "code",
   "execution_count": 222,
   "id": "0118167f-9e3d-45e7-b9f7-1a388d85e73d",
   "metadata": {},
   "outputs": [],
   "source": [
    "v3 = f2(Ob.wave[10:-10])"
   ]
  },
  {
   "cell_type": "code",
   "execution_count": 196,
   "id": "616ff2d7-90ac-4452-9919-646ced1d66be",
   "metadata": {},
   "outputs": [],
   "source": [
    "f11 = interpolate.interp1d(Ob.wave, var10)\n",
    "v11 = f11(waveH[8:-8])"
   ]
  },
  {
   "cell_type": "code",
   "execution_count": 223,
   "id": "ee93e607-1e65-499a-8d3b-f941f310d1f1",
   "metadata": {},
   "outputs": [
    {
     "data": {
      "text/plain": [
       "<matplotlib.legend.Legend at 0x7fdedadd9250>"
      ]
     },
     "execution_count": 223,
     "metadata": {},
     "output_type": "execute_result"
    },
    {
     "data": {
      "image/png": "[encoded data removed]",
      "text/plain": [
       "<Figure size 432x288 with 1 Axes>"
      ]
     },
     "metadata": {
      "needs_background": "light"
     },
     "output_type": "display_data"
    }
   ],
   "source": [
    "plt.plot(waveH[20:-20], varH[20:-20]/v1, label=\"var10k/var1k\")\n",
    "plt.plot(waveH[20:-20], varH[20:-20]/v2 + 0.5, label=\"var10k/var100\")\n",
    "\n",
    "# plt.plot(Ob.wave[10:-10], , label=\"var-Res1000\")\n",
    "plt.plot(Ob.wave[10:-10], var[10:-10] / v3 + 1 , label=\"var1/var100\")\n",
    "\n",
    "\n",
    "plt.legend()"
   ]
  },
  {
   "cell_type": "code",
   "execution_count": 198,
   "id": "3cd245f4-3e02-4f27-b20c-123a1f76f89f",
   "metadata": {},
   "outputs": [
    {
     "data": {
      "text/plain": [
       "<matplotlib.legend.Legend at 0x7fdec532f5e0>"
      ]
     },
     "execution_count": 198,
     "metadata": {},
     "output_type": "execute_result"
    },
    {
     "data": {
      "image/png": "[encoded data removed]",
      "text/plain": [
       "<Figure size 432x288 with 1 Axes>"
      ]
     },
     "metadata": {
      "needs_background": "light"
     },
     "output_type": "display_data"
    }
   ],
   "source": [
    "plt.plot(waveH[8:-8], varH[8:-8]/v11, label=\"varH-Res10000\")\n",
    "plt.plot(Ob.wave, 10* var10/var10, label=\"var10-Res1000\")\n",
    "\n",
    "plt.legend()"
   ]
  },
  {
   "cell_type": "code",
   "execution_count": null,
   "id": "22cae443-2a40-45da-bf84-4d8d13a4a2bc",
   "metadata": {},
   "outputs": [],
   "source": [
    "var"
   ]
  },
  {
   "cell_type": "code",
   "execution_count": 178,
   "id": "2852f567-b536-41ec-a422-c73595c3c116",
   "metadata": {},
   "outputs": [
    {
     "data": {
      "text/plain": [
       "array([2286876.50184043, 2263971.44285651, 2263666.47915964,\n",
       "       2244821.47270083, 2234631.47962838, 2235376.47980389,\n",
       "       2205791.48359184, 2211641.48929066, 2196426.50748418,\n",
       "       2213931.73732071, 2201036.63636238, 2200276.59860633,\n",
       "       2182971.62690366, 2153581.84295609, 2157601.65598166,\n",
       "       2152696.6239411 , 2164284.21274897, 2142431.61472823,\n",
       "       2144671.64457968, 2119016.66633289, 2105036.62934942,\n",
       "       2070136.73521359, 2086271.69085832, 2089766.68352939,\n",
       "       2088441.70029575, 2087582.13803994, 2080966.78410271,\n",
       "       2061606.82277913, 2052302.23488172, 2048587.05664499,\n",
       "       2060911.85735018, 2039847.12803426, 2031697.53364722,\n",
       "       2018206.9840782 , 2024551.8215952 , 2000821.82065969,\n",
       "       2013921.80435047, 1991836.95794547, 1961486.96345937,\n",
       "       1983826.85020722, 1965956.94695184, 1944355.85655557,\n",
       "       1960057.37190324, 1935606.93788254, 1953726.95417161,\n",
       "       1910542.02712257, 1929557.04226603, 1921927.55536923,\n",
       "       1922682.82134527, 1898331.98661188, 1893896.26927644,\n",
       "       1901877.0139607 , 1887837.18506777, 1883167.05124608,\n",
       "       1870222.13248547, 1851582.13901696, 1844207.21513138,\n",
       "       1857351.13247822, 1851922.1687229 , 1833902.23990056,\n",
       "       1836302.71640044, 1822264.47859797, 1810317.61502771,\n",
       "       1816067.50999273, 1803782.61665793, 1784517.6647153 ,\n",
       "       1795322.70587827, 1787137.56870246, 1781032.83364958,\n",
       "       1772337.80216161, 1763662.68002642, 1729897.92863842,\n",
       "       1728747.63091017, 1731137.69566256, 1730252.72299576,\n",
       "       1718437.949238  , 1724453.08007311, 1714309.58707465,\n",
       "       1704718.76539485, 1690767.82674991, 1669679.3268529 ,\n",
       "       1685878.00099469, 1676777.98891483, 1659438.07199644,\n",
       "       1664923.37380136, 1660453.5236563 , 1620603.18508266,\n",
       "       1651003.12785203, 1612943.17921302, 1587833.28086424,\n",
       "       1555203.38894563, 1626023.38994796, 1374864.48682262,\n",
       "       1603533.39894203, 1616148.52926789, 1542833.75204245,\n",
       "       1583388.76319385, 1604535.70073879, 1589739.59946308,\n",
       "       1365652.04553559, 1554840.3219774 , 1563648.98223455,\n",
       "       1569353.93989713, 1560724.02305852, 1450774.72066806,\n",
       "       1535472.29850018, 1549974.26581303, 1522419.28575781,\n",
       "       1534412.66181597, 1524525.66236079])"
      ]
     },
     "execution_count": 178,
     "metadata": {},
     "output_type": "execute_result"
    }
   ],
   "source": [
    "varL"
   ]
  },
  {
   "cell_type": "markdown",
   "id": "2f9af834-fc33-4852-a030-fb1022e53a68",
   "metadata": {},
   "source": [
    "# TESTING"
   ]
  },
  {
   "cell_type": "code",
   "execution_count": 68,
   "id": "fe8fbdd9-e1c2-4c5f-b5e3-40701e148592",
   "metadata": {},
   "outputs": [],
   "source": [
    "from test.testbase import DataInitializer"
   ]
  },
  {
   "cell_type": "code",
   "execution_count": 69,
   "id": "379565d0-eeb1-4b23-b1fd-8323d964fe30",
   "metadata": {},
   "outputs": [],
   "source": [
    "D = DataInitializer()"
   ]
  },
  {
   "cell_type": "code",
   "execution_count": 70,
   "id": "b145dcf9-6a26-4548-a74a-bd987ec391a2",
   "metadata": {},
   "outputs": [
    {
     "data": {
      "text/plain": [
       "{'object': {'DATA_PATH': '/datascope/subaru/user/swei20/data/pfsspec/import/stellar/grid/bosz_5000_RHB.h5'},\n",
       " 'data': {'SKY_PATH': '/home/swei20/PIML_v1/test/testdata/testspecgriddata/wavesky.npy',\n",
       "  'Sky': <PIML.crust.data.specdata.basesky.StellarSky at 0x7fdec51b4d30>},\n",
       " 'op': {'box_name': 'R', 'arm': 'RedM', 'step': 10, 'wave_rng': [7100, 8850]},\n",
       " 'model': {'Resolution': 'Alex', 'Interp': 'RBF'}}"
      ]
     },
     "execution_count": 70,
     "metadata": {},
     "output_type": "execute_result"
    }
   ],
   "source": [
    "D.SPEC_GRID_PARAMS"
   ]
  },
  {
   "cell_type": "code",
   "execution_count": 71,
   "id": "c8805480-0db5-43ec-aa31-7fa49675366e",
   "metadata": {},
   "outputs": [],
   "source": [
    "from PIML.gateway.processIF.specgridprocessIF.basespecgridprocessIF import StellarSpecGridProcessIF"
   ]
  },
  {
   "cell_type": "code",
   "execution_count": 74,
   "id": "f11bcf91-1e96-4dc9-a5b6-d1ed212a5ad7",
   "metadata": {},
   "outputs": [],
   "source": [
    "SP = StellarSpecGridProcessIF()\n",
    "SP.interact(D.SPEC_GRID_PARAMS)\n",
    "Ob = SP.Object"
   ]
  },
  {
   "cell_type": "code",
   "execution_count": 81,
   "id": "c95a0123-69f1-48c4-b0be-c7c0a5e6ca17",
   "metadata": {},
   "outputs": [
    {
     "data": {
      "text/plain": [
       "array([4., 5., 3., 5., 3.])"
      ]
     },
     "execution_count": 81,
     "metadata": {},
     "output_type": "execute_result"
    }
   ],
   "source": [
    "Ob.coordx_rng"
   ]
  },
  {
   "cell_type": "code",
   "execution_count": 76,
   "id": "ccbcba64-40ca-4d45-96c9-dc3adc034650",
   "metadata": {},
   "outputs": [],
   "source": [
    "Ob.builder.store(\".\", \"data\")"
   ]
  },
  {
   "cell_type": "code",
   "execution_count": 270,
   "id": "08a902a3-2be3-490a-8679-b95301248195",
   "metadata": {},
   "outputs": [
    {
     "data": {
      "text/plain": [
       "<bound method LowResObs.cal_sigma of <PIML.crust.model.obs.stellarobs.LowResObs object at 0x7fdec54b3130>>"
      ]
     },
     "execution_count": 270,
     "metadata": {},
     "output_type": "execute_result"
    }
   ],
   "source": [
    "Ob.Obs.cal_sigma"
   ]
  },
  {
   "cell_type": "code",
   "execution_count": 80,
   "id": "54db0a7d-88b0-4897-9b4f-f5f413426559",
   "metadata": {},
   "outputs": [
    {
     "data": {
      "text/plain": [
       "<scipy.interpolate._rbfinterp.RBFInterpolator at 0x7fdec51d69d0>"
      ]
     },
     "execution_count": 80,
     "metadata": {},
     "output_type": "execute_result"
    }
   ],
   "source": [
    "Ob.base_interp"
   ]
  },
  {
   "cell_type": "code",
   "execution_count": 59,
   "id": "b1cf5154-1b8a-40d8-8692-7e5f6a83e9e5",
   "metadata": {},
   "outputs": [
    {
     "data": {
      "text/plain": [
       "array([156.77460792,  78.38744601,  47.03249602])"
      ]
     },
     "execution_count": 59,
     "metadata": {},
     "output_type": "execute_result"
    }
   ],
   "source": [
    "Ob.map_snr( [10,20,30])"
   ]
  },
  {
   "cell_type": "code",
   "execution_count": 8,
   "id": "3d72a5ff-ae5f-40ab-bd15-844c2d60f58a",
   "metadata": {},
   "outputs": [],
   "source": [
    "from PIML.crust.process.baseprocess import StellarSpecProcess\n"
   ]
  },
  {
   "cell_type": "code",
   "execution_count": 94,
   "id": "a3a22127-52fc-4709-8554-6529860c4a5a",
   "metadata": {},
   "outputs": [],
   "source": [
    "np.random.seed(922)\n",
    "SSP = StellarSpecProcess()\n",
    "SSP.set_process(D.OP_PARAM, D.OP_MODEL, D.OP_DATA)\n",
    "SSP.start(SpecGrid)"
   ]
  },
  {
   "cell_type": "code",
   "execution_count": 95,
   "id": "41d8bd03-b99b-42e9-a79c-0931a7f564de",
   "metadata": {},
   "outputs": [
    {
     "data": {
      "text/plain": [
       "array([156.77548358,  78.38766493,  47.03258358])"
      ]
     },
     "execution_count": 95,
     "metadata": {},
     "output_type": "execute_result"
    }
   ],
   "source": [
    "SpecGrid.map_snr( [10,20,30])"
   ]
  },
  {
   "cell_type": "code",
   "execution_count": 40,
   "id": "46c0924f-2a13-47d2-b751-595c1859c80f",
   "metadata": {},
   "outputs": [],
   "source": [
    "flux = SP.Object.flux"
   ]
  },
  {
   "cell_type": "code",
   "execution_count": 11,
   "id": "fe15c9b7-bae3-48ab-9892-f52e72f12e92",
   "metadata": {},
   "outputs": [],
   "source": [
    "from PIML.surface.posteval.evalstellarprocess import EvalStellarSpecGridProcess"
   ]
  },
  {
   "cell_type": "code",
   "execution_count": 16,
   "id": "45b68399-45d5-481d-8d40-114c83ac44c3",
   "metadata": {},
   "outputs": [],
   "source": [
    "# e = EvalStellarProcess(SP=SP)\n",
    "e = EvalStellarSpecGridProcess(PARAMS=D.SPEC_GRID_PARAMS)"
   ]
  },
  {
   "cell_type": "code",
   "execution_count": 17,
   "id": "ddd4c1c7-bf6e-43c0-a8d8-f1b06713150b",
   "metadata": {},
   "outputs": [
    {
     "data": {
      "image/png": "[encoded data removed]",
      "text/plain": [
       "<Figure size 432x288 with 1 Axes>"
      ]
     },
     "metadata": {
      "needs_background": "light"
     },
     "output_type": "display_data"
    }
   ],
   "source": [
    "e.eval_interpolator()"
   ]
  },
  {
   "cell_type": "code",
   "execution_count": 97,
   "id": "49b1d23b-bc1f-4cd8-b190-7cf665a8cd57",
   "metadata": {},
   "outputs": [
    {
     "data": {
      "text/plain": [
       "array([-5.0e-01,  6.0e+03,  2.5e+00, -2.5e-01,  0.0e+00])"
      ]
     },
     "execution_count": 97,
     "metadata": {},
     "output_type": "execute_result"
    }
   ],
   "source": [
    "Ob.coord[D.midx]"
   ]
  },
  {
   "cell_type": "code",
   "execution_count": 101,
   "id": "63bed669-89dd-4a04-9c15-d1615fb1ada2",
   "metadata": {},
   "outputs": [],
   "source": [
    "flux_mid = Ob.flux[D.midx]"
   ]
  },
  {
   "cell_type": "code",
   "execution_count": 103,
   "id": "f03a289a-348d-48c9-8d7d-8005bdc659b0",
   "metadata": {},
   "outputs": [],
   "source": [
    "sigma = Ob.Obs.cal_sigma(flux_mid)"
   ]
  },
  {
   "cell_type": "code",
   "execution_count": 104,
   "id": "8490a6b3-00bc-42ae-9dbb-2737e2aa5019",
   "metadata": {},
   "outputs": [],
   "source": [
    "sigma_log = sigma / flux_mid"
   ]
  },
  {
   "cell_type": "code",
   "execution_count": 106,
   "id": "cba2a4be-70aa-407d-9292-1e1ddb817c19",
   "metadata": {},
   "outputs": [],
   "source": [
    "logflux_mid = np.log(flux_mid)"
   ]
  },
  {
   "cell_type": "code",
   "execution_count": null,
   "id": "223d9e40-5762-455a-a064-d53700caabb3",
   "metadata": {},
   "outputs": [],
   "source": [
    "# np.random.sigma_log"
   ]
  },
  {
   "cell_type": "code",
   "execution_count": 108,
   "id": "5510f96f-b59d-4896-8e45-36a8810b0c2d",
   "metadata": {},
   "outputs": [
    {
     "name": "stderr",
     "output_type": "stream",
     "text": [
      "[autoreload of PIML.gateway.processIF.specgridprocessIF.basespecgridprocessIF failed: Traceback (most recent call last):\n",
      "  File \"/datascope/slurm/miniconda3/envs/viska-tf28/lib/python3.9/site-packages/IPython/extensions/autoreload.py\", line 245, in check\n",
      "    superreload(m, reload, self.old_objects)\n",
      "  File \"/datascope/slurm/miniconda3/envs/viska-tf28/lib/python3.9/site-packages/IPython/extensions/autoreload.py\", line 410, in superreload\n",
      "    update_generic(old_obj, new_obj)\n",
      "  File \"/datascope/slurm/miniconda3/envs/viska-tf28/lib/python3.9/site-packages/IPython/extensions/autoreload.py\", line 347, in update_generic\n",
      "    update(a, b)\n",
      "  File \"/datascope/slurm/miniconda3/envs/viska-tf28/lib/python3.9/site-packages/IPython/extensions/autoreload.py\", line 302, in update_class\n",
      "    if update_generic(old_obj, new_obj): continue\n",
      "  File \"/datascope/slurm/miniconda3/envs/viska-tf28/lib/python3.9/site-packages/IPython/extensions/autoreload.py\", line 347, in update_generic\n",
      "    update(a, b)\n",
      "  File \"/datascope/slurm/miniconda3/envs/viska-tf28/lib/python3.9/site-packages/IPython/extensions/autoreload.py\", line 266, in update_function\n",
      "    setattr(old, name, getattr(new, name))\n",
      "ValueError: interact_on_SpecGrid() requires a code object with 0 free vars, not 1\n",
      "]\n"
     ]
    }
   ],
   "source": [
    "# np.random.logflux_mid"
   ]
  },
  {
   "cell_type": "code",
   "execution_count": 109,
   "id": "6b828d07-1c9d-4d14-af31-8494389b0104",
   "metadata": {},
   "outputs": [],
   "source": [
    "# sigma_log"
   ]
  },
  {
   "cell_type": "code",
   "execution_count": 117,
   "id": "f11d5804-8515-4160-8fc8-5dbc38d2af43",
   "metadata": {},
   "outputs": [
    {
     "data": {
      "text/plain": [
       "(220,)"
      ]
     },
     "execution_count": 117,
     "metadata": {},
     "output_type": "execute_result"
    }
   ],
   "source": [
    "flux_mid.shape"
   ]
  },
  {
   "cell_type": "code",
   "execution_count": 119,
   "id": "34dc121f-745d-4a6a-981e-5a3dd08c2626",
   "metadata": {},
   "outputs": [
    {
     "data": {
      "text/plain": [
       "{'coord': array([[-1.00e+00,  5.50e+03,  2.00e+00, -7.50e-01, -2.50e-01],\n",
       "        [-1.00e+00,  5.50e+03,  2.00e+00, -7.50e-01,  0.00e+00],\n",
       "        [-1.00e+00,  5.50e+03,  2.00e+00, -7.50e-01,  2.50e-01],\n",
       "        ...,\n",
       "        [ 0.00e+00,  6.75e+03,  3.50e+00,  5.00e-01,  0.00e+00],\n",
       "        [ 0.00e+00,  6.75e+03,  3.50e+00,  5.00e-01,  2.50e-01],\n",
       "        [ 0.00e+00,  6.75e+03,  3.50e+00,  5.00e-01,  5.00e-01]]),\n",
       " 'coord_idx': array([[ 6,  8,  4,  0,  0],\n",
       "        [ 6,  8,  4,  0,  1],\n",
       "        [ 6,  8,  4,  0,  2],\n",
       "        ...,\n",
       "        [10, 13,  7,  5,  1],\n",
       "        [10, 13,  7,  5,  2],\n",
       "        [10, 13,  7,  5,  3]]),\n",
       " 'PhyShort': ['M', 'T', 'G', 'C', 'A'],\n",
       " 'dfcoord':         M       T    G     C     A\n",
       " 0    -1.0  5500.0  2.0 -0.75 -0.25\n",
       " 1    -1.0  5500.0  2.0 -0.75  0.00\n",
       " 2    -1.0  5500.0  2.0 -0.75  0.25\n",
       " 3    -1.0  5500.0  2.0 -0.75  0.50\n",
       " 4    -1.0  5500.0  2.0 -0.50 -0.25\n",
       " ...   ...     ...  ...   ...   ...\n",
       " 2875  0.0  6750.0  3.5  0.25  0.50\n",
       " 2876  0.0  6750.0  3.5  0.50 -0.25\n",
       " 2877  0.0  6750.0  3.5  0.50  0.00\n",
       " 2878  0.0  6750.0  3.5  0.50  0.25\n",
       " 2879  0.0  6750.0  3.5  0.50  0.50\n",
       " \n",
       " [2880 rows x 5 columns],\n",
       " 'wave': array([7103.93535, 7111.04302, 7118.15752, 7125.27919, 7132.40811,\n",
       "        7139.54389, 7146.687  , 7153.83731, 7160.99483, 7168.15929,\n",
       "        7175.33091, 7182.50982, 7189.69599, 7196.88931, 7204.08979,\n",
       "        7211.29745, 7218.51226, 7225.73457, 7232.96373, 7240.20049,\n",
       "        7247.4442 , 7254.69511, 7261.95346, 7269.21914, 7276.4919 ,\n",
       "        7283.77212, 7291.05935, 7298.35411, 7305.65621, 7312.96543,\n",
       "        7320.28208, 7327.60596, 7334.9372 , 7342.27588, 7349.62183,\n",
       "        7356.97509, 7364.3357 , 7371.70382, 7379.07911, 7386.46192,\n",
       "        7393.852  , 7401.24956, 7408.65444, 7416.06675, 7423.48657,\n",
       "        7430.91382, 7438.34849, 7445.79043, 7453.23998, 7460.69695,\n",
       "        7468.16133, 7475.63325, 7483.1125 , 7490.59941, 7498.09378,\n",
       "        7505.59557, 7513.10493, 7520.62169, 7528.14614, 7535.67812,\n",
       "        7543.21735, 7550.76451, 7558.31905, 7565.88106, 7573.45084,\n",
       "        7581.02797, 7588.61283, 7596.20528, 7603.80515, 7611.41284,\n",
       "        7619.02807, 7626.65071, 7634.28116, 7641.91939, 7649.56494,\n",
       "        7657.21835, 7664.8796 , 7672.5481 , 7680.22452, 7687.9085 ,\n",
       "        7695.60029, 7703.29981, 7711.00684, 7718.72167, 7726.44439,\n",
       "        7734.1747 , 7741.9125 , 7749.65845, 7757.41197, 7765.1732 ,\n",
       "        7772.94229, 7780.719  , 7788.50362, 7796.29595, 7804.09629,\n",
       "        7811.90425, 7819.71993, 7827.54365, 7835.3751 , 7843.2144 ,\n",
       "        7851.06148, 7858.91654, 7866.77924, 7874.65001, 7882.52856,\n",
       "        7890.41504, 7898.30953, 7906.21167, 7914.12184, 7922.04   ,\n",
       "        7929.96587, 7937.89965, 7945.84154, 7953.79146, 7961.74932,\n",
       "        7969.71485, 7977.68863, 7985.6703 , 7993.65996, 8001.65755,\n",
       "        8009.66314, 8017.6769 , 8025.69848, 8033.72827, 8041.7659 ,\n",
       "        8049.81168, 8057.86547, 8065.92734, 8073.99731, 8082.07545,\n",
       "        8090.16148, 8098.25572, 8106.35781, 8114.46836, 8122.58683,\n",
       "        8130.71359, 8138.84824, 8146.99115, 8155.1423 , 8163.30152,\n",
       "        8171.46886, 8179.64454, 8187.82812, 8196.02002, 8204.22002,\n",
       "        8212.42842, 8220.64502, 8228.86972, 8237.10264, 8245.34386,\n",
       "        8253.59347, 8261.85107, 8270.1169 , 8278.3914 , 8286.67363,\n",
       "        8294.96455, 8303.26357, 8311.571  , 8319.88682, 8328.21085,\n",
       "        8336.54307, 8344.88399, 8353.23292, 8361.59034, 8369.95614,\n",
       "        8378.33026, 8386.71289, 8395.10371, 8403.50303, 8411.91065,\n",
       "        8420.32675, 8428.75118, 8437.18417, 8445.62549, 8454.07539,\n",
       "        8462.5338 , 8471.00058, 8479.4757 , 8487.95928, 8496.45147,\n",
       "        8504.95216, 8513.46153, 8521.9791 , 8530.50556, 8539.04004,\n",
       "        8547.5834 , 8556.13515, 8564.69561, 8573.26473, 8581.8421 ,\n",
       "        8590.42841, 8599.02305, 8607.62627, 8616.23818, 8624.85895,\n",
       "        8633.48799, 8642.12558, 8650.77226, 8659.42724, 8668.091  ,\n",
       "        8676.7632 , 8685.44453, 8694.13429, 8702.83281, 8711.53994,\n",
       "        8720.25576, 8728.98038, 8737.71386, 8746.45578, 8755.20636,\n",
       "        8763.96639, 8772.73448, 8781.51171, 8790.29725, 8799.09229,\n",
       "        8807.89571, 8816.70791, 8825.52901, 8834.359  , 8843.19765]),\n",
       " 'num_pixel': 15404,\n",
       " 'flux': array([[1614790., 1604300., 1606410., ..., 1123880., 1137350., 1126390.],\n",
       "        [1618510., 1607800., 1609990., ..., 1125890., 1139410., 1128420.],\n",
       "        [1622940., 1611910., 1614210., ..., 1128200., 1141800., 1130710.],\n",
       "        ...,\n",
       "        [3484810., 3402720., 3314550., ..., 2161530., 2131210., 2090250.],\n",
       "        [3505460., 3419960., 3334010., ..., 2172310., 2141410., 2100580.],\n",
       "        [3532140., 3441090., 3359260., ..., 2186390., 2154480., 2114040.]]),\n",
       " 'num_spec': 2880,\n",
       " 'box': {'name': 'R',\n",
       "  'min': array([-1.0e+00,  5.5e+03,  2.0e+00, -7.5e-01, -2.5e-01]),\n",
       "  'max': array([0.00e+00, 6.75e+03, 3.50e+00, 5.00e-01, 5.00e-01]),\n",
       "  'rng': array([1.00e+00, 1.25e+03, 1.50e+00, 1.25e+00, 7.50e-01]),\n",
       "  'num': array([4., 5., 3., 5., 3.]),\n",
       "  'mid': array([-5.0e-01,  6.0e+03,  2.5e+00, -2.5e-01,  0.0e+00])},\n",
       " 'sky': array([0.15077469, 0.1495934 , 0.14423648, 0.14433482, 0.14747137,\n",
       "        0.14836056, 0.14531086, 0.14922931, 0.14873182, 0.14719386,\n",
       "        0.14742225, 0.14853853, 0.14872931, 0.14798906, 0.14843427,\n",
       "        0.14942387, 0.15094892, 0.15054792, 0.15677576, 0.19068839,\n",
       "        0.17415853, 0.15311395, 0.15320229, 0.16651898, 0.17029691,\n",
       "        0.15508382, 0.18025812, 0.1883331 , 0.16233235, 0.16886398,\n",
       "        0.16669567, 0.15809255, 0.31407816, 0.52847163, 0.16061403,\n",
       "        0.16233161, 0.16050382, 0.16841212, 0.16914596, 0.16412062,\n",
       "        0.1623135 , 0.16355638, 0.17055147, 0.17649125, 0.16981551,\n",
       "        0.16835615, 0.16894306, 0.16776282, 0.1689735 , 0.17108565,\n",
       "        0.21743374, 0.21017425, 0.18578376, 0.17103679, 0.17821553,\n",
       "        0.18634029, 0.19609469, 0.25088166, 0.22023136, 0.19109764,\n",
       "        0.18437969, 0.18709035, 0.17928734, 0.24631951, 0.32752443,\n",
       "        0.17920501, 0.17541241, 0.22140323, 0.18607524, 0.1782438 ,\n",
       "        0.18310485, 0.18102709, 0.17813475, 0.18273535, 0.18308226,\n",
       "        0.20850683, 0.2118021 , 0.18088978, 0.18353911, 0.18650233,\n",
       "        0.19413879, 0.19525158, 0.76060658, 0.41070454, 0.27989433,\n",
       "        0.19448632, 0.19024132, 0.19733519, 0.1963367 , 0.19449762,\n",
       "        0.20845266, 0.19697185, 0.20923709, 0.19921612, 0.2654738 ,\n",
       "        0.24560004, 1.25410509, 0.31016396, 0.19801654, 0.19930584,\n",
       "        0.91599799, 0.33785729, 0.20015064, 0.2026415 , 0.20763698,\n",
       "        0.22937657, 0.2049907 , 0.20525852, 0.21241704, 0.21408006,\n",
       "        0.21688857, 0.21091482, 0.22633555, 0.21669072, 0.80920067,\n",
       "        0.41729497, 0.21616765, 0.21757693, 0.22760183, 0.22037829,\n",
       "        0.23069926, 0.31258083, 0.66164141, 0.23407819, 0.2284911 ,\n",
       "        0.29451444, 0.2552255 , 0.24677304, 0.25061808, 0.27271351,\n",
       "        0.23868046, 0.2942626 , 0.29286793, 0.24830773, 0.25761645,\n",
       "        0.25612404, 0.25562369, 0.31110623, 0.27861942, 0.2818129 ,\n",
       "        0.27547543, 0.26052986, 0.30132864, 0.28439904, 0.2585277 ,\n",
       "        0.26765433, 0.26786594, 0.27126658, 0.2669448 , 0.27765435,\n",
       "        0.28202935, 0.30781825, 0.29414398, 0.32187064, 1.09440948,\n",
       "        0.82300544, 0.46244163, 0.29063734, 0.2874183 , 0.27793168,\n",
       "        0.34223132, 0.52313925, 0.29900544, 0.3011935 , 0.29610237,\n",
       "        0.3016806 , 0.30705132, 0.30734797, 0.33346364, 0.34129663,\n",
       "        0.34182358, 0.36290769, 0.32780384, 0.30921269, 0.31294904,\n",
       "        0.31262137, 0.32121396, 0.31462864, 0.31871594, 0.33745691,\n",
       "        0.3378131 , 0.33997603, 0.34806574, 0.32992386, 0.33393286,\n",
       "        0.46343167, 0.33909138, 0.34069703, 0.34190535, 0.36394823,\n",
       "        0.39202571, 0.35838278, 0.35326057, 0.3993782 , 0.64865861,\n",
       "        0.49148915, 0.42861642, 0.4912762 , 0.50733858, 0.80176853,\n",
       "        0.6440612 , 0.42033427, 0.4062287 , 0.39021821, 0.39096852,\n",
       "        0.39701091, 0.39594507, 0.40866664, 0.42912755, 0.51500606,\n",
       "        0.97947304, 0.48022699, 0.4239523 , 0.42921031, 0.42897342,\n",
       "        0.42817814, 0.43675347, 1.09560973, 0.68419042, 0.44828174]),\n",
       " 'map_snr': <scipy.interpolate.interpolate.interp1d at 0x7fdec5413d10>,\n",
       " 'map_snr_inv': <scipy.interpolate.interpolate.interp1d at 0x7fdec54a25e0>,\n",
       " 'step': 10,\n",
       " 'skyH': array([0.14686077, 0.14686077, 0.14684008, ..., 0.45501659, 0.46869104,\n",
       "        0.47365477]),\n",
       " 'Obs': <PIML.crust.model.obs.stellarobs.LowResObs at 0x7fdec54b3130>,\n",
       " 'logflux': array([[14.29471548, 14.28819808, 14.28951243, ..., 13.93229754,\n",
       "         13.94421155, 13.93452839],\n",
       "        [14.29701653, 14.29037734, 14.29173853, ..., 13.93408439,\n",
       "         13.94602114, 13.93632898],\n",
       "        [14.29974988, 14.29293037, 14.29435623, ..., 13.936134  ,\n",
       "         13.94811652, 13.93835631],\n",
       "        ...,\n",
       "        [15.06392408, 15.04008567, 15.01383243, ..., 14.58632686,\n",
       "         14.57220045, 14.55279423],\n",
       "        [15.06983231, 15.04513941, 15.01968634, ..., 14.59130168,\n",
       "         14.57697505, 14.55772406],\n",
       "        [15.07741448, 15.05129884, 15.02723127, ..., 14.59776234,\n",
       "         14.58305995, 14.56411137]]),\n",
       " 'coordx': array([[0., 0., 0., 0., 0.],\n",
       "        [0., 0., 0., 0., 1.],\n",
       "        [0., 0., 0., 0., 2.],\n",
       "        ...,\n",
       "        [4., 5., 3., 5., 1.],\n",
       "        [4., 5., 3., 5., 2.],\n",
       "        [4., 5., 3., 5., 3.]]),\n",
       " 'coordx_rng': array([4., 5., 3., 5., 3.]),\n",
       " 'coordx_scaler': <function PIML.crust.operation.baseoperation.CoordxifyOperation.get_scalers.<locals>.<lambda>(x)>,\n",
       " 'coordx_rescaler': <function PIML.crust.operation.baseoperation.CoordxifyOperation.get_scalers.<locals>.<lambda>(x)>,\n",
       " 'interpolator': <function PIML.crust.model.specgrid.interpspecgridmodel.RBFInterpSpecGridModel.apply_on_SpecGrid.<locals>.interpolator(eval_coord, scale=True)>}"
      ]
     },
     "execution_count": 119,
     "metadata": {},
     "output_type": "execute_result"
    }
   ],
   "source": [
    "Ob.__dict__"
   ]
  },
  {
   "cell_type": "code",
   "execution_count": 118,
   "id": "b416c28a-0d20-4485-a96d-2669afb3face",
   "metadata": {},
   "outputs": [
    {
     "data": {
      "text/plain": [
       "(2880, 220)"
      ]
     },
     "execution_count": 118,
     "metadata": {},
     "output_type": "execute_result"
    }
   ],
   "source": [
    "Ob.flux.shape"
   ]
  },
  {
   "cell_type": "code",
   "execution_count": null,
   "id": "72aa0220-2842-4388-83c1-ee5caec4040e",
   "metadata": {},
   "outputs": [],
   "source": [
    "sigma = Ob.Obs.cal_sigma(flux_mid)"
   ]
  },
  {
   "cell_type": "code",
   "execution_count": 110,
   "id": "0c5da5fa-9d66-494a-96c2-84c76dcb93dc",
   "metadata": {},
   "outputs": [],
   "source": [
    "fn = Ob.Obs.cal_sigma"
   ]
  },
  {
   "cell_type": "code",
   "execution_count": 271,
   "id": "fe26b857-e477-4249-82a3-6e95598cbbea",
   "metadata": {},
   "outputs": [],
   "source": [
    "import pickle\n",
    "with open('/home/swei20/PIML_v1/test/testdata/testprepnndata/obs.pickle', 'wb') as f:\n",
    "    # Write object `ip` to file\n",
    "    pickle.dump(fn, f, pickle.HIGHEST_PROTOCOL)"
   ]
  },
  {
   "cell_type": "code",
   "execution_count": 112,
   "id": "904457a5-5e3b-4ca1-b609-8c2055ede5b7",
   "metadata": {},
   "outputs": [],
   "source": [
    "with open('obs.pickle', 'rb') as f:\n",
    "    # Read out object `ip` from file\n",
    "    fnn = pickle.load(f)"
   ]
  },
  {
   "cell_type": "code",
   "execution_count": 114,
   "id": "308edbab-6850-46a8-816d-35b126cc85d1",
   "metadata": {},
   "outputs": [
    {
     "data": {
      "text/plain": [
       "array([479.43419859, 476.98862627, 476.29102893, 475.33266702,\n",
       "       474.45352509, 477.10286979, 473.18299347, 474.40715554,\n",
       "       475.12435081, 470.30112396, 474.38080423, 471.20924072,\n",
       "       469.29430929, 470.02249732, 472.37712522, 468.17534047,\n",
       "       470.4350656 , 466.87916054, 471.7787159 , 469.26665201,\n",
       "       469.91507122, 468.3878234 , 468.9191329 , 469.22293904,\n",
       "       467.66245338, 466.78277077, 462.00127733, 466.12357625,\n",
       "       466.39271256, 462.59936107, 465.19691174, 462.74308001,\n",
       "       464.62061306, 465.81598134, 464.40732188, 461.3156862 ,\n",
       "       463.18264271, 463.02933861, 462.38962915, 458.25665748,\n",
       "       457.91720028, 459.69464164, 455.44941602, 454.52522096,\n",
       "       454.34587025, 459.15593033, 459.37584715, 454.89247934,\n",
       "       457.06035594, 456.9290657 , 456.37070177, 457.43000577,\n",
       "       456.11312827, 456.23915991, 453.32568669, 454.771576  ,\n",
       "       451.85085603, 454.19296657, 452.05554994, 453.17015689,\n",
       "       454.24352982, 453.70164987, 450.74291929, 452.54861211,\n",
       "       449.83144346, 451.65382674, 447.4496345 , 451.03239507,\n",
       "       450.24680574, 449.6533979 , 445.9105102 , 448.69608983,\n",
       "       449.22953836, 448.30478777, 448.35051364, 444.24003479,\n",
       "       439.32699872, 446.41816819, 445.16534405, 445.63795451,\n",
       "       443.9619287 , 442.81959673, 441.37371989, 440.52288329,\n",
       "       442.0410387 , 443.40860894, 441.77730843, 438.12577799,\n",
       "       442.26258754, 441.75694052, 437.41651598, 436.77820112,\n",
       "       439.329272  , 439.20519033, 438.68583915, 438.10985563,\n",
       "       439.08228626, 437.88504218, 434.68747166, 436.70722378,\n",
       "       436.28306866, 434.09254527, 436.3739224 , 435.8362108 ,\n",
       "       434.25246993, 434.73236523, 433.8331534 , 434.07626664,\n",
       "       432.63519554, 432.28603271, 431.73975597, 428.85569941,\n",
       "       427.42979112, 431.44549678, 431.18071525, 430.75911748,\n",
       "       430.48137726, 430.19788188, 429.79556489, 426.68046637,\n",
       "       428.6621405 , 428.37986949, 427.47358005, 426.28539041,\n",
       "       427.22620295, 423.72313427, 426.26312909, 426.04371463,\n",
       "       424.5365127 , 424.88265758, 422.3851781 , 422.48585096,\n",
       "       424.04515428, 423.37955585, 422.92346544, 422.56745748,\n",
       "       422.22417698, 421.82142087, 421.14876068, 420.8340312 ,\n",
       "       420.0491346 , 419.87052829, 416.29713106, 415.54336043,\n",
       "       415.81878087, 415.74543612, 414.56394907, 417.56948077,\n",
       "       415.50363048, 416.42199468, 413.45650561, 415.6215921 ,\n",
       "       415.41941956, 415.11121627, 414.62645165, 413.45715982,\n",
       "       413.62236695, 412.14110525, 413.01366493, 409.35715205,\n",
       "       407.62402068, 409.60776743, 411.38825823, 409.79909858,\n",
       "       409.66851978, 409.30099155, 406.98072074, 407.74294273,\n",
       "       408.76929124, 407.29883537, 407.2853322 , 407.68782531,\n",
       "       402.94953506, 402.18442189, 406.98687073, 405.66280655,\n",
       "       398.38087456, 404.82257179, 405.96590832, 390.84311105,\n",
       "       387.63170383, 400.97673246, 403.92121517, 402.55723807,\n",
       "       386.84019172, 354.01633215, 398.13733697, 402.73234374,\n",
       "       402.74351876, 401.28215005, 399.85671437, 385.59221774,\n",
       "       397.59068558, 398.24540095, 400.39186887, 400.74117768,\n",
       "       400.41906625, 397.00439705, 383.60071342, 354.93788438,\n",
       "       392.69917757, 395.92350313, 393.66915834, 397.1830689 ,\n",
       "       395.84389722, 396.45730793, 395.42305945, 394.69660331,\n",
       "       387.57119233, 374.09024981, 390.63791351, 393.06040277,\n",
       "       394.70168983, 392.68999123, 392.42251334, 387.92838022,\n",
       "       393.26382589, 390.16162755, 391.71505484, 389.18433715])"
      ]
     },
     "execution_count": 114,
     "metadata": {},
     "output_type": "execute_result"
    }
   ],
   "source": [
    "fnn(flux_mid)"
   ]
  },
  {
   "cell_type": "code",
   "execution_count": 115,
   "id": "1095ba0d-c01d-4deb-a08e-1ba6235569c3",
   "metadata": {},
   "outputs": [
    {
     "data": {
      "text/plain": [
       "array([479.43419859, 476.98862627, 476.29102893, 475.33266702,\n",
       "       474.45352509, 477.10286979, 473.18299347, 474.40715554,\n",
       "       475.12435081, 470.30112396, 474.38080423, 471.20924072,\n",
       "       469.29430929, 470.02249732, 472.37712522, 468.17534047,\n",
       "       470.4350656 , 466.87916054, 471.7787159 , 469.26665201,\n",
       "       469.91507122, 468.3878234 , 468.9191329 , 469.22293904,\n",
       "       467.66245338, 466.78277077, 462.00127733, 466.12357625,\n",
       "       466.39271256, 462.59936107, 465.19691174, 462.74308001,\n",
       "       464.62061306, 465.81598134, 464.40732188, 461.3156862 ,\n",
       "       463.18264271, 463.02933861, 462.38962915, 458.25665748,\n",
       "       457.91720028, 459.69464164, 455.44941602, 454.52522096,\n",
       "       454.34587025, 459.15593033, 459.37584715, 454.89247934,\n",
       "       457.06035594, 456.9290657 , 456.37070177, 457.43000577,\n",
       "       456.11312827, 456.23915991, 453.32568669, 454.771576  ,\n",
       "       451.85085603, 454.19296657, 452.05554994, 453.17015689,\n",
       "       454.24352982, 453.70164987, 450.74291929, 452.54861211,\n",
       "       449.83144346, 451.65382674, 447.4496345 , 451.03239507,\n",
       "       450.24680574, 449.6533979 , 445.9105102 , 448.69608983,\n",
       "       449.22953836, 448.30478777, 448.35051364, 444.24003479,\n",
       "       439.32699872, 446.41816819, 445.16534405, 445.63795451,\n",
       "       443.9619287 , 442.81959673, 441.37371989, 440.52288329,\n",
       "       442.0410387 , 443.40860894, 441.77730843, 438.12577799,\n",
       "       442.26258754, 441.75694052, 437.41651598, 436.77820112,\n",
       "       439.329272  , 439.20519033, 438.68583915, 438.10985563,\n",
       "       439.08228626, 437.88504218, 434.68747166, 436.70722378,\n",
       "       436.28306866, 434.09254527, 436.3739224 , 435.8362108 ,\n",
       "       434.25246993, 434.73236523, 433.8331534 , 434.07626664,\n",
       "       432.63519554, 432.28603271, 431.73975597, 428.85569941,\n",
       "       427.42979112, 431.44549678, 431.18071525, 430.75911748,\n",
       "       430.48137726, 430.19788188, 429.79556489, 426.68046637,\n",
       "       428.6621405 , 428.37986949, 427.47358005, 426.28539041,\n",
       "       427.22620295, 423.72313427, 426.26312909, 426.04371463,\n",
       "       424.5365127 , 424.88265758, 422.3851781 , 422.48585096,\n",
       "       424.04515428, 423.37955585, 422.92346544, 422.56745748,\n",
       "       422.22417698, 421.82142087, 421.14876068, 420.8340312 ,\n",
       "       420.0491346 , 419.87052829, 416.29713106, 415.54336043,\n",
       "       415.81878087, 415.74543612, 414.56394907, 417.56948077,\n",
       "       415.50363048, 416.42199468, 413.45650561, 415.6215921 ,\n",
       "       415.41941956, 415.11121627, 414.62645165, 413.45715982,\n",
       "       413.62236695, 412.14110525, 413.01366493, 409.35715205,\n",
       "       407.62402068, 409.60776743, 411.38825823, 409.79909858,\n",
       "       409.66851978, 409.30099155, 406.98072074, 407.74294273,\n",
       "       408.76929124, 407.29883537, 407.2853322 , 407.68782531,\n",
       "       402.94953506, 402.18442189, 406.98687073, 405.66280655,\n",
       "       398.38087456, 404.82257179, 405.96590832, 390.84311105,\n",
       "       387.63170383, 400.97673246, 403.92121517, 402.55723807,\n",
       "       386.84019172, 354.01633215, 398.13733697, 402.73234374,\n",
       "       402.74351876, 401.28215005, 399.85671437, 385.59221774,\n",
       "       397.59068558, 398.24540095, 400.39186887, 400.74117768,\n",
       "       400.41906625, 397.00439705, 383.60071342, 354.93788438,\n",
       "       392.69917757, 395.92350313, 393.66915834, 397.1830689 ,\n",
       "       395.84389722, 396.45730793, 395.42305945, 394.69660331,\n",
       "       387.57119233, 374.09024981, 390.63791351, 393.06040277,\n",
       "       394.70168983, 392.68999123, 392.42251334, 387.92838022,\n",
       "       393.26382589, 390.16162755, 391.71505484, 389.18433715])"
      ]
     },
     "execution_count": 115,
     "metadata": {},
     "output_type": "execute_result"
    }
   ],
   "source": [
    "sigma"
   ]
  },
  {
   "cell_type": "code",
   "execution_count": 113,
   "id": "874ee3af-9521-4579-846f-c9f3f31f97f2",
   "metadata": {},
   "outputs": [],
   "source": [
    "Ob = e.SpecGrid"
   ]
  },
  {
   "cell_type": "code",
   "execution_count": null,
   "id": "efde722a-e285-4f44-9039-cda211a696a6",
   "metadata": {},
   "outputs": [],
   "source": []
  },
  {
   "cell_type": "code",
   "execution_count": 22,
   "id": "2ea79e11-f587-4998-ba28-931e6f425013",
   "metadata": {},
   "outputs": [
    {
     "data": {
      "text/plain": [
       "array([14.64081256, 14.63051247, 14.62756459, 14.62350759, 14.61977863,\n",
       "       14.63099483, 14.61437719, 14.61958175, 14.62262461, 14.60207067,\n",
       "       14.61946987, 14.60595685, 14.59775319, 14.60087678, 14.61094353,\n",
       "       14.59294374, 14.60264432, 14.58735801, 14.60838994, 14.59763427,\n",
       "       14.60041616, 14.59385789, 14.59614192, 14.5974467 , 14.5907353 ,\n",
       "       14.58694198, 14.56619525, 14.58409447, 14.5852576 , 14.56880225,\n",
       "       14.58008498, 14.56942823, 14.57758661, 14.58276285, 14.57666212,\n",
       "       14.56320274, 14.57134142, 14.57067433, 14.56788845, 14.54979488,\n",
       "       14.54830144, 14.55610891, 14.53741039, 14.5333162 , 14.53252074,\n",
       "       14.55374582, 14.55471083, 14.5349442 , 14.54452669, 14.54394766,\n",
       "       14.54148304, 14.54615581, 14.54034534, 14.54090225, 14.52798967,\n",
       "       14.53440833, 14.52142094, 14.5318419 , 14.52233379, 14.52729793,\n",
       "       14.5320666 , 14.52966063, 14.51647213, 14.52453109, 14.51239076,\n",
       "       14.52054184, 14.50168851, 14.51776613, 14.51425206, 14.51159343,\n",
       "       14.49474135, 14.50729681, 14.5096922 , 14.50553788, 14.5057435 ,\n",
       "       14.4871736 , 14.46474765, 14.49703546, 14.49136915, 14.49350857,\n",
       "       14.48591098, 14.48071598, 14.47411805, 14.47022871, 14.47716707,\n",
       "       14.48339634, 14.47596408, 14.45922587, 14.47817791, 14.47587108,\n",
       "       14.45595819, 14.45301288, 14.4647581 , 14.46418848, 14.46180195,\n",
       "       14.45915232, 14.46361853, 14.45811679, 14.44333491, 14.45268509,\n",
       "       14.45072138, 14.4405716 , 14.45114514, 14.44865823, 14.44131529,\n",
       "       14.44354305, 14.43936661, 14.44049666, 14.43378871, 14.43215999,\n",
       "       14.42960912, 14.4160873 , 14.40936765, 14.42823371, 14.42699205,\n",
       "       14.42502066, 14.42372057, 14.42239154, 14.42050389, 14.40582735,\n",
       "       14.41517639, 14.41384693, 14.40957194, 14.40395812, 14.40840637,\n",
       "       14.39179241, 14.40385262, 14.40281377, 14.3956626 , 14.3973071 ,\n",
       "       14.38541043, 14.38589106, 14.39332545, 14.39015569, 14.38798052,\n",
       "       14.38628104, 14.38464094, 14.38271462, 14.37949394, 14.37798511,\n",
       "       14.37421736, 14.37335907, 14.35610661, 14.35244827, 14.35378597,\n",
       "       14.35342981, 14.34768467, 14.36226687, 14.35225536, 14.35671213,\n",
       "       14.34228433, 14.35282815, 14.35184602, 14.35034759, 14.34798416,\n",
       "       14.34228433, 14.343093  , 14.33585077, 14.34012074, 14.3221655 ,\n",
       "       14.31359739, 14.32339987, 14.3321592 , 14.3243442 , 14.32370071,\n",
       "       14.3218883 , 14.310408  , 14.31418667, 14.31926323, 14.3119857 ,\n",
       "       14.31191875, 14.31391334, 14.2903027 , 14.28646374, 14.31043848,\n",
       "       14.30385742, 14.26726747, 14.29966977, 14.30536583, 14.22866602,\n",
       "       14.21198874, 14.28038857, 14.29516744, 14.2883352 , 14.20785665,\n",
       "       14.02841871, 14.26603188, 14.28921359, 14.28926963, 14.28192651,\n",
       "       14.27473758, 14.20132383, 14.2632558 , 14.26657981, 14.27743791,\n",
       "       14.27920055, 14.27757652, 14.2602733 , 14.19085317, 14.03368257,\n",
       "       14.23823912, 14.25476499, 14.24322628, 14.26118307, 14.25435886,\n",
       "       14.25748759, 14.25220944, 14.24849355, 14.21167253, 14.14007648,\n",
       "       14.22760034, 14.24009832, 14.24851949, 14.23819326, 14.23681621,\n",
       "       14.21353472, 14.24114424, 14.22513368, 14.23316771, 14.22006859])"
      ]
     },
     "execution_count": 22,
     "metadata": {},
     "output_type": "execute_result"
    }
   ],
   "source": [
    "Ob.interpolator(Ob.coord[D.midx], scale=1)"
   ]
  },
  {
   "cell_type": "code",
   "execution_count": 23,
   "id": "b92ab687-c187-4a99-8edc-a3338bd26c0a",
   "metadata": {},
   "outputs": [],
   "source": [
    "interp_coordx = np.copy(Ob.coordx[D.midx])"
   ]
  },
  {
   "cell_type": "code",
   "execution_count": 24,
   "id": "3192dbe3-b5d7-4c24-b256-b349ee41d4ec",
   "metadata": {},
   "outputs": [],
   "source": [
    "interp_coordx[1] += 0.5 "
   ]
  },
  {
   "cell_type": "code",
   "execution_count": 25,
   "id": "cf0a9aa0-ae57-419c-8d72-c3ee252acae4",
   "metadata": {},
   "outputs": [
    {
     "data": {
      "text/plain": [
       "array([2. , 2.5, 1. , 2. , 1. ])"
      ]
     },
     "execution_count": 25,
     "metadata": {},
     "output_type": "execute_result"
    }
   ],
   "source": [
    "interp_coordx"
   ]
  },
  {
   "cell_type": "code",
   "execution_count": 35,
   "id": "6c7a02b8-852e-44b7-b509-bfd356159c5a",
   "metadata": {},
   "outputs": [
    {
     "name": "stderr",
     "output_type": "stream",
     "text": [
      "[autoreload of test.testbase failed: Traceback (most recent call last):\n",
      "  File \"/datascope/slurm/miniconda3/envs/viska-tf28/lib/python3.9/site-packages/IPython/extensions/autoreload.py\", line 245, in check\n",
      "    superreload(m, reload, self.old_objects)\n",
      "  File \"/datascope/slurm/miniconda3/envs/viska-tf28/lib/python3.9/site-packages/IPython/extensions/autoreload.py\", line 394, in superreload\n",
      "    module = reload(module)\n",
      "  File \"/datascope/slurm/miniconda3/envs/viska-tf28/lib/python3.9/imp.py\", line 314, in reload\n",
      "    return importlib.reload(module)\n",
      "  File \"/datascope/slurm/miniconda3/envs/viska-tf28/lib/python3.9/importlib/__init__.py\", line 169, in reload\n",
      "    _bootstrap._exec(spec, module)\n",
      "  File \"<frozen importlib._bootstrap>\", line 613, in _exec\n",
      "  File \"<frozen importlib._bootstrap_external>\", line 846, in exec_module\n",
      "  File \"<frozen importlib._bootstrap_external>\", line 983, in get_code\n",
      "  File \"<frozen importlib._bootstrap_external>\", line 913, in source_to_code\n",
      "  File \"<frozen importlib._bootstrap>\", line 228, in _call_with_frames_removed\n",
      "  File \"/home/swei20/PIML_v1/test/testbase.py\", line 92\n",
      "    interpolator = \n",
      "                   ^\n",
      "SyntaxError: invalid syntax\n",
      "]\n"
     ]
    },
    {
     "ename": "AttributeError",
     "evalue": "Can't pickle local object 'RBFInterpSpecGridModel.apply_on_SpecGrid.<locals>.interpolator'",
     "output_type": "error",
     "traceback": [
      "\u001b[0;31m---------------------------------------------------------------------------\u001b[0m",
      "\u001b[0;31mAttributeError\u001b[0m                            Traceback (most recent call last)",
      "\u001b[0;32m/tmp/ipykernel_3620230/1259136751.py\u001b[0m in \u001b[0;36m<module>\u001b[0;34m\u001b[0m\n\u001b[1;32m      2\u001b[0m \u001b[0;32mwith\u001b[0m \u001b[0mopen\u001b[0m\u001b[0;34m(\u001b[0m\u001b[0;34m'/home/swei20/PIML_v1/test/testdata/testprepnndata/interp.pickle'\u001b[0m\u001b[0;34m,\u001b[0m \u001b[0;34m'wb'\u001b[0m\u001b[0;34m)\u001b[0m \u001b[0;32mas\u001b[0m \u001b[0mf\u001b[0m\u001b[0;34m:\u001b[0m\u001b[0;34m\u001b[0m\u001b[0;34m\u001b[0m\u001b[0m\n\u001b[1;32m      3\u001b[0m     \u001b[0;31m# Write object `ip` to file\u001b[0m\u001b[0;34m\u001b[0m\u001b[0;34m\u001b[0m\u001b[0m\n\u001b[0;32m----> 4\u001b[0;31m     \u001b[0mpickle\u001b[0m\u001b[0;34m.\u001b[0m\u001b[0mdump\u001b[0m\u001b[0;34m(\u001b[0m\u001b[0mOb\u001b[0m\u001b[0;34m.\u001b[0m\u001b[0minterpolator\u001b[0m\u001b[0;34m,\u001b[0m \u001b[0mf\u001b[0m\u001b[0;34m,\u001b[0m \u001b[0mpickle\u001b[0m\u001b[0;34m.\u001b[0m\u001b[0mHIGHEST_PROTOCOL\u001b[0m\u001b[0;34m)\u001b[0m\u001b[0;34m\u001b[0m\u001b[0;34m\u001b[0m\u001b[0m\n\u001b[0m",
      "\u001b[0;31mAttributeError\u001b[0m: Can't pickle local object 'RBFInterpSpecGridModel.apply_on_SpecGrid.<locals>.interpolator'"
     ]
    }
   ],
   "source": [
    "import pickle\n",
    "with open('/home/swei20/PIML_v1/test/testdata/testprepnndata/interp.pickle', 'wb') as f:\n",
    "    # Write object `ip` to file\n",
    "    pickle.dump(Ob.interpolator, f, pickle.HIGHEST_PROTOCOL)"
   ]
  },
  {
   "cell_type": "code",
   "execution_count": 28,
   "id": "1d6b5411-bceb-4968-94f4-5335684e6b0d",
   "metadata": {},
   "outputs": [],
   "source": [
    "from scipy.interpolate import RBFInterpolator\n"
   ]
  },
  {
   "cell_type": "code",
   "execution_count": 29,
   "id": "eb4b9769-1eb3-485e-a4e8-1b485d8eda2f",
   "metadata": {},
   "outputs": [],
   "source": [
    "interp = RBFInterpolator(Ob.coordx, Ob.logflux, kernel=\"gaussian\", epsilon=0.5)\n"
   ]
  },
  {
   "cell_type": "code",
   "execution_count": 36,
   "id": "481c20ba-5d50-4e80-bcb0-201c79283e93",
   "metadata": {},
   "outputs": [],
   "source": [
    "import pickle\n",
    "with open('/home/swei20/PIML_v1/test/testdata/testprepnndata/interp.pickle', 'wb') as f:\n",
    "    # Write object `ip` to file\n",
    "    pickle.dump(interp, f, pickle.HIGHEST_PROTOCOL)"
   ]
  },
  {
   "cell_type": "code",
   "execution_count": 77,
   "id": "2d857320-63ad-4817-84c7-4440a65700ba",
   "metadata": {},
   "outputs": [],
   "source": [
    "with open('data.pickle', 'rb') as f:\n",
    "    # Read out object `ip` from file\n",
    "    ip = pickle.load(f)"
   ]
  },
  {
   "cell_type": "code",
   "execution_count": 78,
   "id": "84b8e1cd-99d9-448e-849f-cae22c3c26a9",
   "metadata": {},
   "outputs": [],
   "source": [
    "aaa=np.array([interp_coordx])"
   ]
  },
  {
   "cell_type": "code",
   "execution_count": 79,
   "id": "f47bae39-a7ae-4751-9a36-7cb89bf16da4",
   "metadata": {},
   "outputs": [
    {
     "data": {
      "text/plain": [
       "array([[14.71221238, 14.70254542, 14.69836966, 14.69541416, 14.69225459,\n",
       "        14.70216577, 14.68643852, 14.69115949, 14.69386743, 14.67431404,\n",
       "        14.690642  , 14.67827186, 14.67000655, 14.67318688, 14.68189303,\n",
       "        14.66516853, 14.67366377, 14.65893685, 14.67858126, 14.66854098,\n",
       "        14.67062753, 14.66455261, 14.66690356, 14.66737625, 14.66093744,\n",
       "        14.65749576, 14.6379182 , 14.65450016, 14.65527085, 14.63903774,\n",
       "        14.64966506, 14.63978099, 14.64715553, 14.65174276, 14.64604444,\n",
       "        14.63336259, 14.64068023, 14.63977277, 14.63694825, 14.62016487,\n",
       "        14.61848898, 14.62579247, 14.60732836, 14.60370547, 14.60257223,\n",
       "        14.62221837, 14.6230401 , 14.6043839 , 14.61285454, 14.61228638,\n",
       "        14.60953997, 14.61414655, 14.60831272, 14.60897422, 14.5964719 ,\n",
       "        14.60253035, 14.58973756, 14.59928204, 14.59084901, 14.59504295,\n",
       "        14.59919677, 14.59675585, 14.58428782, 14.59153711, 14.58033932,\n",
       "        14.58746764, 14.56989277, 14.58453409, 14.58105407, 14.57843823,\n",
       "        14.5626129 , 14.57401801, 14.57595007, 14.57186635, 14.57189833,\n",
       "        14.55416914, 14.53324595, 14.56314837, 14.55760756, 14.55933971,\n",
       "        14.5519465 , 14.54701984, 14.54034037, 14.53777767, 14.54360399,\n",
       "        14.54889038, 14.54158748, 14.52632021, 14.54341893, 14.5410668 ,\n",
       "        14.51941122, 14.51770663, 14.530635  , 14.52945237, 14.52695552,\n",
       "        14.5244169 , 14.52821155, 14.52312612, 14.50860061, 14.51730334,\n",
       "        14.51536093, 14.50561509, 14.51534651, 14.51285242, 14.50540262,\n",
       "        14.5077688 , 14.50254846, 14.50407888, 14.49847403, 14.49628283,\n",
       "        14.49343898, 14.48069177, 14.47419062, 14.49182772, 14.49061771,\n",
       "        14.48851335, 14.48711326, 14.48568998, 14.48368149, 14.46967856,\n",
       "        14.47838015, 14.476766  , 14.47271174, 14.4674273 , 14.47120492,\n",
       "        14.45568478, 14.4664566 , 14.4653304 , 14.45881848, 14.45990268,\n",
       "        14.44850395, 14.44918786, 14.45553194, 14.45242656, 14.45015138,\n",
       "        14.44828934, 14.44662311, 14.44465855, 14.44150183, 14.4398587 ,\n",
       "        14.43617755, 14.43521506, 14.41828068, 14.41468025, 14.41565826,\n",
       "        14.415479  , 14.40951206, 14.42347921, 14.41403064, 14.41811353,\n",
       "        14.40307982, 14.41402809, 14.41297647, 14.41138885, 14.40889151,\n",
       "        14.4037143 , 14.40402485, 14.39714397, 14.4008132 , 14.38361997,\n",
       "        14.37407476, 14.38458736, 14.39267344, 14.38474263, 14.38478962,\n",
       "        14.38160932, 14.37186378, 14.37318204, 14.38019799, 14.37090099,\n",
       "        14.37125766, 14.37496667, 14.34927819, 14.34489245, 14.37094935,\n",
       "        14.36351028, 14.32325021, 14.36034805, 14.36644686, 14.29255652,\n",
       "        14.26763106, 14.34149396, 14.35701977, 14.35066427, 14.27501634,\n",
       "        14.09025584, 14.32652184, 14.35094068, 14.35138877, 14.34432762,\n",
       "        14.33492603, 14.24963853, 14.32025354, 14.32909188, 14.34026933,\n",
       "        14.34162123, 14.34012383, 14.32242536, 14.25449079, 14.0883775 ,\n",
       "        14.29787764, 14.31603703, 14.30641235, 14.32458567, 14.31816739,\n",
       "        14.3205678 , 14.31489528, 14.30921803, 14.26657542, 14.18718349,\n",
       "        14.28699365, 14.30202257, 14.31102981, 14.30157937, 14.30035188,\n",
       "        14.2783123 , 14.3041355 , 14.28847383, 14.29501147, 14.28149111]])"
      ]
     },
     "execution_count": 79,
     "metadata": {},
     "output_type": "execute_result"
    }
   ],
   "source": [
    "ip(aaa)"
   ]
  },
  {
   "cell_type": "code",
   "execution_count": 34,
   "id": "e5729a8f-41f7-434e-8d98-14fcefc5b671",
   "metadata": {},
   "outputs": [
    {
     "data": {
      "text/plain": [
       "array([14.71221238, 14.70254542, 14.69836966, 14.69541416, 14.69225459,\n",
       "       14.70216577, 14.68643852, 14.69115949, 14.69386743, 14.67431404,\n",
       "       14.690642  , 14.67827186, 14.67000655, 14.67318688, 14.68189303,\n",
       "       14.66516853, 14.67366377, 14.65893685, 14.67858126, 14.66854098,\n",
       "       14.67062753, 14.66455261, 14.66690356, 14.66737625, 14.66093744,\n",
       "       14.65749576, 14.6379182 , 14.65450016, 14.65527085, 14.63903774,\n",
       "       14.64966506, 14.63978099, 14.64715553, 14.65174276, 14.64604444,\n",
       "       14.63336259, 14.64068023, 14.63977277, 14.63694825, 14.62016487,\n",
       "       14.61848898, 14.62579247, 14.60732836, 14.60370547, 14.60257223,\n",
       "       14.62221837, 14.6230401 , 14.6043839 , 14.61285454, 14.61228638,\n",
       "       14.60953997, 14.61414655, 14.60831272, 14.60897422, 14.5964719 ,\n",
       "       14.60253035, 14.58973756, 14.59928204, 14.59084901, 14.59504295,\n",
       "       14.59919677, 14.59675585, 14.58428782, 14.59153711, 14.58033932,\n",
       "       14.58746764, 14.56989277, 14.58453409, 14.58105407, 14.57843823,\n",
       "       14.5626129 , 14.57401801, 14.57595007, 14.57186635, 14.57189833,\n",
       "       14.55416914, 14.53324595, 14.56314837, 14.55760756, 14.55933971,\n",
       "       14.5519465 , 14.54701984, 14.54034037, 14.53777767, 14.54360399,\n",
       "       14.54889038, 14.54158748, 14.52632021, 14.54341893, 14.5410668 ,\n",
       "       14.51941122, 14.51770663, 14.530635  , 14.52945237, 14.52695552,\n",
       "       14.5244169 , 14.52821155, 14.52312612, 14.50860061, 14.51730334,\n",
       "       14.51536093, 14.50561509, 14.51534651, 14.51285242, 14.50540262,\n",
       "       14.5077688 , 14.50254846, 14.50407888, 14.49847403, 14.49628283,\n",
       "       14.49343898, 14.48069177, 14.47419062, 14.49182772, 14.49061771,\n",
       "       14.48851335, 14.48711326, 14.48568998, 14.48368149, 14.46967856,\n",
       "       14.47838015, 14.476766  , 14.47271174, 14.4674273 , 14.47120492,\n",
       "       14.45568478, 14.4664566 , 14.4653304 , 14.45881848, 14.45990268,\n",
       "       14.44850395, 14.44918786, 14.45553194, 14.45242656, 14.45015138,\n",
       "       14.44828934, 14.44662311, 14.44465855, 14.44150183, 14.4398587 ,\n",
       "       14.43617755, 14.43521506, 14.41828068, 14.41468025, 14.41565826,\n",
       "       14.415479  , 14.40951206, 14.42347921, 14.41403064, 14.41811353,\n",
       "       14.40307982, 14.41402809, 14.41297647, 14.41138885, 14.40889151,\n",
       "       14.4037143 , 14.40402485, 14.39714397, 14.4008132 , 14.38361997,\n",
       "       14.37407476, 14.38458736, 14.39267344, 14.38474263, 14.38478962,\n",
       "       14.38160932, 14.37186378, 14.37318204, 14.38019799, 14.37090099,\n",
       "       14.37125766, 14.37496667, 14.34927819, 14.34489245, 14.37094935,\n",
       "       14.36351028, 14.32325021, 14.36034805, 14.36644686, 14.29255652,\n",
       "       14.26763106, 14.34149396, 14.35701977, 14.35066427, 14.27501634,\n",
       "       14.09025584, 14.32652184, 14.35094068, 14.35138877, 14.34432762,\n",
       "       14.33492603, 14.24963853, 14.32025354, 14.32909188, 14.34026933,\n",
       "       14.34162123, 14.34012383, 14.32242536, 14.25449079, 14.0883775 ,\n",
       "       14.29787764, 14.31603703, 14.30641235, 14.32458567, 14.31816739,\n",
       "       14.3205678 , 14.31489528, 14.30921803, 14.26657542, 14.18718349,\n",
       "       14.28699365, 14.30202257, 14.31102981, 14.30157937, 14.30035188,\n",
       "       14.2783123 , 14.3041355 , 14.28847383, 14.29501147, 14.28149111])"
      ]
     },
     "execution_count": 34,
     "metadata": {},
     "output_type": "execute_result"
    }
   ],
   "source": [
    "Ob.interpolator(interp_coordx, scale=0)"
   ]
  },
  {
   "cell_type": "code",
   "execution_count": 44,
   "id": "4220ec59-7466-4fc9-aeb9-501a71131443",
   "metadata": {},
   "outputs": [
    {
     "data": {
      "text/plain": [
       "{'coord': array([[-1.00e+00,  5.50e+03,  2.00e+00, -7.50e-01, -2.50e-01],\n",
       "        [-1.00e+00,  5.50e+03,  2.00e+00, -7.50e-01,  0.00e+00],\n",
       "        [-1.00e+00,  5.50e+03,  2.00e+00, -7.50e-01,  2.50e-01],\n",
       "        ...,\n",
       "        [ 0.00e+00,  6.75e+03,  3.50e+00,  5.00e-01,  0.00e+00],\n",
       "        [ 0.00e+00,  6.75e+03,  3.50e+00,  5.00e-01,  2.50e-01],\n",
       "        [ 0.00e+00,  6.75e+03,  3.50e+00,  5.00e-01,  5.00e-01]]),\n",
       " 'coord_idx': array([[ 6,  8,  4,  0,  0],\n",
       "        [ 6,  8,  4,  0,  1],\n",
       "        [ 6,  8,  4,  0,  2],\n",
       "        ...,\n",
       "        [10, 13,  7,  5,  1],\n",
       "        [10, 13,  7,  5,  2],\n",
       "        [10, 13,  7,  5,  3]]),\n",
       " 'PhyShort': ['M', 'T', 'G', 'C', 'A'],\n",
       " 'dfcoord':         M       T    G     C     A\n",
       " 0    -1.0  5500.0  2.0 -0.75 -0.25\n",
       " 1    -1.0  5500.0  2.0 -0.75  0.00\n",
       " 2    -1.0  5500.0  2.0 -0.75  0.25\n",
       " 3    -1.0  5500.0  2.0 -0.75  0.50\n",
       " 4    -1.0  5500.0  2.0 -0.50 -0.25\n",
       " ...   ...     ...  ...   ...   ...\n",
       " 2875  0.0  6750.0  3.5  0.25  0.50\n",
       " 2876  0.0  6750.0  3.5  0.50 -0.25\n",
       " 2877  0.0  6750.0  3.5  0.50  0.00\n",
       " 2878  0.0  6750.0  3.5  0.50  0.25\n",
       " 2879  0.0  6750.0  3.5  0.50  0.50\n",
       " \n",
       " [2880 rows x 5 columns],\n",
       " 'wave': array([7103.93535, 7111.04302, 7118.15752, 7125.27919, 7132.40811,\n",
       "        7139.54389, 7146.687  , 7153.83731, 7160.99483, 7168.15929,\n",
       "        7175.33091, 7182.50982, 7189.69599, 7196.88931, 7204.08979,\n",
       "        7211.29745, 7218.51226, 7225.73457, 7232.96373, 7240.20049,\n",
       "        7247.4442 , 7254.69511, 7261.95346, 7269.21914, 7276.4919 ,\n",
       "        7283.77212, 7291.05935, 7298.35411, 7305.65621, 7312.96543,\n",
       "        7320.28208, 7327.60596, 7334.9372 , 7342.27588, 7349.62183,\n",
       "        7356.97509, 7364.3357 , 7371.70382, 7379.07911, 7386.46192,\n",
       "        7393.852  , 7401.24956, 7408.65444, 7416.06675, 7423.48657,\n",
       "        7430.91382, 7438.34849, 7445.79043, 7453.23998, 7460.69695,\n",
       "        7468.16133, 7475.63325, 7483.1125 , 7490.59941, 7498.09378,\n",
       "        7505.59557, 7513.10493, 7520.62169, 7528.14614, 7535.67812,\n",
       "        7543.21735, 7550.76451, 7558.31905, 7565.88106, 7573.45084,\n",
       "        7581.02797, 7588.61283, 7596.20528, 7603.80515, 7611.41284,\n",
       "        7619.02807, 7626.65071, 7634.28116, 7641.91939, 7649.56494,\n",
       "        7657.21835, 7664.8796 , 7672.5481 , 7680.22452, 7687.9085 ,\n",
       "        7695.60029, 7703.29981, 7711.00684, 7718.72167, 7726.44439,\n",
       "        7734.1747 , 7741.9125 , 7749.65845, 7757.41197, 7765.1732 ,\n",
       "        7772.94229, 7780.719  , 7788.50362, 7796.29595, 7804.09629,\n",
       "        7811.90425, 7819.71993, 7827.54365, 7835.3751 , 7843.2144 ,\n",
       "        7851.06148, 7858.91654, 7866.77924, 7874.65001, 7882.52856,\n",
       "        7890.41504, 7898.30953, 7906.21167, 7914.12184, 7922.04   ,\n",
       "        7929.96587, 7937.89965, 7945.84154, 7953.79146, 7961.74932,\n",
       "        7969.71485, 7977.68863, 7985.6703 , 7993.65996, 8001.65755,\n",
       "        8009.66314, 8017.6769 , 8025.69848, 8033.72827, 8041.7659 ,\n",
       "        8049.81168, 8057.86547, 8065.92734, 8073.99731, 8082.07545,\n",
       "        8090.16148, 8098.25572, 8106.35781, 8114.46836, 8122.58683,\n",
       "        8130.71359, 8138.84824, 8146.99115, 8155.1423 , 8163.30152,\n",
       "        8171.46886, 8179.64454, 8187.82812, 8196.02002, 8204.22002,\n",
       "        8212.42842, 8220.64502, 8228.86972, 8237.10264, 8245.34386,\n",
       "        8253.59347, 8261.85107, 8270.1169 , 8278.3914 , 8286.67363,\n",
       "        8294.96455, 8303.26357, 8311.571  , 8319.88682, 8328.21085,\n",
       "        8336.54307, 8344.88399, 8353.23292, 8361.59034, 8369.95614,\n",
       "        8378.33026, 8386.71289, 8395.10371, 8403.50303, 8411.91065,\n",
       "        8420.32675, 8428.75118, 8437.18417, 8445.62549, 8454.07539,\n",
       "        8462.5338 , 8471.00058, 8479.4757 , 8487.95928, 8496.45147,\n",
       "        8504.95216, 8513.46153, 8521.9791 , 8530.50556, 8539.04004,\n",
       "        8547.5834 , 8556.13515, 8564.69561, 8573.26473, 8581.8421 ,\n",
       "        8590.42841, 8599.02305, 8607.62627, 8616.23818, 8624.85895,\n",
       "        8633.48799, 8642.12558, 8650.77226, 8659.42724, 8668.091  ,\n",
       "        8676.7632 , 8685.44453, 8694.13429, 8702.83281, 8711.53994,\n",
       "        8720.25576, 8728.98038, 8737.71386, 8746.45578, 8755.20636,\n",
       "        8763.96639, 8772.73448, 8781.51171, 8790.29725, 8799.09229,\n",
       "        8807.89571, 8816.70791, 8825.52901, 8834.359  , 8843.19765]),\n",
       " 'num_pixel': 15404,\n",
       " 'flux': array([[1614790., 1604300., 1606410., ..., 1123880., 1137350., 1126390.],\n",
       "        [1618510., 1607800., 1609990., ..., 1125890., 1139410., 1128420.],\n",
       "        [1622940., 1611910., 1614210., ..., 1128200., 1141800., 1130710.],\n",
       "        ...,\n",
       "        [3484810., 3402720., 3314550., ..., 2161530., 2131210., 2090250.],\n",
       "        [3505460., 3419960., 3334010., ..., 2172310., 2141410., 2100580.],\n",
       "        [3532140., 3441090., 3359260., ..., 2186390., 2154480., 2114040.]]),\n",
       " 'num_spec': 2880,\n",
       " 'box': {'name': 'R',\n",
       "  'min': array([-1.0e+00,  5.5e+03,  2.0e+00, -7.5e-01, -2.5e-01]),\n",
       "  'max': array([0.00e+00, 6.75e+03, 3.50e+00, 5.00e-01, 5.00e-01]),\n",
       "  'rng': array([1.00e+00, 1.25e+03, 1.50e+00, 1.25e+00, 7.50e-01]),\n",
       "  'num': array([4., 5., 3., 5., 3.]),\n",
       "  'mid': array([-5.0e-01,  6.0e+03,  2.5e+00, -2.5e-01,  0.0e+00])},\n",
       " 'sky': array([0.15077469, 0.1495934 , 0.14423648, 0.14433482, 0.14747137,\n",
       "        0.14836056, 0.14531086, 0.14922931, 0.14873182, 0.14719386,\n",
       "        0.14742225, 0.14853853, 0.14872931, 0.14798906, 0.14843427,\n",
       "        0.14942387, 0.15094892, 0.15054792, 0.15677576, 0.19068839,\n",
       "        0.17415853, 0.15311395, 0.15320229, 0.16651898, 0.17029691,\n",
       "        0.15508382, 0.18025812, 0.1883331 , 0.16233235, 0.16886398,\n",
       "        0.16669567, 0.15809255, 0.31407816, 0.52847163, 0.16061403,\n",
       "        0.16233161, 0.16050382, 0.16841212, 0.16914596, 0.16412062,\n",
       "        0.1623135 , 0.16355638, 0.17055147, 0.17649125, 0.16981551,\n",
       "        0.16835615, 0.16894306, 0.16776282, 0.1689735 , 0.17108565,\n",
       "        0.21743374, 0.21017425, 0.18578376, 0.17103679, 0.17821553,\n",
       "        0.18634029, 0.19609469, 0.25088166, 0.22023136, 0.19109764,\n",
       "        0.18437969, 0.18709035, 0.17928734, 0.24631951, 0.32752443,\n",
       "        0.17920501, 0.17541241, 0.22140323, 0.18607524, 0.1782438 ,\n",
       "        0.18310485, 0.18102709, 0.17813475, 0.18273535, 0.18308226,\n",
       "        0.20850683, 0.2118021 , 0.18088978, 0.18353911, 0.18650233,\n",
       "        0.19413879, 0.19525158, 0.76060658, 0.41070454, 0.27989433,\n",
       "        0.19448632, 0.19024132, 0.19733519, 0.1963367 , 0.19449762,\n",
       "        0.20845266, 0.19697185, 0.20923709, 0.19921612, 0.2654738 ,\n",
       "        0.24560004, 1.25410509, 0.31016396, 0.19801654, 0.19930584,\n",
       "        0.91599799, 0.33785729, 0.20015064, 0.2026415 , 0.20763698,\n",
       "        0.22937657, 0.2049907 , 0.20525852, 0.21241704, 0.21408006,\n",
       "        0.21688857, 0.21091482, 0.22633555, 0.21669072, 0.80920067,\n",
       "        0.41729497, 0.21616765, 0.21757693, 0.22760183, 0.22037829,\n",
       "        0.23069926, 0.31258083, 0.66164141, 0.23407819, 0.2284911 ,\n",
       "        0.29451444, 0.2552255 , 0.24677304, 0.25061808, 0.27271351,\n",
       "        0.23868046, 0.2942626 , 0.29286793, 0.24830773, 0.25761645,\n",
       "        0.25612404, 0.25562369, 0.31110623, 0.27861942, 0.2818129 ,\n",
       "        0.27547543, 0.26052986, 0.30132864, 0.28439904, 0.2585277 ,\n",
       "        0.26765433, 0.26786594, 0.27126658, 0.2669448 , 0.27765435,\n",
       "        0.28202935, 0.30781825, 0.29414398, 0.32187064, 1.09440948,\n",
       "        0.82300544, 0.46244163, 0.29063734, 0.2874183 , 0.27793168,\n",
       "        0.34223132, 0.52313925, 0.29900544, 0.3011935 , 0.29610237,\n",
       "        0.3016806 , 0.30705132, 0.30734797, 0.33346364, 0.34129663,\n",
       "        0.34182358, 0.36290769, 0.32780384, 0.30921269, 0.31294904,\n",
       "        0.31262137, 0.32121396, 0.31462864, 0.31871594, 0.33745691,\n",
       "        0.3378131 , 0.33997603, 0.34806574, 0.32992386, 0.33393286,\n",
       "        0.46343167, 0.33909138, 0.34069703, 0.34190535, 0.36394823,\n",
       "        0.39202571, 0.35838278, 0.35326057, 0.3993782 , 0.64865861,\n",
       "        0.49148915, 0.42861642, 0.4912762 , 0.50733858, 0.80176853,\n",
       "        0.6440612 , 0.42033427, 0.4062287 , 0.39021821, 0.39096852,\n",
       "        0.39701091, 0.39594507, 0.40866664, 0.42912755, 0.51500606,\n",
       "        0.97947304, 0.48022699, 0.4239523 , 0.42921031, 0.42897342,\n",
       "        0.42817814, 0.43675347, 1.09560973, 0.68419042, 0.44828174]),\n",
       " 'map_snr': <scipy.interpolate.interpolate.interp1d at 0x7f68e2926cc0>,\n",
       " 'map_snr_inv': <scipy.interpolate.interpolate.interp1d at 0x7f68e2849040>,\n",
       " 'step': 10,\n",
       " 'skyH': array([0.14686077, 0.14686077, 0.14684008, ..., 0.45501659, 0.46869104,\n",
       "        0.47365477]),\n",
       " 'Obs': <PIML.crust.model.obs.stellarobs.LowResObs at 0x7f68e25e2790>,\n",
       " 'logflux': array([[14.29471548, 14.28819808, 14.28951243, ..., 13.93229754,\n",
       "         13.94421155, 13.93452839],\n",
       "        [14.29701653, 14.29037734, 14.29173853, ..., 13.93408439,\n",
       "         13.94602114, 13.93632898],\n",
       "        [14.29974988, 14.29293037, 14.29435623, ..., 13.936134  ,\n",
       "         13.94811652, 13.93835631],\n",
       "        ...,\n",
       "        [15.06392408, 15.04008567, 15.01383243, ..., 14.58632686,\n",
       "         14.57220045, 14.55279423],\n",
       "        [15.06983231, 15.04513941, 15.01968634, ..., 14.59130168,\n",
       "         14.57697505, 14.55772406],\n",
       "        [15.07741448, 15.05129884, 15.02723127, ..., 14.59776234,\n",
       "         14.58305995, 14.56411137]]),\n",
       " 'coordx': array([[0., 0., 0., 0., 0.],\n",
       "        [0., 0., 0., 0., 1.],\n",
       "        [0., 0., 0., 0., 2.],\n",
       "        ...,\n",
       "        [4., 5., 3., 5., 1.],\n",
       "        [4., 5., 3., 5., 2.],\n",
       "        [4., 5., 3., 5., 3.]]),\n",
       " 'coordx_scaler': <function PIML.crust.operation.gridoperation.CoordxifyGridOperation.get_scalers.<locals>.<lambda>(x)>,\n",
       " 'coordx_rescaler': <function PIML.crust.operation.gridoperation.CoordxifyGridOperation.get_scalers.<locals>.<lambda>(x)>,\n",
       " 'interpolator': <function PIML.crust.model.specgrid.interpspecgridmodel.RBFInterpSpecGridModel.apply_on_SpecGrid.<locals>.interpolator(eval_coord, scale=True)>}"
      ]
     },
     "execution_count": 44,
     "metadata": {},
     "output_type": "execute_result"
    }
   ],
   "source": [
    "Ob.__dict__"
   ]
  },
  {
   "cell_type": "code",
   "execution_count": null,
   "id": "957921d9-583c-424e-a51c-11ae9deb3362",
   "metadata": {},
   "outputs": [],
   "source": [
    " [4., 5., 3., 5., 3.]"
   ]
  },
  {
   "cell_type": "code",
   "execution_count": 120,
   "id": "6b1b6410-d671-42bf-841f-e746fe0cc3a2",
   "metadata": {},
   "outputs": [],
   "source": [
    "from scipy.stats.qmc import Halton\n"
   ]
  },
  {
   "cell_type": "code",
   "execution_count": 121,
   "id": "ec6d945f-de4d-4a79-a349-fdbaf62c79da",
   "metadata": {},
   "outputs": [],
   "source": [
    "sampler = Halton(d=5, scramble=False)\n",
    "sample = sampler.random(n=10)"
   ]
  },
  {
   "cell_type": "code",
   "execution_count": 122,
   "id": "16bd2d17-9c39-4c5b-be5d-ddfab20a2853",
   "metadata": {},
   "outputs": [
    {
     "data": {
      "text/plain": [
       "<scipy.stats._qmc.Halton at 0x7f68e17d8e50>"
      ]
     },
     "execution_count": 122,
     "metadata": {},
     "output_type": "execute_result"
    }
   ],
   "source": [
    "sampler\n"
   ]
  },
  {
   "cell_type": "code",
   "execution_count": 132,
   "id": "41291562-646a-4242-bc3c-5e995cb4832b",
   "metadata": {},
   "outputs": [],
   "source": [
    "np.set_printoptions(precision=3, suppress=False)\n"
   ]
  },
  {
   "cell_type": "code",
   "execution_count": 130,
   "id": "69a1dbbb-c818-469d-b6c5-c704dc5a0458",
   "metadata": {},
   "outputs": [],
   "source": [
    "rng = [0,1,30,50,1000]"
   ]
  },
  {
   "cell_type": "code",
   "execution_count": 133,
   "id": "50fa2083-0611-4c57-8032-259faad3a2c5",
   "metadata": {},
   "outputs": [
    {
     "data": {
      "text/plain": [
       "array([[0.000e+00, 0.000e+00, 0.000e+00, 0.000e+00, 0.000e+00],\n",
       "       [0.000e+00, 3.333e-01, 6.000e+00, 7.143e+00, 9.091e+01],\n",
       "       [0.000e+00, 6.667e-01, 1.200e+01, 1.429e+01, 1.818e+02],\n",
       "       [0.000e+00, 1.111e-01, 1.800e+01, 2.143e+01, 2.727e+02],\n",
       "       [0.000e+00, 4.444e-01, 2.400e+01, 2.857e+01, 3.636e+02],\n",
       "       [0.000e+00, 7.778e-01, 1.200e+00, 3.571e+01, 4.545e+02],\n",
       "       [0.000e+00, 2.222e-01, 7.200e+00, 4.286e+01, 5.455e+02],\n",
       "       [0.000e+00, 5.556e-01, 1.320e+01, 1.020e+00, 6.364e+02],\n",
       "       [0.000e+00, 8.889e-01, 1.920e+01, 8.163e+00, 7.273e+02],\n",
       "       [0.000e+00, 3.704e-02, 2.520e+01, 1.531e+01, 8.182e+02]])"
      ]
     },
     "execution_count": 133,
     "metadata": {},
     "output_type": "execute_result"
    }
   ],
   "source": [
    "sample * rng"
   ]
  },
  {
   "cell_type": "code",
   "execution_count": 136,
   "id": "71d0dd8c-1b71-4776-8690-caa3d83d473c",
   "metadata": {},
   "outputs": [
    {
     "data": {
      "text/plain": [
       "array([[0.36 , 0.295, 0.899, 0.521, 0.027],\n",
       "       [0.181, 0.308, 0.437, 0.049, 0.08 ],\n",
       "       [0.233, 0.199, 0.006, 0.933, 0.802],\n",
       "       [0.458, 0.887, 0.454, 0.613, 0.974],\n",
       "       [0.346, 0.014, 0.359, 0.944, 0.213],\n",
       "       [0.314, 0.545, 0.028, 0.336, 0.492],\n",
       "       [0.247, 0.493, 0.907, 0.183, 0.163],\n",
       "       [0.186, 0.478, 0.64 , 0.545, 0.88 ],\n",
       "       [0.035, 0.351, 0.865, 0.252, 0.156],\n",
       "       [0.048, 0.896, 0.146, 0.452, 0.192]])"
      ]
     },
     "execution_count": 136,
     "metadata": {},
     "output_type": "execute_result"
    }
   ],
   "source": [
    "np.random.seed(922)\n",
    "np.random.uniform(0, 1, size=(10, 5))"
   ]
  },
  {
   "cell_type": "code",
   "execution_count": 138,
   "id": "58c71a34-699f-463c-8145-a4426d1e4dc1",
   "metadata": {},
   "outputs": [
    {
     "data": {
      "text/plain": [
       "array([[ 0.   ,  0.295, 26.981, 26.032, 26.798]])"
      ]
     },
     "execution_count": 138,
     "metadata": {},
     "output_type": "execute_result"
    }
   ],
   "source": [
    "\n",
    "np.random.seed(922)\n",
    "np.random.uniform(0, rng, size=(1, 5))"
   ]
  },
  {
   "cell_type": "code",
   "execution_count": null,
   "id": "ed50502f-b854-4c06-9dbf-0ffd405519f8",
   "metadata": {},
   "outputs": [],
   "source": []
  },
  {
   "cell_type": "code",
   "execution_count": 142,
   "id": "4323f099-5a2a-464a-a2ff-86105cad4059",
   "metadata": {},
   "outputs": [],
   "source": [
    "a=Halton(d=5, scramble=False).random(n=10)\n",
    "\n"
   ]
  },
  {
   "cell_type": "code",
   "execution_count": 46,
   "id": "a60821bd-6343-4141-bfa7-3030e91c01da",
   "metadata": {},
   "outputs": [],
   "source": [
    "with open(\"/home/swei20/PIML_v1/test/testdata/testmethoddata/interp.pickel\", 'rb') as f:\n",
    "    # Read out object `ip` from file\n",
    "    ip = pickle.load(f)"
   ]
  }
 ],
 "metadata": {
  "kernelspec": {
   "display_name": "Python 3 [viska-tf28]",
   "language": "python",
   "name": "python3-viska-tf28"
  },
  "language_info": {
   "codemirror_mode": {
    "name": "ipython",
    "version": 3
   },
   "file_extension": ".py",
   "mimetype": "text/x-python",
   "name": "python",
   "nbconvert_exporter": "python",
   "pygments_lexer": "ipython3",
   "version": "3.9.7"
  }
 },
 "nbformat": 4,
 "nbformat_minor": 5
}
