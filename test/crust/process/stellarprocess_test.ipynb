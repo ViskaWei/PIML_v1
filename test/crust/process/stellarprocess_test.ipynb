{
 "cells": [
  {
   "cell_type": "code",
   "execution_count": null,
   "id": "f4ab5306-fe87-42eb-86fa-269b7230d657",
   "metadata": {},
   "outputs": [],
   "source": []
  },
  {
   "cell_type": "code",
   "execution_count": 3,
   "id": "eef421dc-4a25-438d-bd69-8069661b6f2a",
   "metadata": {},
   "outputs": [],
   "source": [
    "%load_ext autoreload\n",
    "%autoreload 2"
   ]
  },
  {
   "cell_type": "code",
   "execution_count": 4,
   "id": "6afb10cc-684a-439f-a309-5e24abf3e2ee",
   "metadata": {},
   "outputs": [],
   "source": [
    "PROJECT_PATH = '/home/swei20/PIML_v1/'\n",
    "import sys\n",
    "sys.path.insert(0, PROJECT_PATH)"
   ]
  },
  {
   "cell_type": "code",
   "execution_count": 5,
   "id": "2ba374f7-8a4f-4e0c-88fa-5709a2bd19e3",
   "metadata": {},
   "outputs": [],
   "source": [
    "import os\n",
    "import numpy as np"
   ]
  },
  {
   "cell_type": "code",
   "execution_count": 5,
   "id": "289598c4-1672-4b2e-895b-695a661dff68",
   "metadata": {},
   "outputs": [],
   "source": [
    "from PIML.gateway.loaderIF.baseloaderIF import SpecGridLoaderIF\n"
   ]
  },
  {
   "cell_type": "code",
   "execution_count": 25,
   "id": "d2b82ac7-a592-43bd-97d4-01c87a431aac",
   "metadata": {},
   "outputs": [],
   "source": [
    "GRID_PATH=\"/datascope/subaru/user/swei20/data/pfsspec/import/stellar/grid\"\n",
    "DATA_PATH=os.path.join(GRID_PATH, \"bosz_5000_RHB.h5\")"
   ]
  },
  {
   "cell_type": "code",
   "execution_count": null,
   "id": "a2ee0076-50f8-43aa-b290-2fdcf5ad2dfe",
   "metadata": {},
   "outputs": [],
   "source": []
  },
  {
   "cell_type": "code",
   "execution_count": 26,
   "id": "4d119e1e-b554-4330-8f94-144c1dac0f84",
   "metadata": {},
   "outputs": [],
   "source": [
    "DATA_PARAMS = {\"DATA_PATH\": DATA_PATH}\n",
    "OP_PARAMS = {\n",
    "    \"box_name\": \"R\",\n",
    "    \"arm\": \"RedM\",\n",
    "    \"step\": 10,\n",
    "    # \"wave_rng\": Constants.ARM_RNGS[self.arm]\n",
    "}\n",
    "\n",
    "PARAMS = {\n",
    "    \"data\": DATA_PARAMS,\n",
    "    \"op\"  : OP_PARAMS,\n",
    "}"
   ]
  },
  {
   "cell_type": "code",
   "execution_count": 27,
   "id": "7986da53-f627-4085-9f62-32e407d58b7f",
   "metadata": {},
   "outputs": [],
   "source": [
    "MODEL_TYPES = {\n",
    "            \"Resolution\": \"Alex\",\n",
    "            \"Interp\": \"RBF\",\n",
    "        }"
   ]
  },
  {
   "cell_type": "code",
   "execution_count": 28,
   "id": "c8805480-0db5-43ec-aa31-7fa49675366e",
   "metadata": {},
   "outputs": [],
   "source": [
    "from PIML.gateway.processIF.specgridprocessIF.basespecgridprocessIF import StellarProcessIF"
   ]
  },
  {
   "cell_type": "code",
   "execution_count": 29,
   "id": "f11bcf91-1e96-4dc9-a5b6-d1ed212a5ad7",
   "metadata": {},
   "outputs": [],
   "source": [
    "SP = StellarProcessIF()\n",
    "SP.interact(PARAMS, MODEL_TYPES)\n"
   ]
  },
  {
   "cell_type": "code",
   "execution_count": 30,
   "id": "f3dde1ac-dc7b-40f4-8f98-6c1115790f1e",
   "metadata": {},
   "outputs": [
    {
     "data": {
      "text/plain": [
       "(2880, 220)"
      ]
     },
     "execution_count": 30,
     "metadata": {},
     "output_type": "execute_result"
    }
   ],
   "source": [
    "SP.SpecGrid.flux.shape"
   ]
  },
  {
   "cell_type": "code",
   "execution_count": 32,
   "id": "e10d6aca-1137-4993-bf52-eda2987ebc40",
   "metadata": {},
   "outputs": [
    {
     "data": {
      "text/plain": [
       "<scipy.interpolate._rbfinterp.RBFInterpolator at 0x7f5957b4cf70>"
      ]
     },
     "execution_count": 32,
     "metadata": {},
     "output_type": "execute_result"
    }
   ],
   "source": [
    "SP.SpecGrid.interpolator"
   ]
  },
  {
   "cell_type": "code",
   "execution_count": 33,
   "id": "990d3aeb-affc-47a8-8c78-7f40ab0088c8",
   "metadata": {},
   "outputs": [],
   "source": [
    "para = SP.SpecGrid.box[\"mid\"]"
   ]
  },
  {
   "cell_type": "code",
   "execution_count": 35,
   "id": "7dd7d5d0-2089-4b91-a9c1-e8430b20d31a",
   "metadata": {},
   "outputs": [],
   "source": [
    "pmt1 = para"
   ]
  },
  {
   "cell_type": "code",
   "execution_count": 38,
   "id": "b26fd470-a996-4639-bdaf-880826762982",
   "metadata": {},
   "outputs": [],
   "source": [
    "pmt2  = np.copy(para)\n",
    "pmt2[1] += 250"
   ]
  },
  {
   "cell_type": "code",
   "execution_count": 39,
   "id": "b09af9c0-8ea9-449a-85b5-b02cebdd299d",
   "metadata": {},
   "outputs": [
    {
     "data": {
      "text/plain": [
       "array([-5.00e-01,  6.25e+03,  2.50e+00, -2.50e-01,  0.00e+00])"
      ]
     },
     "execution_count": 39,
     "metadata": {},
     "output_type": "execute_result"
    }
   ],
   "source": [
    "pmt2"
   ]
  },
  {
   "cell_type": "code",
   "execution_count": null,
   "id": "010b7d84-01d2-429b-87d9-f4c42a3da959",
   "metadata": {},
   "outputs": [],
   "source": [
    "    @staticmethod\n",
    "    def get_fdx_from_pmt(pmt, para):\n",
    "        mask = True\n",
    "        for ii, p in enumerate(pmt):\n",
    "            mask = mask & (para[:,ii] == p)\n",
    "        try:\n",
    "            idx = np.where(mask)[0][0]\n",
    "            return idx\n",
    "        except:\n",
    "            raise(\"No such pmt\")"
   ]
  },
  {
   "cell_type": "code",
   "execution_count": null,
   "id": "607a3013-744a-43d8-af5f-f65199819604",
   "metadata": {},
   "outputs": [],
   "source": [
    "def test_rbf(self, pmt1, pmt2, pmt=None):\n",
    "    flux1, flux2 = self.get_model(pmt1,onGrid=1),  self.get_model(pmt2,onGrid=1)\n",
    "    if pmt is None: pmt = 0.5 * (pmt1 + pmt2)\n",
    "    interpFlux = self.rbf_flux(pmt)\n",
    "    plt.plot(self.wave, flux1, label=Util.get_pmt_name(*pmt1), c='k')\n",
    "    plt.plot(self.wave, interpFlux, label=Util.get_pmt_name(*pmt), c='r')\n",
    "    plt.plot(self.wave, flux2, label=Util.get_pmt_name(*pmt2), c='b')\n",
    "    plt.xlabel(\"Wavelength [A]\")\n",
    "    plt.ylabel(\"Flux [erg/s/cm2/A]\")\n",
    "    plt.legend()"
   ]
  },
  {
   "cell_type": "code",
   "execution_count": 8,
   "id": "1a8f1e80-be9a-4935-87b1-a295d89236b4",
   "metadata": {},
   "outputs": [],
   "source": [
    "SGL = SpecGridLoaderIF()\n",
    "SGL.set_data_path(FILE_PATH)\n",
    "SpecGrid = SGL.load()"
   ]
  },
  {
   "cell_type": "code",
   "execution_count": 96,
   "id": "dee2a885-1d86-4aef-a168-98c62a35b72e",
   "metadata": {},
   "outputs": [],
   "source": [
    "flux0 = np.log(g.get_coord_flux(pmt1))\n",
    "flux1 = np.log(g.get_coord_flux(pmt2))"
   ]
  },
  {
   "cell_type": "code",
   "execution_count": 97,
   "id": "3c6325ca-3c66-45e2-a629-027a031429c6",
   "metadata": {},
   "outputs": [],
   "source": [
    "wave= g.wave"
   ]
  },
  {
   "cell_type": "code",
   "execution_count": 7,
   "id": "2bb3a771-4123-42e1-8eae-719525f2f40b",
   "metadata": {},
   "outputs": [],
   "source": [
    "from PIML.surface.posteval.evalstellarprocess import EvalStellarProcess"
   ]
  },
  {
   "cell_type": "code",
   "execution_count": 8,
   "id": "95918f1f-721d-4ccb-ad3e-2550c5863d6f",
   "metadata": {},
   "outputs": [],
   "source": [
    "ee = EvalStellarProcess()"
   ]
  },
  {
   "cell_type": "code",
   "execution_count": 9,
   "id": "e938ca6c-8899-47af-8fd1-64986ca60333",
   "metadata": {},
   "outputs": [
    {
     "data": {
      "image/png": "[encoded data removed]",
      "text/plain": [
       "<Figure size 432x288 with 1 Axes>"
      ]
     },
     "metadata": {
      "needs_background": "light"
     },
     "output_type": "display_data"
    }
   ],
   "source": [
    "ee.eval_interpolator()"
   ]
  },
  {
   "cell_type": "code",
   "execution_count": 13,
   "id": "d2098f30-5273-4dd0-a661-1b1d586c08b1",
   "metadata": {},
   "outputs": [],
   "source": [
    "from PIML.crust.model.specgrid.interpspecgridmodel import RBFInterpBuilder, RBFInterpSpecGridModel\n"
   ]
  },
  {
   "cell_type": "code",
   "execution_count": 14,
   "id": "1a1e49b3-ef78-4785-8d81-343c69ced244",
   "metadata": {},
   "outputs": [],
   "source": [
    "ee = EvalStellarProcess()"
   ]
  },
  {
   "cell_type": "code",
   "execution_count": 18,
   "id": "27222a86-4d44-4643-ab3a-2aabd24d53b6",
   "metadata": {},
   "outputs": [],
   "source": [
    "g = ee.SP.SpecGrid"
   ]
  },
  {
   "cell_type": "code",
   "execution_count": 26,
   "id": "b988deb8-4544-4a1b-9bea-7de69720fbd2",
   "metadata": {},
   "outputs": [],
   "source": [
    "from PIML.gateway.storerIF.basestorerIF import ObjectStorerIF"
   ]
  },
  {
   "cell_type": "code",
   "execution_count": null,
   "id": "2ed031bc-6522-4fd8-ac3c-bf74e5df1fce",
   "metadata": {},
   "outputs": [],
   "source": []
  },
  {
   "cell_type": "code",
   "execution_count": 27,
   "id": "defc429e-4108-4713-adfa-e90e677153dc",
   "metadata": {},
   "outputs": [],
   "source": [
    "STORE_PATH = \"/home/swei20/PIML_v1/test/testdata/dnn_test.h5\""
   ]
  },
  {
   "cell_type": "code",
   "execution_count": 29,
   "id": "9c58ac72-21f9-41f6-8f3d-c1357d4dfb8f",
   "metadata": {},
   "outputs": [],
   "source": [
    "storer = ObjectStorerIF()\n",
    "storer.set_data_path(STORE_PATH)"
   ]
  },
  {
   "cell_type": "code",
   "execution_count": 36,
   "id": "bbe8cbb9-72b0-4ebb-8c61-bb5f281b659b",
   "metadata": {},
   "outputs": [],
   "source": [
    "aa=\"logflux\""
   ]
  },
  {
   "cell_type": "code",
   "execution_count": 40,
   "id": "aa2dfeb7-c2f1-42ab-9c99-b114f86b17cb",
   "metadata": {},
   "outputs": [
    {
     "data": {
      "text/plain": [
       "array([[-1.00e+00,  5.50e+03,  2.00e+00, -7.50e-01, -2.50e-01],\n",
       "       [-1.00e+00,  5.50e+03,  2.00e+00, -7.50e-01,  0.00e+00],\n",
       "       [-1.00e+00,  5.50e+03,  2.00e+00, -7.50e-01,  2.50e-01],\n",
       "       ...,\n",
       "       [ 0.00e+00,  6.75e+03,  3.50e+00,  5.00e-01,  0.00e+00],\n",
       "       [ 0.00e+00,  6.75e+03,  3.50e+00,  5.00e-01,  2.50e-01],\n",
       "       [ 0.00e+00,  6.75e+03,  3.50e+00,  5.00e-01,  5.00e-01]])"
      ]
     },
     "execution_count": 40,
     "metadata": {},
     "output_type": "execute_result"
    }
   ],
   "source": [
    "g.__dict__[\"coord\"]"
   ]
  },
  {
   "cell_type": "code",
   "execution_count": 38,
   "id": "fd6518c6-42a9-4ef5-96df-aa10ecb0f278",
   "metadata": {},
   "outputs": [
    {
     "ename": "AttributeError",
     "evalue": "'StellarSpecGrid' object has no attribute 'eval'",
     "output_type": "error",
     "traceback": [
      "\u001b[0;31m---------------------------------------------------------------------------\u001b[0m",
      "\u001b[0;31mAttributeError\u001b[0m                            Traceback (most recent call last)",
      "\u001b[0;32m/tmp/ipykernel_1603983/3127446567.py\u001b[0m in \u001b[0;36m<module>\u001b[0;34m\u001b[0m\n\u001b[0;32m----> 1\u001b[0;31m \u001b[0mg\u001b[0m\u001b[0;34m.\u001b[0m\u001b[0meval\u001b[0m\u001b[0;34m(\u001b[0m\u001b[0maa\u001b[0m\u001b[0;34m)\u001b[0m\u001b[0;34m\u001b[0m\u001b[0;34m\u001b[0m\u001b[0m\n\u001b[0m",
      "\u001b[0;31mAttributeError\u001b[0m: 'StellarSpecGrid' object has no attribute 'eval'"
     ]
    }
   ],
   "source": [
    "g.eval(aa)"
   ]
  },
  {
   "cell_type": "code",
   "execution_count": 41,
   "id": "7efc5bbd-3bba-401c-938b-69e4959d9c34",
   "metadata": {},
   "outputs": [
    {
     "ename": "AttributeError",
     "evalue": "'dict' object has no attribute 'shape'",
     "output_type": "error",
     "traceback": [
      "\u001b[0;31m---------------------------------------------------------------------------\u001b[0m",
      "\u001b[0;31mAttributeError\u001b[0m                            Traceback (most recent call last)",
      "\u001b[0;32m/tmp/ipykernel_1603983/1660792554.py\u001b[0m in \u001b[0;36m<module>\u001b[0;34m\u001b[0m\n\u001b[0;32m----> 1\u001b[0;31m \u001b[0mstorer\u001b[0m\u001b[0;34m.\u001b[0m\u001b[0mstore_DArgs\u001b[0m\u001b[0;34m(\u001b[0m\u001b[0mg\u001b[0m\u001b[0;34m,\u001b[0m \u001b[0;34m[\u001b[0m\u001b[0;34m\"logflux\"\u001b[0m\u001b[0;34m,\u001b[0m \u001b[0;34m\"coord\"\u001b[0m\u001b[0;34m,\u001b[0m\u001b[0;34m\"box\"\u001b[0m\u001b[0;34m]\u001b[0m\u001b[0;34m)\u001b[0m\u001b[0;34m\u001b[0m\u001b[0;34m\u001b[0m\u001b[0m\n\u001b[0m",
      "\u001b[0;32m~/PIML_v1/PIML/gateway/storerIF/basestorerIF.py\u001b[0m in \u001b[0;36mstore_DArgs\u001b[0;34m(self, DArgs, keys)\u001b[0m\n\u001b[1;32m     30\u001b[0m             \u001b[0mDStore\u001b[0m \u001b[0;34m=\u001b[0m \u001b[0mDArgs\u001b[0m\u001b[0;34m\u001b[0m\u001b[0;34m\u001b[0m\u001b[0m\n\u001b[1;32m     31\u001b[0m \u001b[0;34m\u001b[0m\u001b[0m\n\u001b[0;32m---> 32\u001b[0;31m         \u001b[0mself\u001b[0m\u001b[0;34m.\u001b[0m\u001b[0mstorer\u001b[0m\u001b[0;34m.\u001b[0m\u001b[0mstore_DArgs\u001b[0m\u001b[0;34m(\u001b[0m\u001b[0mself\u001b[0m\u001b[0;34m.\u001b[0m\u001b[0mDATA_PATH\u001b[0m\u001b[0;34m,\u001b[0m \u001b[0mDStore\u001b[0m\u001b[0;34m)\u001b[0m\u001b[0;34m\u001b[0m\u001b[0;34m\u001b[0m\u001b[0m\n\u001b[0m\u001b[1;32m     33\u001b[0m \u001b[0;34m\u001b[0m\u001b[0m\n\u001b[1;32m     34\u001b[0m     \u001b[0;32mdef\u001b[0m \u001b[0mstore\u001b[0m\u001b[0;34m(\u001b[0m\u001b[0mself\u001b[0m\u001b[0;34m)\u001b[0m\u001b[0;34m:\u001b[0m\u001b[0;34m\u001b[0m\u001b[0;34m\u001b[0m\u001b[0m\n",
      "\u001b[0;32m~/PIML_v1/PIML/surface/database/basestorer.py\u001b[0m in \u001b[0;36mstore_DArgs\u001b[0;34m(self, PATH, DArgs)\u001b[0m\n\u001b[1;32m     29\u001b[0m         \u001b[0;32mwith\u001b[0m \u001b[0mh5py\u001b[0m\u001b[0;34m.\u001b[0m\u001b[0mFile\u001b[0m\u001b[0;34m(\u001b[0m\u001b[0mPATH\u001b[0m\u001b[0;34m,\u001b[0m \u001b[0;34m'w'\u001b[0m\u001b[0;34m)\u001b[0m \u001b[0;32mas\u001b[0m \u001b[0mf\u001b[0m\u001b[0;34m:\u001b[0m\u001b[0;34m\u001b[0m\u001b[0;34m\u001b[0m\u001b[0m\n\u001b[1;32m     30\u001b[0m             \u001b[0;32mfor\u001b[0m \u001b[0marg\u001b[0m\u001b[0;34m,\u001b[0m \u001b[0mval\u001b[0m \u001b[0;32min\u001b[0m \u001b[0mDArgs\u001b[0m\u001b[0;34m.\u001b[0m\u001b[0mitems\u001b[0m\u001b[0;34m(\u001b[0m\u001b[0;34m)\u001b[0m\u001b[0;34m:\u001b[0m\u001b[0;34m\u001b[0m\u001b[0;34m\u001b[0m\u001b[0m\n\u001b[0;32m---> 31\u001b[0;31m                 \u001b[0mf\u001b[0m\u001b[0;34m.\u001b[0m\u001b[0mcreate_dataset\u001b[0m\u001b[0;34m(\u001b[0m\u001b[0marg\u001b[0m\u001b[0;34m,\u001b[0m \u001b[0mdata\u001b[0m\u001b[0;34m=\u001b[0m\u001b[0mval\u001b[0m\u001b[0;34m,\u001b[0m \u001b[0mshape\u001b[0m\u001b[0;34m=\u001b[0m\u001b[0mval\u001b[0m\u001b[0;34m.\u001b[0m\u001b[0mshape\u001b[0m\u001b[0;34m)\u001b[0m\u001b[0;34m\u001b[0m\u001b[0;34m\u001b[0m\u001b[0m\n\u001b[0m\u001b[1;32m     32\u001b[0m \u001b[0;34m\u001b[0m\u001b[0m\n\u001b[1;32m     33\u001b[0m \u001b[0;32mclass\u001b[0m \u001b[0mZarrStorer\u001b[0m\u001b[0;34m(\u001b[0m\u001b[0mBaseStorer\u001b[0m\u001b[0;34m)\u001b[0m\u001b[0;34m:\u001b[0m\u001b[0;34m\u001b[0m\u001b[0;34m\u001b[0m\u001b[0m\n",
      "\u001b[0;31mAttributeError\u001b[0m: 'dict' object has no attribute 'shape'"
     ]
    }
   ],
   "source": [
    "storer.store_DArgs(g, [\"logflux\", \"coord\",\"box\"])"
   ]
  },
  {
   "cell_type": "code",
   "execution_count": 32,
   "id": "8a7058cd-86ff-4b5f-a8fb-e4d9b1f8fde6",
   "metadata": {},
   "outputs": [
    {
     "ename": "TypeError",
     "evalue": "'StellarSpecGrid' object is not subscriptable",
     "output_type": "error",
     "traceback": [
      "\u001b[0;31m---------------------------------------------------------------------------\u001b[0m",
      "\u001b[0;31mTypeError\u001b[0m                                 Traceback (most recent call last)",
      "\u001b[0;32m/tmp/ipykernel_1603983/4185787966.py\u001b[0m in \u001b[0;36m<module>\u001b[0;34m\u001b[0m\n\u001b[0;32m----> 1\u001b[0;31m \u001b[0mg\u001b[0m\u001b[0;34m[\u001b[0m\u001b[0;34m\"logflux\"\u001b[0m\u001b[0;34m]\u001b[0m\u001b[0;34m\u001b[0m\u001b[0;34m\u001b[0m\u001b[0m\n\u001b[0m",
      "\u001b[0;31mTypeError\u001b[0m: 'StellarSpecGrid' object is not subscriptable"
     ]
    }
   ],
   "source": [
    "g[\"logflux\"]"
   ]
  },
  {
   "cell_type": "code",
   "execution_count": 20,
   "id": "fde37e43-7de2-428f-8987-a49bb5dba71b",
   "metadata": {},
   "outputs": [
    {
     "data": {
      "text/plain": [
       "(2880, 220)"
      ]
     },
     "execution_count": 20,
     "metadata": {},
     "output_type": "execute_result"
    }
   ],
   "source": [
    "g.flux.shape"
   ]
  },
  {
   "cell_type": "code",
   "execution_count": 11,
   "id": "eee38469-2dea-4a52-9da3-a0eb746506ec",
   "metadata": {},
   "outputs": [],
   "source": [
    "def get_test_data():\n",
    "    xgrid = np.mgrid[0:5,0:5]\n",
    "    coordx = xgrid.reshape(2, -1).T\n",
    "    value_1D  = xgrid[0].flatten()\n",
    "    value_2D  = np.tile(value_1D, (2,1)).T\n",
    "    return coordx, value_2D"
   ]
  },
  {
   "cell_type": "code",
   "execution_count": 22,
   "id": "7b727ae6-ba65-49f4-8008-e7580d948b85",
   "metadata": {},
   "outputs": [],
   "source": [
    "a=\"ahaheojfhha\""
   ]
  },
  {
   "cell_type": "code",
   "execution_count": 24,
   "id": "be61dda5-e07d-4406-adcc-abcc7a6bd587",
   "metadata": {},
   "outputs": [
    {
     "data": {
      "text/plain": [
       "True"
      ]
     },
     "execution_count": 24,
     "metadata": {},
     "output_type": "execute_result"
    }
   ],
   "source": [
    "a.endswith(\"ha\")"
   ]
  },
  {
   "cell_type": "code",
   "execution_count": null,
   "id": "e5729a8f-41f7-434e-8d98-14fcefc5b671",
   "metadata": {},
   "outputs": [],
   "source": []
  }
 ],
 "metadata": {
  "kernelspec": {
   "display_name": "Python 3 [viska-tf28]",
   "language": "python",
   "name": "python3-viska-tf28"
  },
  "language_info": {
   "codemirror_mode": {
    "name": "ipython",
    "version": 3
   },
   "file_extension": ".py",
   "mimetype": "text/x-python",
   "name": "python",
   "nbconvert_exporter": "python",
   "pygments_lexer": "ipython3",
   "version": "3.9.7"
  }
 },
 "nbformat": 4,
 "nbformat_minor": 5
}
