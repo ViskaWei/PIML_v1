{
 "cells": [
  {
   "cell_type": "code",
   "execution_count": 1,
   "id": "eef421dc-4a25-438d-bd69-8069661b6f2a",
   "metadata": {},
   "outputs": [],
   "source": [
    "%load_ext autoreload\n",
    "%autoreload 2"
   ]
  },
  {
   "cell_type": "code",
   "execution_count": 2,
   "id": "6afb10cc-684a-439f-a309-5e24abf3e2ee",
   "metadata": {},
   "outputs": [],
   "source": [
    "PROJECT_PATH = '/home/swei20/PIML_v1/'\n",
    "import sys\n",
    "sys.path.insert(0, PROJECT_PATH)"
   ]
  },
  {
   "cell_type": "code",
   "execution_count": 3,
   "id": "2ba374f7-8a4f-4e0c-88fa-5709a2bd19e3",
   "metadata": {},
   "outputs": [],
   "source": [
    "import os\n",
    "import numpy as np\n",
    "import matplotlib.pyplot as plt\n"
   ]
  },
  {
   "cell_type": "code",
   "execution_count": 4,
   "id": "289598c4-1672-4b2e-895b-695a661dff68",
   "metadata": {},
   "outputs": [],
   "source": [
    "from PIML.gateway.loaderIF.baseloaderIF import SpecGridLoaderIF\n"
   ]
  },
  {
   "cell_type": "code",
   "execution_count": 88,
   "id": "d2b82ac7-a592-43bd-97d4-01c87a431aac",
   "metadata": {},
   "outputs": [],
   "source": [
    "GRID_PATH=\"/datascope/subaru/user/swei20/data/pfsspec/import/stellar/grid\"\n",
    "DATA_PATH=os.path.join(GRID_PATH, \"bosz_5000_RHB.h5\")"
   ]
  },
  {
   "cell_type": "code",
   "execution_count": 89,
   "id": "a2ee0076-50f8-43aa-b290-2fdcf5ad2dfe",
   "metadata": {},
   "outputs": [],
   "source": [
    "loader = SpecGridLoaderIF()"
   ]
  },
  {
   "cell_type": "code",
   "execution_count": 90,
   "id": "8976ff33-1b8e-4b8e-9fbd-50f2e8f7b786",
   "metadata": {},
   "outputs": [],
   "source": [
    "loader.set_data_path(DATA_PATH)"
   ]
  },
  {
   "cell_type": "code",
   "execution_count": 91,
   "id": "d3101519-c10c-4cc9-aca7-fdf1ff73f2c9",
   "metadata": {},
   "outputs": [],
   "source": [
    "SpecGrid = loader.load()"
   ]
  },
  {
   "cell_type": "code",
   "execution_count": 92,
   "id": "64f51731-f745-4906-96df-cb4fa847dd72",
   "metadata": {},
   "outputs": [
    {
     "data": {
      "text/plain": [
       "(2880, 15404)"
      ]
     },
     "execution_count": 92,
     "metadata": {},
     "output_type": "execute_result"
    }
   ],
   "source": [
    "SpecGrid.flux.shape"
   ]
  },
  {
   "cell_type": "markdown",
   "id": "2f9af834-fc33-4852-a030-fb1022e53a68",
   "metadata": {},
   "source": [
    "# TESTING"
   ]
  },
  {
   "cell_type": "code",
   "execution_count": 5,
   "id": "fe8fbdd9-e1c2-4c5f-b5e3-40701e148592",
   "metadata": {},
   "outputs": [],
   "source": [
    "from test.testbase import DataInitializer"
   ]
  },
  {
   "cell_type": "code",
   "execution_count": 6,
   "id": "379565d0-eeb1-4b23-b1fd-8323d964fe30",
   "metadata": {},
   "outputs": [],
   "source": [
    "D = DataInitializer()"
   ]
  },
  {
   "cell_type": "code",
   "execution_count": 15,
   "id": "b145dcf9-6a26-4548-a74a-bd987ec391a2",
   "metadata": {},
   "outputs": [
    {
     "data": {
      "text/plain": [
       "{'object': {'DATA_PATH': '/datascope/subaru/user/swei20/data/pfsspec/import/stellar/grid/bosz_5000_RHB.h5'},\n",
       " 'data': {'SKY_PATH': '/home/swei20/PIML_v1/test/testdata/wavesky.npy',\n",
       "  'Sky': <PIML.crust.data.specdata.basesky.StellarSky at 0x7fdef0b6e460>},\n",
       " 'op': {'box_name': 'R', 'arm': 'RedM', 'step': 10, 'wave_rng': [7100, 8850]},\n",
       " 'model': {'Resolution': 'Alex', 'Interp': 'RBF'}}"
      ]
     },
     "execution_count": 15,
     "metadata": {},
     "output_type": "execute_result"
    }
   ],
   "source": [
    "D.SPEC_GRID_PARAMS"
   ]
  },
  {
   "cell_type": "code",
   "execution_count": 37,
   "id": "c8805480-0db5-43ec-aa31-7fa49675366e",
   "metadata": {},
   "outputs": [],
   "source": [
    "from PIML.gateway.processIF.specgridprocessIF.basespecgridprocessIF import StellarSpecGridProcessIF"
   ]
  },
  {
   "cell_type": "code",
   "execution_count": 39,
   "id": "f11bcf91-1e96-4dc9-a5b6-d1ed212a5ad7",
   "metadata": {},
   "outputs": [],
   "source": [
    "SP = StellarSpecGridProcessIF()\n",
    "SP.interact(t.PARAMS)\n",
    "Ob = SP.Object"
   ]
  },
  {
   "cell_type": "code",
   "execution_count": 59,
   "id": "b1cf5154-1b8a-40d8-8692-7e5f6a83e9e5",
   "metadata": {},
   "outputs": [
    {
     "data": {
      "text/plain": [
       "array([156.77460792,  78.38744601,  47.03249602])"
      ]
     },
     "execution_count": 59,
     "metadata": {},
     "output_type": "execute_result"
    }
   ],
   "source": [
    "Ob.map_snr( [10,20,30])"
   ]
  },
  {
   "cell_type": "code",
   "execution_count": 8,
   "id": "3d72a5ff-ae5f-40ab-bd15-844c2d60f58a",
   "metadata": {},
   "outputs": [],
   "source": [
    "from PIML.crust.process.baseprocess import StellarSpecProcess\n"
   ]
  },
  {
   "cell_type": "code",
   "execution_count": 94,
   "id": "a3a22127-52fc-4709-8554-6529860c4a5a",
   "metadata": {},
   "outputs": [],
   "source": [
    "np.random.seed(922)\n",
    "SSP = StellarSpecProcess()\n",
    "SSP.set_process(D.OP_PARAMS, D.OP_MODELS, D.OP_DATA)\n",
    "SSP.start(SpecGrid)"
   ]
  },
  {
   "cell_type": "code",
   "execution_count": 95,
   "id": "41d8bd03-b99b-42e9-a79c-0931a7f564de",
   "metadata": {},
   "outputs": [
    {
     "data": {
      "text/plain": [
       "array([156.77548358,  78.38766493,  47.03258358])"
      ]
     },
     "execution_count": 95,
     "metadata": {},
     "output_type": "execute_result"
    }
   ],
   "source": [
    "SpecGrid.map_snr( [10,20,30])"
   ]
  },
  {
   "cell_type": "code",
   "execution_count": 40,
   "id": "46c0924f-2a13-47d2-b751-595c1859c80f",
   "metadata": {},
   "outputs": [],
   "source": [
    "flux = SP.Object.flux"
   ]
  },
  {
   "cell_type": "code",
   "execution_count": 11,
   "id": "fe15c9b7-bae3-48ab-9892-f52e72f12e92",
   "metadata": {},
   "outputs": [],
   "source": [
    "from PIML.surface.posteval.evalstellarprocess import EvalStellarSpecGridProcess"
   ]
  },
  {
   "cell_type": "code",
   "execution_count": 16,
   "id": "45b68399-45d5-481d-8d40-114c83ac44c3",
   "metadata": {},
   "outputs": [],
   "source": [
    "# e = EvalStellarProcess(SP=SP)\n",
    "e = EvalStellarSpecGridProcess(PARAMS=D.SPEC_GRID_PARAMS)"
   ]
  },
  {
   "cell_type": "code",
   "execution_count": 17,
   "id": "ddd4c1c7-bf6e-43c0-a8d8-f1b06713150b",
   "metadata": {},
   "outputs": [
    {
     "data": {
      "image/png": "[encoded data removed]",
      "text/plain": [
       "<Figure size 432x288 with 1 Axes>"
      ]
     },
     "metadata": {
      "needs_background": "light"
     },
     "output_type": "display_data"
    }
   ],
   "source": [
    "e.eval_interpolator()"
   ]
  },
  {
   "cell_type": "code",
   "execution_count": 20,
   "id": "874ee3af-9521-4579-846f-c9f3f31f97f2",
   "metadata": {},
   "outputs": [],
   "source": [
    "Ob = e.SpecGrid"
   ]
  },
  {
   "cell_type": "code",
   "execution_count": 22,
   "id": "2ea79e11-f587-4998-ba28-931e6f425013",
   "metadata": {},
   "outputs": [
    {
     "data": {
      "text/plain": [
       "array([14.64081256, 14.63051247, 14.62756459, 14.62350759, 14.61977863,\n",
       "       14.63099483, 14.61437719, 14.61958175, 14.62262461, 14.60207067,\n",
       "       14.61946987, 14.60595685, 14.59775319, 14.60087678, 14.61094353,\n",
       "       14.59294374, 14.60264432, 14.58735801, 14.60838994, 14.59763427,\n",
       "       14.60041616, 14.59385789, 14.59614192, 14.5974467 , 14.5907353 ,\n",
       "       14.58694198, 14.56619525, 14.58409447, 14.5852576 , 14.56880225,\n",
       "       14.58008498, 14.56942823, 14.57758661, 14.58276285, 14.57666212,\n",
       "       14.56320274, 14.57134142, 14.57067433, 14.56788845, 14.54979488,\n",
       "       14.54830144, 14.55610891, 14.53741039, 14.5333162 , 14.53252074,\n",
       "       14.55374582, 14.55471083, 14.5349442 , 14.54452669, 14.54394766,\n",
       "       14.54148304, 14.54615581, 14.54034534, 14.54090225, 14.52798967,\n",
       "       14.53440833, 14.52142094, 14.5318419 , 14.52233379, 14.52729793,\n",
       "       14.5320666 , 14.52966063, 14.51647213, 14.52453109, 14.51239076,\n",
       "       14.52054184, 14.50168851, 14.51776613, 14.51425206, 14.51159343,\n",
       "       14.49474135, 14.50729681, 14.5096922 , 14.50553788, 14.5057435 ,\n",
       "       14.4871736 , 14.46474765, 14.49703546, 14.49136915, 14.49350857,\n",
       "       14.48591098, 14.48071598, 14.47411805, 14.47022871, 14.47716707,\n",
       "       14.48339634, 14.47596408, 14.45922587, 14.47817791, 14.47587108,\n",
       "       14.45595819, 14.45301288, 14.4647581 , 14.46418848, 14.46180195,\n",
       "       14.45915232, 14.46361853, 14.45811679, 14.44333491, 14.45268509,\n",
       "       14.45072138, 14.4405716 , 14.45114514, 14.44865823, 14.44131529,\n",
       "       14.44354305, 14.43936661, 14.44049666, 14.43378871, 14.43215999,\n",
       "       14.42960912, 14.4160873 , 14.40936765, 14.42823371, 14.42699205,\n",
       "       14.42502066, 14.42372057, 14.42239154, 14.42050389, 14.40582735,\n",
       "       14.41517639, 14.41384693, 14.40957194, 14.40395812, 14.40840637,\n",
       "       14.39179241, 14.40385262, 14.40281377, 14.3956626 , 14.3973071 ,\n",
       "       14.38541043, 14.38589106, 14.39332545, 14.39015569, 14.38798052,\n",
       "       14.38628104, 14.38464094, 14.38271462, 14.37949394, 14.37798511,\n",
       "       14.37421736, 14.37335907, 14.35610661, 14.35244827, 14.35378597,\n",
       "       14.35342981, 14.34768467, 14.36226687, 14.35225536, 14.35671213,\n",
       "       14.34228433, 14.35282815, 14.35184602, 14.35034759, 14.34798416,\n",
       "       14.34228433, 14.343093  , 14.33585077, 14.34012074, 14.3221655 ,\n",
       "       14.31359739, 14.32339987, 14.3321592 , 14.3243442 , 14.32370071,\n",
       "       14.3218883 , 14.310408  , 14.31418667, 14.31926323, 14.3119857 ,\n",
       "       14.31191875, 14.31391334, 14.2903027 , 14.28646374, 14.31043848,\n",
       "       14.30385742, 14.26726747, 14.29966977, 14.30536583, 14.22866602,\n",
       "       14.21198874, 14.28038857, 14.29516744, 14.2883352 , 14.20785665,\n",
       "       14.02841871, 14.26603188, 14.28921359, 14.28926963, 14.28192651,\n",
       "       14.27473758, 14.20132383, 14.2632558 , 14.26657981, 14.27743791,\n",
       "       14.27920055, 14.27757652, 14.2602733 , 14.19085317, 14.03368257,\n",
       "       14.23823912, 14.25476499, 14.24322628, 14.26118307, 14.25435886,\n",
       "       14.25748759, 14.25220944, 14.24849355, 14.21167253, 14.14007648,\n",
       "       14.22760034, 14.24009832, 14.24851949, 14.23819326, 14.23681621,\n",
       "       14.21353472, 14.24114424, 14.22513368, 14.23316771, 14.22006859])"
      ]
     },
     "execution_count": 22,
     "metadata": {},
     "output_type": "execute_result"
    }
   ],
   "source": [
    "Ob.interpolator(Ob.coord[D.midx], scale=1)"
   ]
  },
  {
   "cell_type": "code",
   "execution_count": 23,
   "id": "b92ab687-c187-4a99-8edc-a3338bd26c0a",
   "metadata": {},
   "outputs": [],
   "source": [
    "interp_coordx = np.copy(Ob.coordx[D.midx])"
   ]
  },
  {
   "cell_type": "code",
   "execution_count": 24,
   "id": "3192dbe3-b5d7-4c24-b256-b349ee41d4ec",
   "metadata": {},
   "outputs": [],
   "source": [
    "interp_coordx[1] += 0.5 "
   ]
  },
  {
   "cell_type": "code",
   "execution_count": 25,
   "id": "cf0a9aa0-ae57-419c-8d72-c3ee252acae4",
   "metadata": {},
   "outputs": [
    {
     "data": {
      "text/plain": [
       "array([2. , 2.5, 1. , 2. , 1. ])"
      ]
     },
     "execution_count": 25,
     "metadata": {},
     "output_type": "execute_result"
    }
   ],
   "source": [
    "interp_coordx"
   ]
  },
  {
   "cell_type": "code",
   "execution_count": 148,
   "id": "6c7a02b8-852e-44b7-b509-bfd356159c5a",
   "metadata": {},
   "outputs": [
    {
     "ename": "AttributeError",
     "evalue": "Can't pickle local object 'RBFInterpSpecGridModel.apply_on_SpecGrid.<locals>.interpolator'",
     "output_type": "error",
     "traceback": [
      "\u001b[0;31m---------------------------------------------------------------------------\u001b[0m",
      "\u001b[0;31mAttributeError\u001b[0m                            Traceback (most recent call last)",
      "\u001b[0;32m/tmp/ipykernel_3280971/3042803931.py\u001b[0m in \u001b[0;36m<module>\u001b[0;34m\u001b[0m\n\u001b[1;32m      2\u001b[0m \u001b[0;32mwith\u001b[0m \u001b[0mopen\u001b[0m\u001b[0;34m(\u001b[0m\u001b[0;34m'data.pickle'\u001b[0m\u001b[0;34m,\u001b[0m \u001b[0;34m'wb'\u001b[0m\u001b[0;34m)\u001b[0m \u001b[0;32mas\u001b[0m \u001b[0mf\u001b[0m\u001b[0;34m:\u001b[0m\u001b[0;34m\u001b[0m\u001b[0;34m\u001b[0m\u001b[0m\n\u001b[1;32m      3\u001b[0m     \u001b[0;31m# Write object `ip` to file\u001b[0m\u001b[0;34m\u001b[0m\u001b[0;34m\u001b[0m\u001b[0m\n\u001b[0;32m----> 4\u001b[0;31m     \u001b[0mpickle\u001b[0m\u001b[0;34m.\u001b[0m\u001b[0mdump\u001b[0m\u001b[0;34m(\u001b[0m\u001b[0mOb\u001b[0m\u001b[0;34m.\u001b[0m\u001b[0minterpolator\u001b[0m\u001b[0;34m,\u001b[0m \u001b[0mf\u001b[0m\u001b[0;34m,\u001b[0m \u001b[0mpickle\u001b[0m\u001b[0;34m.\u001b[0m\u001b[0mHIGHEST_PROTOCOL\u001b[0m\u001b[0;34m)\u001b[0m\u001b[0;34m\u001b[0m\u001b[0;34m\u001b[0m\u001b[0m\n\u001b[0m",
      "\u001b[0;31mAttributeError\u001b[0m: Can't pickle local object 'RBFInterpSpecGridModel.apply_on_SpecGrid.<locals>.interpolator'"
     ]
    }
   ],
   "source": [
    "import pickle\n",
    "with open('data.pickle', 'wb') as f:\n",
    "    # Write object `ip` to file\n",
    "    pickle.dump(Ob.interpolator, f, pickle.HIGHEST_PROTOCOL)"
   ]
  },
  {
   "cell_type": "code",
   "execution_count": 28,
   "id": "1d6b5411-bceb-4968-94f4-5335684e6b0d",
   "metadata": {},
   "outputs": [],
   "source": [
    "from scipy.interpolate import RBFInterpolator\n"
   ]
  },
  {
   "cell_type": "code",
   "execution_count": 29,
   "id": "eb4b9769-1eb3-485e-a4e8-1b485d8eda2f",
   "metadata": {},
   "outputs": [],
   "source": [
    "interp = RBFInterpolator(Ob.coordx, Ob.logflux, kernel=\"gaussian\", epsilon=0.5)\n"
   ]
  },
  {
   "cell_type": "code",
   "execution_count": 30,
   "id": "481c20ba-5d50-4e80-bcb0-201c79283e93",
   "metadata": {},
   "outputs": [],
   "source": [
    "import pickle\n",
    "with open('data.pickle', 'wb') as f:\n",
    "    # Write object `ip` to file\n",
    "    pickle.dump(interp, f, pickle.HIGHEST_PROTOCOL)"
   ]
  },
  {
   "cell_type": "code",
   "execution_count": 31,
   "id": "2d857320-63ad-4817-84c7-4440a65700ba",
   "metadata": {},
   "outputs": [],
   "source": [
    "with open('data.pickle', 'rb') as f:\n",
    "    # Read out object `ip` from file\n",
    "    ip = pickle.load(f)"
   ]
  },
  {
   "cell_type": "code",
   "execution_count": 32,
   "id": "84b8e1cd-99d9-448e-849f-cae22c3c26a9",
   "metadata": {},
   "outputs": [],
   "source": [
    "aaa=np.array([interp_coordx])"
   ]
  },
  {
   "cell_type": "code",
   "execution_count": 33,
   "id": "f47bae39-a7ae-4751-9a36-7cb89bf16da4",
   "metadata": {},
   "outputs": [
    {
     "data": {
      "text/plain": [
       "array([[14.71221238, 14.70254542, 14.69836966, 14.69541416, 14.69225459,\n",
       "        14.70216577, 14.68643852, 14.69115949, 14.69386743, 14.67431404,\n",
       "        14.690642  , 14.67827186, 14.67000655, 14.67318688, 14.68189303,\n",
       "        14.66516853, 14.67366377, 14.65893685, 14.67858126, 14.66854098,\n",
       "        14.67062753, 14.66455261, 14.66690356, 14.66737625, 14.66093744,\n",
       "        14.65749576, 14.6379182 , 14.65450016, 14.65527085, 14.63903774,\n",
       "        14.64966506, 14.63978099, 14.64715553, 14.65174276, 14.64604444,\n",
       "        14.63336259, 14.64068023, 14.63977277, 14.63694825, 14.62016487,\n",
       "        14.61848898, 14.62579247, 14.60732836, 14.60370547, 14.60257223,\n",
       "        14.62221837, 14.6230401 , 14.6043839 , 14.61285454, 14.61228638,\n",
       "        14.60953997, 14.61414655, 14.60831272, 14.60897422, 14.5964719 ,\n",
       "        14.60253035, 14.58973756, 14.59928204, 14.59084901, 14.59504295,\n",
       "        14.59919677, 14.59675585, 14.58428782, 14.59153711, 14.58033932,\n",
       "        14.58746764, 14.56989277, 14.58453409, 14.58105407, 14.57843823,\n",
       "        14.5626129 , 14.57401801, 14.57595007, 14.57186635, 14.57189833,\n",
       "        14.55416914, 14.53324595, 14.56314837, 14.55760756, 14.55933971,\n",
       "        14.5519465 , 14.54701984, 14.54034037, 14.53777767, 14.54360399,\n",
       "        14.54889038, 14.54158748, 14.52632021, 14.54341893, 14.5410668 ,\n",
       "        14.51941122, 14.51770663, 14.530635  , 14.52945237, 14.52695552,\n",
       "        14.5244169 , 14.52821155, 14.52312612, 14.50860061, 14.51730334,\n",
       "        14.51536093, 14.50561509, 14.51534651, 14.51285242, 14.50540262,\n",
       "        14.5077688 , 14.50254846, 14.50407888, 14.49847403, 14.49628283,\n",
       "        14.49343898, 14.48069177, 14.47419062, 14.49182772, 14.49061771,\n",
       "        14.48851335, 14.48711326, 14.48568998, 14.48368149, 14.46967856,\n",
       "        14.47838015, 14.476766  , 14.47271174, 14.4674273 , 14.47120492,\n",
       "        14.45568478, 14.4664566 , 14.4653304 , 14.45881848, 14.45990268,\n",
       "        14.44850395, 14.44918786, 14.45553194, 14.45242656, 14.45015138,\n",
       "        14.44828934, 14.44662311, 14.44465855, 14.44150183, 14.4398587 ,\n",
       "        14.43617755, 14.43521506, 14.41828068, 14.41468025, 14.41565826,\n",
       "        14.415479  , 14.40951206, 14.42347921, 14.41403064, 14.41811353,\n",
       "        14.40307982, 14.41402809, 14.41297647, 14.41138885, 14.40889151,\n",
       "        14.4037143 , 14.40402485, 14.39714397, 14.4008132 , 14.38361997,\n",
       "        14.37407476, 14.38458736, 14.39267344, 14.38474263, 14.38478962,\n",
       "        14.38160932, 14.37186378, 14.37318204, 14.38019799, 14.37090099,\n",
       "        14.37125766, 14.37496667, 14.34927819, 14.34489245, 14.37094935,\n",
       "        14.36351028, 14.32325021, 14.36034805, 14.36644686, 14.29255652,\n",
       "        14.26763106, 14.34149396, 14.35701977, 14.35066427, 14.27501634,\n",
       "        14.09025584, 14.32652184, 14.35094068, 14.35138877, 14.34432762,\n",
       "        14.33492603, 14.24963853, 14.32025354, 14.32909188, 14.34026933,\n",
       "        14.34162123, 14.34012383, 14.32242536, 14.25449079, 14.0883775 ,\n",
       "        14.29787764, 14.31603703, 14.30641235, 14.32458567, 14.31816739,\n",
       "        14.3205678 , 14.31489528, 14.30921803, 14.26657542, 14.18718349,\n",
       "        14.28699365, 14.30202257, 14.31102981, 14.30157937, 14.30035188,\n",
       "        14.2783123 , 14.3041355 , 14.28847383, 14.29501147, 14.28149111]])"
      ]
     },
     "execution_count": 33,
     "metadata": {},
     "output_type": "execute_result"
    }
   ],
   "source": [
    "ip(aaa)"
   ]
  },
  {
   "cell_type": "code",
   "execution_count": 34,
   "id": "e5729a8f-41f7-434e-8d98-14fcefc5b671",
   "metadata": {},
   "outputs": [
    {
     "data": {
      "text/plain": [
       "array([14.71221238, 14.70254542, 14.69836966, 14.69541416, 14.69225459,\n",
       "       14.70216577, 14.68643852, 14.69115949, 14.69386743, 14.67431404,\n",
       "       14.690642  , 14.67827186, 14.67000655, 14.67318688, 14.68189303,\n",
       "       14.66516853, 14.67366377, 14.65893685, 14.67858126, 14.66854098,\n",
       "       14.67062753, 14.66455261, 14.66690356, 14.66737625, 14.66093744,\n",
       "       14.65749576, 14.6379182 , 14.65450016, 14.65527085, 14.63903774,\n",
       "       14.64966506, 14.63978099, 14.64715553, 14.65174276, 14.64604444,\n",
       "       14.63336259, 14.64068023, 14.63977277, 14.63694825, 14.62016487,\n",
       "       14.61848898, 14.62579247, 14.60732836, 14.60370547, 14.60257223,\n",
       "       14.62221837, 14.6230401 , 14.6043839 , 14.61285454, 14.61228638,\n",
       "       14.60953997, 14.61414655, 14.60831272, 14.60897422, 14.5964719 ,\n",
       "       14.60253035, 14.58973756, 14.59928204, 14.59084901, 14.59504295,\n",
       "       14.59919677, 14.59675585, 14.58428782, 14.59153711, 14.58033932,\n",
       "       14.58746764, 14.56989277, 14.58453409, 14.58105407, 14.57843823,\n",
       "       14.5626129 , 14.57401801, 14.57595007, 14.57186635, 14.57189833,\n",
       "       14.55416914, 14.53324595, 14.56314837, 14.55760756, 14.55933971,\n",
       "       14.5519465 , 14.54701984, 14.54034037, 14.53777767, 14.54360399,\n",
       "       14.54889038, 14.54158748, 14.52632021, 14.54341893, 14.5410668 ,\n",
       "       14.51941122, 14.51770663, 14.530635  , 14.52945237, 14.52695552,\n",
       "       14.5244169 , 14.52821155, 14.52312612, 14.50860061, 14.51730334,\n",
       "       14.51536093, 14.50561509, 14.51534651, 14.51285242, 14.50540262,\n",
       "       14.5077688 , 14.50254846, 14.50407888, 14.49847403, 14.49628283,\n",
       "       14.49343898, 14.48069177, 14.47419062, 14.49182772, 14.49061771,\n",
       "       14.48851335, 14.48711326, 14.48568998, 14.48368149, 14.46967856,\n",
       "       14.47838015, 14.476766  , 14.47271174, 14.4674273 , 14.47120492,\n",
       "       14.45568478, 14.4664566 , 14.4653304 , 14.45881848, 14.45990268,\n",
       "       14.44850395, 14.44918786, 14.45553194, 14.45242656, 14.45015138,\n",
       "       14.44828934, 14.44662311, 14.44465855, 14.44150183, 14.4398587 ,\n",
       "       14.43617755, 14.43521506, 14.41828068, 14.41468025, 14.41565826,\n",
       "       14.415479  , 14.40951206, 14.42347921, 14.41403064, 14.41811353,\n",
       "       14.40307982, 14.41402809, 14.41297647, 14.41138885, 14.40889151,\n",
       "       14.4037143 , 14.40402485, 14.39714397, 14.4008132 , 14.38361997,\n",
       "       14.37407476, 14.38458736, 14.39267344, 14.38474263, 14.38478962,\n",
       "       14.38160932, 14.37186378, 14.37318204, 14.38019799, 14.37090099,\n",
       "       14.37125766, 14.37496667, 14.34927819, 14.34489245, 14.37094935,\n",
       "       14.36351028, 14.32325021, 14.36034805, 14.36644686, 14.29255652,\n",
       "       14.26763106, 14.34149396, 14.35701977, 14.35066427, 14.27501634,\n",
       "       14.09025584, 14.32652184, 14.35094068, 14.35138877, 14.34432762,\n",
       "       14.33492603, 14.24963853, 14.32025354, 14.32909188, 14.34026933,\n",
       "       14.34162123, 14.34012383, 14.32242536, 14.25449079, 14.0883775 ,\n",
       "       14.29787764, 14.31603703, 14.30641235, 14.32458567, 14.31816739,\n",
       "       14.3205678 , 14.31489528, 14.30921803, 14.26657542, 14.18718349,\n",
       "       14.28699365, 14.30202257, 14.31102981, 14.30157937, 14.30035188,\n",
       "       14.2783123 , 14.3041355 , 14.28847383, 14.29501147, 14.28149111])"
      ]
     },
     "execution_count": 34,
     "metadata": {},
     "output_type": "execute_result"
    }
   ],
   "source": [
    "Ob.interpolator(interp_coordx, scale=0)"
   ]
  },
  {
   "cell_type": "code",
   "execution_count": 44,
   "id": "4220ec59-7466-4fc9-aeb9-501a71131443",
   "metadata": {},
   "outputs": [
    {
     "data": {
      "text/plain": [
       "{'coord': array([[-1.00e+00,  5.50e+03,  2.00e+00, -7.50e-01, -2.50e-01],\n",
       "        [-1.00e+00,  5.50e+03,  2.00e+00, -7.50e-01,  0.00e+00],\n",
       "        [-1.00e+00,  5.50e+03,  2.00e+00, -7.50e-01,  2.50e-01],\n",
       "        ...,\n",
       "        [ 0.00e+00,  6.75e+03,  3.50e+00,  5.00e-01,  0.00e+00],\n",
       "        [ 0.00e+00,  6.75e+03,  3.50e+00,  5.00e-01,  2.50e-01],\n",
       "        [ 0.00e+00,  6.75e+03,  3.50e+00,  5.00e-01,  5.00e-01]]),\n",
       " 'coord_idx': array([[ 6,  8,  4,  0,  0],\n",
       "        [ 6,  8,  4,  0,  1],\n",
       "        [ 6,  8,  4,  0,  2],\n",
       "        ...,\n",
       "        [10, 13,  7,  5,  1],\n",
       "        [10, 13,  7,  5,  2],\n",
       "        [10, 13,  7,  5,  3]]),\n",
       " 'PhyShort': ['M', 'T', 'G', 'C', 'A'],\n",
       " 'dfcoord':         M       T    G     C     A\n",
       " 0    -1.0  5500.0  2.0 -0.75 -0.25\n",
       " 1    -1.0  5500.0  2.0 -0.75  0.00\n",
       " 2    -1.0  5500.0  2.0 -0.75  0.25\n",
       " 3    -1.0  5500.0  2.0 -0.75  0.50\n",
       " 4    -1.0  5500.0  2.0 -0.50 -0.25\n",
       " ...   ...     ...  ...   ...   ...\n",
       " 2875  0.0  6750.0  3.5  0.25  0.50\n",
       " 2876  0.0  6750.0  3.5  0.50 -0.25\n",
       " 2877  0.0  6750.0  3.5  0.50  0.00\n",
       " 2878  0.0  6750.0  3.5  0.50  0.25\n",
       " 2879  0.0  6750.0  3.5  0.50  0.50\n",
       " \n",
       " [2880 rows x 5 columns],\n",
       " 'wave': array([7103.93535, 7111.04302, 7118.15752, 7125.27919, 7132.40811,\n",
       "        7139.54389, 7146.687  , 7153.83731, 7160.99483, 7168.15929,\n",
       "        7175.33091, 7182.50982, 7189.69599, 7196.88931, 7204.08979,\n",
       "        7211.29745, 7218.51226, 7225.73457, 7232.96373, 7240.20049,\n",
       "        7247.4442 , 7254.69511, 7261.95346, 7269.21914, 7276.4919 ,\n",
       "        7283.77212, 7291.05935, 7298.35411, 7305.65621, 7312.96543,\n",
       "        7320.28208, 7327.60596, 7334.9372 , 7342.27588, 7349.62183,\n",
       "        7356.97509, 7364.3357 , 7371.70382, 7379.07911, 7386.46192,\n",
       "        7393.852  , 7401.24956, 7408.65444, 7416.06675, 7423.48657,\n",
       "        7430.91382, 7438.34849, 7445.79043, 7453.23998, 7460.69695,\n",
       "        7468.16133, 7475.63325, 7483.1125 , 7490.59941, 7498.09378,\n",
       "        7505.59557, 7513.10493, 7520.62169, 7528.14614, 7535.67812,\n",
       "        7543.21735, 7550.76451, 7558.31905, 7565.88106, 7573.45084,\n",
       "        7581.02797, 7588.61283, 7596.20528, 7603.80515, 7611.41284,\n",
       "        7619.02807, 7626.65071, 7634.28116, 7641.91939, 7649.56494,\n",
       "        7657.21835, 7664.8796 , 7672.5481 , 7680.22452, 7687.9085 ,\n",
       "        7695.60029, 7703.29981, 7711.00684, 7718.72167, 7726.44439,\n",
       "        7734.1747 , 7741.9125 , 7749.65845, 7757.41197, 7765.1732 ,\n",
       "        7772.94229, 7780.719  , 7788.50362, 7796.29595, 7804.09629,\n",
       "        7811.90425, 7819.71993, 7827.54365, 7835.3751 , 7843.2144 ,\n",
       "        7851.06148, 7858.91654, 7866.77924, 7874.65001, 7882.52856,\n",
       "        7890.41504, 7898.30953, 7906.21167, 7914.12184, 7922.04   ,\n",
       "        7929.96587, 7937.89965, 7945.84154, 7953.79146, 7961.74932,\n",
       "        7969.71485, 7977.68863, 7985.6703 , 7993.65996, 8001.65755,\n",
       "        8009.66314, 8017.6769 , 8025.69848, 8033.72827, 8041.7659 ,\n",
       "        8049.81168, 8057.86547, 8065.92734, 8073.99731, 8082.07545,\n",
       "        8090.16148, 8098.25572, 8106.35781, 8114.46836, 8122.58683,\n",
       "        8130.71359, 8138.84824, 8146.99115, 8155.1423 , 8163.30152,\n",
       "        8171.46886, 8179.64454, 8187.82812, 8196.02002, 8204.22002,\n",
       "        8212.42842, 8220.64502, 8228.86972, 8237.10264, 8245.34386,\n",
       "        8253.59347, 8261.85107, 8270.1169 , 8278.3914 , 8286.67363,\n",
       "        8294.96455, 8303.26357, 8311.571  , 8319.88682, 8328.21085,\n",
       "        8336.54307, 8344.88399, 8353.23292, 8361.59034, 8369.95614,\n",
       "        8378.33026, 8386.71289, 8395.10371, 8403.50303, 8411.91065,\n",
       "        8420.32675, 8428.75118, 8437.18417, 8445.62549, 8454.07539,\n",
       "        8462.5338 , 8471.00058, 8479.4757 , 8487.95928, 8496.45147,\n",
       "        8504.95216, 8513.46153, 8521.9791 , 8530.50556, 8539.04004,\n",
       "        8547.5834 , 8556.13515, 8564.69561, 8573.26473, 8581.8421 ,\n",
       "        8590.42841, 8599.02305, 8607.62627, 8616.23818, 8624.85895,\n",
       "        8633.48799, 8642.12558, 8650.77226, 8659.42724, 8668.091  ,\n",
       "        8676.7632 , 8685.44453, 8694.13429, 8702.83281, 8711.53994,\n",
       "        8720.25576, 8728.98038, 8737.71386, 8746.45578, 8755.20636,\n",
       "        8763.96639, 8772.73448, 8781.51171, 8790.29725, 8799.09229,\n",
       "        8807.89571, 8816.70791, 8825.52901, 8834.359  , 8843.19765]),\n",
       " 'num_pixel': 15404,\n",
       " 'flux': array([[1614790., 1604300., 1606410., ..., 1123880., 1137350., 1126390.],\n",
       "        [1618510., 1607800., 1609990., ..., 1125890., 1139410., 1128420.],\n",
       "        [1622940., 1611910., 1614210., ..., 1128200., 1141800., 1130710.],\n",
       "        ...,\n",
       "        [3484810., 3402720., 3314550., ..., 2161530., 2131210., 2090250.],\n",
       "        [3505460., 3419960., 3334010., ..., 2172310., 2141410., 2100580.],\n",
       "        [3532140., 3441090., 3359260., ..., 2186390., 2154480., 2114040.]]),\n",
       " 'num_spec': 2880,\n",
       " 'box': {'name': 'R',\n",
       "  'min': array([-1.0e+00,  5.5e+03,  2.0e+00, -7.5e-01, -2.5e-01]),\n",
       "  'max': array([0.00e+00, 6.75e+03, 3.50e+00, 5.00e-01, 5.00e-01]),\n",
       "  'rng': array([1.00e+00, 1.25e+03, 1.50e+00, 1.25e+00, 7.50e-01]),\n",
       "  'num': array([4., 5., 3., 5., 3.]),\n",
       "  'mid': array([-5.0e-01,  6.0e+03,  2.5e+00, -2.5e-01,  0.0e+00])},\n",
       " 'sky': array([0.15077469, 0.1495934 , 0.14423648, 0.14433482, 0.14747137,\n",
       "        0.14836056, 0.14531086, 0.14922931, 0.14873182, 0.14719386,\n",
       "        0.14742225, 0.14853853, 0.14872931, 0.14798906, 0.14843427,\n",
       "        0.14942387, 0.15094892, 0.15054792, 0.15677576, 0.19068839,\n",
       "        0.17415853, 0.15311395, 0.15320229, 0.16651898, 0.17029691,\n",
       "        0.15508382, 0.18025812, 0.1883331 , 0.16233235, 0.16886398,\n",
       "        0.16669567, 0.15809255, 0.31407816, 0.52847163, 0.16061403,\n",
       "        0.16233161, 0.16050382, 0.16841212, 0.16914596, 0.16412062,\n",
       "        0.1623135 , 0.16355638, 0.17055147, 0.17649125, 0.16981551,\n",
       "        0.16835615, 0.16894306, 0.16776282, 0.1689735 , 0.17108565,\n",
       "        0.21743374, 0.21017425, 0.18578376, 0.17103679, 0.17821553,\n",
       "        0.18634029, 0.19609469, 0.25088166, 0.22023136, 0.19109764,\n",
       "        0.18437969, 0.18709035, 0.17928734, 0.24631951, 0.32752443,\n",
       "        0.17920501, 0.17541241, 0.22140323, 0.18607524, 0.1782438 ,\n",
       "        0.18310485, 0.18102709, 0.17813475, 0.18273535, 0.18308226,\n",
       "        0.20850683, 0.2118021 , 0.18088978, 0.18353911, 0.18650233,\n",
       "        0.19413879, 0.19525158, 0.76060658, 0.41070454, 0.27989433,\n",
       "        0.19448632, 0.19024132, 0.19733519, 0.1963367 , 0.19449762,\n",
       "        0.20845266, 0.19697185, 0.20923709, 0.19921612, 0.2654738 ,\n",
       "        0.24560004, 1.25410509, 0.31016396, 0.19801654, 0.19930584,\n",
       "        0.91599799, 0.33785729, 0.20015064, 0.2026415 , 0.20763698,\n",
       "        0.22937657, 0.2049907 , 0.20525852, 0.21241704, 0.21408006,\n",
       "        0.21688857, 0.21091482, 0.22633555, 0.21669072, 0.80920067,\n",
       "        0.41729497, 0.21616765, 0.21757693, 0.22760183, 0.22037829,\n",
       "        0.23069926, 0.31258083, 0.66164141, 0.23407819, 0.2284911 ,\n",
       "        0.29451444, 0.2552255 , 0.24677304, 0.25061808, 0.27271351,\n",
       "        0.23868046, 0.2942626 , 0.29286793, 0.24830773, 0.25761645,\n",
       "        0.25612404, 0.25562369, 0.31110623, 0.27861942, 0.2818129 ,\n",
       "        0.27547543, 0.26052986, 0.30132864, 0.28439904, 0.2585277 ,\n",
       "        0.26765433, 0.26786594, 0.27126658, 0.2669448 , 0.27765435,\n",
       "        0.28202935, 0.30781825, 0.29414398, 0.32187064, 1.09440948,\n",
       "        0.82300544, 0.46244163, 0.29063734, 0.2874183 , 0.27793168,\n",
       "        0.34223132, 0.52313925, 0.29900544, 0.3011935 , 0.29610237,\n",
       "        0.3016806 , 0.30705132, 0.30734797, 0.33346364, 0.34129663,\n",
       "        0.34182358, 0.36290769, 0.32780384, 0.30921269, 0.31294904,\n",
       "        0.31262137, 0.32121396, 0.31462864, 0.31871594, 0.33745691,\n",
       "        0.3378131 , 0.33997603, 0.34806574, 0.32992386, 0.33393286,\n",
       "        0.46343167, 0.33909138, 0.34069703, 0.34190535, 0.36394823,\n",
       "        0.39202571, 0.35838278, 0.35326057, 0.3993782 , 0.64865861,\n",
       "        0.49148915, 0.42861642, 0.4912762 , 0.50733858, 0.80176853,\n",
       "        0.6440612 , 0.42033427, 0.4062287 , 0.39021821, 0.39096852,\n",
       "        0.39701091, 0.39594507, 0.40866664, 0.42912755, 0.51500606,\n",
       "        0.97947304, 0.48022699, 0.4239523 , 0.42921031, 0.42897342,\n",
       "        0.42817814, 0.43675347, 1.09560973, 0.68419042, 0.44828174]),\n",
       " 'map_snr': <scipy.interpolate.interpolate.interp1d at 0x7f68e2926cc0>,\n",
       " 'map_snr_inv': <scipy.interpolate.interpolate.interp1d at 0x7f68e2849040>,\n",
       " 'step': 10,\n",
       " 'skyH': array([0.14686077, 0.14686077, 0.14684008, ..., 0.45501659, 0.46869104,\n",
       "        0.47365477]),\n",
       " 'Obs': <PIML.crust.model.obs.stellarobs.LowResObs at 0x7f68e25e2790>,\n",
       " 'logflux': array([[14.29471548, 14.28819808, 14.28951243, ..., 13.93229754,\n",
       "         13.94421155, 13.93452839],\n",
       "        [14.29701653, 14.29037734, 14.29173853, ..., 13.93408439,\n",
       "         13.94602114, 13.93632898],\n",
       "        [14.29974988, 14.29293037, 14.29435623, ..., 13.936134  ,\n",
       "         13.94811652, 13.93835631],\n",
       "        ...,\n",
       "        [15.06392408, 15.04008567, 15.01383243, ..., 14.58632686,\n",
       "         14.57220045, 14.55279423],\n",
       "        [15.06983231, 15.04513941, 15.01968634, ..., 14.59130168,\n",
       "         14.57697505, 14.55772406],\n",
       "        [15.07741448, 15.05129884, 15.02723127, ..., 14.59776234,\n",
       "         14.58305995, 14.56411137]]),\n",
       " 'coordx': array([[0., 0., 0., 0., 0.],\n",
       "        [0., 0., 0., 0., 1.],\n",
       "        [0., 0., 0., 0., 2.],\n",
       "        ...,\n",
       "        [4., 5., 3., 5., 1.],\n",
       "        [4., 5., 3., 5., 2.],\n",
       "        [4., 5., 3., 5., 3.]]),\n",
       " 'coordx_scaler': <function PIML.crust.operation.gridoperation.CoordxifyGridOperation.get_scalers.<locals>.<lambda>(x)>,\n",
       " 'coordx_rescaler': <function PIML.crust.operation.gridoperation.CoordxifyGridOperation.get_scalers.<locals>.<lambda>(x)>,\n",
       " 'interpolator': <function PIML.crust.model.specgrid.interpspecgridmodel.RBFInterpSpecGridModel.apply_on_SpecGrid.<locals>.interpolator(eval_coord, scale=True)>}"
      ]
     },
     "execution_count": 44,
     "metadata": {},
     "output_type": "execute_result"
    }
   ],
   "source": [
    "Ob.__dict__"
   ]
  },
  {
   "cell_type": "code",
   "execution_count": null,
   "id": "957921d9-583c-424e-a51c-11ae9deb3362",
   "metadata": {},
   "outputs": [],
   "source": [
    " [4., 5., 3., 5., 3.]"
   ]
  },
  {
   "cell_type": "code",
   "execution_count": 120,
   "id": "6b1b6410-d671-42bf-841f-e746fe0cc3a2",
   "metadata": {},
   "outputs": [],
   "source": [
    "from scipy.stats.qmc import Halton\n"
   ]
  },
  {
   "cell_type": "code",
   "execution_count": 121,
   "id": "ec6d945f-de4d-4a79-a349-fdbaf62c79da",
   "metadata": {},
   "outputs": [],
   "source": [
    "sampler = Halton(d=5, scramble=False)\n",
    "sample = sampler.random(n=10)"
   ]
  },
  {
   "cell_type": "code",
   "execution_count": 122,
   "id": "16bd2d17-9c39-4c5b-be5d-ddfab20a2853",
   "metadata": {},
   "outputs": [
    {
     "data": {
      "text/plain": [
       "<scipy.stats._qmc.Halton at 0x7f68e17d8e50>"
      ]
     },
     "execution_count": 122,
     "metadata": {},
     "output_type": "execute_result"
    }
   ],
   "source": [
    "sampler\n"
   ]
  },
  {
   "cell_type": "code",
   "execution_count": 132,
   "id": "41291562-646a-4242-bc3c-5e995cb4832b",
   "metadata": {},
   "outputs": [],
   "source": [
    "np.set_printoptions(precision=3, suppress=False)\n"
   ]
  },
  {
   "cell_type": "code",
   "execution_count": 130,
   "id": "69a1dbbb-c818-469d-b6c5-c704dc5a0458",
   "metadata": {},
   "outputs": [],
   "source": [
    "rng = [0,1,30,50,1000]"
   ]
  },
  {
   "cell_type": "code",
   "execution_count": 133,
   "id": "50fa2083-0611-4c57-8032-259faad3a2c5",
   "metadata": {},
   "outputs": [
    {
     "data": {
      "text/plain": [
       "array([[0.000e+00, 0.000e+00, 0.000e+00, 0.000e+00, 0.000e+00],\n",
       "       [0.000e+00, 3.333e-01, 6.000e+00, 7.143e+00, 9.091e+01],\n",
       "       [0.000e+00, 6.667e-01, 1.200e+01, 1.429e+01, 1.818e+02],\n",
       "       [0.000e+00, 1.111e-01, 1.800e+01, 2.143e+01, 2.727e+02],\n",
       "       [0.000e+00, 4.444e-01, 2.400e+01, 2.857e+01, 3.636e+02],\n",
       "       [0.000e+00, 7.778e-01, 1.200e+00, 3.571e+01, 4.545e+02],\n",
       "       [0.000e+00, 2.222e-01, 7.200e+00, 4.286e+01, 5.455e+02],\n",
       "       [0.000e+00, 5.556e-01, 1.320e+01, 1.020e+00, 6.364e+02],\n",
       "       [0.000e+00, 8.889e-01, 1.920e+01, 8.163e+00, 7.273e+02],\n",
       "       [0.000e+00, 3.704e-02, 2.520e+01, 1.531e+01, 8.182e+02]])"
      ]
     },
     "execution_count": 133,
     "metadata": {},
     "output_type": "execute_result"
    }
   ],
   "source": [
    "sample * rng"
   ]
  },
  {
   "cell_type": "code",
   "execution_count": 136,
   "id": "71d0dd8c-1b71-4776-8690-caa3d83d473c",
   "metadata": {},
   "outputs": [
    {
     "data": {
      "text/plain": [
       "array([[0.36 , 0.295, 0.899, 0.521, 0.027],\n",
       "       [0.181, 0.308, 0.437, 0.049, 0.08 ],\n",
       "       [0.233, 0.199, 0.006, 0.933, 0.802],\n",
       "       [0.458, 0.887, 0.454, 0.613, 0.974],\n",
       "       [0.346, 0.014, 0.359, 0.944, 0.213],\n",
       "       [0.314, 0.545, 0.028, 0.336, 0.492],\n",
       "       [0.247, 0.493, 0.907, 0.183, 0.163],\n",
       "       [0.186, 0.478, 0.64 , 0.545, 0.88 ],\n",
       "       [0.035, 0.351, 0.865, 0.252, 0.156],\n",
       "       [0.048, 0.896, 0.146, 0.452, 0.192]])"
      ]
     },
     "execution_count": 136,
     "metadata": {},
     "output_type": "execute_result"
    }
   ],
   "source": [
    "np.random.seed(922)\n",
    "np.random.uniform(0, 1, size=(10, 5))"
   ]
  },
  {
   "cell_type": "code",
   "execution_count": 138,
   "id": "58c71a34-699f-463c-8145-a4426d1e4dc1",
   "metadata": {},
   "outputs": [
    {
     "data": {
      "text/plain": [
       "array([[ 0.   ,  0.295, 26.981, 26.032, 26.798]])"
      ]
     },
     "execution_count": 138,
     "metadata": {},
     "output_type": "execute_result"
    }
   ],
   "source": [
    "\n",
    "np.random.seed(922)\n",
    "np.random.uniform(0, rng, size=(1, 5))"
   ]
  },
  {
   "cell_type": "code",
   "execution_count": null,
   "id": "ed50502f-b854-4c06-9dbf-0ffd405519f8",
   "metadata": {},
   "outputs": [],
   "source": []
  },
  {
   "cell_type": "code",
   "execution_count": 142,
   "id": "4323f099-5a2a-464a-a2ff-86105cad4059",
   "metadata": {},
   "outputs": [],
   "source": [
    "a=Halton(d=5, scramble=False).random(n=10)\n",
    "\n"
   ]
  },
  {
   "cell_type": "code",
   "execution_count": null,
   "id": "a60821bd-6343-4141-bfa7-3030e91c01da",
   "metadata": {},
   "outputs": [],
   "source": []
  },
  {
   "cell_type": "code",
   "execution_count": 143,
   "id": "6acf1fbf-4e6e-471c-b5de-ad582662fa77",
   "metadata": {},
   "outputs": [
    {
     "data": {
      "text/plain": [
       "array([0.   , 0.   , 0.   , 0.   , 0.   , 0.5  , 0.333, 0.2  , 0.143,\n",
       "       0.091, 0.25 , 0.667, 0.4  , 0.286, 0.182, 0.75 , 0.111, 0.6  ,\n",
       "       0.429, 0.273, 0.125, 0.444, 0.8  , 0.571, 0.364, 0.625, 0.778,\n",
       "       0.04 , 0.714, 0.455, 0.375, 0.222, 0.24 , 0.857, 0.545, 0.875,\n",
       "       0.556, 0.44 , 0.02 , 0.636, 0.062, 0.889, 0.64 , 0.163, 0.727,\n",
       "       0.562, 0.037, 0.84 , 0.306, 0.818])"
      ]
     },
     "execution_count": 143,
     "metadata": {},
     "output_type": "execute_result"
    }
   ],
   "source": [
    "\n",
    "a.flatten()"
   ]
  },
  {
   "cell_type": "code",
   "execution_count": null,
   "id": "f69cbbab-ce29-4928-bdb7-d8bd949d576d",
   "metadata": {},
   "outputs": [],
   "source": []
  }
 ],
 "metadata": {
  "kernelspec": {
   "display_name": "Python 3 [viska-tf28]",
   "language": "python",
   "name": "python3-viska-tf28"
  },
  "language_info": {
   "codemirror_mode": {
    "name": "ipython",
    "version": 3
   },
   "file_extension": ".py",
   "mimetype": "text/x-python",
   "name": "python",
   "nbconvert_exporter": "python",
   "pygments_lexer": "ipython3",
   "version": "3.9.7"
  }
 },
 "nbformat": 4,
 "nbformat_minor": 5
}
