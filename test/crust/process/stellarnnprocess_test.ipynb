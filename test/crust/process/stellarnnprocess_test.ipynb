{
 "cells": [
  {
   "cell_type": "code",
   "execution_count": 1,
   "id": "8c6ac3e7-6b6a-418c-b0f9-cace533fb5fa",
   "metadata": {},
   "outputs": [],
   "source": [
    "import os\n",
    "env_vars = !cat /home/swei20/PIML_v1/.env\n",
    "for var in env_vars:\n",
    "    key, value = var.split('=')\n",
    "    os.environ[key] = value"
   ]
  },
  {
   "cell_type": "code",
   "execution_count": 2,
   "id": "b79068b5-6560-40ad-84cb-e1617f307baa",
   "metadata": {},
   "outputs": [],
   "source": [
    "%load_ext autoreload\n",
    "%autoreload 2"
   ]
  },
  {
   "cell_type": "code",
   "execution_count": 3,
   "id": "28f2ca40-6368-4616-8a14-4798abe401f9",
   "metadata": {},
   "outputs": [],
   "source": [
    "PROJECT_PATH = '/home/swei20/PIML_v1/'\n",
    "import sys\n",
    "sys.path.insert(0, PROJECT_PATH)"
   ]
  },
  {
   "cell_type": "code",
   "execution_count": 4,
   "id": "5e3c2c4d-3861-4068-a472-544a867ec111",
   "metadata": {},
   "outputs": [],
   "source": [
    "import numpy as np\n",
    "import matplotlib.pyplot as plt\n"
   ]
  },
  {
   "cell_type": "code",
   "execution_count": 5,
   "id": "e47442ef-2871-4ead-a736-1804be685edf",
   "metadata": {},
   "outputs": [],
   "source": [
    "from PIML.gateway.loaderIF.nnloaderIF.stellarnnloaderIF import StellarNNLoaderIF"
   ]
  },
  {
   "cell_type": "code",
   "execution_count": 7,
   "id": "d497609c-ce8d-4685-ad7f-371a07290614",
   "metadata": {},
   "outputs": [],
   "source": [
    "loader = StellarNNLoaderIF()"
   ]
  },
  {
   "cell_type": "code",
   "execution_count": 6,
   "id": "e3ea6512-ad14-4fd0-851d-07588a7157f8",
   "metadata": {},
   "outputs": [],
   "source": [
    "PARAM = {\n",
    "    \"path\": os.environ[\"STELLARNN\"],\n",
    "    \"train_name\": \"RedM_R1000_N10000_train.h5\",\n",
    "    \"test_name\" : \"RedM_R1000_N100_test.h5\"\n",
    "}\n"
   ]
  },
  {
   "cell_type": "code",
   "execution_count": 8,
   "id": "635fb36a-b537-4b73-8b20-098a044bac02",
   "metadata": {},
   "outputs": [],
   "source": [
    "loader.set_param(PARAM)\n",
    "NN = loader.load()"
   ]
  },
  {
   "cell_type": "code",
   "execution_count": 12,
   "id": "c4c5880f-844c-437d-a274-f198aedf70bd",
   "metadata": {},
   "outputs": [
    {
     "data": {
      "text/plain": [
       "(10000, 220)"
      ]
     },
     "execution_count": 12,
     "metadata": {},
     "output_type": "execute_result"
    }
   ],
   "source": [
    "NN.x_train.shape"
   ]
  },
  {
   "cell_type": "code",
   "execution_count": null,
   "id": "0ab82a89-cf03-4a13-b14f-1bdc285f5be6",
   "metadata": {},
   "outputs": [],
   "source": []
  }
 ],
 "metadata": {
  "kernelspec": {
   "display_name": "Python 3 [viska-tf28]",
   "language": "python",
   "name": "python3-viska-tf28"
  },
  "language_info": {
   "codemirror_mode": {
    "name": "ipython",
    "version": 3
   },
   "file_extension": ".py",
   "mimetype": "text/x-python",
   "name": "python",
   "nbconvert_exporter": "python",
   "pygments_lexer": "ipython3",
   "version": "3.9.7"
  }
 },
 "nbformat": 4,
 "nbformat_minor": 5
}
