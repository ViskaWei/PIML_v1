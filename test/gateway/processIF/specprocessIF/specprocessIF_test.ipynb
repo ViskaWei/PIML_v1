{
 "cells": [
  {
   "cell_type": "code",
   "execution_count": null,
   "id": "0953aeb3-399d-46b8-8f29-be0ee2b121ac",
   "metadata": {},
   "outputs": [],
   "source": []
  },
  {
   "cell_type": "code",
   "execution_count": 1,
   "id": "5e09ded4-6a4f-4829-8578-0af439086ae7",
   "metadata": {},
   "outputs": [],
   "source": [
    "%load_ext autoreload\n",
    "%autoreload 2"
   ]
  },
  {
   "cell_type": "code",
   "execution_count": 2,
   "id": "68d1e4aa-8fef-4c4d-bfb0-dfe2f02a3f32",
   "metadata": {},
   "outputs": [],
   "source": [
    "PROJECT_PATH = '/home/swei20/PIML_v1/'\n",
    "import sys\n",
    "sys.path.insert(0, PROJECT_PATH)"
   ]
  },
  {
   "cell_type": "code",
   "execution_count": 3,
   "id": "7df8f3b5-a625-4f78-ba27-0e3b4c86f188",
   "metadata": {},
   "outputs": [],
   "source": [
    "import os\n",
    "import numpy as np"
   ]
  },
  {
   "cell_type": "code",
   "execution_count": 7,
   "id": "21dce1ef-58c6-4b0b-8392-1cf5e2b9d18b",
   "metadata": {},
   "outputs": [],
   "source": [
    "from PIML.gateway.loaderIF.baseloaderIF import SpecGridLoaderIF\n"
   ]
  },
  {
   "cell_type": "code",
   "execution_count": 10,
   "id": "b19dbd98-c3e4-4344-87bd-25353dd0bfe4",
   "metadata": {},
   "outputs": [],
   "source": [
    "GRID_PATH=\"/datascope/subaru/user/swei20/data/pfsspec/import/stellar/grid\"\n",
    "FILE_PATH=os.path.join(GRID_PATH, \"bosz_5000_RHB.h5\")"
   ]
  },
  {
   "cell_type": "code",
   "execution_count": null,
   "id": "d3dddfe4-05d4-4b26-b7b6-f94a8dd24961",
   "metadata": {},
   "outputs": [],
   "source": [
    "PARAMS = {\n",
    "    \"data\": {\n",
    "        \"DATA_PATH\": FILE_PATH\n",
    "        \"arm\"      : \"W\"\n",
    "    }\n",
    "    \n",
    "    \"op: : {\n",
    "        \"Arm\" : \n",
    "    }\n",
    "        \n",
    "}"
   ]
  },
  {
   "cell_type": "code",
   "execution_count": 13,
   "id": "90eefa5b-97e4-45d5-82ee-a7fc571d52e9",
   "metadata": {},
   "outputs": [],
   "source": [
    "SGL = SpecGridLoaderIF()\n",
    "SGL.set_data_path(FILE_PATH)\n",
    "SpecGrid = SGL.load()"
   ]
  },
  {
   "cell_type": "code",
   "execution_count": 4,
   "id": "21e56353-4a69-4d1a-afe2-dea1682c6c48",
   "metadata": {},
   "outputs": [],
   "source": [
    "from PIML.surface.database.baseloader import H5pyLoader"
   ]
  },
  {
   "cell_type": "code",
   "execution_count": 5,
   "id": "3ae2ee84-1cb8-43f7-b1e8-23faa085fdfa",
   "metadata": {},
   "outputs": [],
   "source": [
    "loader = H5pyLoader()"
   ]
  },
  {
   "cell_type": "code",
   "execution_count": 6,
   "id": "0b145799-3bd1-4c6d-b7ad-c5b0ff6cfe40",
   "metadata": {},
   "outputs": [],
   "source": []
  },
  {
   "cell_type": "code",
   "execution_count": 7,
   "id": "83f46b1b-3db6-4b45-a629-41296f7e5735",
   "metadata": {},
   "outputs": [
    {
     "data": {
      "text/plain": [
       "array([ 3000.2639,  3000.564 ,  3000.8643, ..., 13996.3662, 13997.7656,\n",
       "       13999.166 ])"
      ]
     },
     "execution_count": 7,
     "metadata": {},
     "output_type": "execute_result"
    }
   ],
   "source": [
    "arg = \"wave\"\n",
    "wave = loader.load_arg(FILE_PATH, arg)\n",
    "wave"
   ]
  },
  {
   "cell_type": "code",
   "execution_count": 12,
   "id": "ebdf2145-784f-46eb-9c77-732c211bc4bd",
   "metadata": {},
   "outputs": [],
   "source": [
    "\n",
    "class SplitOperation():\n",
    "    \"\"\" class for splitting data. \"\"\"\n",
    "    def __init__(self, split_idxs) -> None:\n",
    "        self.startIdx = split_idxs[0]\n",
    "        self.endIdx = split_idxs[1]\n",
    "\n",
    "    def perform(self, data):\n",
    "        return data[..., self.startIdx:self.endIdx]\n",
    "\n"
   ]
  },
  {
   "cell_type": "code",
   "execution_count": null,
   "id": "46ca6d71-a101-4475-87a8-e2d498d68543",
   "metadata": {},
   "outputs": [],
   "source": [
    "SpecGrid"
   ]
  },
  {
   "cell_type": "code",
   "execution_count": 44,
   "id": "6bdfec35-87e8-4793-bc30-36c25113cb9f",
   "metadata": {},
   "outputs": [],
   "source": [
    "class ArmSplitOperation(SplitOperation):\n",
    "    \"\"\" class for splitting data. \"\"\"\n",
    "    def __init__(self, arm: str, wave: np.ndarray) -> None:\n",
    "        self.arm = arm\n",
    "        self.wRng = [7100, 8500]\n",
    "        # wRng = PARAMS[\"wave_rng\"]\n",
    "        self.split_idxs = np.digitize(self.wRng, wave)\n",
    "        super().__init__(self.split_idxs)\n",
    "\n",
    "    "
   ]
  },
  {
   "cell_type": "code",
   "execution_count": 45,
   "id": "824cf138-0b83-4b83-a540-91b87e897345",
   "metadata": {},
   "outputs": [],
   "source": [
    "a = ArmSplitOperation(\"W\", SpecGrid.wave)"
   ]
  },
  {
   "cell_type": "code",
   "execution_count": 46,
   "id": "7ca60ae5-fd7b-463a-bf53-e4f02814316e",
   "metadata": {},
   "outputs": [],
   "source": [
    "wave = SpecGrid.wave"
   ]
  },
  {
   "cell_type": "code",
   "execution_count": 47,
   "id": "27ccf0df-447b-4176-a638-f78fa0347a6f",
   "metadata": {},
   "outputs": [
    {
     "data": {
      "text/plain": [
       "array([7100.0293, 7100.7393, 7101.4492, ..., 8497.7256, 8498.5752,\n",
       "       8499.4258])"
      ]
     },
     "execution_count": 47,
     "metadata": {},
     "output_type": "execute_result"
    }
   ],
   "source": [
    "a.perform(wave)"
   ]
  },
  {
   "cell_type": "code",
   "execution_count": 48,
   "id": "32fabeba-2d52-4dbd-acaf-23ebbf1cf4f7",
   "metadata": {},
   "outputs": [
    {
     "data": {
      "text/plain": [
       "array([ 3000.2639,  3000.564 ,  3000.8643, ..., 13996.3662, 13997.7656,\n",
       "       13999.166 ])"
      ]
     },
     "execution_count": 48,
     "metadata": {},
     "output_type": "execute_result"
    }
   ],
   "source": [
    "wave"
   ]
  },
  {
   "cell_type": "code",
   "execution_count": 43,
   "id": "d024e04c-9126-4638-a4ca-1364f9836c70",
   "metadata": {},
   "outputs": [
    {
     "data": {
      "text/plain": [
       "array([0, 0, 0, ..., 2, 2, 2])"
      ]
     },
     "execution_count": 43,
     "metadata": {},
     "output_type": "execute_result"
    }
   ],
   "source": [
    "a.split_idxs"
   ]
  },
  {
   "cell_type": "code",
   "execution_count": null,
   "id": "aebbceb0-1785-4fd2-962a-7c21c94fbd7b",
   "metadata": {},
   "outputs": [],
   "source": []
  }
 ],
 "metadata": {
  "kernelspec": {
   "display_name": "Python 3 [viska-tf28]",
   "language": "python",
   "name": "python3-viska-tf28"
  },
  "language_info": {
   "codemirror_mode": {
    "name": "ipython",
    "version": 3
   },
   "file_extension": ".py",
   "mimetype": "text/x-python",
   "name": "python",
   "nbconvert_exporter": "python",
   "pygments_lexer": "ipython3",
   "version": "3.9.7"
  }
 },
 "nbformat": 4,
 "nbformat_minor": 5
}
