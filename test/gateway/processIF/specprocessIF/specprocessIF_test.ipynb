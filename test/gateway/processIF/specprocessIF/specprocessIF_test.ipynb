{
 "cells": [
  {
   "cell_type": "code",
   "execution_count": null,
   "id": "0953aeb3-399d-46b8-8f29-be0ee2b121ac",
   "metadata": {},
   "outputs": [],
   "source": []
  },
  {
   "cell_type": "code",
   "execution_count": 1,
   "id": "5e09ded4-6a4f-4829-8578-0af439086ae7",
   "metadata": {},
   "outputs": [],
   "source": [
    "%load_ext autoreload\n",
    "%autoreload 2"
   ]
  },
  {
   "cell_type": "code",
   "execution_count": 2,
   "id": "68d1e4aa-8fef-4c4d-bfb0-dfe2f02a3f32",
   "metadata": {},
   "outputs": [],
   "source": [
    "PROJECT_PATH = '/home/swei20/PIML_v1/'\n",
    "import sys\n",
    "sys.path.insert(0, PROJECT_PATH)"
   ]
  },
  {
   "cell_type": "code",
   "execution_count": 3,
   "id": "7df8f3b5-a625-4f78-ba27-0e3b4c86f188",
   "metadata": {},
   "outputs": [],
   "source": [
    "import os\n",
    "import numpy as np"
   ]
  },
  {
   "cell_type": "code",
   "execution_count": 7,
   "id": "21dce1ef-58c6-4b0b-8392-1cf5e2b9d18b",
   "metadata": {},
   "outputs": [],
   "source": [
    "from PIML.gateway.loaderIF.baseloaderIF import SpecGridLoaderIF\n"
   ]
  },
  {
   "cell_type": "code",
   "execution_count": 10,
   "id": "b19dbd98-c3e4-4344-87bd-25353dd0bfe4",
   "metadata": {},
   "outputs": [],
   "source": [
    "GRID_PATH=\"/datascope/subaru/user/swei20/data/pfsspec/import/stellar/grid\"\n",
    "FILE_PATH=os.path.join(GRID_PATH, \"bosz_5000_RHB.h5\")"
   ]
  },
  {
   "cell_type": "code",
   "execution_count": 67,
   "id": "d3dddfe4-05d4-4b26-b7b6-f94a8dd24961",
   "metadata": {},
   "outputs": [],
   "source": [
    "PARAMS = {\n",
    "    \"data\": {\"DATA_PATH\": FILE_PATH},\n",
    "    \"op\"  : { \n",
    "        \"arm\" : \"RedM\",\n",
    "        \"step\": 10\n",
    "    }\n",
    "}"
   ]
  },
  {
   "cell_type": "code",
   "execution_count": 68,
   "id": "c09277f9-8655-4ce6-bc95-8b05e16ed05a",
   "metadata": {},
   "outputs": [],
   "source": [
    "MODEL_TYPES = {\"Resolution\": \"Alex\"}"
   ]
  },
  {
   "cell_type": "code",
   "execution_count": 69,
   "id": "90eefa5b-97e4-45d5-82ee-a7fc571d52e9",
   "metadata": {},
   "outputs": [],
   "source": [
    "SGL = SpecGridLoaderIF()\n",
    "SGL.set_data_path(FILE_PATH)\n",
    "SpecGrid = SGL.load()"
   ]
  },
  {
   "cell_type": "code",
   "execution_count": 49,
   "id": "7fd86827-e116-4bf8-afce-22a57b9ec8ad",
   "metadata": {},
   "outputs": [],
   "source": [
    "import numpy as np\n",
    "from test.testbase import TestBase\n",
    "from PIML.crust.data.spec.basespec import StellarSpec\n",
    "from PIML.crust.data.spec.basespecgrid import StellarSpecGrid\n",
    "from PIML.crust.process.baseprocess import StellarProcess\n"
   ]
  },
  {
   "cell_type": "code",
   "execution_count": 70,
   "id": "02d120d4-67c9-4f5f-b234-1076e8e2f0f2",
   "metadata": {},
   "outputs": [],
   "source": [
    "Process = StellarProcess()\n",
    "Process.set_process(PARAMS[\"op\"], MODEL_TYPES)"
   ]
  },
  {
   "cell_type": "code",
   "execution_count": 71,
   "id": "d08370d3-9c7e-47d0-91c4-a7c653f43580",
   "metadata": {},
   "outputs": [],
   "source": [
    "Process.start_on_Spec(SpecGrid)\n"
   ]
  },
  {
   "cell_type": "code",
   "execution_count": 72,
   "id": "279b6b6d-5d2f-4ba2-97f5-97daac060411",
   "metadata": {},
   "outputs": [
    {
     "data": {
      "text/plain": [
       "(2880, 220)"
      ]
     },
     "execution_count": 72,
     "metadata": {},
     "output_type": "execute_result"
    }
   ],
   "source": [
    "SpecGrid.flux.shape"
   ]
  },
  {
   "cell_type": "code",
   "execution_count": 80,
   "id": "dc463104-c02f-434d-9a3b-6262ae84ce14",
   "metadata": {},
   "outputs": [
    {
     "data": {
      "text/plain": [
       "[<matplotlib.lines.Line2D at 0x7ffae6b92d00>]"
      ]
     },
     "execution_count": 80,
     "metadata": {},
     "output_type": "execute_result"
    },
    {
     "data": {
      "image/png": "[encoded data removed]",
      "text/plain": [
       "<Figure size 432x288 with 1 Axes>"
      ]
     },
     "metadata": {
      "needs_background": "light"
     },
     "output_type": "display_data"
    }
   ],
   "source": [
    "plt.plot(SpecGrid.wave, SpecGrid.flux[0])"
   ]
  },
  {
   "cell_type": "code",
   "execution_count": null,
   "id": "a0ecfe96-ed24-4924-b085-8581923852a4",
   "metadata": {},
   "outputs": [],
   "source": []
  },
  {
   "cell_type": "code",
   "execution_count": null,
   "id": "45d0ae6f-4f3b-4c7f-b05d-4390fd79b833",
   "metadata": {},
   "outputs": [],
   "source": [
    "GRID_PATH=\"/datascope/subaru/user/swei20/data/pfsspec/import/stellar/grid\"\n",
    "FILE_PATH=os.path.join(GRID_PATH, \"bosz_5000_RHB.h5\")"
   ]
  },
  {
   "cell_type": "code",
   "execution_count": 83,
   "id": "aebbceb0-1785-4fd2-962a-7c21c94fbd7b",
   "metadata": {},
   "outputs": [
    {
     "data": {
      "text/plain": [
       "array([[ 6,  8,  4,  0,  0],\n",
       "       [ 6,  8,  4,  0,  1],\n",
       "       [ 6,  8,  4,  0,  2],\n",
       "       ...,\n",
       "       [10, 13,  7,  5,  1],\n",
       "       [10, 13,  7,  5,  2],\n",
       "       [10, 13,  7,  5,  3]])"
      ]
     },
     "execution_count": 83,
     "metadata": {},
     "output_type": "execute_result"
    }
   ],
   "source": [
    "SpecGrid.coord_idx"
   ]
  },
  {
   "cell_type": "code",
   "execution_count": null,
   "id": "c95435b5-80de-4657-907a-af75bc01430e",
   "metadata": {},
   "outputs": [],
   "source": []
  }
 ],
 "metadata": {
  "kernelspec": {
   "display_name": "Python 3 [viska-tf28]",
   "language": "python",
   "name": "python3-viska-tf28"
  },
  "language_info": {
   "codemirror_mode": {
    "name": "ipython",
    "version": 3
   },
   "file_extension": ".py",
   "mimetype": "text/x-python",
   "name": "python",
   "nbconvert_exporter": "python",
   "pygments_lexer": "ipython3",
   "version": "3.9.7"
  }
 },
 "nbformat": 4,
 "nbformat_minor": 5
}
