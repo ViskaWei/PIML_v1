{
 "cells": [
  {
   "cell_type": "code",
   "execution_count": 1,
   "id": "dcf5bba8-1383-4879-abf0-ee15b5fff77a",
   "metadata": {},
   "outputs": [],
   "source": [
    "%load_ext autoreload\n",
    "%autoreload 2"
   ]
  },
  {
   "cell_type": "code",
   "execution_count": 2,
   "id": "693e8e30-0518-4fd1-a2d6-06210a6570f9",
   "metadata": {},
   "outputs": [],
   "source": [
    "PROJECT_PATH = '/home/swei20/PIML_v1/'\n",
    "import sys\n",
    "sys.path.insert(0, PROJECT_PATH)"
   ]
  },
  {
   "cell_type": "code",
   "execution_count": 3,
   "id": "c229ebe3-97de-4395-bb9c-da318ebfb88e",
   "metadata": {},
   "outputs": [],
   "source": [
    "import os\n",
    "import numpy as np"
   ]
  },
  {
   "cell_type": "code",
   "execution_count": 2,
   "id": "1a743ea8-245e-4de9-9503-890d086fe028",
   "metadata": {},
   "outputs": [],
   "source": [
    "from PIML.gateway.dataIF.basedataIF import *"
   ]
  },
  {
   "cell_type": "code",
   "execution_count": 6,
   "id": "68e1e2d4-9fad-4a04-9618-7999cbc26252",
   "metadata": {},
   "outputs": [],
   "source": [
    "from PIML.surface.database.baseloader import H5pyLoader"
   ]
  },
  {
   "cell_type": "code",
   "execution_count": 7,
   "id": "1e030cf3-ad2b-4d55-bb25-be1e7d4bf25d",
   "metadata": {},
   "outputs": [],
   "source": [
    "loader = H5pyLoader()"
   ]
  },
  {
   "cell_type": "code",
   "execution_count": 8,
   "id": "42baa635-4983-48db-81f4-1f66037bc319",
   "metadata": {},
   "outputs": [],
   "source": [
    "GRID_PATH=\"/datascope/subaru/user/swei20/data/pfsspec/import/stellar/grid\"\n",
    "FILE_PATH=os.path.join(GRID_PATH, \"bosz_5000_RHB.h5\")"
   ]
  },
  {
   "cell_type": "code",
   "execution_count": 12,
   "id": "9e9d568a-5dd0-4996-944f-7a0744826ff7",
   "metadata": {},
   "outputs": [],
   "source": [
    "arg = \"wave\"\n",
    "wave = loader.load_arg(FILE_PATH, arg)"
   ]
  },
  {
   "cell_type": "code",
   "execution_count": 14,
   "id": "1e95dac2-6c94-4869-9af2-5955f46bfc0e",
   "metadata": {},
   "outputs": [
    {
     "data": {
      "text/plain": [
       "array([ 9808, 10986])"
      ]
     },
     "execution_count": 14,
     "metadata": {},
     "output_type": "execute_result"
    }
   ],
   "source": [
    "np.digitize((8000,9000), wave)"
   ]
  },
  {
   "cell_type": "code",
   "execution_count": null,
   "id": "0b0fd807-95b7-4fb7-b619-534d9638a8d6",
   "metadata": {},
   "outputs": [],
   "source": []
  }
 ],
 "metadata": {
  "kernelspec": {
   "display_name": "Python 3 [viska-tf28]",
   "language": "python",
   "name": "python3-viska-tf28"
  },
  "language_info": {
   "codemirror_mode": {
    "name": "ipython",
    "version": 3
   },
   "file_extension": ".py",
   "mimetype": "text/x-python",
   "name": "python",
   "nbconvert_exporter": "python",
   "pygments_lexer": "ipython3",
   "version": "3.9.7"
  }
 },
 "nbformat": 4,
 "nbformat_minor": 5
}
