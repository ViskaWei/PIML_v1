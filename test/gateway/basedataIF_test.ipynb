{
 "cells": [
  {
   "cell_type": "code",
   "execution_count": 1,
   "id": "dcf5bba8-1383-4879-abf0-ee15b5fff77a",
   "metadata": {},
   "outputs": [],
   "source": [
    "%load_ext autoreload\n",
    "%autoreload 2"
   ]
  },
  {
   "cell_type": "code",
   "execution_count": 2,
   "id": "693e8e30-0518-4fd1-a2d6-06210a6570f9",
   "metadata": {},
   "outputs": [],
   "source": [
    "PROJECT_PATH = '/home/swei20/PIML_v1/'\n",
    "import sys\n",
    "sys.path.insert(0, PROJECT_PATH)"
   ]
  },
  {
   "cell_type": "code",
   "execution_count": 3,
   "id": "c229ebe3-97de-4395-bb9c-da318ebfb88e",
   "metadata": {},
   "outputs": [],
   "source": [
    "import os\n",
    "import numpy as np"
   ]
  },
  {
   "cell_type": "code",
   "execution_count": 2,
   "id": "1a743ea8-245e-4de9-9503-890d086fe028",
   "metadata": {},
   "outputs": [],
   "source": [
    "from PIML.gateway.dataIF.basedataIF import *"
   ]
  },
  {
   "cell_type": "code",
   "execution_count": 6,
   "id": "68e1e2d4-9fad-4a04-9618-7999cbc26252",
   "metadata": {},
   "outputs": [],
   "source": [
    "from PIML.surface.database.baseloader import H5pyLoader"
   ]
  },
  {
   "cell_type": "code",
   "execution_count": 7,
   "id": "1e030cf3-ad2b-4d55-bb25-be1e7d4bf25d",
   "metadata": {},
   "outputs": [],
   "source": [
    "loader = H5pyLoader()"
   ]
  },
  {
   "cell_type": "code",
   "execution_count": 156,
   "id": "42baa635-4983-48db-81f4-1f66037bc319",
   "metadata": {},
   "outputs": [],
   "source": [
    "# GRID_PATH=\"/datascope/subaru/user/swei20/data/pfsspec/import/stellar/grid\"\n",
    "# FILE_PATH=os.path.join(GRID_PATH, \"bosz_5000_RHB.h5\")\n",
    "FILE_PATH = \"/home/swei20/PIML_v1/test/testdata/bosz_5000_test.h5\""
   ]
  },
  {
   "cell_type": "code",
   "execution_count": 160,
   "id": "1a8e01d8-f9bd-480e-b81a-63facb2d8226",
   "metadata": {},
   "outputs": [],
   "source": [
    "arg = \"wave\"\n",
    "wave = loader.load_arg(FILE_PATH, arg)\n",
    "arg = \"flux\"\n",
    "flux0 = loader.load_arg(FILE_PATH, arg)"
   ]
  },
  {
   "cell_type": "code",
   "execution_count": 163,
   "id": "a42503ff-530e-4553-b631-f75d3f3ca2c2",
   "metadata": {},
   "outputs": [],
   "source": [
    "step = 10\n",
    "data = wave"
   ]
  },
  {
   "cell_type": "code",
   "execution_count": null,
   "id": "30f77b45-a3a5-4597-8315-2a993e9f9e5c",
   "metadata": {},
   "outputs": [],
   "source": []
  },
  {
   "cell_type": "code",
   "execution_count": 172,
   "id": "0e03b9bc-ac76-4fa8-ae69-b89ac6b67a93",
   "metadata": {},
   "outputs": [
    {
     "data": {
      "text/plain": [
       "array([[0.33030066, 0.77711964, 0.97640765, 0.07149391, 0.63788165,\n",
       "        0.40874473, 0.00218625, 0.558711  , 0.80471358, 0.73997587],\n",
       "       [0.55101185, 0.47901805, 0.50726845, 0.26028212, 0.39199489,\n",
       "        0.74407071, 0.11841474, 0.32866277, 0.12508165, 0.22935492],\n",
       "       [0.31712489, 0.24956821, 0.46614881, 0.27953377, 0.38598589,\n",
       "        0.50077329, 0.07691628, 0.13761824, 0.52509646, 0.76997607],\n",
       "       [0.86740799, 0.97017136, 0.5327654 , 0.63261738, 0.62978148,\n",
       "        0.65074534, 0.08996434, 0.01711737, 0.81713153, 0.47029106],\n",
       "       [0.09291699, 0.0456581 , 0.63127994, 0.80390317, 0.28764757,\n",
       "        0.05685454, 0.89025969, 0.89161593, 0.71791343, 0.39799577]])"
      ]
     },
     "execution_count": 172,
     "metadata": {},
     "output_type": "execute_result"
    }
   ],
   "source": [
    "np.random.rand(5,10)"
   ]
  },
  {
   "cell_type": "code",
   "execution_count": 164,
   "id": "c2cfa78c-df0b-4f70-9776-827789c7b43b",
   "metadata": {},
   "outputs": [],
   "source": [
    "dataToCheck = np.diff(np.cumsum(data, axis=-1)[..., ::step], axis=-1) / step\n"
   ]
  },
  {
   "cell_type": "code",
   "execution_count": 165,
   "id": "823c01e8-4451-4d9a-ae1c-305c5b9f925b",
   "metadata": {},
   "outputs": [
    {
     "data": {
      "text/plain": [
       "(117,)"
      ]
     },
     "execution_count": 165,
     "metadata": {},
     "output_type": "execute_result"
    }
   ],
   "source": [
    "dataToCheck.shape"
   ]
  },
  {
   "cell_type": "code",
   "execution_count": 170,
   "id": "00298c82-d134-4c06-9463-a639cef81aaf",
   "metadata": {},
   "outputs": [
    {
     "ename": "TypeError",
     "evalue": "unsupported operand type(s) for -: 'tuple' and 'tuple'",
     "output_type": "error",
     "traceback": [
      "\u001b[0;31m---------------------------------------------------------------------------\u001b[0m",
      "\u001b[0;31mTypeError\u001b[0m                                 Traceback (most recent call last)",
      "\u001b[0;32m/tmp/ipykernel_487957/2001556185.py\u001b[0m in \u001b[0;36m<module>\u001b[0;34m\u001b[0m\n\u001b[0;32m----> 1\u001b[0;31m \u001b[0mwave\u001b[0m\u001b[0;34m[\u001b[0m\u001b[0;34m:\u001b[0m\u001b[0;34m:\u001b[0m\u001b[0mstep\u001b[0m\u001b[0;34m]\u001b[0m\u001b[0;34m.\u001b[0m\u001b[0mshape\u001b[0m \u001b[0;34m-\u001b[0m \u001b[0mdataToCheck\u001b[0m\u001b[0;34m.\u001b[0m\u001b[0mshape\u001b[0m\u001b[0;34m\u001b[0m\u001b[0;34m\u001b[0m\u001b[0m\n\u001b[0m",
      "\u001b[0;31mTypeError\u001b[0m: unsupported operand type(s) for -: 'tuple' and 'tuple'"
     ]
    }
   ],
   "source": [
    "wave[::step].shape - dataToCheck.shape"
   ]
  },
  {
   "cell_type": "code",
   "execution_count": 166,
   "id": "ad1f20ff-ed0c-4c61-a2d0-6f7fc2b4928b",
   "metadata": {},
   "outputs": [
    {
     "data": {
      "text/plain": [
       "(1178,)"
      ]
     },
     "execution_count": 166,
     "metadata": {},
     "output_type": "execute_result"
    }
   ],
   "source": [
    "wave.shape "
   ]
  },
  {
   "cell_type": "code",
   "execution_count": 162,
   "id": "218deefa-e984-4491-ac65-e3b888e4e6e5",
   "metadata": {},
   "outputs": [
    {
     "data": {
      "text/plain": [
       "array([8000.457 , 8008.4614, 8016.4741, 8024.4946, 8032.5234, 8040.5596,\n",
       "       8048.604 , 8056.6562, 8064.7173, 8072.7861, 8080.8633, 8088.9478,\n",
       "       8097.041 , 8105.1416, 8113.251 , 8121.3682, 8129.4932, 8137.627 ,\n",
       "       8145.769 , 8153.9185, 8162.0771, 8170.2432, 8178.4175, 8186.5996,\n",
       "       8194.791 , 8202.9893, 8211.1963, 8219.4121, 8227.6348, 8235.8672,\n",
       "       8244.1074, 8252.3555, 8260.6113, 8268.876 , 8277.1494, 8285.4307,\n",
       "       8293.7197, 8302.0176, 8310.3242, 8318.6387, 8326.9609, 8335.292 ,\n",
       "       8343.6318, 8351.9805, 8360.3359, 8368.7002, 8377.0732, 8385.4551,\n",
       "       8393.8438, 8402.2422, 8410.6484, 8419.0635, 8427.4863, 8435.9189,\n",
       "       8444.3584, 8452.8066, 8461.2637, 8469.7295, 8478.2041, 8486.6855,\n",
       "       8495.1768, 8503.6758, 8512.1846, 8520.7012, 8529.2256, 8537.7588,\n",
       "       8546.3008, 8554.8516, 8563.4102, 8571.9785, 8580.5547, 8589.1396,\n",
       "       8597.7334, 8606.335 , 8614.9453, 8623.5654, 8632.1924, 8640.8291,\n",
       "       8649.4746, 8658.1279, 8666.791 , 8675.4609, 8684.1416, 8692.8301,\n",
       "       8701.5273, 8710.2334, 8718.9473, 8727.6709, 8736.4023, 8745.1436,\n",
       "       8753.8926, 8762.6514, 8771.418 , 8780.1943, 8788.9785, 8797.7725,\n",
       "       8806.5742, 8815.3848, 8824.2051, 8833.0332, 8841.8711, 8850.7168,\n",
       "       8859.5723, 8868.4365, 8877.3086, 8886.1904, 8895.082 , 8903.9814,\n",
       "       8912.8896, 8921.8066, 8930.7334, 8939.6689, 8948.6123, 8957.5654,\n",
       "       8966.5273, 8975.499 , 8984.4785, 8993.4678])"
      ]
     },
     "execution_count": 162,
     "metadata": {},
     "output_type": "execute_result"
    }
   ],
   "source": [
    "wave[::10]"
   ]
  },
  {
   "cell_type": "code",
   "execution_count": 158,
   "id": "5f0fccd0-dcc4-4c2c-ba1d-3107910e633b",
   "metadata": {},
   "outputs": [
    {
     "data": {
      "text/plain": [
       "array([[1311700., 1287100., 1322400., ..., 1103900., 1103400., 1101700.],\n",
       "       [1302200., 1277600., 1313000., ..., 1094300., 1093800., 1092200.],\n",
       "       [1295800., 1271000., 1306900., ..., 1088200., 1087700., 1086100.],\n",
       "       ...,\n",
       "       [2579200., 2522100., 2606900., ..., 2108000., 2096100., 2084100.],\n",
       "       [2583300., 2525200., 2612000., ..., 2077100., 2065600., 2054100.],\n",
       "       [2581800., 2522900., 2611400., ..., 2051400., 2040500., 2029600.]])"
      ]
     },
     "execution_count": 158,
     "metadata": {},
     "output_type": "execute_result"
    }
   ],
   "source": [
    "flux0"
   ]
  },
  {
   "cell_type": "code",
   "execution_count": 105,
   "id": "1b6737ca-14ef-4866-a634-196c263a1de5",
   "metadata": {},
   "outputs": [],
   "source": [
    "flux=np.log(flux0[0])"
   ]
  },
  {
   "cell_type": "code",
   "execution_count": 155,
   "id": "b3ec9c67-ffa3-40fe-88b5-7aca52e60f6e",
   "metadata": {},
   "outputs": [
    {
     "data": {
      "text/plain": [
       "1"
      ]
     },
     "execution_count": 155,
     "metadata": {},
     "output_type": "execute_result"
    }
   ],
   "source": [
    "flux.ndim"
   ]
  },
  {
   "cell_type": "code",
   "execution_count": 154,
   "id": "009e1943-f4da-42a3-aa2e-4549acb4580a",
   "metadata": {},
   "outputs": [
    {
     "data": {
      "text/plain": [
       "2"
      ]
     },
     "execution_count": 154,
     "metadata": {},
     "output_type": "execute_result"
    }
   ],
   "source": [
    "flux0.ndim"
   ]
  },
  {
   "cell_type": "code",
   "execution_count": 106,
   "id": "eaa722f1-f11c-4d28-bce8-4bf93e565202",
   "metadata": {},
   "outputs": [],
   "source": [
    "c = np.cumsum(flux)\n",
    "b = list(range(1, len(flux), step))\n",
    "db = np.diff(c[b])\n",
    "dd2 = (db/step)"
   ]
  },
  {
   "cell_type": "code",
   "execution_count": 107,
   "id": "03afaa5d-69e1-4628-8a5d-9f538cd5ff86",
   "metadata": {},
   "outputs": [],
   "source": [
    "dd2 = np.exp(dd2)"
   ]
  },
  {
   "cell_type": "code",
   "execution_count": 111,
   "id": "333bf129-2917-4a78-95b8-4c4d9f84ff77",
   "metadata": {},
   "outputs": [
    {
     "data": {
      "text/plain": [
       "[<matplotlib.lines.Line2D at 0x7effaaf4a670>]"
      ]
     },
     "execution_count": 111,
     "metadata": {},
     "output_type": "execute_result"
    },
    {
     "data": {
      "image/png": "[encoded data removed]",
      "text/plain": [
       "<Figure size 432x288 with 1 Axes>"
      ]
     },
     "metadata": {
      "needs_background": "light"
     },
     "output_type": "display_data"
    }
   ],
   "source": [
    "plt.plot(wave,flux0[0])\n",
    "plt.plot(out,dd)\n",
    "plt.plot(out2,dd)\n",
    "plt.plot(out2,dd2)"
   ]
  },
  {
   "cell_type": "code",
   "execution_count": 115,
   "id": "d5956426-cec2-40de-bc63-cf8c17ba8c35",
   "metadata": {},
   "outputs": [
    {
     "data": {
      "text/plain": [
       "array([1.82340735e+04, 1.42227240e+04, 7.56182242e+03, ...,\n",
       "       6.68561312e-02, 2.79694121e-01, 1.10781829e-01])"
      ]
     },
     "execution_count": 115,
     "metadata": {},
     "output_type": "execute_result"
    }
   ],
   "source": [
    "dd - dd2"
   ]
  },
  {
   "cell_type": "code",
   "execution_count": 112,
   "id": "db4414dc-95fe-43a9-ad97-3a95e220f766",
   "metadata": {},
   "outputs": [
    {
     "data": {
      "text/plain": [
       "array([509487.92652819, 645754.27600479, 614868.17757753, ...,\n",
       "       451713.93314387, 450708.72030588, 450072.88921817])"
      ]
     },
     "execution_count": 112,
     "metadata": {},
     "output_type": "execute_result"
    }
   ],
   "source": [
    "dd2"
   ]
  },
  {
   "cell_type": "code",
   "execution_count": 89,
   "id": "9e9d568a-5dd0-4996-944f-7a0744826ff7",
   "metadata": {},
   "outputs": [],
   "source": [
    "arg = \"wave\"\n",
    "wave = loader.load_arg(FILE_PATH, arg)"
   ]
  },
  {
   "cell_type": "code",
   "execution_count": 90,
   "id": "ff86a173-e18a-462c-a548-688817aa469c",
   "metadata": {},
   "outputs": [
    {
     "data": {
      "text/plain": [
       "15404"
      ]
     },
     "execution_count": 90,
     "metadata": {},
     "output_type": "execute_result"
    }
   ],
   "source": [
    "len(wave)"
   ]
  },
  {
   "cell_type": "code",
   "execution_count": 91,
   "id": "b27a2334-17c2-4e14-8380-755c564ea19d",
   "metadata": {},
   "outputs": [
    {
     "data": {
      "text/plain": [
       "array([ 3000.2639,  3000.564 ,  3000.8643, ..., 13996.3662, 13997.7656,\n",
       "       13999.166 ])"
      ]
     },
     "execution_count": 91,
     "metadata": {},
     "output_type": "execute_result"
    }
   ],
   "source": [
    "wave"
   ]
  },
  {
   "cell_type": "code",
   "execution_count": 119,
   "id": "1e95dac2-6c94-4869-9af2-5955f46bfc0e",
   "metadata": {},
   "outputs": [],
   "source": [
    "a,b =np.digitize([3800,12400], wave)"
   ]
  },
  {
   "cell_type": "code",
   "execution_count": 121,
   "id": "438bb964-6632-44a2-9b73-cd99e80d1f5d",
   "metadata": {},
   "outputs": [],
   "source": [
    "wave0 = wave[a:b]"
   ]
  },
  {
   "cell_type": "code",
   "execution_count": 35,
   "id": "0b0fd807-95b7-4fb7-b619-534d9638a8d6",
   "metadata": {},
   "outputs": [],
   "source": [
    "a = np.arange(10)"
   ]
  },
  {
   "cell_type": "code",
   "execution_count": 36,
   "id": "c1bbdce3-e6ef-4941-ba8b-5644f5326ea5",
   "metadata": {},
   "outputs": [
    {
     "data": {
      "text/plain": [
       "array([0, 1, 2, 3, 4, 5, 6, 7, 8, 9])"
      ]
     },
     "execution_count": 36,
     "metadata": {},
     "output_type": "execute_result"
    }
   ],
   "source": [
    "a"
   ]
  },
  {
   "cell_type": "code",
   "execution_count": 38,
   "id": "fe7635c2-0d18-492c-8313-9dc8e066d6a8",
   "metadata": {},
   "outputs": [
    {
     "data": {
      "text/plain": [
       "array([5, 7])"
      ]
     },
     "execution_count": 38,
     "metadata": {},
     "output_type": "execute_result"
    }
   ],
   "source": [
    "np.digitize([4,6], a)"
   ]
  },
  {
   "cell_type": "code",
   "execution_count": 39,
   "id": "e643ff9c-9449-4ae7-ad16-76cd120eaedb",
   "metadata": {},
   "outputs": [
    {
     "data": {
      "text/plain": [
       "array([5, 6])"
      ]
     },
     "execution_count": 39,
     "metadata": {},
     "output_type": "execute_result"
    }
   ],
   "source": [
    "a[5:7]"
   ]
  },
  {
   "cell_type": "code",
   "execution_count": 40,
   "id": "b59f294a-b2a9-4487-be30-0e24d7b28817",
   "metadata": {},
   "outputs": [],
   "source": [
    "aa = {\"c\":3, \"d\":4}"
   ]
  },
  {
   "cell_type": "code",
   "execution_count": 42,
   "id": "bb8c425f-ceaf-4785-afb3-c7df25f37d40",
   "metadata": {},
   "outputs": [
    {
     "data": {
      "text/plain": [
       "3"
      ]
     },
     "execution_count": 42,
     "metadata": {},
     "output_type": "execute_result"
    }
   ],
   "source": [
    "aa[\"c\"]"
   ]
  },
  {
   "cell_type": "code",
   "execution_count": 45,
   "id": "a820e002-7ac6-4adf-938e-0aed9488edeb",
   "metadata": {},
   "outputs": [
    {
     "data": {
      "text/plain": [
       "array([9, 2, 2])"
      ]
     },
     "execution_count": 45,
     "metadata": {},
     "output_type": "execute_result"
    }
   ],
   "source": [
    "\n",
    "a[np.array([9,2,2]),...]"
   ]
  },
  {
   "cell_type": "code",
   "execution_count": 83,
   "id": "c24d02c1-f59d-44e8-9bc1-2a89396b73b8",
   "metadata": {},
   "outputs": [],
   "source": [
    "wave0 = np.copy(wave)"
   ]
  },
  {
   "cell_type": "code",
   "execution_count": 85,
   "id": "82251e84-1ed4-4ba5-81b9-a5213a1aba0f",
   "metadata": {},
   "outputs": [],
   "source": [
    "arg = \"flux\"\n",
    "flux = loader.load_arg(FILE_PATH, arg)"
   ]
  },
  {
   "cell_type": "code",
   "execution_count": 87,
   "id": "05f479a5-5028-495f-9c86-2eb6a5a4cd98",
   "metadata": {},
   "outputs": [
    {
     "data": {
      "text/plain": [
       "(120, 1178)"
      ]
     },
     "execution_count": 87,
     "metadata": {},
     "output_type": "execute_result"
    }
   ],
   "source": [
    "flux.shape"
   ]
  },
  {
   "cell_type": "code",
   "execution_count": null,
   "id": "64571b74-72d9-4bf6-8b6b-b8aa05075e67",
   "metadata": {},
   "outputs": [],
   "source": [
    "wave = flua\n"
   ]
  },
  {
   "cell_type": "code",
   "execution_count": 126,
   "id": "35dfa953-dc92-4da5-a267-3a9a6b8dea84",
   "metadata": {},
   "outputs": [],
   "source": [
    "step=20\n",
    "b = np.arange(1, len(wave), step)"
   ]
  },
  {
   "cell_type": "code",
   "execution_count": 127,
   "id": "3170e24c-7e0d-4957-8985-7fb9d629488f",
   "metadata": {},
   "outputs": [],
   "source": [
    "w = np.cumsum(np.log(wave))\n",
    "out = np.exp(np.diff(w[b]) / step)"
   ]
  },
  {
   "cell_type": "code",
   "execution_count": 128,
   "id": "a1de16c8-5ab7-45c8-85a2-9fea6201b121",
   "metadata": {},
   "outputs": [
    {
     "data": {
      "text/plain": [
       "<matplotlib.collections.PathCollection at 0x7effaae911f0>"
      ]
     },
     "execution_count": 128,
     "metadata": {},
     "output_type": "execute_result"
    },
    {
     "data": {
      "image/png": "[encoded data removed]",
      "text/plain": [
       "<Figure size 432x288 with 1 Axes>"
      ]
     },
     "metadata": {
      "needs_background": "light"
     },
     "output_type": "display_data"
    }
   ],
   "source": [
    "plt.scatter(np.arange(len(out)), out)"
   ]
  },
  {
   "cell_type": "code",
   "execution_count": 122,
   "id": "38067ff4-5ae9-4687-aad2-375697177386",
   "metadata": {},
   "outputs": [
    {
     "data": {
      "text/plain": [
       "array([0.3799, 0.3801, 0.3802, ..., 1.2392, 1.2403, 1.2392])"
      ]
     },
     "execution_count": 122,
     "metadata": {},
     "output_type": "execute_result"
    }
   ],
   "source": [
    "np.diff(wave0)"
   ]
  },
  {
   "cell_type": "code",
   "execution_count": 145,
   "id": "38a1ac92-ecc3-49ec-a1bc-8b19a841c552",
   "metadata": {},
   "outputs": [],
   "source": [
    "w = np.cumsum(wave, axis=-1)"
   ]
  },
  {
   "cell_type": "code",
   "execution_count": null,
   "id": "b597c419-c71d-48c2-a634-e7c8469ed0f5",
   "metadata": {},
   "outputs": [],
   "source": []
  },
  {
   "cell_type": "code",
   "execution_count": 147,
   "id": "8b51c142-f129-41bf-b38b-04d5a416e8cb",
   "metadata": {},
   "outputs": [
    {
     "data": {
      "text/plain": [
       "array([0., 0., 0., 0., 0., 0., 0., 0., 0., 0., 0., 0., 0., 0., 0., 0., 0.,\n",
       "       0., 0., 0., 0., 0., 0., 0., 0., 0., 0., 0., 0., 0., 0., 0., 0., 0.,\n",
       "       0., 0., 0., 0., 0., 0., 0., 0., 0., 0., 0., 0., 0., 0., 0., 0., 0.,\n",
       "       0., 0., 0., 0., 0., 0., 0., 0., 0., 0., 0., 0., 0., 0., 0., 0., 0.,\n",
       "       0., 0., 0., 0., 0., 0., 0., 0., 0., 0., 0., 0., 0., 0., 0., 0., 0.,\n",
       "       0., 0., 0., 0., 0., 0., 0., 0., 0., 0., 0., 0., 0., 0., 0., 0., 0.,\n",
       "       0., 0., 0., 0., 0., 0., 0., 0., 0., 0., 0., 0., 0., 0., 0., 0., 0.,\n",
       "       0., 0., 0., 0., 0., 0., 0., 0., 0., 0., 0., 0., 0., 0., 0., 0., 0.,\n",
       "       0., 0., 0., 0., 0., 0., 0., 0., 0., 0., 0., 0., 0., 0., 0., 0., 0.,\n",
       "       0., 0., 0., 0., 0., 0., 0., 0., 0., 0., 0., 0., 0., 0., 0., 0., 0.,\n",
       "       0., 0., 0., 0., 0., 0., 0., 0., 0., 0., 0., 0., 0., 0., 0., 0., 0.,\n",
       "       0., 0., 0., 0., 0., 0., 0., 0., 0., 0., 0., 0., 0., 0., 0., 0., 0.,\n",
       "       0., 0., 0., 0., 0., 0., 0., 0., 0., 0., 0., 0., 0., 0., 0., 0., 0.,\n",
       "       0., 0., 0., 0., 0., 0., 0., 0., 0., 0., 0., 0., 0., 0., 0., 0., 0.,\n",
       "       0., 0., 0., 0., 0., 0., 0., 0., 0., 0., 0., 0., 0., 0., 0., 0., 0.,\n",
       "       0., 0., 0., 0., 0., 0., 0., 0., 0., 0., 0., 0., 0., 0., 0., 0., 0.,\n",
       "       0., 0., 0., 0., 0., 0., 0., 0., 0., 0., 0., 0., 0., 0., 0., 0., 0.,\n",
       "       0., 0., 0., 0., 0., 0., 0., 0., 0., 0., 0., 0., 0., 0., 0., 0., 0.,\n",
       "       0., 0., 0., 0., 0., 0., 0., 0., 0., 0., 0., 0., 0., 0., 0., 0., 0.,\n",
       "       0., 0., 0., 0., 0., 0., 0., 0., 0., 0., 0., 0., 0., 0., 0., 0., 0.,\n",
       "       0., 0., 0., 0., 0., 0., 0., 0., 0., 0., 0., 0., 0., 0., 0., 0., 0.,\n",
       "       0., 0., 0., 0., 0., 0., 0., 0., 0., 0., 0., 0., 0., 0., 0., 0., 0.,\n",
       "       0., 0., 0., 0., 0., 0., 0., 0., 0., 0., 0., 0., 0., 0., 0., 0., 0.,\n",
       "       0., 0., 0., 0., 0., 0., 0., 0., 0., 0., 0., 0., 0., 0., 0., 0., 0.,\n",
       "       0., 0., 0., 0., 0., 0., 0., 0., 0., 0., 0., 0., 0., 0., 0., 0., 0.,\n",
       "       0., 0., 0., 0., 0., 0., 0., 0., 0., 0., 0., 0., 0., 0., 0., 0., 0.,\n",
       "       0., 0., 0., 0., 0., 0., 0., 0., 0., 0., 0., 0., 0., 0., 0., 0., 0.,\n",
       "       0., 0., 0., 0., 0., 0., 0., 0., 0., 0., 0., 0., 0., 0., 0., 0., 0.,\n",
       "       0., 0., 0., 0., 0., 0., 0., 0., 0., 0., 0., 0., 0., 0., 0., 0., 0.,\n",
       "       0., 0., 0., 0., 0., 0., 0., 0., 0., 0., 0., 0., 0., 0., 0., 0., 0.,\n",
       "       0., 0., 0., 0., 0., 0., 0., 0., 0., 0., 0., 0., 0., 0., 0., 0., 0.,\n",
       "       0., 0., 0., 0., 0., 0., 0., 0., 0., 0., 0., 0., 0., 0., 0., 0., 0.,\n",
       "       0., 0., 0., 0., 0., 0., 0., 0., 0., 0., 0., 0., 0., 0., 0., 0., 0.,\n",
       "       0., 0., 0., 0., 0., 0., 0., 0., 0., 0., 0., 0., 0., 0., 0., 0., 0.,\n",
       "       0., 0., 0., 0., 0., 0., 0., 0., 0., 0., 0., 0., 0., 0., 0., 0., 0.,\n",
       "       0., 0., 0., 0., 0., 0., 0., 0., 0., 0., 0., 0., 0., 0., 0., 0., 0.,\n",
       "       0., 0., 0., 0., 0., 0., 0., 0., 0., 0., 0., 0., 0., 0., 0., 0., 0.,\n",
       "       0., 0., 0., 0., 0., 0., 0., 0., 0., 0., 0., 0., 0., 0., 0., 0., 0.,\n",
       "       0., 0., 0., 0., 0., 0., 0., 0., 0., 0., 0., 0., 0., 0., 0., 0., 0.,\n",
       "       0., 0., 0., 0., 0., 0., 0., 0., 0., 0., 0., 0., 0., 0., 0., 0., 0.,\n",
       "       0., 0., 0., 0., 0., 0., 0., 0., 0., 0., 0., 0., 0., 0., 0., 0., 0.,\n",
       "       0., 0., 0., 0., 0., 0., 0., 0., 0., 0., 0., 0., 0., 0., 0., 0., 0.,\n",
       "       0., 0., 0., 0., 0., 0., 0., 0., 0., 0., 0., 0., 0., 0., 0., 0., 0.,\n",
       "       0., 0., 0., 0., 0., 0., 0., 0., 0., 0., 0., 0., 0., 0., 0., 0., 0.,\n",
       "       0., 0., 0., 0., 0., 0., 0., 0., 0., 0., 0., 0., 0., 0., 0., 0., 0.,\n",
       "       0., 0., 0., 0., 0., 0.])"
      ]
     },
     "execution_count": 147,
     "metadata": {},
     "output_type": "execute_result"
    }
   ],
   "source": [
    "w[..., ::step] - w[::step]"
   ]
  },
  {
   "cell_type": "code",
   "execution_count": 144,
   "id": "ff17eb9c-08c5-4d1a-b0e4-677f83dcf33b",
   "metadata": {},
   "outputs": [],
   "source": [
    "a = np.cumsum(flux0[:10], axis=-1)"
   ]
  },
  {
   "cell_type": "code",
   "execution_count": 151,
   "id": "6b64b5ee-b3eb-47ac-be4d-21d7f165f692",
   "metadata": {},
   "outputs": [
    {
     "data": {
      "text/plain": [
       "array([0., 0., 0., 0., 0., 0., 0., 0., 0., 0., 0., 0., 0., 0., 0., 0., 0.,\n",
       "       0., 0., 0., 0., 0., 0., 0., 0., 0., 0., 0., 0., 0., 0., 0., 0., 0.,\n",
       "       0., 0., 0., 0., 0., 0., 0., 0., 0., 0., 0., 0., 0., 0., 0., 0., 0.,\n",
       "       0., 0., 0., 0., 0., 0., 0., 0., 0., 0., 0., 0., 0., 0., 0., 0., 0.,\n",
       "       0., 0., 0., 0., 0., 0., 0., 0., 0., 0., 0., 0., 0., 0., 0., 0., 0.,\n",
       "       0., 0., 0., 0., 0., 0., 0., 0., 0., 0., 0., 0., 0., 0., 0., 0., 0.,\n",
       "       0., 0., 0., 0., 0., 0., 0., 0., 0., 0., 0., 0., 0., 0., 0., 0., 0.,\n",
       "       0., 0., 0., 0., 0., 0., 0., 0., 0., 0., 0., 0., 0., 0., 0., 0., 0.,\n",
       "       0., 0., 0., 0., 0., 0., 0., 0., 0., 0., 0., 0., 0., 0., 0., 0., 0.,\n",
       "       0., 0., 0., 0., 0., 0., 0., 0., 0., 0., 0., 0., 0., 0., 0., 0., 0.,\n",
       "       0., 0., 0., 0., 0., 0., 0., 0., 0., 0., 0., 0., 0., 0., 0., 0., 0.,\n",
       "       0., 0., 0., 0., 0., 0., 0., 0., 0., 0., 0., 0., 0., 0., 0., 0., 0.,\n",
       "       0., 0., 0., 0., 0., 0., 0., 0., 0., 0., 0., 0., 0., 0., 0., 0., 0.,\n",
       "       0., 0., 0., 0., 0., 0., 0., 0., 0., 0., 0., 0., 0., 0., 0., 0., 0.,\n",
       "       0., 0., 0., 0., 0., 0., 0., 0., 0., 0., 0., 0., 0., 0., 0., 0., 0.,\n",
       "       0., 0., 0., 0., 0., 0., 0., 0., 0., 0., 0., 0., 0., 0., 0., 0., 0.,\n",
       "       0., 0., 0., 0., 0., 0., 0., 0., 0., 0., 0., 0., 0., 0., 0., 0., 0.,\n",
       "       0., 0., 0., 0., 0., 0., 0., 0., 0., 0., 0., 0., 0., 0., 0., 0., 0.,\n",
       "       0., 0., 0., 0., 0., 0., 0., 0., 0., 0., 0., 0., 0., 0., 0., 0., 0.,\n",
       "       0., 0., 0., 0., 0., 0., 0., 0., 0., 0., 0., 0., 0., 0., 0., 0., 0.,\n",
       "       0., 0., 0., 0., 0., 0., 0., 0., 0., 0., 0., 0., 0., 0., 0., 0., 0.,\n",
       "       0., 0., 0., 0., 0., 0., 0., 0., 0., 0., 0., 0., 0., 0., 0., 0., 0.,\n",
       "       0., 0., 0., 0., 0., 0., 0., 0., 0., 0., 0., 0., 0., 0., 0., 0., 0.,\n",
       "       0., 0., 0., 0., 0., 0., 0., 0., 0., 0., 0., 0., 0., 0., 0., 0., 0.,\n",
       "       0., 0., 0., 0., 0., 0., 0., 0., 0., 0., 0., 0., 0., 0., 0., 0., 0.,\n",
       "       0., 0., 0., 0., 0., 0., 0., 0., 0., 0., 0., 0., 0., 0., 0., 0., 0.,\n",
       "       0., 0., 0., 0., 0., 0., 0., 0., 0., 0., 0., 0., 0., 0., 0., 0., 0.,\n",
       "       0., 0., 0., 0., 0., 0., 0., 0., 0., 0., 0., 0., 0., 0., 0., 0., 0.,\n",
       "       0., 0., 0., 0., 0., 0., 0., 0., 0., 0., 0., 0., 0., 0., 0., 0., 0.,\n",
       "       0., 0., 0., 0., 0., 0., 0., 0., 0., 0., 0., 0., 0., 0., 0., 0., 0.,\n",
       "       0., 0., 0., 0., 0., 0., 0., 0., 0., 0., 0., 0., 0., 0., 0., 0., 0.,\n",
       "       0., 0., 0., 0., 0., 0., 0., 0., 0., 0., 0., 0., 0., 0., 0., 0., 0.,\n",
       "       0., 0., 0., 0., 0., 0., 0., 0., 0., 0., 0., 0., 0., 0., 0., 0., 0.,\n",
       "       0., 0., 0., 0., 0., 0., 0., 0., 0., 0., 0., 0., 0., 0., 0., 0., 0.,\n",
       "       0., 0., 0., 0., 0., 0., 0., 0., 0., 0., 0., 0., 0., 0., 0., 0., 0.,\n",
       "       0., 0., 0., 0., 0., 0., 0., 0., 0., 0., 0., 0., 0., 0., 0., 0., 0.,\n",
       "       0., 0., 0., 0., 0., 0., 0., 0., 0., 0., 0., 0., 0., 0., 0., 0., 0.,\n",
       "       0., 0., 0., 0., 0., 0., 0., 0., 0., 0., 0., 0., 0., 0., 0., 0., 0.,\n",
       "       0., 0., 0., 0., 0., 0., 0., 0., 0., 0., 0., 0., 0., 0., 0., 0., 0.,\n",
       "       0., 0., 0., 0., 0., 0., 0., 0., 0., 0., 0., 0., 0., 0., 0., 0., 0.,\n",
       "       0., 0., 0., 0., 0., 0., 0., 0., 0., 0., 0., 0., 0., 0., 0., 0., 0.,\n",
       "       0., 0., 0., 0., 0., 0., 0., 0., 0., 0., 0., 0., 0., 0., 0., 0., 0.,\n",
       "       0., 0., 0., 0., 0., 0., 0., 0., 0., 0., 0., 0., 0., 0., 0., 0., 0.,\n",
       "       0., 0., 0., 0., 0., 0., 0., 0., 0., 0., 0., 0., 0., 0., 0., 0., 0.,\n",
       "       0., 0., 0., 0., 0., 0., 0., 0., 0., 0., 0., 0., 0., 0., 0., 0., 0.,\n",
       "       0., 0., 0., 0., 0., 0.])"
      ]
     },
     "execution_count": 151,
     "metadata": {},
     "output_type": "execute_result"
    }
   ],
   "source": [
    "a[..., ::step][0] - bb[::step]"
   ]
  },
  {
   "cell_type": "code",
   "execution_count": null,
   "id": "a3fd398a-5bd6-4a80-a83e-efecba0a17f3",
   "metadata": {},
   "outputs": [],
   "source": []
  },
  {
   "cell_type": "code",
   "execution_count": 149,
   "id": "4cd8754c-8055-4d2c-ad26-c7bd26fded47",
   "metadata": {},
   "outputs": [],
   "source": [
    "bb = np.cumsum(flux0[0])"
   ]
  },
  {
   "cell_type": "code",
   "execution_count": 133,
   "id": "b953c0c9-cc8e-4e6c-9f27-67d60fcb4d21",
   "metadata": {},
   "outputs": [
    {
     "data": {
      "text/plain": [
       "array([3.00026390e+03, 3.30194117e+04, 6.30685938e+04, ...,\n",
       "       1.09676073e+08, 1.09815820e+08, 1.09955707e+08])"
      ]
     },
     "execution_count": 133,
     "metadata": {},
     "output_type": "execute_result"
    }
   ],
   "source": [
    "w0[::10]"
   ]
  },
  {
   "cell_type": "code",
   "execution_count": 134,
   "id": "a237f6b1-b91c-45de-afb7-d78e530a9e36",
   "metadata": {},
   "outputs": [
    {
     "data": {
      "text/plain": [
       "array([3.00026390e+03, 6.00082790e+03, 9.00169220e+03, ...,\n",
       "       1.09969703e+08, 1.09983701e+08, 1.09997700e+08])"
      ]
     },
     "execution_count": 134,
     "metadata": {},
     "output_type": "execute_result"
    }
   ],
   "source": [
    "w0"
   ]
  },
  {
   "cell_type": "code",
   "execution_count": 130,
   "id": "93fd0092-ca53-4a8d-a977-537e3a3eec88",
   "metadata": {},
   "outputs": [
    {
     "data": {
      "text/plain": [
       "<matplotlib.collections.PathCollection at 0x7effaadedf40>"
      ]
     },
     "execution_count": 130,
     "metadata": {},
     "output_type": "execute_result"
    },
    {
     "data": {
      "image/png": "[encoded data removed]",
      "text/plain": [
       "<Figure size 432x288 with 1 Axes>"
      ]
     },
     "metadata": {
      "needs_background": "light"
     },
     "output_type": "display_data"
    }
   ],
   "source": [
    "w0 = np.cumsum(wave)\n",
    "out1 = np.diff(w0[b])\n",
    "out2 =  out1 / step\n",
    "# plt.scatter(np.arange(len(out1)), out1)\n",
    "plt.scatter(np.arange(len(out2)), out2)"
   ]
  },
  {
   "cell_type": "code",
   "execution_count": 131,
   "id": "aa929f03-9f0b-4578-8551-b82c5f949993",
   "metadata": {},
   "outputs": [
    {
     "data": {
      "text/plain": [
       "array([-0.00049934, -0.00050034, -0.00050137, -0.00050238, -0.00050338,\n",
       "       -0.00050439, -0.0005054 , -0.0005064 , -0.00050741, -0.00050845,\n",
       "       -0.00050947, -0.00051048, -0.0005115 , -0.0005125 , -0.00051353,\n",
       "       -0.00051458, -0.00051559, -0.00051662, -0.00051766, -0.0005187 ,\n",
       "       -0.00051974, -0.00052078, -0.00052183, -0.00052287, -0.00052395,\n",
       "       -0.00052497, -0.000526  , -0.00052706, -0.00052814, -0.0005292 ,\n",
       "       -0.00053023, -0.00053131, -0.00053236, -0.00053345, -0.00053451,\n",
       "       -0.00053557, -0.00053663, -0.00053773, -0.00053878, -0.00053987,\n",
       "       -0.00054095, -0.00054204, -0.00054315, -0.00054421, -0.00054528,\n",
       "       -0.00054639, -0.00054751, -0.0005486 , -0.00054967, -0.00055079,\n",
       "       -0.00055187, -0.00055299, -0.0005541 , -0.00055519, -0.00055629,\n",
       "       -0.00055745, -0.00055856, -0.00055966, -0.0005608 , -0.00056191,\n",
       "       -0.00056303, -0.00056414, -0.0005653 , -0.00056641, -0.00056756,\n",
       "       -0.0005687 , -0.00056985, -0.00057098, -0.00057211, -0.00057324,\n",
       "       -0.0005744 , -0.00057555, -0.00057671, -0.00057784, -0.00057904,\n",
       "       -0.00058017, -0.00058135, -0.00058252, -0.00058368, -0.00058486,\n",
       "       -0.00058604, -0.00058718, -0.00058835, -0.0005895 , -0.00059073,\n",
       "       -0.00059189, -0.00059311, -0.00059428, -0.00059546, -0.00059664,\n",
       "       -0.00059784, -0.00059907, -0.00060024, -0.00060144, -0.00060264,\n",
       "       -0.00060383, -0.00060507, -0.0006063 , -0.00060748, -0.00060871,\n",
       "       -0.00060993, -0.00061113, -0.00061239, -0.00061358, -0.00061483,\n",
       "       -0.00061605, -0.00061729, -0.00061853, -0.00061977, -0.00062101,\n",
       "       -0.00062223, -0.0006235 , -0.00062478, -0.00062598, -0.00062724,\n",
       "       -0.00062854, -0.00062973, -0.00063102, -0.00063228, -0.00063356,\n",
       "       -0.0006348 , -0.00063608, -0.00063736, -0.00063865, -0.00063993,\n",
       "       -0.00064122, -0.00064247, -0.00064378, -0.00064507, -0.00064634,\n",
       "       -0.00064763, -0.00064892, -0.00065024, -0.00065153, -0.00065283,\n",
       "       -0.00065417, -0.00065547, -0.00065677, -0.00065812, -0.00065939,\n",
       "       -0.00066074, -0.00066201, -0.00066337, -0.0006647 , -0.00066605,\n",
       "       -0.00066739, -0.00066869, -0.00067006, -0.00067141, -0.00067274,\n",
       "       -0.0006741 , -0.00067543, -0.00067678, -0.00067814, -0.0006795 ,\n",
       "       -0.00068082, -0.00068217, -0.0006836 , -0.00068493, -0.00068626,\n",
       "       -0.0006877 , -0.00068906, -0.00069042, -0.00069184, -0.0006932 ,\n",
       "       -0.00069461, -0.00069607, -0.00069738, -0.00069879, -0.00070013,\n",
       "       -0.00070161, -0.00070299, -0.00070439, -0.00070583, -0.00070721,\n",
       "       -0.00070862, -0.00071006, -0.00071147, -0.00071291, -0.00071429,\n",
       "       -0.00071574, -0.00071719, -0.00071863, -0.00072009, -0.00072149,\n",
       "       -0.00072295, -0.0007244 , -0.00072587, -0.00072729, -0.00072875,\n",
       "       -0.00073021, -0.00073167, -0.00073311, -0.00073458, -0.00073612,\n",
       "       -0.00073754, -0.00073906, -0.00074055, -0.00074199, -0.00074347,\n",
       "       -0.00074496, -0.00074646, -0.00074797, -0.00074944, -0.00075096,\n",
       "       -0.00075245, -0.00075398, -0.00075547, -0.00075702, -0.00075846,\n",
       "       -0.00076004, -0.00076153, -0.00076306, -0.00076458, -0.00076609,\n",
       "       -0.00076765, -0.00076919, -0.00077072, -0.00077228, -0.00077383,\n",
       "       -0.00077535, -0.00077693, -0.00077845, -0.00078005, -0.00078163,\n",
       "       -0.00078317, -0.00078471, -0.0007863 , -0.00078794, -0.00078943,\n",
       "       -0.00079102, -0.00079261, -0.00079421, -0.00079583, -0.00079739,\n",
       "       -0.00079899, -0.0008006 , -0.00080221, -0.00080378, -0.00080539,\n",
       "       -0.00080701, -0.00080863, -0.00081025, -0.00081187, -0.00081348,\n",
       "       -0.00081511, -0.00081675, -0.0008184 , -0.00082007, -0.00082167,\n",
       "       -0.0008233 , -0.00082495, -0.00082662, -0.00082828, -0.00082992,\n",
       "       -0.00083158, -0.00083327, -0.00083487, -0.00083661, -0.00083824,\n",
       "       -0.00083995, -0.00084164, -0.0008433 , -0.00084501, -0.00084669,\n",
       "       -0.00084839, -0.00085008, -0.00085173, -0.00085347, -0.0008552 ,\n",
       "       -0.00085687, -0.00085859, -0.00086038, -0.0008621 , -0.00086377,\n",
       "       -0.00086554, -0.00086728, -0.0008689 , -0.00087076, -0.00087242,\n",
       "       -0.00087421, -0.00087593, -0.00087771, -0.00087948, -0.00088119,\n",
       "       -0.00088303, -0.00088476, -0.00088652, -0.00088837, -0.0008901 ,\n",
       "       -0.0008919 , -0.00089369, -0.00089548, -0.00089727, -0.00089903,\n",
       "       -0.00090085, -0.00090266, -0.00090449, -0.00090626, -0.00090806,\n",
       "       -0.00090997, -0.00091174, -0.00091348, -0.00091537, -0.00091718,\n",
       "       -0.00091906, -0.00092093, -0.00092276, -0.00092459, -0.00092643,\n",
       "       -0.00092827, -0.00093013, -0.00093197, -0.00093384, -0.00093572,\n",
       "       -0.00093761, -0.00093947, -0.00094134, -0.00094329, -0.00094513,\n",
       "       -0.00094705, -0.00094901, -0.00095081, -0.00095272, -0.0009546 ,\n",
       "       -0.00095656, -0.00095843, -0.00096037, -0.00096234, -0.00096423,\n",
       "       -0.00096618, -0.0009681 , -0.00097001, -0.00097196, -0.00097396,\n",
       "       -0.00097588, -0.00097784, -0.00097978, -0.00098175, -0.00098371,\n",
       "       -0.00098569, -0.00098767, -0.0009897 , -0.00099164, -0.00099362,\n",
       "       -0.00099559, -0.00099757, -0.00099964, -0.00100159, -0.00100355,\n",
       "       -0.00100561, -0.00100765, -0.0010096 , -0.00101165, -0.00101375,\n",
       "       -0.00101567, -0.0010177 , -0.00101975, -0.00102182, -0.00102393,\n",
       "       -0.00102589, -0.001028  , -0.00102998, -0.00103211, -0.00103417,\n",
       "       -0.00103625, -0.00103832, -0.00104038, -0.0010425 , -0.00104458,\n",
       "       -0.00104668, -0.00104873, -0.00105087, -0.00105293, -0.001055  ,\n",
       "       -0.00105715, -0.0010592 , -0.00106139, -0.00106353, -0.00106565,\n",
       "       -0.00106779, -0.00106995, -0.00107212, -0.00107424, -0.00107635,\n",
       "       -0.00107852, -0.00108068, -0.00108288, -0.00108496, -0.00108726,\n",
       "       -0.00108934, -0.00109155, -0.00109372, -0.00109592, -0.00109808,\n",
       "       -0.0011003 , -0.00110245, -0.00110467, -0.00110692, -0.00110914,\n",
       "       -0.00111137, -0.00111358, -0.00111578, -0.00111807, -0.0011203 ,\n",
       "       -0.00112256, -0.00112479, -0.00112703, -0.00112928, -0.00113157,\n",
       "       -0.00113385, -0.00113613, -0.00113836, -0.00114057, -0.0011429 ,\n",
       "       -0.00114514, -0.00114749, -0.00114984, -0.00115216, -0.00115438,\n",
       "       -0.00115669, -0.00115902, -0.00116133, -0.00116366, -0.001166  ,\n",
       "       -0.00116829, -0.00117069, -0.00117306, -0.00117536, -0.00117772,\n",
       "       -0.00118004, -0.00118244, -0.00118481, -0.0011871 , -0.00118957,\n",
       "       -0.00119193, -0.00119437, -0.00119672, -0.00119908, -0.00120151,\n",
       "       -0.00120391, -0.00120631, -0.00120875, -0.00121113, -0.00121363,\n",
       "       -0.00121604, -0.00121847, -0.0012209 , -0.00122328, -0.00122577,\n",
       "       -0.00122821, -0.00123069, -0.00123318, -0.00123567, -0.00123809,\n",
       "       -0.0012406 , -0.00124301, -0.00124554, -0.00124802, -0.00125056,\n",
       "       -0.00125299, -0.00125559, -0.00125811, -0.00126057, -0.0012631 ,\n",
       "       -0.00126568, -0.00126819, -0.00127074, -0.00127333, -0.00127579,\n",
       "       -0.00127833, -0.00128089, -0.00128347, -0.00128604, -0.00128869,\n",
       "       -0.00129121, -0.00129381, -0.00129642, -0.00129895, -0.00130161,\n",
       "       -0.00130416, -0.00130678, -0.00130941, -0.00131209, -0.00131463,\n",
       "       -0.00131727, -0.0013199 , -0.00132262, -0.00132519, -0.00132787,\n",
       "       -0.00133051, -0.00133321, -0.00133582, -0.00133853, -0.0013412 ,\n",
       "       -0.0013439 , -0.00134656, -0.0013493 , -0.00135201, -0.00135471,\n",
       "       -0.00135742, -0.00136012, -0.00136283, -0.00136556, -0.00136827,\n",
       "       -0.00137111, -0.00137381, -0.00137649, -0.00137929, -0.00138207,\n",
       "       -0.00138484, -0.00138764, -0.00139043, -0.0013932 , -0.00139595,\n",
       "       -0.00139878, -0.00140158, -0.00140436, -0.0014072 , -0.00141   ,\n",
       "       -0.00141286, -0.00141565, -0.00141842, -0.00142126, -0.00142425,\n",
       "       -0.00142699, -0.0014298 , -0.00143283, -0.00143561, -0.00143847,\n",
       "       -0.00144127, -0.00144426, -0.00144717, -0.00145002, -0.00145288,\n",
       "       -0.00145585, -0.00145875, -0.00146172, -0.00146456, -0.00146755,\n",
       "       -0.0014705 , -0.00147334, -0.00147629, -0.00147936, -0.00148229,\n",
       "       -0.00148519, -0.00148822, -0.0014912 , -0.00149417, -0.0014973 ,\n",
       "       -0.00150024, -0.00150315, -0.00150624, -0.00150932, -0.00151219,\n",
       "       -0.0015153 , -0.0015183 , -0.00152129, -0.00152442, -0.00152747,\n",
       "       -0.0015305 , -0.00153358, -0.00153667, -0.00153974, -0.00154276,\n",
       "       -0.00154587, -0.00154903, -0.001552  , -0.00155519, -0.00155829,\n",
       "       -0.00156138, -0.00156453, -0.00156769, -0.00157073, -0.00157394,\n",
       "       -0.00157706, -0.00158022, -0.00158343, -0.00158663, -0.00158981,\n",
       "       -0.00159297, -0.0015961 , -0.00159935, -0.0016026 , -0.00160578,\n",
       "       -0.00160898, -0.00161225, -0.0016154 , -0.0016187 , -0.00162191,\n",
       "       -0.00162503, -0.00162841, -0.00163163, -0.00163491, -0.00163812,\n",
       "       -0.00164151, -0.00164471, -0.00164802, -0.00165132, -0.00165474,\n",
       "       -0.00165795, -0.00166125, -0.00166453, -0.00166795, -0.0016714 ,\n",
       "       -0.00167461, -0.00167793, -0.00168133, -0.00168474, -0.00168805,\n",
       "       -0.00169145, -0.00169481, -0.00169825, -0.00170167, -0.00170504,\n",
       "       -0.00170845, -0.00171189, -0.00171544, -0.00171874, -0.00172217,\n",
       "       -0.00172566, -0.00172901, -0.00173262, -0.00173602, -0.00173952,\n",
       "       -0.00174295, -0.00174657, -0.00174992, -0.00175344, -0.00175686,\n",
       "       -0.00176051, -0.00176404, -0.00176756, -0.0017711 , -0.00177463,\n",
       "       -0.00177809, -0.00178175, -0.00178536, -0.00178885, -0.0017923 ,\n",
       "       -0.00179606, -0.00179973, -0.00180331, -0.00180686, -0.00181044,\n",
       "       -0.00181404, -0.00181762, -0.00182136, -0.00182501, -0.00182869,\n",
       "       -0.00183226, -0.001836  , -0.00183974, -0.00184329, -0.00184701,\n",
       "       -0.00185077, -0.00185448, -0.00185804, -0.0018618 , -0.00186569,\n",
       "       -0.00186935, -0.00187304, -0.00187679, -0.00188049, -0.0018844 ,\n",
       "       -0.00188808, -0.00189181, -0.00189567, -0.00189939, -0.00190321,\n",
       "       -0.00190708, -0.00191096, -0.00191477, -0.00191854, -0.00192238,\n",
       "       -0.00192631, -0.00193012, -0.00193404, -0.00193784, -0.00194178,\n",
       "       -0.00194572, -0.00194953, -0.00195337, -0.00195737, -0.00196121,\n",
       "       -0.0019652 , -0.00196909, -0.00197308, -0.00197692, -0.00198102,\n",
       "       -0.00198483, -0.00198896, -0.00199293, -0.00199681, -0.00200085,\n",
       "       -0.00200487, -0.00200892, -0.00201284, -0.0020169 , -0.00202099,\n",
       "       -0.00202508, -0.0020291 , -0.00203311, -0.00203724, -0.00204122,\n",
       "       -0.00204532, -0.00204945, -0.00205358, -0.00205773, -0.00206175,\n",
       "       -0.00206592, -0.00207008, -0.00207414, -0.00207828, -0.00208261,\n",
       "       -0.00208667, -0.00209104, -0.00209499, -0.00209922, -0.00210357,\n",
       "       -0.00210774, -0.00211192, -0.00211613, -0.00212035, -0.00212457,\n",
       "       -0.00212882, -0.00213318, -0.00213739, -0.00214175, -0.00214591,\n",
       "       -0.00215031, -0.00215456, -0.00215877, -0.00216308, -0.00216752,\n",
       "       -0.00217193, -0.00217629, -0.0021806 , -0.00218494, -0.0021893 ,\n",
       "       -0.00219365, -0.00219812, -0.00220254, -0.00220688, -0.00221129,\n",
       "       -0.00221565, -0.00222021, -0.00222465, -0.00222904, -0.00223346,\n",
       "       -0.00223793, -0.00224253, -0.00224702, -0.0022515 , -0.00225588,\n",
       "       -0.00226049, -0.00226485, -0.00226947, -0.00227405, -0.0022786 ,\n",
       "       -0.00228323, -0.00228788, -0.00229233, -0.00229695, -0.00230152,\n",
       "       -0.00230604, -0.00231077, -0.00231548, -0.00232001, -0.0023247 ])"
      ]
     },
     "execution_count": 131,
     "metadata": {},
     "output_type": "execute_result"
    }
   ],
   "source": [
    "out - out2"
   ]
  },
  {
   "cell_type": "code",
   "execution_count": 132,
   "id": "979f600a-d0dd-42bd-bf9a-244c81a1a31a",
   "metadata": {},
   "outputs": [
    {
     "data": {
      "text/plain": [
       "array([ 3003.71686 ,  3009.73027 ,  3015.75576 ,  3021.7933  ,\n",
       "        3027.84288 ,  3033.9046  ,  3039.978545,  3046.064555,\n",
       "        3052.16273 ,  3058.27323 ,  3064.395855,  3070.53075 ,\n",
       "        3076.677945,  3082.83748 ,  3089.009295,  3095.19345 ,\n",
       "        3101.39004 ,  3107.599055,  3113.820515,  3120.05432 ,\n",
       "        3126.300635,  3132.559495,  3138.830885,  3145.114785,\n",
       "        3151.41131 ,  3157.72041 ,  3164.04222 ,  3170.3766  ,\n",
       "        3176.72362 ,  3183.08347 ,  3189.455975,  3195.841255,\n",
       "        3202.239345,  3208.650225,  3215.07397 ,  3221.51053 ,\n",
       "        3227.95995 ,  3234.422375,  3240.897645,  3247.38589 ,\n",
       "        3253.88725 ,  3260.40145 ,  3266.92878 ,  3273.46915 ,\n",
       "        3280.02266 ,  3286.589255,  3293.16901 ,  3299.761925,\n",
       "        3306.36803 ,  3312.98736 ,  3319.61997 ,  3326.26583 ,\n",
       "        3332.925035,  3339.597525,  3346.28339 ,  3352.982645,\n",
       "        3359.695285,  3366.421345,  3373.160975,  3379.914035,\n",
       "        3386.680605,  3393.46075 ,  3400.254455,  3407.06171 ,\n",
       "        3413.88269 ,  3420.717245,  3427.56554 ,  3434.427505,\n",
       "        3441.30317 ,  3448.19271 ,  3455.095995,  3462.013095,\n",
       "        3468.94401 ,  3475.88881 ,  3482.847585,  3489.82019 ,\n",
       "        3496.80683 ,  3503.807425,  3510.82205 ,  3517.85067 ,\n",
       "        3524.89342 ,  3531.950245,  3539.02121 ,  3546.106325,\n",
       "        3553.20562 ,  3560.31914 ,  3567.44694 ,  3574.58891 ,\n",
       "        3581.74523 ,  3588.915875,  3596.100875,  3603.30028 ,\n",
       "        3610.51407 ,  3617.74232 ,  3624.98506 ,  3632.24223 ,\n",
       "        3639.51394 ,  3646.800295,  3654.10117 ,  3661.41664 ,\n",
       "        3668.74681 ,  3676.091635,  3683.451215,  3690.825445,\n",
       "        3698.21445 ,  3705.618285,  3713.03694 ,  3720.47039 ,\n",
       "        3727.9188  ,  3735.382075,  3742.86029 ,  3750.353515,\n",
       "        3757.86176 ,  3765.38489 ,  3772.923175,  3780.476595,\n",
       "        3788.04515 ,  3795.62878 ,  3803.227595,  3810.84163 ,\n",
       "        3818.47097 ,  3826.115515,  3833.775415,  3841.45063 ,\n",
       "        3849.14119 ,  3856.84726 ,  3864.568565,  3872.30543 ,\n",
       "        3880.057825,  3887.8256  ,  3895.60911 ,  3903.40803 ,\n",
       "        3911.222685,  3919.052965,  3926.89885 ,  3934.760495,\n",
       "        3942.6379  ,  3950.53105 ,  3958.439995,  3966.3648  ,\n",
       "        3974.30549 ,  3982.262005,  3990.234495,  3998.22294 ,\n",
       "        4006.22732 ,  4014.247815,  4022.284335,  4030.336935,\n",
       "        4038.405675,  4046.49052 ,  4054.591635,  4062.70892 ,\n",
       "        4070.84249 ,  4078.992285,  4087.15843 ,  4095.34086 ,\n",
       "        4103.53977 ,  4111.75498 ,  4119.986745,  4128.234945,\n",
       "        4136.49973 ,  4144.780905,  4153.078835,  4161.393215,\n",
       "        4169.72435 ,  4178.07212 ,  4186.43659 ,  4194.81785 ,\n",
       "        4203.21587 ,  4211.63072 ,  4220.06238 ,  4228.510935,\n",
       "        4236.976415,  4245.45887 ,  4253.958185,  4262.474615,\n",
       "        4271.008095,  4279.558595,  4288.126275,  4296.711115,\n",
       "        4305.31316 ,  4313.932425,  4322.568945,  4331.22262 ,\n",
       "        4339.89372 ,  4348.58215 ,  4357.28804 ,  4366.011275,\n",
       "        4374.752025,  4383.510255,  4392.286015,  4401.079445,\n",
       "        4409.890375,  4418.718985,  4427.565285,  4436.429215,\n",
       "        4445.31092 ,  4454.2105  ,  4463.12774 ,  4472.06296 ,\n",
       "        4481.016   ,  4489.98701 ,  4498.975915,  4507.98284 ,\n",
       "        4517.00783 ,  4526.050925,  4535.11199 ,  4544.19129 ,\n",
       "        4553.288765,  4562.40444 ,  4571.538435,  4580.690565,\n",
       "        4589.86113 ,  4599.04995 ,  4608.257305,  4617.48299 ,\n",
       "        4626.727165,  4635.989845,  4645.271115,  4654.570995,\n",
       "        4663.889415,  4673.22654 ,  4682.58235 ,  4691.956885,\n",
       "        4701.35015 ,  4710.762215,  4720.19316 ,  4729.642925,\n",
       "        4739.11159 ,  4748.599345,  4758.1061  ,  4767.63177 ,\n",
       "        4777.17661 ,  4786.740435,  4796.323515,  4805.925705,\n",
       "        4815.547235,  4825.18794 ,  4834.847915,  4844.52725 ,\n",
       "        4854.226005,  4863.944185,  4873.68181 ,  4883.43882 ,\n",
       "        4893.215525,  4903.011705,  4912.82752 ,  4922.66297 ,\n",
       "        4932.518215,  4942.39311 ,  4952.287665,  4962.202175,\n",
       "        4972.13655 ,  4982.09072 ,  4992.06487 ,  5002.05898 ,\n",
       "        5012.073095,  5022.107235,  5032.161525,  5042.235915,\n",
       "        5052.330435,  5062.44515 ,  5072.58018 ,  5082.7355  ,\n",
       "        5092.91108 ,  5103.10708 ,  5113.32351 ,  5123.56022 ,\n",
       "        5133.817755,  5144.095565,  5154.394135,  5164.71318 ,\n",
       "        5175.05293 ,  5185.413375,  5195.79453 ,  5206.19653 ,\n",
       "        5216.619365,  5227.06311 ,  5237.52754 ,  5248.01306 ,\n",
       "        5258.519555,  5269.047095,  5279.595855,  5290.16553 ,\n",
       "        5300.75652 ,  5311.368535,  5322.00186 ,  5332.65654 ,\n",
       "        5343.332525,  5354.029685,  5364.748535,  5375.488675,\n",
       "        5386.25049 ,  5397.03369 ,  5407.83857 ,  5418.665035,\n",
       "        5429.51328 ,  5440.38306 ,  5451.27481 ,  5462.188165,\n",
       "        5473.123365,  5484.080695,  5495.05975 ,  5506.06093 ,\n",
       "        5517.083885,  5528.12912 ,  5539.196495,  5550.285955,\n",
       "        5561.397715,  5572.53164 ,  5583.687725,  5594.866255,\n",
       "        5606.06716 ,  5617.290575,  5628.536195,  5639.804535,\n",
       "        5651.09544 ,  5662.40885 ,  5673.745155,  5685.10383 ,\n",
       "        5696.485525,  5707.89    ,  5719.317095,  5730.76713 ,\n",
       "        5742.240015,  5753.736065,  5765.25508 ,  5776.797045,\n",
       "        5788.362135,  5799.950445,  5811.56184 ,  5823.196655,\n",
       "        5834.85471 ,  5846.536105,  5858.24078 ,  5869.969   ,\n",
       "        5881.720705,  5893.49588 ,  5905.294605,  5917.116965,\n",
       "        5928.96313 ,  5940.832885,  5952.72637 ,  5964.64375 ,\n",
       "        5976.58499 ,  5988.549975,  6000.53905 ,  6012.552155,\n",
       "        6024.589255,  6036.650465,  6048.73592 ,  6060.84546 ,\n",
       "        6072.979305,  6085.13726 ,  6097.31983 ,  6109.526615,\n",
       "        6121.75786 ,  6134.01358 ,  6146.29379 ,  6158.598705,\n",
       "        6170.92828 ,  6183.28245 ,  6195.661275,  6208.065045,\n",
       "        6220.49368 ,  6232.94706 ,  6245.42535 ,  6257.92869 ,\n",
       "        6270.457005,  6283.010445,  6295.58915 ,  6308.19287 ,\n",
       "        6320.82183 ,  6333.476065,  6346.155735,  6358.860715,\n",
       "        6371.591115,  6384.347025,  6397.128395,  6409.93546 ,\n",
       "        6422.76814 ,  6435.626565,  6448.510675,  6461.420585,\n",
       "        6474.35634 ,  6487.31797 ,  6500.305475,  6513.319215,\n",
       "        6526.358805,  6539.42462 ,  6552.516405,  6565.634615,\n",
       "        6578.77901 ,  6591.949735,  6605.146825,  6618.37032 ,\n",
       "        6631.620295,  6644.89675 ,  6658.19971 ,  6671.529495,\n",
       "        6684.885855,  6698.26902 ,  6711.678985,  6725.1157  ,\n",
       "        6738.57939 ,  6752.069985,  6765.5876  ,  6779.132315,\n",
       "        6792.704135,  6806.303095,  6819.92929 ,  6833.582795,\n",
       "        6847.263595,  6860.971725,  6874.707405,  6888.47063 ,\n",
       "        6902.26135 ,  6916.07969 ,  6929.92568 ,  6943.799335,\n",
       "        6957.70078 ,  6971.630135,  6985.5873  ,  6999.57239 ,\n",
       "        7013.5854  ,  7027.62668 ,  7041.69603 ,  7055.793405,\n",
       "        7069.919115,  7084.073105,  7098.255445,  7112.46619 ,\n",
       "        7126.70529 ,  7140.97287 ,  7155.269165,  7169.593955,\n",
       "        7183.947365,  7198.32974 ,  7212.740715,  7227.18069 ,\n",
       "        7241.64949 ,  7256.147145,  7270.674   ,  7285.22985 ,\n",
       "        7299.81485 ,  7314.429125,  7329.07253 ,  7343.745365,\n",
       "        7358.44753 ,  7373.179215,  7387.940235,  7402.73088 ,\n",
       "        7417.551075,  7432.401055,  7447.28071 ,  7462.190145,\n",
       "        7477.129395,  7492.098615,  7507.097815,  7522.126935,\n",
       "        7537.186285,  7552.27571 ,  7567.395395,  7582.545305,\n",
       "        7597.72557 ,  7612.93626 ,  7628.177135,  7643.448805,\n",
       "        7658.750955,  7674.08377 ,  7689.44722 ,  7704.841505,\n",
       "        7720.266625,  7735.72258 ,  7751.209475,  7766.727375,\n",
       "        7782.2763  ,  7797.856375,  7813.46773 ,  7829.110275,\n",
       "        7844.78416 ,  7860.489395,  7876.226075,  7891.994315,\n",
       "        7907.79405 ,  7923.62552 ,  7939.488395,  7955.383405,\n",
       "        7971.309985,  7987.2686  ,  8003.259075,  8019.28149 ,\n",
       "        8035.33614 ,  8051.422785,  8067.5417  ,  8083.69302 ,\n",
       "        8099.876465,  8116.09239 ,  8132.340855,  8148.621725,\n",
       "        8164.93539 ,  8181.28157 ,  8197.66035 ,  8214.07212 ,\n",
       "        8230.51665 ,  8246.994255,  8263.504535,  8280.048145,\n",
       "        8296.624655,  8313.23462 ,  8329.877645,  8346.55411 ,\n",
       "        8363.263865,  8380.00717 ,  8396.783985,  8413.59429 ,\n",
       "        8430.43813 ,  8447.315865,  8464.227545,  8481.17281 ,\n",
       "        8498.151965,  8515.16538 ,  8532.212745,  8549.29414 ,\n",
       "        8566.40981 ,  8583.559765,  8600.74414 ,  8617.96278 ,\n",
       "        8635.215865,  8652.503555,  8669.82578 ,  8687.182915,\n",
       "        8704.57456 ,  8722.001075,  8739.462555,  8756.95894 ,\n",
       "        8774.49033 ,  8792.05678 ,  8809.65855 ,  8827.295415,\n",
       "        8844.967625,  8862.67529 ,  8880.41823 ,  8898.19696 ,\n",
       "        8916.011135,  8933.860895,  8951.74647 ,  8969.667765,\n",
       "        8987.62514 ,  9005.61825 ,  9023.64751 ,  9041.712895,\n",
       "        9059.81436 ,  9077.952195,  9096.12613 ,  9114.33652 ,\n",
       "        9132.58339 ,  9150.866895,  9169.18681 ,  9187.54355 ,\n",
       "        9205.93706 ,  9224.36723 ,  9242.834475,  9261.338625,\n",
       "        9279.879785,  9298.45796 ,  9317.07367 ,  9335.72628 ,\n",
       "        9354.416415,  9373.144035,  9391.908945,  9410.71158 ,\n",
       "        9429.551905,  9448.42974 ,  9467.345555,  9486.299115,\n",
       "        9505.29058 ,  9524.320075,  9543.38794 ,  9562.493705,\n",
       "        9581.637835,  9600.820165,  9620.041055,  9639.300385,\n",
       "        9658.598155,  9677.93467 ,  9697.309915,  9716.72383 ,\n",
       "        9736.176655,  9755.668495,  9775.19936 ,  9794.76947 ,\n",
       "        9814.378415,  9834.02666 ,  9853.714495,  9873.44151 ,\n",
       "        9893.208155,  9913.014455,  9932.860345,  9952.745895,\n",
       "        9972.671295,  9992.63642 , 10012.64174 , 10032.68711 ,\n",
       "       10052.77236 , 10072.898095, 10093.063965, 10113.270215,\n",
       "       10133.517005, 10153.804435, 10174.132215, 10194.50079 ,\n",
       "       10214.910215, 10235.360305, 10255.851515, 10276.38364 ,\n",
       "       10296.95726 , 10317.57153 , 10338.227345, 10358.924415,\n",
       "       10379.6629  , 10400.443115, 10421.2645  , 10442.127925,\n",
       "       10463.033005, 10483.98017 , 10504.96895 , 10525.999905,\n",
       "       10547.072855, 10568.188175, 10589.345715, 10610.545565,\n",
       "       10631.78784 , 10653.07265 , 10674.40005 , 10695.770165,\n",
       "       10717.18311 , 10738.638865, 10760.137785, 10781.679485,\n",
       "       10803.26421 , 10824.892475, 10846.563625, 10868.278655,\n",
       "       10890.037005, 10911.838805, 10933.684085, 10955.57348 ,\n",
       "       10977.506495, 10999.48343 , 11021.504245, 11043.56948 ,\n",
       "       11065.678665, 11087.831985, 11110.02988 , 11132.272105,\n",
       "       11154.55889 , 11176.89024 , 11199.266465, 11221.68746 ,\n",
       "       11244.153175, 11266.663915, 11289.21992 , 11311.820855,\n",
       "       11334.466885, 11357.1585  , 11379.895655, 11402.678165,\n",
       "       11425.50606 , 11448.38003 , 11471.299665, 11494.265235,\n",
       "       11517.276905, 11540.33413 , 11563.43794 , 11586.588175,\n",
       "       11609.784275, 11633.027245, 11656.31626 , 11679.6521  ,\n",
       "       11703.03497 , 11726.4643  , 11749.940585, 11773.46406 ,\n",
       "       11797.034525, 11820.652005, 11844.31729 , 11868.029575,\n",
       "       11891.7892  , 11915.596525, 11939.45146 , 11963.354095,\n",
       "       11987.305035, 12011.303465, 12035.349945, 12059.44503 ,\n",
       "       12083.587785, 12107.779205, 12132.018805, 12156.30713 ,\n",
       "       12180.64405 , 12205.02999 , 12229.464065, 12253.947355,\n",
       "       12278.479745, 12303.06123 , 12327.69215 , 12352.372075,\n",
       "       12377.101515, 12401.880565, 12426.70883 , 12451.58715 ,\n",
       "       12476.515375, 12501.493405, 12526.52125 , 12551.599175,\n",
       "       12576.72763 , 12601.906055, 12627.13525 , 12652.41464 ,\n",
       "       12677.74463 , 12703.12549 , 12728.557175, 12754.0398  ,\n",
       "       12779.573195, 12805.157865, 12830.793945, 12856.4812  ,\n",
       "       12882.219835, 12908.00997 , 12933.851905, 12959.745205,\n",
       "       12985.69062 , 13011.687995, 13037.73756 , 13063.838915,\n",
       "       13089.992685, 13116.19888 , 13142.45737 , 13168.7687  ,\n",
       "       13195.132665, 13221.54927 , 13248.018705, 13274.541055,\n",
       "       13301.11672 , 13327.745465, 13354.427435, 13381.163225,\n",
       "       13407.9522  , 13434.795055, 13461.691255, 13488.641565,\n",
       "       13515.64599 , 13542.7042  , 13569.816605, 13596.9833  ,\n",
       "       13624.204345, 13651.47993 , 13678.81039 , 13706.19531 ,\n",
       "       13733.634905, 13761.13012 , 13788.679595, 13816.284375,\n",
       "       13843.944685, 13871.6605  , 13899.431105, 13927.257815,\n",
       "       13955.140125, 13983.07837 ])"
      ]
     },
     "execution_count": 132,
     "metadata": {},
     "output_type": "execute_result"
    }
   ],
   "source": [
    "out2"
   ]
  },
  {
   "cell_type": "code",
   "execution_count": 49,
   "id": "267050e5-da2f-4c60-b099-af38ec18bb38",
   "metadata": {},
   "outputs": [
    {
     "data": {
      "text/plain": [
       "[1,\n",
       " 11,\n",
       " 21,\n",
       " 31,\n",
       " 41,\n",
       " 51,\n",
       " 61,\n",
       " 71,\n",
       " 81,\n",
       " 91,\n",
       " 101,\n",
       " 111,\n",
       " 121,\n",
       " 131,\n",
       " 141,\n",
       " 151,\n",
       " 161,\n",
       " 171,\n",
       " 181,\n",
       " 191,\n",
       " 201,\n",
       " 211,\n",
       " 221,\n",
       " 231,\n",
       " 241,\n",
       " 251,\n",
       " 261,\n",
       " 271,\n",
       " 281,\n",
       " 291,\n",
       " 301,\n",
       " 311,\n",
       " 321,\n",
       " 331,\n",
       " 341,\n",
       " 351,\n",
       " 361,\n",
       " 371,\n",
       " 381,\n",
       " 391,\n",
       " 401,\n",
       " 411,\n",
       " 421,\n",
       " 431,\n",
       " 441,\n",
       " 451,\n",
       " 461,\n",
       " 471,\n",
       " 481,\n",
       " 491,\n",
       " 501,\n",
       " 511,\n",
       " 521,\n",
       " 531,\n",
       " 541,\n",
       " 551,\n",
       " 561,\n",
       " 571,\n",
       " 581,\n",
       " 591,\n",
       " 601,\n",
       " 611,\n",
       " 621,\n",
       " 631,\n",
       " 641,\n",
       " 651,\n",
       " 661,\n",
       " 671,\n",
       " 681,\n",
       " 691,\n",
       " 701,\n",
       " 711,\n",
       " 721,\n",
       " 731,\n",
       " 741,\n",
       " 751,\n",
       " 761,\n",
       " 771,\n",
       " 781,\n",
       " 791,\n",
       " 801,\n",
       " 811,\n",
       " 821,\n",
       " 831,\n",
       " 841,\n",
       " 851,\n",
       " 861,\n",
       " 871,\n",
       " 881,\n",
       " 891,\n",
       " 901,\n",
       " 911,\n",
       " 921,\n",
       " 931,\n",
       " 941,\n",
       " 951,\n",
       " 961,\n",
       " 971,\n",
       " 981,\n",
       " 991,\n",
       " 1001,\n",
       " 1011,\n",
       " 1021,\n",
       " 1031,\n",
       " 1041,\n",
       " 1051,\n",
       " 1061,\n",
       " 1071,\n",
       " 1081,\n",
       " 1091,\n",
       " 1101,\n",
       " 1111,\n",
       " 1121,\n",
       " 1131,\n",
       " 1141,\n",
       " 1151,\n",
       " 1161,\n",
       " 1171]"
      ]
     },
     "execution_count": 49,
     "metadata": {},
     "output_type": "execute_result"
    }
   ],
   "source": [
    "b"
   ]
  },
  {
   "cell_type": "code",
   "execution_count": null,
   "id": "3912dff0-167a-4dcc-b855-9efc4e9f5651",
   "metadata": {},
   "outputs": [],
   "source": []
  }
 ],
 "metadata": {
  "kernelspec": {
   "display_name": "Python 3 [viska-tf28]",
   "language": "python",
   "name": "python3-viska-tf28"
  },
  "language_info": {
   "codemirror_mode": {
    "name": "ipython",
    "version": 3
   },
   "file_extension": ".py",
   "mimetype": "text/x-python",
   "name": "python",
   "nbconvert_exporter": "python",
   "pygments_lexer": "ipython3",
   "version": "3.9.7"
  }
 },
 "nbformat": 4,
 "nbformat_minor": 5
}
