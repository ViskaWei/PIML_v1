{
 "cells": [
  {
   "cell_type": "code",
   "execution_count": 1,
   "id": "dcf5bba8-1383-4879-abf0-ee15b5fff77a",
   "metadata": {},
   "outputs": [],
   "source": [
    "%load_ext autoreload\n",
    "%autoreload 2"
   ]
  },
  {
   "cell_type": "code",
   "execution_count": 2,
   "id": "693e8e30-0518-4fd1-a2d6-06210a6570f9",
   "metadata": {},
   "outputs": [],
   "source": [
    "PROJECT_PATH = '/home/swei20/PIML_v1/'\n",
    "import sys\n",
    "sys.path.insert(0, PROJECT_PATH)"
   ]
  },
  {
   "cell_type": "code",
   "execution_count": 3,
   "id": "c229ebe3-97de-4395-bb9c-da318ebfb88e",
   "metadata": {},
   "outputs": [],
   "source": [
    "import os\n",
    "import numpy as np"
   ]
  },
  {
   "cell_type": "code",
   "execution_count": 2,
   "id": "1a743ea8-245e-4de9-9503-890d086fe028",
   "metadata": {},
   "outputs": [],
   "source": [
    "from PIML.gateway.dataIF.basedataIF import *"
   ]
  },
  {
   "cell_type": "code",
   "execution_count": 207,
   "id": "fd3d0e80-59b5-465f-b8fc-2e6af56a1c45",
   "metadata": {},
   "outputs": [],
   "source": [
    "w = np.load(\"/home/swei20/PIML_v1/test/testdata/wave.npy\")"
   ]
  },
  {
   "cell_type": "code",
   "execution_count": 208,
   "id": "0ebe3a1a-9b56-4513-963b-0cde49926375",
   "metadata": {},
   "outputs": [
    {
     "data": {
      "text/plain": [
       "array([ 3000.2639,  3000.564 ,  3000.8643, ..., 13996.3662, 13997.7656,\n",
       "       13999.166 ])"
      ]
     },
     "execution_count": 208,
     "metadata": {},
     "output_type": "execute_result"
    }
   ],
   "source": []
  },
  {
   "cell_type": "code",
   "execution_count": 6,
   "id": "68e1e2d4-9fad-4a04-9618-7999cbc26252",
   "metadata": {},
   "outputs": [],
   "source": [
    "from PIML.surface.database.baseloader import H5pyLoader"
   ]
  },
  {
   "cell_type": "code",
   "execution_count": 7,
   "id": "1e030cf3-ad2b-4d55-bb25-be1e7d4bf25d",
   "metadata": {},
   "outputs": [],
   "source": [
    "loader = H5pyLoader()"
   ]
  },
  {
   "cell_type": "code",
   "execution_count": null,
   "id": "fc5c337e-c0ec-4475-a9ac-1ed594daa948",
   "metadata": {},
   "outputs": [],
   "source": []
  },
  {
   "cell_type": "code",
   "execution_count": 156,
   "id": "42baa635-4983-48db-81f4-1f66037bc319",
   "metadata": {},
   "outputs": [],
   "source": [
    "GRID_PATH=\"/datascope/subaru/user/swei20/data/pfsspec/import/stellar/grid\"\n",
    "FILE_PATH=os.path.join(GRID_PATH, \"bosz_5000_RHB.h5\")\n",
    "# FILE_PATH = \"/home/swei20/PIML_v1/test/testdata/bosz_5000_test.h5\""
   ]
  },
  {
   "cell_type": "code",
   "execution_count": 209,
   "id": "1a8e01d8-f9bd-480e-b81a-63facb2d8226",
   "metadata": {},
   "outputs": [],
   "source": [
    "arg = \"wave\"\n",
    "wave = loader.load_arg(FILE_PATH, arg)\n",
    "arg = \"flux\"\n",
    "flux0 = loader.load_arg(FILE_PATH, arg)"
   ]
  },
  {
   "cell_type": "code",
   "execution_count": 210,
   "id": "6e62727f-6d1a-42f5-8452-17f28bf24d3a",
   "metadata": {},
   "outputs": [
    {
     "data": {
      "text/plain": [
       "array([8000.457 , 8001.2573, 8002.0576, ..., 8997.9648, 8998.8652,\n",
       "       8999.7646])"
      ]
     },
     "execution_count": 210,
     "metadata": {},
     "output_type": "execute_result"
    }
   ],
   "source": [
    "wave"
   ]
  },
  {
   "cell_type": "code",
   "execution_count": 212,
   "id": "fbec9fad-f581-4673-94cb-f16faeaf36ac",
   "metadata": {},
   "outputs": [
    {
     "data": {
      "text/plain": [
       "array([ 29, 283])"
      ]
     },
     "execution_count": 212,
     "metadata": {},
     "output_type": "execute_result"
    }
   ],
   "source": [
    "np.digitize([8023, 8230], wave)"
   ]
  },
  {
   "cell_type": "code",
   "execution_count": 163,
   "id": "a42503ff-530e-4553-b631-f75d3f3ca2c2",
   "metadata": {},
   "outputs": [],
   "source": [
    "step = 10\n",
    "data = wave"
   ]
  },
  {
   "cell_type": "code",
   "execution_count": 174,
   "id": "7ed2e2da-79de-4314-82ed-aeb8bb900ea9",
   "metadata": {},
   "outputs": [
    {
     "data": {
      "text/plain": [
       "array([[1311700., 1287100., 1322400., ..., 1103900., 1103400., 1101700.],\n",
       "       [1302200., 1277600., 1313000., ..., 1094300., 1093800., 1092200.],\n",
       "       [1295800., 1271000., 1306900., ..., 1088200., 1087700., 1086100.],\n",
       "       ...,\n",
       "       [2579200., 2522100., 2606900., ..., 2108000., 2096100., 2084100.],\n",
       "       [2583300., 2525200., 2612000., ..., 2077100., 2065600., 2054100.],\n",
       "       [2581800., 2522900., 2611400., ..., 2051400., 2040500., 2029600.]])"
      ]
     },
     "execution_count": 174,
     "metadata": {},
     "output_type": "execute_result"
    }
   ],
   "source": [
    "flux0"
   ]
  },
  {
   "cell_type": "code",
   "execution_count": null,
   "id": "54516014-3fbf-4809-961d-eb8351624cf9",
   "metadata": {},
   "outputs": [],
   "source": []
  },
  {
   "cell_type": "code",
   "execution_count": 173,
   "id": "30f77b45-a3a5-4597-8315-2a993e9f9e5c",
   "metadata": {},
   "outputs": [
    {
     "data": {
      "text/plain": [
       "array([     0,      1,      2, ..., 141357, 141358, 141359])"
      ]
     },
     "execution_count": 173,
     "metadata": {},
     "output_type": "execute_result"
    }
   ],
   "source": [
    "np.arange(flux0.size)"
   ]
  },
  {
   "cell_type": "code",
   "execution_count": 172,
   "id": "0e03b9bc-ac76-4fa8-ae69-b89ac6b67a93",
   "metadata": {},
   "outputs": [
    {
     "data": {
      "text/plain": [
       "array([[0.33030066, 0.77711964, 0.97640765, 0.07149391, 0.63788165,\n",
       "        0.40874473, 0.00218625, 0.558711  , 0.80471358, 0.73997587],\n",
       "       [0.55101185, 0.47901805, 0.50726845, 0.26028212, 0.39199489,\n",
       "        0.74407071, 0.11841474, 0.32866277, 0.12508165, 0.22935492],\n",
       "       [0.31712489, 0.24956821, 0.46614881, 0.27953377, 0.38598589,\n",
       "        0.50077329, 0.07691628, 0.13761824, 0.52509646, 0.76997607],\n",
       "       [0.86740799, 0.97017136, 0.5327654 , 0.63261738, 0.62978148,\n",
       "        0.65074534, 0.08996434, 0.01711737, 0.81713153, 0.47029106],\n",
       "       [0.09291699, 0.0456581 , 0.63127994, 0.80390317, 0.28764757,\n",
       "        0.05685454, 0.89025969, 0.89161593, 0.71791343, 0.39799577]])"
      ]
     },
     "execution_count": 172,
     "metadata": {},
     "output_type": "execute_result"
    }
   ],
   "source": [
    "np.random.rand(5,10)"
   ]
  },
  {
   "cell_type": "code",
   "execution_count": 164,
   "id": "c2cfa78c-df0b-4f70-9776-827789c7b43b",
   "metadata": {},
   "outputs": [],
   "source": [
    "dataToCheck = np.diff(np.cumsum(data, axis=-1)[..., ::step], axis=-1) / step\n"
   ]
  },
  {
   "cell_type": "code",
   "execution_count": 165,
   "id": "823c01e8-4451-4d9a-ae1c-305c5b9f925b",
   "metadata": {},
   "outputs": [
    {
     "data": {
      "text/plain": [
       "(117,)"
      ]
     },
     "execution_count": 165,
     "metadata": {},
     "output_type": "execute_result"
    }
   ],
   "source": [
    "dataToCheck.shape"
   ]
  },
  {
   "cell_type": "code",
   "execution_count": 170,
   "id": "00298c82-d134-4c06-9463-a639cef81aaf",
   "metadata": {},
   "outputs": [
    {
     "ename": "TypeError",
     "evalue": "unsupported operand type(s) for -: 'tuple' and 'tuple'",
     "output_type": "error",
     "traceback": [
      "\u001b[0;31m---------------------------------------------------------------------------\u001b[0m",
      "\u001b[0;31mTypeError\u001b[0m                                 Traceback (most recent call last)",
      "\u001b[0;32m/tmp/ipykernel_487957/2001556185.py\u001b[0m in \u001b[0;36m<module>\u001b[0;34m\u001b[0m\n\u001b[0;32m----> 1\u001b[0;31m \u001b[0mwave\u001b[0m\u001b[0;34m[\u001b[0m\u001b[0;34m:\u001b[0m\u001b[0;34m:\u001b[0m\u001b[0mstep\u001b[0m\u001b[0;34m]\u001b[0m\u001b[0;34m.\u001b[0m\u001b[0mshape\u001b[0m \u001b[0;34m-\u001b[0m \u001b[0mdataToCheck\u001b[0m\u001b[0;34m.\u001b[0m\u001b[0mshape\u001b[0m\u001b[0;34m\u001b[0m\u001b[0;34m\u001b[0m\u001b[0m\n\u001b[0m",
      "\u001b[0;31mTypeError\u001b[0m: unsupported operand type(s) for -: 'tuple' and 'tuple'"
     ]
    }
   ],
   "source": [
    "wave[::step].shape - dataToCheck.shape"
   ]
  },
  {
   "cell_type": "code",
   "execution_count": 166,
   "id": "ad1f20ff-ed0c-4c61-a2d0-6f7fc2b4928b",
   "metadata": {},
   "outputs": [
    {
     "data": {
      "text/plain": [
       "(1178,)"
      ]
     },
     "execution_count": 166,
     "metadata": {},
     "output_type": "execute_result"
    }
   ],
   "source": [
    "wave.shape "
   ]
  },
  {
   "cell_type": "code",
   "execution_count": 162,
   "id": "218deefa-e984-4491-ac65-e3b888e4e6e5",
   "metadata": {},
   "outputs": [
    {
     "data": {
      "text/plain": [
       "array([8000.457 , 8008.4614, 8016.4741, 8024.4946, 8032.5234, 8040.5596,\n",
       "       8048.604 , 8056.6562, 8064.7173, 8072.7861, 8080.8633, 8088.9478,\n",
       "       8097.041 , 8105.1416, 8113.251 , 8121.3682, 8129.4932, 8137.627 ,\n",
       "       8145.769 , 8153.9185, 8162.0771, 8170.2432, 8178.4175, 8186.5996,\n",
       "       8194.791 , 8202.9893, 8211.1963, 8219.4121, 8227.6348, 8235.8672,\n",
       "       8244.1074, 8252.3555, 8260.6113, 8268.876 , 8277.1494, 8285.4307,\n",
       "       8293.7197, 8302.0176, 8310.3242, 8318.6387, 8326.9609, 8335.292 ,\n",
       "       8343.6318, 8351.9805, 8360.3359, 8368.7002, 8377.0732, 8385.4551,\n",
       "       8393.8438, 8402.2422, 8410.6484, 8419.0635, 8427.4863, 8435.9189,\n",
       "       8444.3584, 8452.8066, 8461.2637, 8469.7295, 8478.2041, 8486.6855,\n",
       "       8495.1768, 8503.6758, 8512.1846, 8520.7012, 8529.2256, 8537.7588,\n",
       "       8546.3008, 8554.8516, 8563.4102, 8571.9785, 8580.5547, 8589.1396,\n",
       "       8597.7334, 8606.335 , 8614.9453, 8623.5654, 8632.1924, 8640.8291,\n",
       "       8649.4746, 8658.1279, 8666.791 , 8675.4609, 8684.1416, 8692.8301,\n",
       "       8701.5273, 8710.2334, 8718.9473, 8727.6709, 8736.4023, 8745.1436,\n",
       "       8753.8926, 8762.6514, 8771.418 , 8780.1943, 8788.9785, 8797.7725,\n",
       "       8806.5742, 8815.3848, 8824.2051, 8833.0332, 8841.8711, 8850.7168,\n",
       "       8859.5723, 8868.4365, 8877.3086, 8886.1904, 8895.082 , 8903.9814,\n",
       "       8912.8896, 8921.8066, 8930.7334, 8939.6689, 8948.6123, 8957.5654,\n",
       "       8966.5273, 8975.499 , 8984.4785, 8993.4678])"
      ]
     },
     "execution_count": 162,
     "metadata": {},
     "output_type": "execute_result"
    }
   ],
   "source": [
    "wave[::10]"
   ]
  },
  {
   "cell_type": "code",
   "execution_count": 158,
   "id": "5f0fccd0-dcc4-4c2c-ba1d-3107910e633b",
   "metadata": {},
   "outputs": [
    {
     "data": {
      "text/plain": [
       "array([[1311700., 1287100., 1322400., ..., 1103900., 1103400., 1101700.],\n",
       "       [1302200., 1277600., 1313000., ..., 1094300., 1093800., 1092200.],\n",
       "       [1295800., 1271000., 1306900., ..., 1088200., 1087700., 1086100.],\n",
       "       ...,\n",
       "       [2579200., 2522100., 2606900., ..., 2108000., 2096100., 2084100.],\n",
       "       [2583300., 2525200., 2612000., ..., 2077100., 2065600., 2054100.],\n",
       "       [2581800., 2522900., 2611400., ..., 2051400., 2040500., 2029600.]])"
      ]
     },
     "execution_count": 158,
     "metadata": {},
     "output_type": "execute_result"
    }
   ],
   "source": [
    "flux0"
   ]
  },
  {
   "cell_type": "code",
   "execution_count": 105,
   "id": "1b6737ca-14ef-4866-a634-196c263a1de5",
   "metadata": {},
   "outputs": [],
   "source": [
    "flux=np.log(flux0[0])"
   ]
  },
  {
   "cell_type": "code",
   "execution_count": 155,
   "id": "b3ec9c67-ffa3-40fe-88b5-7aca52e60f6e",
   "metadata": {},
   "outputs": [
    {
     "data": {
      "text/plain": [
       "1"
      ]
     },
     "execution_count": 155,
     "metadata": {},
     "output_type": "execute_result"
    }
   ],
   "source": [
    "flux.ndim"
   ]
  },
  {
   "cell_type": "code",
   "execution_count": 154,
   "id": "009e1943-f4da-42a3-aa2e-4549acb4580a",
   "metadata": {},
   "outputs": [
    {
     "data": {
      "text/plain": [
       "2"
      ]
     },
     "execution_count": 154,
     "metadata": {},
     "output_type": "execute_result"
    }
   ],
   "source": [
    "flux0.ndim"
   ]
  },
  {
   "cell_type": "code",
   "execution_count": 106,
   "id": "eaa722f1-f11c-4d28-bce8-4bf93e565202",
   "metadata": {},
   "outputs": [],
   "source": [
    "c = np.cumsum(flux)\n",
    "b = list(range(1, len(flux), step))\n",
    "db = np.diff(c[b])\n",
    "dd2 = (db/step)"
   ]
  },
  {
   "cell_type": "code",
   "execution_count": 107,
   "id": "03afaa5d-69e1-4628-8a5d-9f538cd5ff86",
   "metadata": {},
   "outputs": [],
   "source": [
    "dd2 = np.exp(dd2)"
   ]
  },
  {
   "cell_type": "code",
   "execution_count": 111,
   "id": "333bf129-2917-4a78-95b8-4c4d9f84ff77",
   "metadata": {},
   "outputs": [
    {
     "data": {
      "text/plain": [
       "[<matplotlib.lines.Line2D at 0x7effaaf4a670>]"
      ]
     },
     "execution_count": 111,
     "metadata": {},
     "output_type": "execute_result"
    },
    {
     "data": {
      "image/png": "[encoded data removed]",
      "text/plain": [
       "<Figure size 432x288 with 1 Axes>"
      ]
     },
     "metadata": {
      "needs_background": "light"
     },
     "output_type": "display_data"
    }
   ],
   "source": [
    "plt.plot(wave,flux0[0])\n",
    "plt.plot(out,dd)\n",
    "plt.plot(out2,dd)\n",
    "plt.plot(out2,dd2)"
   ]
  },
  {
   "cell_type": "code",
   "execution_count": 115,
   "id": "d5956426-cec2-40de-bc63-cf8c17ba8c35",
   "metadata": {},
   "outputs": [
    {
     "data": {
      "text/plain": [
       "array([1.82340735e+04, 1.42227240e+04, 7.56182242e+03, ...,\n",
       "       6.68561312e-02, 2.79694121e-01, 1.10781829e-01])"
      ]
     },
     "execution_count": 115,
     "metadata": {},
     "output_type": "execute_result"
    }
   ],
   "source": [
    "dd - dd2"
   ]
  },
  {
   "cell_type": "code",
   "execution_count": 112,
   "id": "db4414dc-95fe-43a9-ad97-3a95e220f766",
   "metadata": {},
   "outputs": [
    {
     "data": {
      "text/plain": [
       "array([509487.92652819, 645754.27600479, 614868.17757753, ...,\n",
       "       451713.93314387, 450708.72030588, 450072.88921817])"
      ]
     },
     "execution_count": 112,
     "metadata": {},
     "output_type": "execute_result"
    }
   ],
   "source": [
    "dd2"
   ]
  },
  {
   "cell_type": "code",
   "execution_count": 89,
   "id": "9e9d568a-5dd0-4996-944f-7a0744826ff7",
   "metadata": {},
   "outputs": [],
   "source": [
    "arg = \"wave\"\n",
    "wave = loader.load_arg(FILE_PATH, arg)"
   ]
  },
  {
   "cell_type": "code",
   "execution_count": 90,
   "id": "ff86a173-e18a-462c-a548-688817aa469c",
   "metadata": {},
   "outputs": [
    {
     "data": {
      "text/plain": [
       "15404"
      ]
     },
     "execution_count": 90,
     "metadata": {},
     "output_type": "execute_result"
    }
   ],
   "source": [
    "len(wave)"
   ]
  },
  {
   "cell_type": "code",
   "execution_count": 91,
   "id": "b27a2334-17c2-4e14-8380-755c564ea19d",
   "metadata": {},
   "outputs": [
    {
     "data": {
      "text/plain": [
       "array([ 3000.2639,  3000.564 ,  3000.8643, ..., 13996.3662, 13997.7656,\n",
       "       13999.166 ])"
      ]
     },
     "execution_count": 91,
     "metadata": {},
     "output_type": "execute_result"
    }
   ],
   "source": [
    "wave"
   ]
  },
  {
   "cell_type": "code",
   "execution_count": 119,
   "id": "1e95dac2-6c94-4869-9af2-5955f46bfc0e",
   "metadata": {},
   "outputs": [],
   "source": [
    "a,b =np.digitize([3800,12400], wave)"
   ]
  },
  {
   "cell_type": "code",
   "execution_count": 121,
   "id": "438bb964-6632-44a2-9b73-cd99e80d1f5d",
   "metadata": {},
   "outputs": [],
   "source": [
    "wave0 = wave[a:b]"
   ]
  },
  {
   "cell_type": "code",
   "execution_count": 35,
   "id": "0b0fd807-95b7-4fb7-b619-534d9638a8d6",
   "metadata": {},
   "outputs": [],
   "source": [
    "a = np.arange(10)"
   ]
  },
  {
   "cell_type": "code",
   "execution_count": 36,
   "id": "c1bbdce3-e6ef-4941-ba8b-5644f5326ea5",
   "metadata": {},
   "outputs": [
    {
     "data": {
      "text/plain": [
       "array([0, 1, 2, 3, 4, 5, 6, 7, 8, 9])"
      ]
     },
     "execution_count": 36,
     "metadata": {},
     "output_type": "execute_result"
    }
   ],
   "source": [
    "a"
   ]
  },
  {
   "cell_type": "code",
   "execution_count": 38,
   "id": "fe7635c2-0d18-492c-8313-9dc8e066d6a8",
   "metadata": {},
   "outputs": [
    {
     "data": {
      "text/plain": [
       "array([5, 7])"
      ]
     },
     "execution_count": 38,
     "metadata": {},
     "output_type": "execute_result"
    }
   ],
   "source": [
    "np.digitize([4,6], a)"
   ]
  },
  {
   "cell_type": "code",
   "execution_count": 39,
   "id": "e643ff9c-9449-4ae7-ad16-76cd120eaedb",
   "metadata": {},
   "outputs": [
    {
     "data": {
      "text/plain": [
       "array([5, 6])"
      ]
     },
     "execution_count": 39,
     "metadata": {},
     "output_type": "execute_result"
    }
   ],
   "source": [
    "a[5:7]"
   ]
  },
  {
   "cell_type": "code",
   "execution_count": 40,
   "id": "b59f294a-b2a9-4487-be30-0e24d7b28817",
   "metadata": {},
   "outputs": [],
   "source": [
    "aa = {\"c\":3, \"d\":4}"
   ]
  },
  {
   "cell_type": "code",
   "execution_count": 42,
   "id": "bb8c425f-ceaf-4785-afb3-c7df25f37d40",
   "metadata": {},
   "outputs": [
    {
     "data": {
      "text/plain": [
       "3"
      ]
     },
     "execution_count": 42,
     "metadata": {},
     "output_type": "execute_result"
    }
   ],
   "source": [
    "aa[\"c\"]"
   ]
  },
  {
   "cell_type": "code",
   "execution_count": 45,
   "id": "a820e002-7ac6-4adf-938e-0aed9488edeb",
   "metadata": {},
   "outputs": [
    {
     "data": {
      "text/plain": [
       "array([9, 2, 2])"
      ]
     },
     "execution_count": 45,
     "metadata": {},
     "output_type": "execute_result"
    }
   ],
   "source": [
    "\n",
    "a[np.array([9,2,2]),...]"
   ]
  },
  {
   "cell_type": "code",
   "execution_count": 83,
   "id": "c24d02c1-f59d-44e8-9bc1-2a89396b73b8",
   "metadata": {},
   "outputs": [],
   "source": [
    "wave0 = np.copy(wave)"
   ]
  },
  {
   "cell_type": "code",
   "execution_count": 85,
   "id": "82251e84-1ed4-4ba5-81b9-a5213a1aba0f",
   "metadata": {},
   "outputs": [],
   "source": [
    "arg = \"flux\"\n",
    "flux = loader.load_arg(FILE_PATH, arg)"
   ]
  },
  {
   "cell_type": "code",
   "execution_count": 87,
   "id": "05f479a5-5028-495f-9c86-2eb6a5a4cd98",
   "metadata": {},
   "outputs": [
    {
     "data": {
      "text/plain": [
       "(120, 1178)"
      ]
     },
     "execution_count": 87,
     "metadata": {},
     "output_type": "execute_result"
    }
   ],
   "source": [
    "flux.shape"
   ]
  },
  {
   "cell_type": "code",
   "execution_count": null,
   "id": "64571b74-72d9-4bf6-8b6b-b8aa05075e67",
   "metadata": {},
   "outputs": [],
   "source": [
    "wave = flua\n"
   ]
  },
  {
   "cell_type": "code",
   "execution_count": 126,
   "id": "35dfa953-dc92-4da5-a267-3a9a6b8dea84",
   "metadata": {},
   "outputs": [],
   "source": [
    "step=20\n",
    "b = np.arange(1, len(wave), step)"
   ]
  },
  {
   "cell_type": "code",
   "execution_count": 127,
   "id": "3170e24c-7e0d-4957-8985-7fb9d629488f",
   "metadata": {},
   "outputs": [],
   "source": [
    "w = np.cumsum(np.log(wave))\n",
    "out = np.exp(np.diff(w[b]) / step)"
   ]
  },
  {
   "cell_type": "code",
   "execution_count": 128,
   "id": "a1de16c8-5ab7-45c8-85a2-9fea6201b121",
   "metadata": {},
   "outputs": [
    {
     "data": {
      "text/plain": [
       "<matplotlib.collections.PathCollection at 0x7effaae911f0>"
      ]
     },
     "execution_count": 128,
     "metadata": {},
     "output_type": "execute_result"
    },
    {
     "data": {
      "image/png": "[encoded data removed]",
      "text/plain": [
       "<Figure size 432x288 with 1 Axes>"
      ]
     },
     "metadata": {
      "needs_background": "light"
     },
     "output_type": "display_data"
    }
   ],
   "source": [
    "plt.scatter(np.arange(len(out)), out)"
   ]
  },
  {
   "cell_type": "code",
   "execution_count": 122,
   "id": "38067ff4-5ae9-4687-aad2-375697177386",
   "metadata": {},
   "outputs": [
    {
     "data": {
      "text/plain": [
       "array([0.3799, 0.3801, 0.3802, ..., 1.2392, 1.2403, 1.2392])"
      ]
     },
     "execution_count": 122,
     "metadata": {},
     "output_type": "execute_result"
    }
   ],
   "source": [
    "np.diff(wave0)"
   ]
  },
  {
   "cell_type": "code",
   "execution_count": 145,
   "id": "38a1ac92-ecc3-49ec-a1bc-8b19a841c552",
   "metadata": {},
   "outputs": [],
   "source": [
    "w = np.cumsum(wave, axis=-1)"
   ]
  },
  {
   "cell_type": "code",
   "execution_count": null,
   "id": "b597c419-c71d-48c2-a634-e7c8469ed0f5",
   "metadata": {},
   "outputs": [],
   "source": []
  },
  {
   "cell_type": "code",
   "execution_count": 147,
   "id": "8b51c142-f129-41bf-b38b-04d5a416e8cb",
   "metadata": {},
   "outputs": [
    {
     "data": {
      "text/plain": [
       "array([0., 0., 0., 0., 0., 0., 0., 0., 0., 0., 0., 0., 0., 0., 0., 0., 0.,\n",
       "       0., 0., 0., 0., 0., 0., 0., 0., 0., 0., 0., 0., 0., 0., 0., 0., 0.,\n",
       "       0., 0., 0., 0., 0., 0., 0., 0., 0., 0., 0., 0., 0., 0., 0., 0., 0.,\n",
       "       0., 0., 0., 0., 0., 0., 0., 0., 0., 0., 0., 0., 0., 0., 0., 0., 0.,\n",
       "       0., 0., 0., 0., 0., 0., 0., 0., 0., 0., 0., 0., 0., 0., 0., 0., 0.,\n",
       "       0., 0., 0., 0., 0., 0., 0., 0., 0., 0., 0., 0., 0., 0., 0., 0., 0.,\n",
       "       0., 0., 0., 0., 0., 0., 0., 0., 0., 0., 0., 0., 0., 0., 0., 0., 0.,\n",
       "       0., 0., 0., 0., 0., 0., 0., 0., 0., 0., 0., 0., 0., 0., 0., 0., 0.,\n",
       "       0., 0., 0., 0., 0., 0., 0., 0., 0., 0., 0., 0., 0., 0., 0., 0., 0.,\n",
       "       0., 0., 0., 0., 0., 0., 0., 0., 0., 0., 0., 0., 0., 0., 0., 0., 0.,\n",
       "       0., 0., 0., 0., 0., 0., 0., 0., 0., 0., 0., 0., 0., 0., 0., 0., 0.,\n",
       "       0., 0., 0., 0., 0., 0., 0., 0., 0., 0., 0., 0., 0., 0., 0., 0., 0.,\n",
       "       0., 0., 0., 0., 0., 0., 0., 0., 0., 0., 0., 0., 0., 0., 0., 0., 0.,\n",
       "       0., 0., 0., 0., 0., 0., 0., 0., 0., 0., 0., 0., 0., 0., 0., 0., 0.,\n",
       "       0., 0., 0., 0., 0., 0., 0., 0., 0., 0., 0., 0., 0., 0., 0., 0., 0.,\n",
       "       0., 0., 0., 0., 0., 0., 0., 0., 0., 0., 0., 0., 0., 0., 0., 0., 0.,\n",
       "       0., 0., 0., 0., 0., 0., 0., 0., 0., 0., 0., 0., 0., 0., 0., 0., 0.,\n",
       "       0., 0., 0., 0., 0., 0., 0., 0., 0., 0., 0., 0., 0., 0., 0., 0., 0.,\n",
       "       0., 0., 0., 0., 0., 0., 0., 0., 0., 0., 0., 0., 0., 0., 0., 0., 0.,\n",
       "       0., 0., 0., 0., 0., 0., 0., 0., 0., 0., 0., 0., 0., 0., 0., 0., 0.,\n",
       "       0., 0., 0., 0., 0., 0., 0., 0., 0., 0., 0., 0., 0., 0., 0., 0., 0.,\n",
       "       0., 0., 0., 0., 0., 0., 0., 0., 0., 0., 0., 0., 0., 0., 0., 0., 0.,\n",
       "       0., 0., 0., 0., 0., 0., 0., 0., 0., 0., 0., 0., 0., 0., 0., 0., 0.,\n",
       "       0., 0., 0., 0., 0., 0., 0., 0., 0., 0., 0., 0., 0., 0., 0., 0., 0.,\n",
       "       0., 0., 0., 0., 0., 0., 0., 0., 0., 0., 0., 0., 0., 0., 0., 0., 0.,\n",
       "       0., 0., 0., 0., 0., 0., 0., 0., 0., 0., 0., 0., 0., 0., 0., 0., 0.,\n",
       "       0., 0., 0., 0., 0., 0., 0., 0., 0., 0., 0., 0., 0., 0., 0., 0., 0.,\n",
       "       0., 0., 0., 0., 0., 0., 0., 0., 0., 0., 0., 0., 0., 0., 0., 0., 0.,\n",
       "       0., 0., 0., 0., 0., 0., 0., 0., 0., 0., 0., 0., 0., 0., 0., 0., 0.,\n",
       "       0., 0., 0., 0., 0., 0., 0., 0., 0., 0., 0., 0., 0., 0., 0., 0., 0.,\n",
       "       0., 0., 0., 0., 0., 0., 0., 0., 0., 0., 0., 0., 0., 0., 0., 0., 0.,\n",
       "       0., 0., 0., 0., 0., 0., 0., 0., 0., 0., 0., 0., 0., 0., 0., 0., 0.,\n",
       "       0., 0., 0., 0., 0., 0., 0., 0., 0., 0., 0., 0., 0., 0., 0., 0., 0.,\n",
       "       0., 0., 0., 0., 0., 0., 0., 0., 0., 0., 0., 0., 0., 0., 0., 0., 0.,\n",
       "       0., 0., 0., 0., 0., 0., 0., 0., 0., 0., 0., 0., 0., 0., 0., 0., 0.,\n",
       "       0., 0., 0., 0., 0., 0., 0., 0., 0., 0., 0., 0., 0., 0., 0., 0., 0.,\n",
       "       0., 0., 0., 0., 0., 0., 0., 0., 0., 0., 0., 0., 0., 0., 0., 0., 0.,\n",
       "       0., 0., 0., 0., 0., 0., 0., 0., 0., 0., 0., 0., 0., 0., 0., 0., 0.,\n",
       "       0., 0., 0., 0., 0., 0., 0., 0., 0., 0., 0., 0., 0., 0., 0., 0., 0.,\n",
       "       0., 0., 0., 0., 0., 0., 0., 0., 0., 0., 0., 0., 0., 0., 0., 0., 0.,\n",
       "       0., 0., 0., 0., 0., 0., 0., 0., 0., 0., 0., 0., 0., 0., 0., 0., 0.,\n",
       "       0., 0., 0., 0., 0., 0., 0., 0., 0., 0., 0., 0., 0., 0., 0., 0., 0.,\n",
       "       0., 0., 0., 0., 0., 0., 0., 0., 0., 0., 0., 0., 0., 0., 0., 0., 0.,\n",
       "       0., 0., 0., 0., 0., 0., 0., 0., 0., 0., 0., 0., 0., 0., 0., 0., 0.,\n",
       "       0., 0., 0., 0., 0., 0., 0., 0., 0., 0., 0., 0., 0., 0., 0., 0., 0.,\n",
       "       0., 0., 0., 0., 0., 0.])"
      ]
     },
     "execution_count": 147,
     "metadata": {},
     "output_type": "execute_result"
    }
   ],
   "source": [
    "w[..., ::step] - w[::step]"
   ]
  },
  {
   "cell_type": "code",
   "execution_count": 144,
   "id": "ff17eb9c-08c5-4d1a-b0e4-677f83dcf33b",
   "metadata": {},
   "outputs": [],
   "source": [
    "a = np.cumsum(flux0[:10], axis=-1)"
   ]
  },
  {
   "cell_type": "code",
   "execution_count": 151,
   "id": "6b64b5ee-b3eb-47ac-be4d-21d7f165f692",
   "metadata": {},
   "outputs": [
    {
     "data": {
      "text/plain": [
       "array([0., 0., 0., 0., 0., 0., 0., 0., 0., 0., 0., 0., 0., 0., 0., 0., 0.,\n",
       "       0., 0., 0., 0., 0., 0., 0., 0., 0., 0., 0., 0., 0., 0., 0., 0., 0.,\n",
       "       0., 0., 0., 0., 0., 0., 0., 0., 0., 0., 0., 0., 0., 0., 0., 0., 0.,\n",
       "       0., 0., 0., 0., 0., 0., 0., 0., 0., 0., 0., 0., 0., 0., 0., 0., 0.,\n",
       "       0., 0., 0., 0., 0., 0., 0., 0., 0., 0., 0., 0., 0., 0., 0., 0., 0.,\n",
       "       0., 0., 0., 0., 0., 0., 0., 0., 0., 0., 0., 0., 0., 0., 0., 0., 0.,\n",
       "       0., 0., 0., 0., 0., 0., 0., 0., 0., 0., 0., 0., 0., 0., 0., 0., 0.,\n",
       "       0., 0., 0., 0., 0., 0., 0., 0., 0., 0., 0., 0., 0., 0., 0., 0., 0.,\n",
       "       0., 0., 0., 0., 0., 0., 0., 0., 0., 0., 0., 0., 0., 0., 0., 0., 0.,\n",
       "       0., 0., 0., 0., 0., 0., 0., 0., 0., 0., 0., 0., 0., 0., 0., 0., 0.,\n",
       "       0., 0., 0., 0., 0., 0., 0., 0., 0., 0., 0., 0., 0., 0., 0., 0., 0.,\n",
       "       0., 0., 0., 0., 0., 0., 0., 0., 0., 0., 0., 0., 0., 0., 0., 0., 0.,\n",
       "       0., 0., 0., 0., 0., 0., 0., 0., 0., 0., 0., 0., 0., 0., 0., 0., 0.,\n",
       "       0., 0., 0., 0., 0., 0., 0., 0., 0., 0., 0., 0., 0., 0., 0., 0., 0.,\n",
       "       0., 0., 0., 0., 0., 0., 0., 0., 0., 0., 0., 0., 0., 0., 0., 0., 0.,\n",
       "       0., 0., 0., 0., 0., 0., 0., 0., 0., 0., 0., 0., 0., 0., 0., 0., 0.,\n",
       "       0., 0., 0., 0., 0., 0., 0., 0., 0., 0., 0., 0., 0., 0., 0., 0., 0.,\n",
       "       0., 0., 0., 0., 0., 0., 0., 0., 0., 0., 0., 0., 0., 0., 0., 0., 0.,\n",
       "       0., 0., 0., 0., 0., 0., 0., 0., 0., 0., 0., 0., 0., 0., 0., 0., 0.,\n",
       "       0., 0., 0., 0., 0., 0., 0., 0., 0., 0., 0., 0., 0., 0., 0., 0., 0.,\n",
       "       0., 0., 0., 0., 0., 0., 0., 0., 0., 0., 0., 0., 0., 0., 0., 0., 0.,\n",
       "       0., 0., 0., 0., 0., 0., 0., 0., 0., 0., 0., 0., 0., 0., 0., 0., 0.,\n",
       "       0., 0., 0., 0., 0., 0., 0., 0., 0., 0., 0., 0., 0., 0., 0., 0., 0.,\n",
       "       0., 0., 0., 0., 0., 0., 0., 0., 0., 0., 0., 0., 0., 0., 0., 0., 0.,\n",
       "       0., 0., 0., 0., 0., 0., 0., 0., 0., 0., 0., 0., 0., 0., 0., 0., 0.,\n",
       "       0., 0., 0., 0., 0., 0., 0., 0., 0., 0., 0., 0., 0., 0., 0., 0., 0.,\n",
       "       0., 0., 0., 0., 0., 0., 0., 0., 0., 0., 0., 0., 0., 0., 0., 0., 0.,\n",
       "       0., 0., 0., 0., 0., 0., 0., 0., 0., 0., 0., 0., 0., 0., 0., 0., 0.,\n",
       "       0., 0., 0., 0., 0., 0., 0., 0., 0., 0., 0., 0., 0., 0., 0., 0., 0.,\n",
       "       0., 0., 0., 0., 0., 0., 0., 0., 0., 0., 0., 0., 0., 0., 0., 0., 0.,\n",
       "       0., 0., 0., 0., 0., 0., 0., 0., 0., 0., 0., 0., 0., 0., 0., 0., 0.,\n",
       "       0., 0., 0., 0., 0., 0., 0., 0., 0., 0., 0., 0., 0., 0., 0., 0., 0.,\n",
       "       0., 0., 0., 0., 0., 0., 0., 0., 0., 0., 0., 0., 0., 0., 0., 0., 0.,\n",
       "       0., 0., 0., 0., 0., 0., 0., 0., 0., 0., 0., 0., 0., 0., 0., 0., 0.,\n",
       "       0., 0., 0., 0., 0., 0., 0., 0., 0., 0., 0., 0., 0., 0., 0., 0., 0.,\n",
       "       0., 0., 0., 0., 0., 0., 0., 0., 0., 0., 0., 0., 0., 0., 0., 0., 0.,\n",
       "       0., 0., 0., 0., 0., 0., 0., 0., 0., 0., 0., 0., 0., 0., 0., 0., 0.,\n",
       "       0., 0., 0., 0., 0., 0., 0., 0., 0., 0., 0., 0., 0., 0., 0., 0., 0.,\n",
       "       0., 0., 0., 0., 0., 0., 0., 0., 0., 0., 0., 0., 0., 0., 0., 0., 0.,\n",
       "       0., 0., 0., 0., 0., 0., 0., 0., 0., 0., 0., 0., 0., 0., 0., 0., 0.,\n",
       "       0., 0., 0., 0., 0., 0., 0., 0., 0., 0., 0., 0., 0., 0., 0., 0., 0.,\n",
       "       0., 0., 0., 0., 0., 0., 0., 0., 0., 0., 0., 0., 0., 0., 0., 0., 0.,\n",
       "       0., 0., 0., 0., 0., 0., 0., 0., 0., 0., 0., 0., 0., 0., 0., 0., 0.,\n",
       "       0., 0., 0., 0., 0., 0., 0., 0., 0., 0., 0., 0., 0., 0., 0., 0., 0.,\n",
       "       0., 0., 0., 0., 0., 0., 0., 0., 0., 0., 0., 0., 0., 0., 0., 0., 0.,\n",
       "       0., 0., 0., 0., 0., 0.])"
      ]
     },
     "execution_count": 151,
     "metadata": {},
     "output_type": "execute_result"
    }
   ],
   "source": [
    "a[..., ::step][0] - bb[::step]"
   ]
  },
  {
   "cell_type": "code",
   "execution_count": null,
   "id": "a3fd398a-5bd6-4a80-a83e-efecba0a17f3",
   "metadata": {},
   "outputs": [],
   "source": []
  },
  {
   "cell_type": "code",
   "execution_count": 149,
   "id": "4cd8754c-8055-4d2c-ad26-c7bd26fded47",
   "metadata": {},
   "outputs": [],
   "source": [
    "bb = np.cumsum(flux0[0])"
   ]
  },
  {
   "cell_type": "code",
   "execution_count": 133,
   "id": "b953c0c9-cc8e-4e6c-9f27-67d60fcb4d21",
   "metadata": {},
   "outputs": [
    {
     "data": {
      "text/plain": [
       "array([3.00026390e+03, 3.30194117e+04, 6.30685938e+04, ...,\n",
       "       1.09676073e+08, 1.09815820e+08, 1.09955707e+08])"
      ]
     },
     "execution_count": 133,
     "metadata": {},
     "output_type": "execute_result"
    }
   ],
   "source": [
    "w0[::10]"
   ]
  },
  {
   "cell_type": "code",
   "execution_count": 134,
   "id": "a237f6b1-b91c-45de-afb7-d78e530a9e36",
   "metadata": {},
   "outputs": [
    {
     "data": {
      "text/plain": [
       "array([3.00026390e+03, 6.00082790e+03, 9.00169220e+03, ...,\n",
       "       1.09969703e+08, 1.09983701e+08, 1.09997700e+08])"
      ]
     },
     "execution_count": 134,
     "metadata": {},
     "output_type": "execute_result"
    }
   ],
   "source": [
    "w0"
   ]
  },
  {
   "cell_type": "code",
   "execution_count": 130,
   "id": "93fd0092-ca53-4a8d-a977-537e3a3eec88",
   "metadata": {},
   "outputs": [
    {
     "data": {
      "text/plain": [
       "<matplotlib.collections.PathCollection at 0x7effaadedf40>"
      ]
     },
     "execution_count": 130,
     "metadata": {},
     "output_type": "execute_result"
    },
    {
     "data": {
      "image/png": "[encoded data removed]",
      "text/plain": [
       "<Figure size 432x288 with 1 Axes>"
      ]
     },
     "metadata": {
      "needs_background": "light"
     },
     "output_type": "display_data"
    }
   ],
   "source": [
    "w0 = np.cumsum(wave)\n",
    "out1 = np.diff(w0[b])\n",
    "out2 =  out1 / step\n",
    "# plt.scatter(np.arange(len(out1)), out1)\n",
    "plt.scatter(np.arange(len(out2)), out2)"
   ]
  },
  {
   "cell_type": "code",
   "execution_count": null,
   "id": "3912dff0-167a-4dcc-b855-9efc4e9f5651",
   "metadata": {},
   "outputs": [],
   "source": []
  },
  {
   "cell_type": "code",
   "execution_count": null,
   "id": "84b2dcca-7254-44f6-8b07-843e2d774e45",
   "metadata": {},
   "outputs": [],
   "source": []
  },
  {
   "cell_type": "code",
   "execution_count": 176,
   "id": "dd032ed3-0e1a-43a1-b7f3-cbc264c61295",
   "metadata": {},
   "outputs": [],
   "source": [
    "class StellarGrid():\n",
    "    \"\"\" Base class for all spec grids. \"\"\"\n",
    "    def __init__(self, coord, coord_idx, *args, **kwargs) -> None:\n",
    "        super().__init__(*args, **kwargs)\n",
    "        self.coord = coord\n",
    "        self.coord_idx = coord_idx"
   ]
  },
  {
   "cell_type": "code",
   "execution_count": 177,
   "id": "4ce34b58-4484-4716-9881-aaccccc950af",
   "metadata": {},
   "outputs": [],
   "source": [
    "class StellarSpec():\n",
    "    \"\"\" Base class for Stellar Spectrum. \"\"\"\n",
    "    def __init__(self, wave, flux, *args, **kwargs):\n",
    "        super().__init__(*args, **kwargs)\n",
    "        self.wave = wave\n",
    "        self.flux = flux"
   ]
  },
  {
   "cell_type": "code",
   "execution_count": 198,
   "id": "fdf84071-6868-45eb-881c-c5ab6e8f3d94",
   "metadata": {},
   "outputs": [],
   "source": [
    "class StellarSpecGrid(StellarSpec,StellarGrid):\n",
    "\n",
    "    def __init__(self, wave, flux, para, pdx):\n",
    "        super().__init__(wave, flux, para, pdx)\n",
    "        # StellarGrid.__init__(self, para,pdx)\n",
    "        # StellarSpec.__init__(self, wave, flux)\n"
   ]
  },
  {
   "cell_type": "code",
   "execution_count": 199,
   "id": "58e3662b-b334-40ef-a3a5-fb2e4d0256c7",
   "metadata": {},
   "outputs": [],
   "source": [
    "para= 1\n",
    "pdx=3"
   ]
  },
  {
   "cell_type": "code",
   "execution_count": 200,
   "id": "3f98448e-e8be-422e-b83d-53350c34d72f",
   "metadata": {},
   "outputs": [],
   "source": [
    "c = StellarSpecGrid(wave=wave, flux=flux, para=para, pdx=pdx)"
   ]
  },
  {
   "cell_type": "code",
   "execution_count": 201,
   "id": "944fea96-6492-4732-9856-330610e4f5ae",
   "metadata": {},
   "outputs": [
    {
     "data": {
      "text/plain": [
       "1"
      ]
     },
     "execution_count": 201,
     "metadata": {},
     "output_type": "execute_result"
    }
   ],
   "source": [
    "c.coord"
   ]
  },
  {
   "cell_type": "code",
   "execution_count": 202,
   "id": "ab2cadea-f6fb-4d9b-a549-2c8b01835e7b",
   "metadata": {},
   "outputs": [
    {
     "data": {
      "text/plain": [
       "array([8000.457 , 8001.2573, 8002.0576, ..., 8997.9648, 8998.8652,\n",
       "       8999.7646])"
      ]
     },
     "execution_count": 202,
     "metadata": {},
     "output_type": "execute_result"
    }
   ],
   "source": [
    "c.wave"
   ]
  },
  {
   "cell_type": "code",
   "execution_count": 203,
   "id": "96b81a3c-b857-418b-8158-40977b2adad3",
   "metadata": {},
   "outputs": [
    {
     "data": {
      "text/plain": [
       "array([13.0222336 , 13.19000333, 13.3417559 , ..., 13.01562413,\n",
       "       13.00850015, 12.9969362 ])"
      ]
     },
     "execution_count": 203,
     "metadata": {},
     "output_type": "execute_result"
    }
   ],
   "source": [
    "c.flux"
   ]
  },
  {
   "cell_type": "code",
   "execution_count": 204,
   "id": "48346439-0e4c-48bf-be89-c4cbe03c89a9",
   "metadata": {},
   "outputs": [
    {
     "data": {
      "text/plain": [
       "array([13.0222336 , 13.19000333, 13.3417559 , ..., 13.01562413,\n",
       "       13.00850015, 12.9969362 ])"
      ]
     },
     "execution_count": 204,
     "metadata": {},
     "output_type": "execute_result"
    }
   ],
   "source": [
    "flux"
   ]
  },
  {
   "cell_type": "code",
   "execution_count": 206,
   "id": "fa796e08-9c5d-4307-af93-c25aeb6c407e",
   "metadata": {},
   "outputs": [
    {
     "data": {
      "text/plain": [
       "3"
      ]
     },
     "execution_count": 206,
     "metadata": {},
     "output_type": "execute_result"
    }
   ],
   "source": [
    "\n",
    "c.coord_idx"
   ]
  },
  {
   "cell_type": "code",
   "execution_count": null,
   "id": "0c974513-1d56-4f43-9106-71c8fcb99beb",
   "metadata": {},
   "outputs": [],
   "source": []
  }
 ],
 "metadata": {
  "kernelspec": {
   "display_name": "Python 3 [viska-tf28]",
   "language": "python",
   "name": "python3-viska-tf28"
  },
  "language_info": {
   "codemirror_mode": {
    "name": "ipython",
    "version": 3
   },
   "file_extension": ".py",
   "mimetype": "text/x-python",
   "name": "python",
   "nbconvert_exporter": "python",
   "pygments_lexer": "ipython3",
   "version": "3.9.7"
  }
 },
 "nbformat": 4,
 "nbformat_minor": 5
}
